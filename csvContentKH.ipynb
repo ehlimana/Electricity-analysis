{
 "cells": [
  {
   "cell_type": "markdown",
   "id": "b33c4838",
   "metadata": {},
   "source": [
    "## Preuzimanje podataka sa portala Sunny portal"
   ]
  },
  {
   "cell_type": "code",
   "execution_count": null,
   "id": "8aad52da",
   "metadata": {},
   "outputs": [],
   "source": [
    "#%pip install requests\n",
    "#%pip install bs4\n",
    "#%%pip install lxml"
   ]
  },
  {
   "cell_type": "code",
   "execution_count": 3,
   "id": "ea3c63b1",
   "metadata": {},
   "outputs": [],
   "source": [
    "import pandas as pd\n",
    "import datetime as dt\n",
    "import numpy as np\n",
    "import requests\n",
    "from bs4 import BeautifulSoup"
   ]
  },
  {
   "cell_type": "markdown",
   "id": "b91cc7a4",
   "metadata": {},
   "source": [
    "Za preuzimanje podataka sa web stranice, prvo je potrebno odrediti godine za koje će se preuzeti, te formirati rang datuma od početka pa do kraja godine u formatu M/D/YYYY jer se takav format pojavljuje u linkovima na web-stranici. Za ovo služi funkcija **define_year**."
   ]
  },
  {
   "cell_type": "code",
   "execution_count": 4,
   "id": "102cc4f7",
   "metadata": {},
   "outputs": [],
   "source": [
    "def define_year(year,number_of_days1):\n",
    "    start_date = dt.date(year, 1 , 1)\n",
    "    number_of_days = number_of_days1\n",
    "    date_list = [((start_date + dt.timedelta(days = day)).strftime(\"%#m/%#d/%Y\")) for day in range(number_of_days)]\n",
    "    #date_list2=[((start_date + dt.timedelta(days = day)).strftime(\"%Y-%m-%d\")) for day in range(number_of_days)]\n",
    "    return date_list"
   ]
  },
  {
   "cell_type": "markdown",
   "id": "5de36080",
   "metadata": {},
   "source": [
    "Podaci će se ekstraktovati na način da se link web-stranice mijenja u zavisnosti od datuma koji je postavljen u date_list_1, te će se u HTML fajlu (page source) naći tabela sa podacima proizvodnje električne energije za taj datum. Za ovo je potrebno imati link koji odgovara svakoj solarnoj elektrani pojedinačno. Za jednu solarnu elektranu su svi dijelovi linka isti izuzev datuma koji se mijenja. Prema tome, kada se napravi petlja kojom se mijenja datum i ubacuje u ostatak linka, na HTML stranici se pronalazi odgovarajuća tabela sa podacima i spašava za dalje procesiranje. Ovaj dio se odrađuje putem funkcije **extract_data** koja kao ulazne podatke prima datume u jednoj godini, te dva dijela linka izmđeu kojih će se taj datum ubaciti."
   ]
  },
  {
   "cell_type": "code",
   "execution_count": 5,
   "id": "3e3e7705",
   "metadata": {},
   "outputs": [],
   "source": [
    "def extract_data(date_list_1,link1,link2):\n",
    "    list_csvs=[None]*len(date_list_1)\n",
    "\n",
    "    for k,value in enumerate(date_list_1):\n",
    "        #link=link1+value+link2\n",
    "        link=link1+value+link2\n",
    "        \n",
    "        res = requests.get(link)\n",
    "\n",
    "#print(res.text)\n",
    "#print(res.status_code)\n",
    "\n",
    "        page = requests.get(link)\n",
    "        soup = BeautifulSoup(page.content, 'html.parser')\n",
    "    #page_title = soup.title.text\n",
    "    #print(page_title)\n",
    "\n",
    "        table1 = soup.find('table', id='ctl00_ContentPlaceHolder1_UserControlChartValues1_Table1')\n",
    "    \t#table1\n",
    "\n",
    " \n",
    "        csvContent = ''\n",
    "        for j in table1.find_all('tr'):\n",
    "            row_data = j.find_all('td')\n",
    "\n",
    "            for cell in row_data:\n",
    "                csvContent = csvContent + cell.text + ','\n",
    "            csvContent= csvContent[:-1]\n",
    "            csvContent = csvContent + '\\n'\n",
    "    \n",
    "        #print(csvContent,k)\n",
    "        list_csvs[k]=csvContent\n",
    "    return list_csvs\n",
    "    "
   ]
  },
  {
   "cell_type": "markdown",
   "id": "843b1a3c",
   "metadata": {},
   "source": [
    "Prikupljeni podaci se nalaze u tekstualnom obliku, te ih je potrebno pretvoriti u tabelarni prikaz kako bi se mogli spasiti u .xls formatu. list_csvs je lista tekstualnih podataka za jednu čitavu godinu (ima 365, odnosno 366 elemenata za jednu godinu). Ti elementi se najprije pretvaraju u tabele putem funkcije **write_to_dataframe**, a zatim se te tabele spajaju u jednu putem funkcije **concat_and_save**."
   ]
  },
  {
   "cell_type": "code",
   "execution_count": 6,
   "id": "1e60902f",
   "metadata": {},
   "outputs": [],
   "source": [
    "def write_to_dataframe(list_csvs):\n",
    "    dfs=[None]*len(list_csvs)\n",
    "    for k,value in enumerate(list_csvs):\n",
    "        with open('output.csv','w',newline='') as f:\n",
    "            f.write(list_csvs[k])\n",
    "        dfs[k]=pd.read_csv(\"output.csv\")\n",
    "    return dfs"
   ]
  },
  {
   "cell_type": "code",
   "execution_count": 7,
   "id": "5c5ee408",
   "metadata": {},
   "outputs": [],
   "source": [
    "def concat_and_save(dfs,name):\n",
    "    df_tot=pd.concat(dfs,axis=0)\n",
    "    df_tot.to_excel(name)\n",
    "    return df_tot"
   ]
  },
  {
   "cell_type": "code",
   "execution_count": 8,
   "id": "4d35eb87",
   "metadata": {},
   "outputs": [],
   "source": [
    "#enelectronic\n",
    "link_ene1=\"https://www.sunnyportal.com/Templates/PublicChartValues.aspx?ID=6e2898bd-52c5-455a-81f8-1c5c492aa03f&endTime=\"\n",
    "link_ene2=\"%2011:59:59%20PM&splang=en-US&plantTimezoneBias=60&name=\"\n",
    "#krenica i hodovo se nalaze u istom fajlu\n",
    "link_kr_hod1=\"https://www.sunnyportal.com/Templates/PublicChartValues.aspx?ID=0ada0c8e-6bcd-483b-9798-1bc3ff24b6a7&endTime=\" \n",
    "link_kr_hod2=\"%2011:59:59%20PM&splang=en-US&plantTimezoneBias=60&name=\"\n",
    "\n",
    "#definiranje godine i opsega datuma od početka do kraja\n",
    "date_list_ene2019=define_year(2019,365)\n",
    "date_list_ene2020=define_year(2020,366)\n",
    "date_list_ene2021=define_year(2021,365)\n",
    "\n",
    "\n",
    "date_list_kr_hod2019=define_year(2019,365)\n",
    "date_list_kr_hod2020=define_year(2020,366)\n",
    "date_list_kr_hod2021=define_year(2021,365)\n",
    "\n",
    "#izvlačenje podataka  - Enelectronic 2019\n",
    "list_csvs_ene2019=extract_data(date_list_ene2019,link_ene1,link_ene2)\n"
   ]
  },
  {
   "cell_type": "markdown",
   "id": "f09b59d0",
   "metadata": {},
   "source": [
    "Način pohrane podataka za Enelectronic je takav da spašava podatke za 48 sati umjesto za 24, te će se radi izbjegavanja dupliciranja datuma preuzeti svaki drugi element liste list_csvs_ene i spasiti u **listu new_list_ene**. To znači da će podaci biti spašeni kao 1.1.2019, 2.1.2019.,3.1.2019 umjesto 1.1.2019,1.1.2019.,2.1.2019.,2.1.2019.  Za FNE Krenica1 i Hodovo1 podaci su spašeni u opsegu za 24 sata, te za njih ovaj korak nije potreban."
   ]
  },
  {
   "cell_type": "code",
   "execution_count": 11,
   "id": "631a18d3",
   "metadata": {},
   "outputs": [],
   "source": [
    "\n",
    "new_list_ene_2019=[]\n",
    "\n",
    "for value in range(0,len(list_csvs_ene2019),2):\n",
    "    new_list_ene_2019.append(list_csvs_ene2019[value])"
   ]
  },
  {
   "cell_type": "code",
   "execution_count": 12,
   "id": "59e150ed",
   "metadata": {},
   "outputs": [],
   "source": [
    "#kreiranje tabelarnog prikaza i spašavanje u .xlsx formatu\n",
    "\n",
    "df_ene_2019=write_to_dataframe(new_list_ene_2019)\n",
    "df_ene_2019_tot=concat_and_save(df_ene_2019,\"enelectronic_2019.xlsx\")"
   ]
  },
  {
   "cell_type": "code",
   "execution_count": 14,
   "id": "303e62d4",
   "metadata": {},
   "outputs": [],
   "source": [
    "#ponavljanje postupka za 2020. i 2021.godinu\n",
    "list_csvs_ene2020=extract_data(date_list_ene2020,link_ene1,link_ene2)\n",
    "list_csvs_ene2021=extract_data(date_list_ene2021,link_ene1,link_ene2)"
   ]
  },
  {
   "cell_type": "code",
   "execution_count": 21,
   "id": "490710fc",
   "metadata": {},
   "outputs": [],
   "source": [
    "#izvlačenje podataka  - krenica, hodovo za sve 3 godine\n",
    "list_csvs_kr_hod_2019=extract_data(date_list_kr_hod2019,link_kr_hod1,link_kr_hod2)"
   ]
  },
  {
   "cell_type": "code",
   "execution_count": 25,
   "id": "df033405",
   "metadata": {},
   "outputs": [],
   "source": [
    "list_csvs_kr_hod_2020=extract_data(date_list_kr_hod2020,link_kr_hod1,link_kr_hod2)"
   ]
  },
  {
   "cell_type": "code",
   "execution_count": 23,
   "id": "1ea994ab",
   "metadata": {},
   "outputs": [],
   "source": [
    "list_csvs_kr_hod_2021=extract_data(date_list_kr_hod2021,link_kr_hod1,link_kr_hod2)"
   ]
  },
  {
   "cell_type": "code",
   "execution_count": 19,
   "id": "af6d5ded",
   "metadata": {},
   "outputs": [],
   "source": [
    "#ponavljanje postupka za 2020.2021 godinu - Enelectronic - preuredit će se u funckiju\n",
    "\n",
    "new_list_ene_2020=[]\n",
    "new_list_ene_2021=[]\n",
    "for value in range(0,len(list_csvs_ene2020),2):\n",
    "    new_list_ene_2020.append(list_csvs_ene2020[value])\n",
    "    \n",
    "for value in range(0,len(list_csvs_ene2021),2):\n",
    "    new_list_ene_2021.append(list_csvs_ene2021[value])"
   ]
  },
  {
   "cell_type": "code",
   "execution_count": 20,
   "id": "50d8cea6",
   "metadata": {},
   "outputs": [],
   "source": [
    "df_ene_2020=write_to_dataframe(new_list_ene_2020)\n",
    "df_ene_2020_tot=concat_and_save(df_ene_2020,\"enelectronic_2020.xlsx\")\n",
    "\n",
    "df_ene_2021=write_to_dataframe(new_list_ene_2021)\n",
    "df_ene_2021_tot=concat_and_save(df_ene_2021,\"enelectronic_2021.xlsx\")\n",
    "\n"
   ]
  },
  {
   "cell_type": "code",
   "execution_count": 22,
   "id": "aad22448",
   "metadata": {},
   "outputs": [],
   "source": [
    "df_kr_hod_2019=write_to_dataframe(list_csvs_kr_hod_2019)\n",
    "df_kr_hod_2019_tot=concat_and_save(df_kr_hod_2019,\"kr_hod_2019.xlsx\")"
   ]
  },
  {
   "cell_type": "code",
   "execution_count": 26,
   "id": "66b9afe2",
   "metadata": {},
   "outputs": [],
   "source": [
    "df_kr_hod_2020=write_to_dataframe(list_csvs_kr_hod_2020)\n",
    "df_kr_hod_2020_tot=concat_and_save(df_kr_hod_2020,\"kr_hod_2020.xlsx\")"
   ]
  },
  {
   "cell_type": "code",
   "execution_count": 24,
   "id": "88ba7ad1",
   "metadata": {},
   "outputs": [],
   "source": [
    "df_kr_hod_2021=write_to_dataframe(list_csvs_kr_hod_2021)\n",
    "df_kr_hod_2021_tot=concat_and_save(df_kr_hod_2021,\"kr_hod_2021.xlsx\")"
   ]
  },
  {
   "cell_type": "code",
   "execution_count": 28,
   "id": "40b61d97",
   "metadata": {},
   "outputs": [],
   "source": [
    "\n",
    "\n",
    "link_breg1=\"https://www.sunnyportal.com/Templates/PublicChartValues.aspx?ID=cd16e224-fd2d-43c6-9da5-2ad6719e68dd&endTime=\"\n",
    "link_breg2=\"%2011:59:59%20PM&splang=en-US&plantTimezoneBias=60&name=\"\n",
    "#elektrana počela sa radom u 2019. 22.8.2019\n",
    "\n",
    "date_list_breg2020=define_year(2020,366)\n",
    "date_list_breg2021=define_year(2021,365)\n"
   ]
  },
  {
   "cell_type": "code",
   "execution_count": 38,
   "id": "ece55184",
   "metadata": {},
   "outputs": [],
   "source": [
    "start_date = dt.date(2019, 8 , 22)\n",
    "number_of_days = 133\n",
    "date_list_breg2019 = [((start_date + dt.timedelta(days = day)).strftime(\"%#m/%#d/%Y\")) for day in range(number_of_days)]"
   ]
  },
  {
   "cell_type": "code",
   "execution_count": 40,
   "id": "255e07b8",
   "metadata": {},
   "outputs": [],
   "source": [
    "list_csvs_breg2019=extract_data(date_list_breg2019,link_breg1,link_breg2)"
   ]
  },
  {
   "cell_type": "code",
   "execution_count": 41,
   "id": "4148e90d",
   "metadata": {},
   "outputs": [],
   "source": [
    "new_list_breg_2019=[]\n",
    "\n",
    "for value in range(0,len(list_csvs_breg2019),2):\n",
    "    new_list_breg_2019.append(list_csvs_breg2019[value])"
   ]
  },
  {
   "cell_type": "code",
   "execution_count": 42,
   "id": "03a50554",
   "metadata": {},
   "outputs": [],
   "source": [
    "df_breg_2019=write_to_dataframe(new_list_breg_2019)\n",
    "df_breg_2019_tot=concat_and_save(df_breg_2019,\"breg_2019.xlsx\")"
   ]
  },
  {
   "cell_type": "code",
   "execution_count": 29,
   "id": "3ddce3bf",
   "metadata": {},
   "outputs": [],
   "source": [
    "new_list_breg_2020=[]\n",
    "\n",
    "for value in range(0,len(list_csvs_breg2020),2):\n",
    "    new_list_breg_2020.append(list_csvs_breg2020[value])"
   ]
  },
  {
   "cell_type": "code",
   "execution_count": null,
   "id": "edb414fc",
   "metadata": {},
   "outputs": [],
   "source": [
    "list_csvs_breg2020=extract_data(date_list_breg2020,link_breg1,link_breg2)"
   ]
  },
  {
   "cell_type": "code",
   "execution_count": 30,
   "id": "6eccdd26",
   "metadata": {},
   "outputs": [],
   "source": [
    "#kreiranje tabelarnog prikaza i spašavanje u .xlsx formatu\n",
    "\n",
    "df_breg_2020=write_to_dataframe(new_list_breg_2020)\n",
    "df_breg_2020_tot=concat_and_save(df_breg_2020,\"breg_2020.xlsx\")"
   ]
  },
  {
   "cell_type": "code",
   "execution_count": 31,
   "id": "611b8fe9",
   "metadata": {},
   "outputs": [],
   "source": [
    "list_csvs_breg2021=extract_data(date_list_breg2021,link_breg1,link_breg2)"
   ]
  },
  {
   "cell_type": "code",
   "execution_count": 32,
   "id": "1e21a6d0",
   "metadata": {},
   "outputs": [],
   "source": [
    "new_list_breg_2021=[]\n",
    "\n",
    "for value in range(0,len(list_csvs_breg2021),2):\n",
    "    new_list_breg_2021.append(list_csvs_breg2021[value])\n",
    "    #kreiranje tabelarnog prikaza i spašavanje u .xlsx formatu\n",
    "\n",
    "df_breg_2021=write_to_dataframe(new_list_breg_2021)\n",
    "df_breg_2021_tot=concat_and_save(df_breg_2021,\"breg_2021.xlsx\")"
   ]
  },
  {
   "cell_type": "code",
   "execution_count": null,
   "id": "c1e2491a",
   "metadata": {},
   "outputs": [],
   "source": []
  }
 ],
 "metadata": {
  "kernelspec": {
   "display_name": "Python 3",
   "language": "python",
   "name": "python3"
  },
  "language_info": {
   "codemirror_mode": {
    "name": "ipython",
    "version": 3
   },
   "file_extension": ".py",
   "mimetype": "text/x-python",
   "name": "python",
   "nbconvert_exporter": "python",
   "pygments_lexer": "ipython3",
   "version": "3.8.8"
  }
 },
 "nbformat": 4,
 "nbformat_minor": 5
}
