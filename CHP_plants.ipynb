{
 "cells": [
  {
   "cell_type": "code",
   "execution_count": 3,
   "id": "9bd86629",
   "metadata": {},
   "outputs": [],
   "source": [
    "import os\n",
    "import pandas as pd\n",
    "import numpy as np\n",
    "from datetime import datetime"
   ]
  },
  {
   "cell_type": "code",
   "execution_count": 4,
   "id": "a4040e80",
   "metadata": {},
   "outputs": [],
   "source": [
    "scope_traces=[] #this will be the list of dataframes\n",
    "file_names=os.listdir('cd/cd/2020/01 2020')"
   ]
  },
  {
   "cell_type": "code",
   "execution_count": 5,
   "id": "844810a3",
   "metadata": {},
   "outputs": [
    {
     "data": {
      "text/plain": [
       "'01_01_2020.xlsx'"
      ]
     },
     "execution_count": 5,
     "metadata": {},
     "output_type": "execute_result"
    }
   ],
   "source": [
    "file_names[0]"
   ]
  },
  {
   "cell_type": "code",
   "execution_count": 6,
   "id": "2a6d64ed",
   "metadata": {},
   "outputs": [],
   "source": [
    "file_names_months=os.listdir('cd/cd/2020/')"
   ]
  },
  {
   "cell_type": "code",
   "execution_count": 18,
   "id": "d4a47b23",
   "metadata": {},
   "outputs": [],
   "source": [
    "def extract_chp(year):\n",
    "\n",
    "    file_names_months=os.listdir('cd/cd/'+year+'/')\n",
    "    df_TZ_months=[None]*len(file_names_months)\n",
    "    df_KA_months=[None]*len(file_names_months)\n",
    "    column_names_TZ=[\"sat\",\"B3 generator\",\"B3 prag, MWh/h\", \"B3 Q,(MVArh/h)\",\"B4 generator\",\"B4 prag, MWh/h\", \"B4 Q,(MVArh/h)\",\n",
    "                            \"B5 generator\",\"B5 prag, MWh/h\", \"B5 Q,(MVArh/h)\",\"B6 generator\",\"B6 prag, MWh/h\", \"B6 Q,(MVArh/h)\",\n",
    "                            \"TE_TZ generator\",\"TE_TZ prag, MWh/h\", \"Q prag,(MVArh/h)\",\"Q gen,(MVArh/h)\",\"110kV-kV\"]\n",
    "    column_names_KA=[\"sat\",\"B5 generator\",\"B5 prag, MWh/h\", \"B5 Q,(MVArh/h)\",\"B5 U,(kV)\",\"B6 generator\",\"B6 prag, MWh/h\", \"B6 Q,(MVArh/h)\",\"B6 U,(kV)\",\n",
    "                            \"B7 generator\",\"B7 prag, MWh/h\", \"B7 Q,(MVArh/h)\",\"B7 U,(kV)\",\"Vl.potr P, MWh/h\", \"Vl.potr Q,(MVArh/h)\",\n",
    "                            \"TE_KA generator\",\"TE_KA prag, MWh/h\", \"TE_KA Q * (MVArh/h)\"]\n",
    "    skipr_TZ= list(range(0,6))\n",
    "    skipr_KA= list(range(0,8))\n",
    "    for j,file_m in enumerate(file_names_months):\n",
    "        file_names=os.listdir('cd/cd/'+year+'/'+file_m)\n",
    "        df_TZ=[None]*len(file_names)\n",
    "        df_KA=[None]*len(file_names)\n",
    "        #df_all_files_TZ=[None]*len(file_names)\n",
    "\n",
    "\n",
    "        for k,file in enumerate(file_names):\n",
    "\n",
    "            xls=pd.ExcelFile('cd/cd/'+year+'/'+file_m+\"/\"+file)\n",
    "\n",
    "            df_TZ[k]=pd.read_excel('cd/cd/'+year+'/'+file_m+\"/\"+file, sheet_name=\"TE TUZLA\", usecols=\"A:R\",header=None,skiprows= skipr_TZ)\n",
    "            df_KA[k]=pd.read_excel('cd/cd/'+year+'/'+file_m+\"/\"+file, sheet_name=\"TE KAKANJ\", usecols=\"A:R\",header=None,skiprows= skipr_KA)\n",
    "\n",
    "            df_TZ[k].columns=column_names_TZ\n",
    "            df_KA[k].columns=column_names_KA\n",
    "            #print(file,df_KA[k].loc[0,\"sat\"])\n",
    "           # print(file,df_TZ[k].loc[0,\"sat\"])\n",
    "            #start_TZ=int(df_TZ[k][df_TZ[k][\"sat\"]==1].index.values)\n",
    "            end_TZ=int(df_TZ[k][df_TZ[k][\"sat\"]==24].index.values)\n",
    "           # start_KA=int(df_KA[k][df_KA[k][\"sat\"]==1].index.values)\n",
    "            end_KA=int(df_KA[k][df_KA[k][\"sat\"]==24].index.values)\n",
    "            df_TZ[k]=df_TZ[k].loc[:end_TZ,:]\n",
    "            df_KA[k]=df_KA[k].loc[:end_KA,:]\n",
    "            #df_TZ=df_TZ.loc[]    \n",
    "        df_all_files_KA=pd.concat(df_KA,axis=0,ignore_index=True,names=column_names_KA)\n",
    "        df_all_files_TZ=pd.concat(df_TZ,axis=0,ignore_index=True,names=column_names_TZ)\n",
    "\n",
    "        df_TZ_months[j]=df_all_files_TZ\n",
    "        df_KA_months[j]=df_all_files_KA\n",
    "\n",
    "    df_all_files_KA_year=pd.concat(df_KA_months,axis=0,ignore_index=True,names=column_names_KA)\n",
    "    df_all_files_TZ_year=pd.concat(df_TZ_months,axis=0,ignore_index=True,names=column_names_TZ)\n",
    "    return df_all_files_KA_year,df_all_files_TZ_year"
   ]
  },
  {
   "cell_type": "code",
   "execution_count": null,
   "id": "e0866fb0",
   "metadata": {},
   "outputs": [],
   "source": [
    "df_all_files_KA_year,df_all_files_TZ_year=extract_chp(str(2019))"
   ]
  },
  {
   "cell_type": "code",
   "execution_count": 21,
   "id": "8219ad75",
   "metadata": {},
   "outputs": [],
   "source": [
    "df_all_files_TZ_year.to_excel(\"TE_TZ_2019.xlsx\")\n",
    "df_all_files_KA_year.to_excel(\"TE_KA_2019.xlsx\")"
   ]
  },
  {
   "cell_type": "code",
   "execution_count": 6,
   "id": "53cccf0f",
   "metadata": {},
   "outputs": [
    {
     "data": {
      "text/plain": [
       "Index(['sat', 'B5 generator', 'B5 prag, MWh/h', 'B5 Q,(MVArh/h)', 'B5 U,(kV)',\n",
       "       'B6 generator', 'B6 prag, MWh/h', 'B6 Q,(MVArh/h)', 'B6 U,(kV)',\n",
       "       'B7 generator', 'B7 prag, MWh/h', 'B7 Q,(MVArh/h)', 'B7 U,(kV)',\n",
       "       'Vl.potr P, MWh/h', 'Vl.potr Q,(MVArh/h)', 'TE_KA generator',\n",
       "       'TE_KA prag, MWh/h', 'TE_KA Q * (MVArh/h)'],\n",
       "      dtype='object')"
      ]
     },
     "execution_count": 6,
     "metadata": {},
     "output_type": "execute_result"
    }
   ],
   "source": [
    "df_all_files_KA_year.columns"
   ]
  },
  {
   "cell_type": "code",
   "execution_count": 7,
   "id": "fcc2725b",
   "metadata": {},
   "outputs": [],
   "source": [
    "df_all_files_TZ_year.drop(df_all_files_TZ_year[df_all_files_TZ_year[\"TE_TZ prag, MWh/h\"]==\"Q (MVArh/h)\"].index,inplace=True)"
   ]
  },
  {
   "cell_type": "code",
   "execution_count": 7,
   "id": "c54c0748",
   "metadata": {},
   "outputs": [],
   "source": [
    "df_all_files_TZ_year.to_excel(\"TE_TZ_2020.xlsx\")\n",
    "df_all_files_KA_year.to_excel(\"TE_KA_2020.xlsx\")"
   ]
  },
  {
   "cell_type": "code",
   "execution_count": 13,
   "id": "aa957aea",
   "metadata": {},
   "outputs": [
    {
     "data": {
      "text/plain": [
       "624.45"
      ]
     },
     "execution_count": 13,
     "metadata": {},
     "output_type": "execute_result"
    }
   ],
   "source": [
    "pd.to_numeric(df_all_files_TZ_year[\"TE_TZ prag, MWh/h\"]).max()"
   ]
  },
  {
   "cell_type": "code",
   "execution_count": 14,
   "id": "40cc1be0",
   "metadata": {},
   "outputs": [
    {
     "data": {
      "text/plain": [
       "476.57000000000005"
      ]
     },
     "execution_count": 14,
     "metadata": {},
     "output_type": "execute_result"
    }
   ],
   "source": [
    "pd.to_numeric(df_all_files_KA_year[\"TE_KA prag, MWh/h\"]).max()"
   ]
  },
  {
   "cell_type": "code",
   "execution_count": 15,
   "id": "38b318ee",
   "metadata": {},
   "outputs": [
    {
     "data": {
      "text/plain": [
       "<AxesSubplot:>"
      ]
     },
     "execution_count": 15,
     "metadata": {},
     "output_type": "execute_result"
    },
    {
     "data": {
      "image/png": "[encoded data removed]",
      "text/plain": [
       "<Figure size 432x288 with 1 Axes>"
      ]
     },
     "metadata": {
      "needs_background": "light"
     },
     "output_type": "display_data"
    }
   ],
   "source": [
    "df_all_files_TZ_year[\"TE_TZ prag, MWh/h\"].plot()"
   ]
  },
  {
   "cell_type": "code",
   "execution_count": 16,
   "id": "7fae4b34",
   "metadata": {},
   "outputs": [
    {
     "data": {
      "text/plain": [
       "<AxesSubplot:>"
      ]
     },
     "execution_count": 16,
     "metadata": {},
     "output_type": "execute_result"
    },
    {
     "data": {
      "image/png": "[encoded data removed]",
      "text/plain": [
       "<Figure size 432x288 with 1 Axes>"
      ]
     },
     "metadata": {
      "needs_background": "light"
     },
     "output_type": "display_data"
    }
   ],
   "source": [
    "df_all_files_KA_year[\"TE_KA prag, MWh/h\"].plot()"
   ]
  },
  {
   "cell_type": "code",
   "execution_count": 8,
   "id": "2f4f95dd",
   "metadata": {},
   "outputs": [
    {
     "data": {
      "text/plain": [
       "sat                          1\n",
       "B3 generator                 0\n",
       "B3 prag, MWh/h               0\n",
       "B3 Q,(MVArh/h)       -0.002786\n",
       "B4 generator             0.015\n",
       "B4 prag, MWh/h               0\n",
       "B4 Q,(MVArh/h)        0.005233\n",
       "B5 generator                 0\n",
       "B5 prag, MWh/h       -0.814256\n",
       "B5 Q,(MVArh/h)      -12.048458\n",
       "B6 generator             0.045\n",
       "B6 prag, MWh/h           -0.05\n",
       "B6 Q,(MVArh/h)      -57.136316\n",
       "TE_TZ generator        30.2232\n",
       "TE_TZ prag, MWh/h        16.59\n",
       "Q prag,(MVArh/h)    -54.414641\n",
       "Q gen,(MVArh/h)            0.0\n",
       "110kV-kV              3.347481\n",
       "dtype: object"
      ]
     },
     "execution_count": 8,
     "metadata": {},
     "output_type": "execute_result"
    }
   ],
   "source": [
    "\"TE_TZ prag, MWh/h\"]>0].min()"
   ]
  },
  {
   "cell_type": "code",
   "execution_count": 18,
   "id": "89af1b46",
   "metadata": {},
   "outputs": [],
   "source": [
    "def extract_chp_other(year):\n",
    "\n",
    "    file_names_months=os.listdir('cd/cd/'+year+'/')\n",
    "    df_production_months=[None]*len(file_names_months)\n",
    "    df_prod_months=[None]*len(file_names_months)\n",
    "    column_names_prod=[\"sat\",\"HE Jablanica, MWh\",\"HE Grabovica, MWh\", \"HE Salakovac, MWh\",\"TE Tuzla\",\"TE Kakanj\"]\n",
    " \n",
    "    skipr_prod= list(range(0,10))\n",
    "    for j,file_m in enumerate(file_names_months):\n",
    "        file_names=os.listdir('cd/cd/'+year+'/'+file_m)\n",
    "        df_prod=[None]*len(file_names)\n",
    "    \n",
    "        #df_all_files_TZ=[None]*len(file_names)\n",
    "\n",
    "\n",
    "        for k,file in enumerate(file_names):\n",
    "\n",
    "            xls=pd.ExcelFile('cd/cd/'+year+'/'+file_m+\"/\"+file)\n",
    "            df_prod[k]=pd.read_excel('cd/cd/'+year+'/'+file_m+\"/\"+file, sheet_name=\"Dispecerska Lista\", usecols=\"A,B,F,J,N,Q\",header=None,skiprows= skipr_prod)\n",
    "            \n",
    "            df_prod[k].columns=column_names_prod\n",
    "     \n",
    "            #print(file,df_KA[k].loc[0,\"sat\"])\n",
    "           # print(file,df_TZ[k].loc[0,\"sat\"])\n",
    "            #start_TZ=int(df_TZ[k][df_TZ[k][\"sat\"]==1].index.values)\n",
    "            end_prod=int(df_prod[k][df_prod[k][\"sat\"]==24].index.values)\n",
    "           # start_KA=int(df_KA[k][df_KA[k][\"sat\"]==1].index.values)\n",
    "\n",
    "        \n",
    "            df_prod[k]=df_prod[k].loc[:end_prod,:]\n",
    "            \n",
    "            \n",
    "            #df_TZ=df_TZ.loc[]    \n",
    "   \n",
    "        df_all_files_prod=pd.concat(df_prod,axis=0,ignore_index=True,names=column_names_prod)\n",
    "\n",
    "        df_prod_months[j]=df_all_files_prod\n",
    "\n",
    "    df_all_files_prod_year=pd.concat(df_prod_months,axis=0,ignore_index=True,names=column_names_prod)\n",
    "    return df_all_files_prod_year"
   ]
  },
  {
   "cell_type": "code",
   "execution_count": 19,
   "id": "b4a57419",
   "metadata": {},
   "outputs": [],
   "source": [
    "df_all_files_prod_year_2019=extract_chp_other(str(2019))\n",
    "df_all_files_prod_year_2020=extract_chp_other(str(2020))"
   ]
  },
  {
   "cell_type": "code",
   "execution_count": 20,
   "id": "2c9ae95f",
   "metadata": {},
   "outputs": [
    {
     "data": {
      "text/html": [
       "<div>\n",
       "<style scoped>\n",
       "    .dataframe tbody tr th:only-of-type {\n",
       "        vertical-align: middle;\n",
       "    }\n",
       "\n",
       "    .dataframe tbody tr th {\n",
       "        vertical-align: top;\n",
       "    }\n",
       "\n",
       "    .dataframe thead th {\n",
       "        text-align: right;\n",
       "    }\n",
       "</style>\n",
       "<table border=\"1\" class=\"dataframe\">\n",
       "  <thead>\n",
       "    <tr style=\"text-align: right;\">\n",
       "      <th></th>\n",
       "      <th>sat</th>\n",
       "      <th>HE Jablanica, MWh</th>\n",
       "      <th>HE Grabovica, MWh</th>\n",
       "      <th>HE Salakovac, MWh</th>\n",
       "      <th>TE Tuzla</th>\n",
       "      <th>TE Kakanj</th>\n",
       "    </tr>\n",
       "  </thead>\n",
       "  <tbody>\n",
       "    <tr>\n",
       "      <th>0</th>\n",
       "      <td>1</td>\n",
       "      <td>99.024223</td>\n",
       "      <td>0.000000</td>\n",
       "      <td>0.174827</td>\n",
       "      <td>151.702835</td>\n",
       "      <td>188.00</td>\n",
       "    </tr>\n",
       "    <tr>\n",
       "      <th>1</th>\n",
       "      <td>2</td>\n",
       "      <td>88.384087</td>\n",
       "      <td>0.000000</td>\n",
       "      <td>0.164930</td>\n",
       "      <td>137.306859</td>\n",
       "      <td>188.00</td>\n",
       "    </tr>\n",
       "    <tr>\n",
       "      <th>2</th>\n",
       "      <td>3</td>\n",
       "      <td>65.685389</td>\n",
       "      <td>0.000000</td>\n",
       "      <td>0.151313</td>\n",
       "      <td>138.591555</td>\n",
       "      <td>188.00</td>\n",
       "    </tr>\n",
       "    <tr>\n",
       "      <th>3</th>\n",
       "      <td>4</td>\n",
       "      <td>22.56605</td>\n",
       "      <td>0.000000</td>\n",
       "      <td>0.153114</td>\n",
       "      <td>137.244599</td>\n",
       "      <td>188.00</td>\n",
       "    </tr>\n",
       "    <tr>\n",
       "      <th>4</th>\n",
       "      <td>5</td>\n",
       "      <td>0.003052</td>\n",
       "      <td>0.000000</td>\n",
       "      <td>0.148833</td>\n",
       "      <td>137.084138</td>\n",
       "      <td>188.00</td>\n",
       "    </tr>\n",
       "    <tr>\n",
       "      <th>...</th>\n",
       "      <td>...</td>\n",
       "      <td>...</td>\n",
       "      <td>...</td>\n",
       "      <td>...</td>\n",
       "      <td>...</td>\n",
       "      <td>...</td>\n",
       "    </tr>\n",
       "    <tr>\n",
       "      <th>8779</th>\n",
       "      <td>20</td>\n",
       "      <td>149.05</td>\n",
       "      <td>54.111000</td>\n",
       "      <td>129.844000</td>\n",
       "      <td>357.77</td>\n",
       "      <td>85.27</td>\n",
       "    </tr>\n",
       "    <tr>\n",
       "      <th>8780</th>\n",
       "      <td>21</td>\n",
       "      <td>134.134</td>\n",
       "      <td>47.384000</td>\n",
       "      <td>80.036000</td>\n",
       "      <td>350.45</td>\n",
       "      <td>85.54</td>\n",
       "    </tr>\n",
       "    <tr>\n",
       "      <th>8781</th>\n",
       "      <td>22</td>\n",
       "      <td>156.464</td>\n",
       "      <td>54.353000</td>\n",
       "      <td>46.200000</td>\n",
       "      <td>334.84</td>\n",
       "      <td>84.92</td>\n",
       "    </tr>\n",
       "    <tr>\n",
       "      <th>8782</th>\n",
       "      <td>23</td>\n",
       "      <td>157.322</td>\n",
       "      <td>56.096000</td>\n",
       "      <td>45.232000</td>\n",
       "      <td>316.74</td>\n",
       "      <td>84.13</td>\n",
       "    </tr>\n",
       "    <tr>\n",
       "      <th>8783</th>\n",
       "      <td>24</td>\n",
       "      <td>148.287086</td>\n",
       "      <td>56.660764</td>\n",
       "      <td>9.812000</td>\n",
       "      <td>312.1992</td>\n",
       "      <td>86.59</td>\n",
       "    </tr>\n",
       "  </tbody>\n",
       "</table>\n",
       "<p>8784 rows × 6 columns</p>\n",
       "</div>"
      ],
      "text/plain": [
       "     sat HE Jablanica, MWh  HE Grabovica, MWh  HE Salakovac, MWh    TE Tuzla  \\\n",
       "0      1         99.024223           0.000000           0.174827  151.702835   \n",
       "1      2         88.384087           0.000000           0.164930  137.306859   \n",
       "2      3         65.685389           0.000000           0.151313  138.591555   \n",
       "3      4          22.56605           0.000000           0.153114  137.244599   \n",
       "4      5          0.003052           0.000000           0.148833  137.084138   \n",
       "...   ..               ...                ...                ...         ...   \n",
       "8779  20            149.05          54.111000         129.844000      357.77   \n",
       "8780  21           134.134          47.384000          80.036000      350.45   \n",
       "8781  22           156.464          54.353000          46.200000      334.84   \n",
       "8782  23           157.322          56.096000          45.232000      316.74   \n",
       "8783  24        148.287086          56.660764           9.812000    312.1992   \n",
       "\n",
       "      TE Kakanj  \n",
       "0        188.00  \n",
       "1        188.00  \n",
       "2        188.00  \n",
       "3        188.00  \n",
       "4        188.00  \n",
       "...         ...  \n",
       "8779      85.27  \n",
       "8780      85.54  \n",
       "8781      84.92  \n",
       "8782      84.13  \n",
       "8783      86.59  \n",
       "\n",
       "[8784 rows x 6 columns]"
      ]
     },
     "execution_count": 20,
     "metadata": {},
     "output_type": "execute_result"
    }
   ],
   "source": [
    "df_all_files_prod_year_2019"
   ]
  },
  {
   "cell_type": "code",
   "execution_count": 21,
   "id": "016c1c79",
   "metadata": {
    "scrolled": true
   },
   "outputs": [
    {
     "data": {
      "text/html": [
       "<div>\n",
       "<style scoped>\n",
       "    .dataframe tbody tr th:only-of-type {\n",
       "        vertical-align: middle;\n",
       "    }\n",
       "\n",
       "    .dataframe tbody tr th {\n",
       "        vertical-align: top;\n",
       "    }\n",
       "\n",
       "    .dataframe thead th {\n",
       "        text-align: right;\n",
       "    }\n",
       "</style>\n",
       "<table border=\"1\" class=\"dataframe\">\n",
       "  <thead>\n",
       "    <tr style=\"text-align: right;\">\n",
       "      <th></th>\n",
       "      <th>sat</th>\n",
       "      <th>HE Jablanica, MWh</th>\n",
       "      <th>HE Grabovica, MWh</th>\n",
       "      <th>HE Salakovac, MWh</th>\n",
       "      <th>TE Tuzla</th>\n",
       "      <th>TE Kakanj</th>\n",
       "    </tr>\n",
       "  </thead>\n",
       "  <tbody>\n",
       "    <tr>\n",
       "      <th>0</th>\n",
       "      <td>1</td>\n",
       "      <td>119.655027</td>\n",
       "      <td>1.634625</td>\n",
       "      <td>0.121419</td>\n",
       "      <td>300.767688</td>\n",
       "      <td>81.00</td>\n",
       "    </tr>\n",
       "    <tr>\n",
       "      <th>1</th>\n",
       "      <td>2</td>\n",
       "      <td>98.438968</td>\n",
       "      <td>0.000000</td>\n",
       "      <td>0.090836</td>\n",
       "      <td>303.342831</td>\n",
       "      <td>82.00</td>\n",
       "    </tr>\n",
       "    <tr>\n",
       "      <th>2</th>\n",
       "      <td>3</td>\n",
       "      <td>55.034549</td>\n",
       "      <td>0.000000</td>\n",
       "      <td>0.097226</td>\n",
       "      <td>305.134972</td>\n",
       "      <td>81.00</td>\n",
       "    </tr>\n",
       "    <tr>\n",
       "      <th>3</th>\n",
       "      <td>4</td>\n",
       "      <td>37.978396</td>\n",
       "      <td>0.000000</td>\n",
       "      <td>0.084415</td>\n",
       "      <td>307.77306</td>\n",
       "      <td>82.00</td>\n",
       "    </tr>\n",
       "    <tr>\n",
       "      <th>4</th>\n",
       "      <td>5</td>\n",
       "      <td>21.852971</td>\n",
       "      <td>0.000000</td>\n",
       "      <td>0.091652</td>\n",
       "      <td>303.669367</td>\n",
       "      <td>82.00</td>\n",
       "    </tr>\n",
       "    <tr>\n",
       "      <th>...</th>\n",
       "      <td>...</td>\n",
       "      <td>...</td>\n",
       "      <td>...</td>\n",
       "      <td>...</td>\n",
       "      <td>...</td>\n",
       "      <td>...</td>\n",
       "    </tr>\n",
       "    <tr>\n",
       "      <th>8779</th>\n",
       "      <td>20</td>\n",
       "      <td>113.96</td>\n",
       "      <td>50.384000</td>\n",
       "      <td>131.604000</td>\n",
       "      <td>0.0</td>\n",
       "      <td>342.57</td>\n",
       "    </tr>\n",
       "    <tr>\n",
       "      <th>8780</th>\n",
       "      <td>21</td>\n",
       "      <td>108.812</td>\n",
       "      <td>34.703000</td>\n",
       "      <td>56.760000</td>\n",
       "      <td>0.0</td>\n",
       "      <td>341.88</td>\n",
       "    </tr>\n",
       "    <tr>\n",
       "      <th>8781</th>\n",
       "      <td>22</td>\n",
       "      <td>95.964</td>\n",
       "      <td>29.863000</td>\n",
       "      <td>34.936000</td>\n",
       "      <td>0.0</td>\n",
       "      <td>328.81</td>\n",
       "    </tr>\n",
       "    <tr>\n",
       "      <th>8782</th>\n",
       "      <td>23</td>\n",
       "      <td>143.836</td>\n",
       "      <td>29.814000</td>\n",
       "      <td>34.980000</td>\n",
       "      <td>0.0</td>\n",
       "      <td>302.45</td>\n",
       "    </tr>\n",
       "    <tr>\n",
       "      <th>8783</th>\n",
       "      <td>24</td>\n",
       "      <td>101.992</td>\n",
       "      <td>29.814000</td>\n",
       "      <td>34.980000</td>\n",
       "      <td>0.0</td>\n",
       "      <td>303.52</td>\n",
       "    </tr>\n",
       "  </tbody>\n",
       "</table>\n",
       "<p>8784 rows × 6 columns</p>\n",
       "</div>"
      ],
      "text/plain": [
       "     sat HE Jablanica, MWh  HE Grabovica, MWh  HE Salakovac, MWh    TE Tuzla  \\\n",
       "0      1        119.655027           1.634625           0.121419  300.767688   \n",
       "1      2         98.438968           0.000000           0.090836  303.342831   \n",
       "2      3         55.034549           0.000000           0.097226  305.134972   \n",
       "3      4         37.978396           0.000000           0.084415   307.77306   \n",
       "4      5         21.852971           0.000000           0.091652  303.669367   \n",
       "...   ..               ...                ...                ...         ...   \n",
       "8779  20            113.96          50.384000         131.604000         0.0   \n",
       "8780  21           108.812          34.703000          56.760000         0.0   \n",
       "8781  22            95.964          29.863000          34.936000         0.0   \n",
       "8782  23           143.836          29.814000          34.980000         0.0   \n",
       "8783  24           101.992          29.814000          34.980000         0.0   \n",
       "\n",
       "      TE Kakanj  \n",
       "0         81.00  \n",
       "1         82.00  \n",
       "2         81.00  \n",
       "3         82.00  \n",
       "4         82.00  \n",
       "...         ...  \n",
       "8779     342.57  \n",
       "8780     341.88  \n",
       "8781     328.81  \n",
       "8782     302.45  \n",
       "8783     303.52  \n",
       "\n",
       "[8784 rows x 6 columns]"
      ]
     },
     "execution_count": 21,
     "metadata": {},
     "output_type": "execute_result"
    }
   ],
   "source": [
    "df_all_files_prod_year_2020"
   ]
  },
  {
   "cell_type": "code",
   "execution_count": 24,
   "id": "aad113ff",
   "metadata": {},
   "outputs": [],
   "source": [
    "df_all_files_prod_year_2019[\"TE\"]=df_all_files_prod_year_2019[df_all_files_prod_year_2019.columns[4:]].sum(axis=1)\n",
    "df_all_files_prod_year_2019[\"HE\"]=df_all_files_prod_year_2019[df_all_files_prod_year_2019.columns[1:4]].sum(axis=1)\n",
    "\n",
    "df_all_files_prod_year_2020[\"TE\"]=df_all_files_prod_year_2020[df_all_files_prod_year_2020.columns[4:]].sum(axis=1)\n",
    "df_all_files_prod_year_2020[\"HE\"]=df_all_files_prod_year_2020[df_all_files_prod_year_2020.columns[1:4]].sum(axis=1)"
   ]
  },
  {
   "cell_type": "code",
   "execution_count": 31,
   "id": "530d1c80",
   "metadata": {},
   "outputs": [],
   "source": [
    "df_all_files_prod_year_2019.to_excel(\"TE_HE_EPBIH_2019.xlsx\")\n",
    "df_all_files_prod_year_2020.to_excel(\"TE_HE_EPBIH_2020.xlsx\")"
   ]
  },
  {
   "cell_type": "code",
   "execution_count": 32,
   "id": "b21103b9",
   "metadata": {},
   "outputs": [
    {
     "data": {
      "text/plain": [
       "142.62199999999999"
      ]
     },
     "execution_count": 32,
     "metadata": {},
     "output_type": "execute_result"
    }
   ],
   "source": [
    "df_all_files_prod_year_2020[df_all_files_prod_year_2020[\"TE\"]>0][\"TE\"].min()"
   ]
  },
  {
   "cell_type": "code",
   "execution_count": 34,
   "id": "6bdc6f99",
   "metadata": {},
   "outputs": [],
   "source": [
    "df_all_files_prod_year_2020=df_all_files_prod_year_2020.assign(Timestamp=pd.date_range(\"2020-01-01 01:00:00\",\"2021-01-01\", freq=\"1H\"))"
   ]
  },
  {
   "cell_type": "code",
   "execution_count": 35,
   "id": "42618a4f",
   "metadata": {},
   "outputs": [
    {
     "data": {
      "text/html": [
       "<div>\n",
       "<style scoped>\n",
       "    .dataframe tbody tr th:only-of-type {\n",
       "        vertical-align: middle;\n",
       "    }\n",
       "\n",
       "    .dataframe tbody tr th {\n",
       "        vertical-align: top;\n",
       "    }\n",
       "\n",
       "    .dataframe thead th {\n",
       "        text-align: right;\n",
       "    }\n",
       "</style>\n",
       "<table border=\"1\" class=\"dataframe\">\n",
       "  <thead>\n",
       "    <tr style=\"text-align: right;\">\n",
       "      <th></th>\n",
       "      <th>sat</th>\n",
       "      <th>HE Jablanica, MWh</th>\n",
       "      <th>HE Grabovica, MWh</th>\n",
       "      <th>HE Salakovac, MWh</th>\n",
       "      <th>TE Tuzla</th>\n",
       "      <th>TE Kakanj</th>\n",
       "      <th>HE</th>\n",
       "      <th>TE</th>\n",
       "      <th>Timestamp</th>\n",
       "    </tr>\n",
       "  </thead>\n",
       "  <tbody>\n",
       "    <tr>\n",
       "      <th>0</th>\n",
       "      <td>1</td>\n",
       "      <td>119.655027</td>\n",
       "      <td>1.634625</td>\n",
       "      <td>0.121419</td>\n",
       "      <td>300.767688</td>\n",
       "      <td>81.00</td>\n",
       "      <td>121.411071</td>\n",
       "      <td>503.178760</td>\n",
       "      <td>2020-01-01 01:00:00</td>\n",
       "    </tr>\n",
       "    <tr>\n",
       "      <th>1</th>\n",
       "      <td>2</td>\n",
       "      <td>98.438968</td>\n",
       "      <td>0.000000</td>\n",
       "      <td>0.090836</td>\n",
       "      <td>303.342831</td>\n",
       "      <td>82.00</td>\n",
       "      <td>98.529805</td>\n",
       "      <td>483.872636</td>\n",
       "      <td>2020-01-01 02:00:00</td>\n",
       "    </tr>\n",
       "    <tr>\n",
       "      <th>2</th>\n",
       "      <td>3</td>\n",
       "      <td>55.034549</td>\n",
       "      <td>0.000000</td>\n",
       "      <td>0.097226</td>\n",
       "      <td>305.134972</td>\n",
       "      <td>81.00</td>\n",
       "      <td>55.131775</td>\n",
       "      <td>441.266747</td>\n",
       "      <td>2020-01-01 03:00:00</td>\n",
       "    </tr>\n",
       "    <tr>\n",
       "      <th>3</th>\n",
       "      <td>4</td>\n",
       "      <td>37.978396</td>\n",
       "      <td>0.000000</td>\n",
       "      <td>0.084415</td>\n",
       "      <td>307.77306</td>\n",
       "      <td>82.00</td>\n",
       "      <td>38.062810</td>\n",
       "      <td>427.835871</td>\n",
       "      <td>2020-01-01 04:00:00</td>\n",
       "    </tr>\n",
       "    <tr>\n",
       "      <th>4</th>\n",
       "      <td>5</td>\n",
       "      <td>21.852971</td>\n",
       "      <td>0.000000</td>\n",
       "      <td>0.091652</td>\n",
       "      <td>303.669367</td>\n",
       "      <td>82.00</td>\n",
       "      <td>21.944624</td>\n",
       "      <td>407.613990</td>\n",
       "      <td>2020-01-01 05:00:00</td>\n",
       "    </tr>\n",
       "    <tr>\n",
       "      <th>...</th>\n",
       "      <td>...</td>\n",
       "      <td>...</td>\n",
       "      <td>...</td>\n",
       "      <td>...</td>\n",
       "      <td>...</td>\n",
       "      <td>...</td>\n",
       "      <td>...</td>\n",
       "      <td>...</td>\n",
       "      <td>...</td>\n",
       "    </tr>\n",
       "    <tr>\n",
       "      <th>8779</th>\n",
       "      <td>20</td>\n",
       "      <td>113.96</td>\n",
       "      <td>50.384000</td>\n",
       "      <td>131.604000</td>\n",
       "      <td>0.0</td>\n",
       "      <td>342.57</td>\n",
       "      <td>295.948000</td>\n",
       "      <td>638.518000</td>\n",
       "      <td>2020-12-31 20:00:00</td>\n",
       "    </tr>\n",
       "    <tr>\n",
       "      <th>8780</th>\n",
       "      <td>21</td>\n",
       "      <td>108.812</td>\n",
       "      <td>34.703000</td>\n",
       "      <td>56.760000</td>\n",
       "      <td>0.0</td>\n",
       "      <td>341.88</td>\n",
       "      <td>200.275000</td>\n",
       "      <td>542.155000</td>\n",
       "      <td>2020-12-31 21:00:00</td>\n",
       "    </tr>\n",
       "    <tr>\n",
       "      <th>8781</th>\n",
       "      <td>22</td>\n",
       "      <td>95.964</td>\n",
       "      <td>29.863000</td>\n",
       "      <td>34.936000</td>\n",
       "      <td>0.0</td>\n",
       "      <td>328.81</td>\n",
       "      <td>160.763000</td>\n",
       "      <td>489.573000</td>\n",
       "      <td>2020-12-31 22:00:00</td>\n",
       "    </tr>\n",
       "    <tr>\n",
       "      <th>8782</th>\n",
       "      <td>23</td>\n",
       "      <td>143.836</td>\n",
       "      <td>29.814000</td>\n",
       "      <td>34.980000</td>\n",
       "      <td>0.0</td>\n",
       "      <td>302.45</td>\n",
       "      <td>208.630000</td>\n",
       "      <td>511.080000</td>\n",
       "      <td>2020-12-31 23:00:00</td>\n",
       "    </tr>\n",
       "    <tr>\n",
       "      <th>8783</th>\n",
       "      <td>24</td>\n",
       "      <td>101.992</td>\n",
       "      <td>29.814000</td>\n",
       "      <td>34.980000</td>\n",
       "      <td>0.0</td>\n",
       "      <td>303.52</td>\n",
       "      <td>166.786000</td>\n",
       "      <td>470.306000</td>\n",
       "      <td>2021-01-01 00:00:00</td>\n",
       "    </tr>\n",
       "  </tbody>\n",
       "</table>\n",
       "<p>8784 rows × 9 columns</p>\n",
       "</div>"
      ],
      "text/plain": [
       "     sat HE Jablanica, MWh  HE Grabovica, MWh  HE Salakovac, MWh    TE Tuzla  \\\n",
       "0      1        119.655027           1.634625           0.121419  300.767688   \n",
       "1      2         98.438968           0.000000           0.090836  303.342831   \n",
       "2      3         55.034549           0.000000           0.097226  305.134972   \n",
       "3      4         37.978396           0.000000           0.084415   307.77306   \n",
       "4      5         21.852971           0.000000           0.091652  303.669367   \n",
       "...   ..               ...                ...                ...         ...   \n",
       "8779  20            113.96          50.384000         131.604000         0.0   \n",
       "8780  21           108.812          34.703000          56.760000         0.0   \n",
       "8781  22            95.964          29.863000          34.936000         0.0   \n",
       "8782  23           143.836          29.814000          34.980000         0.0   \n",
       "8783  24           101.992          29.814000          34.980000         0.0   \n",
       "\n",
       "      TE Kakanj          HE          TE           Timestamp  \n",
       "0         81.00  121.411071  503.178760 2020-01-01 01:00:00  \n",
       "1         82.00   98.529805  483.872636 2020-01-01 02:00:00  \n",
       "2         81.00   55.131775  441.266747 2020-01-01 03:00:00  \n",
       "3         82.00   38.062810  427.835871 2020-01-01 04:00:00  \n",
       "4         82.00   21.944624  407.613990 2020-01-01 05:00:00  \n",
       "...         ...         ...         ...                 ...  \n",
       "8779     342.57  295.948000  638.518000 2020-12-31 20:00:00  \n",
       "8780     341.88  200.275000  542.155000 2020-12-31 21:00:00  \n",
       "8781     328.81  160.763000  489.573000 2020-12-31 22:00:00  \n",
       "8782     302.45  208.630000  511.080000 2020-12-31 23:00:00  \n",
       "8783     303.52  166.786000  470.306000 2021-01-01 00:00:00  \n",
       "\n",
       "[8784 rows x 9 columns]"
      ]
     },
     "execution_count": 35,
     "metadata": {},
     "output_type": "execute_result"
    }
   ],
   "source": [
    "df_all_files_prod_year_2020"
   ]
  },
  {
   "cell_type": "code",
   "execution_count": 36,
   "id": "c9def6be",
   "metadata": {},
   "outputs": [],
   "source": [
    "df_all_files_prod_year_2020[\"Month\"]=df_all_files_prod_year_2020[\"Timestamp\"].dt.month"
   ]
  },
  {
   "cell_type": "code",
   "execution_count": 37,
   "id": "ad007f7c",
   "metadata": {},
   "outputs": [
    {
     "data": {
      "text/plain": [
       "<AxesSubplot:xlabel='Month'>"
      ]
     },
     "execution_count": 37,
     "metadata": {},
     "output_type": "execute_result"
    },
    {
     "data": {
      "image/png": "[encoded data removed]",
      "text/plain": [
       "<Figure size 432x288 with 1 Axes>"
      ]
     },
     "metadata": {
      "needs_background": "light"
     },
     "output_type": "display_data"
    }
   ],
   "source": [
    "df_all_files_prod_year_2020.groupby(\"Month\")[\"TE\"].sum().plot(kind=\"bar\")"
   ]
  },
  {
   "cell_type": "code",
   "execution_count": 51,
   "id": "df41f425",
   "metadata": {},
   "outputs": [
    {
     "data": {
      "text/plain": [
       "0.0"
      ]
     },
     "execution_count": 51,
     "metadata": {},
     "output_type": "execute_result"
    }
   ],
   "source": [
    "df_all_files_prod_year_2020[\"TE\"].min()"
   ]
  },
  {
   "cell_type": "code",
   "execution_count": null,
   "id": "9f4e7c29",
   "metadata": {},
   "outputs": [],
   "source": []
  }
 ],
 "metadata": {
  "kernelspec": {
   "display_name": "Python 3",
   "language": "python",
   "name": "python3"
  },
  "language_info": {
   "codemirror_mode": {
    "name": "ipython",
    "version": 3
   },
   "file_extension": ".py",
   "mimetype": "text/x-python",
   "name": "python",
   "nbconvert_exporter": "python",
   "pygments_lexer": "ipython3",
   "version": "3.8.8"
  }
 },
 "nbformat": 4,
 "nbformat_minor": 5
}
