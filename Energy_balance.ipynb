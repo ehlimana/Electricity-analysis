{
 "cells": [
  {
   "cell_type": "markdown",
   "id": "a3172ffd",
   "metadata": {},
   "source": [
    "# Energetski bilans BiH - 2019."
   ]
  },
  {
   "cell_type": "markdown",
   "id": "d9d4f38d",
   "metadata": {},
   "source": [
    "Energetski bilans BiH je u TJ preuzet sa stranice Međunarodne agencije za energiju https://www.iea.org/data-and-statistics/data-tables?country=BOSNIAHERZ&energy=Balances&year=2019. Naknadno će se prevesti na bosanski."
   ]
  },
  {
   "cell_type": "code",
   "execution_count": 150,
   "id": "96f1e443",
   "metadata": {},
   "outputs": [],
   "source": [
    "import pandas as pd\n",
    "import numpy as np\n",
    "import matplotlib.pyplot as plt\n",
    "import seaborn as sns"
   ]
  },
  {
   "cell_type": "code",
   "execution_count": 151,
   "id": "9fbea8b7",
   "metadata": {},
   "outputs": [],
   "source": [
    "file=pd.read_excel(\"bilans2019.xlsx\",sheet_name=\"TJ_2019\", header=0,usecols=\"A:L\")"
   ]
  },
  {
   "cell_type": "code",
   "execution_count": 152,
   "id": "f2997f6e",
   "metadata": {},
   "outputs": [],
   "source": [
    "file=file.set_index(\"TJ\")"
   ]
  },
  {
   "cell_type": "code",
   "execution_count": 153,
   "id": "b2100e2c",
   "metadata": {},
   "outputs": [
    {
     "data": {
      "text/html": [
       "<div>\n",
       "<style scoped>\n",
       "    .dataframe tbody tr th:only-of-type {\n",
       "        vertical-align: middle;\n",
       "    }\n",
       "\n",
       "    .dataframe tbody tr th {\n",
       "        vertical-align: top;\n",
       "    }\n",
       "\n",
       "    .dataframe thead th {\n",
       "        text-align: right;\n",
       "    }\n",
       "</style>\n",
       "<table border=\"1\" class=\"dataframe\">\n",
       "  <thead>\n",
       "    <tr style=\"text-align: right;\">\n",
       "      <th></th>\n",
       "      <th>Coal</th>\n",
       "      <th>Crude oil</th>\n",
       "      <th>Oil products</th>\n",
       "      <th>Natural gas</th>\n",
       "      <th>Nuclear</th>\n",
       "      <th>Hidro</th>\n",
       "      <th>Wind, solar,etc</th>\n",
       "      <th>Biofuels and waste</th>\n",
       "      <th>Electricity</th>\n",
       "      <th>Heat</th>\n",
       "      <th>Total</th>\n",
       "    </tr>\n",
       "    <tr>\n",
       "      <th>TJ</th>\n",
       "      <th></th>\n",
       "      <th></th>\n",
       "      <th></th>\n",
       "      <th></th>\n",
       "      <th></th>\n",
       "      <th></th>\n",
       "      <th></th>\n",
       "      <th></th>\n",
       "      <th></th>\n",
       "      <th></th>\n",
       "      <th></th>\n",
       "    </tr>\n",
       "  </thead>\n",
       "  <tbody>\n",
       "    <tr>\n",
       "      <th>Production</th>\n",
       "      <td>142461.0</td>\n",
       "      <td>NaN</td>\n",
       "      <td>NaN</td>\n",
       "      <td>NaN</td>\n",
       "      <td>0.0</td>\n",
       "      <td>21964.0</td>\n",
       "      <td>1022.0</td>\n",
       "      <td>60845.0</td>\n",
       "      <td>NaN</td>\n",
       "      <td>NaN</td>\n",
       "      <td>226292.0</td>\n",
       "    </tr>\n",
       "    <tr>\n",
       "      <th>Imports</th>\n",
       "      <td>47059.0</td>\n",
       "      <td>NaN</td>\n",
       "      <td>66130.0</td>\n",
       "      <td>7871.0</td>\n",
       "      <td>NaN</td>\n",
       "      <td>NaN</td>\n",
       "      <td>NaN</td>\n",
       "      <td>94.0</td>\n",
       "      <td>10170.0</td>\n",
       "      <td>NaN</td>\n",
       "      <td>131324.0</td>\n",
       "    </tr>\n",
       "    <tr>\n",
       "      <th>Exports</th>\n",
       "      <td>-14714.0</td>\n",
       "      <td>NaN</td>\n",
       "      <td>1717.0</td>\n",
       "      <td>NaN</td>\n",
       "      <td>NaN</td>\n",
       "      <td>NaN</td>\n",
       "      <td>NaN</td>\n",
       "      <td>-8736.0</td>\n",
       "      <td>-23634.0</td>\n",
       "      <td>NaN</td>\n",
       "      <td>-45367.0</td>\n",
       "    </tr>\n",
       "    <tr>\n",
       "      <th>International marine bunkers</th>\n",
       "      <td>NaN</td>\n",
       "      <td>NaN</td>\n",
       "      <td>NaN</td>\n",
       "      <td>NaN</td>\n",
       "      <td>NaN</td>\n",
       "      <td>NaN</td>\n",
       "      <td>NaN</td>\n",
       "      <td>NaN</td>\n",
       "      <td>NaN</td>\n",
       "      <td>NaN</td>\n",
       "      <td>NaN</td>\n",
       "    </tr>\n",
       "    <tr>\n",
       "      <th>International aviation bunkers</th>\n",
       "      <td>NaN</td>\n",
       "      <td>NaN</td>\n",
       "      <td>-388.0</td>\n",
       "      <td>NaN</td>\n",
       "      <td>NaN</td>\n",
       "      <td>NaN</td>\n",
       "      <td>NaN</td>\n",
       "      <td>NaN</td>\n",
       "      <td>NaN</td>\n",
       "      <td>NaN</td>\n",
       "      <td>-388.0</td>\n",
       "    </tr>\n",
       "    <tr>\n",
       "      <th>Stock changes</th>\n",
       "      <td>-11183.0</td>\n",
       "      <td>3259.0</td>\n",
       "      <td>1472.0</td>\n",
       "      <td>NaN</td>\n",
       "      <td>NaN</td>\n",
       "      <td>NaN</td>\n",
       "      <td>NaN</td>\n",
       "      <td>NaN</td>\n",
       "      <td>NaN</td>\n",
       "      <td>NaN</td>\n",
       "      <td>-6452.0</td>\n",
       "    </tr>\n",
       "    <tr>\n",
       "      <th>TES</th>\n",
       "      <td>163623.0</td>\n",
       "      <td>3259.0</td>\n",
       "      <td>68931.0</td>\n",
       "      <td>7871.0</td>\n",
       "      <td>0.0</td>\n",
       "      <td>21964.0</td>\n",
       "      <td>1022.0</td>\n",
       "      <td>52203.0</td>\n",
       "      <td>-13464.0</td>\n",
       "      <td>0.0</td>\n",
       "      <td>305409.0</td>\n",
       "    </tr>\n",
       "    <tr>\n",
       "      <th>Transfers</th>\n",
       "      <td>NaN</td>\n",
       "      <td>NaN</td>\n",
       "      <td>NaN</td>\n",
       "      <td>NaN</td>\n",
       "      <td>NaN</td>\n",
       "      <td>NaN</td>\n",
       "      <td>NaN</td>\n",
       "      <td>NaN</td>\n",
       "      <td>NaN</td>\n",
       "      <td>NaN</td>\n",
       "      <td>NaN</td>\n",
       "    </tr>\n",
       "    <tr>\n",
       "      <th>Statistical differences</th>\n",
       "      <td>-4.0</td>\n",
       "      <td>280.0</td>\n",
       "      <td>NaN</td>\n",
       "      <td>NaN</td>\n",
       "      <td>NaN</td>\n",
       "      <td>NaN</td>\n",
       "      <td>NaN</td>\n",
       "      <td>NaN</td>\n",
       "      <td>NaN</td>\n",
       "      <td>NaN</td>\n",
       "      <td>276.0</td>\n",
       "    </tr>\n",
       "    <tr>\n",
       "      <th>Electricity plants</th>\n",
       "      <td>-123866.0</td>\n",
       "      <td>NaN</td>\n",
       "      <td>-504.0</td>\n",
       "      <td>-242.0</td>\n",
       "      <td>0.0</td>\n",
       "      <td>-21964.0</td>\n",
       "      <td>-1022.0</td>\n",
       "      <td>-67.0</td>\n",
       "      <td>61963.0</td>\n",
       "      <td>NaN</td>\n",
       "      <td>-85702.0</td>\n",
       "    </tr>\n",
       "    <tr>\n",
       "      <th>CHP plants</th>\n",
       "      <td>-3393.0</td>\n",
       "      <td>NaN</td>\n",
       "      <td>NaN</td>\n",
       "      <td>NaN</td>\n",
       "      <td>NaN</td>\n",
       "      <td>NaN</td>\n",
       "      <td>NaN</td>\n",
       "      <td>-179.0</td>\n",
       "      <td>756.0</td>\n",
       "      <td>1688.0</td>\n",
       "      <td>-1128.0</td>\n",
       "    </tr>\n",
       "    <tr>\n",
       "      <th>Heat plants</th>\n",
       "      <td>-2349.0</td>\n",
       "      <td>NaN</td>\n",
       "      <td>-65.0</td>\n",
       "      <td>-1741.0</td>\n",
       "      <td>NaN</td>\n",
       "      <td>NaN</td>\n",
       "      <td>NaN</td>\n",
       "      <td>-1349.0</td>\n",
       "      <td>0.0</td>\n",
       "      <td>3883.0</td>\n",
       "      <td>-1621.0</td>\n",
       "    </tr>\n",
       "    <tr>\n",
       "      <th>Gas works</th>\n",
       "      <td>NaN</td>\n",
       "      <td>NaN</td>\n",
       "      <td>NaN</td>\n",
       "      <td>NaN</td>\n",
       "      <td>NaN</td>\n",
       "      <td>NaN</td>\n",
       "      <td>NaN</td>\n",
       "      <td>NaN</td>\n",
       "      <td>NaN</td>\n",
       "      <td>NaN</td>\n",
       "      <td>NaN</td>\n",
       "    </tr>\n",
       "    <tr>\n",
       "      <th>Oil refineries</th>\n",
       "      <td>NaN</td>\n",
       "      <td>-3540.0</td>\n",
       "      <td>3151.0</td>\n",
       "      <td>NaN</td>\n",
       "      <td>NaN</td>\n",
       "      <td>NaN</td>\n",
       "      <td>NaN</td>\n",
       "      <td>NaN</td>\n",
       "      <td>NaN</td>\n",
       "      <td>NaN</td>\n",
       "      <td>-389.0</td>\n",
       "    </tr>\n",
       "    <tr>\n",
       "      <th>Coal transformation</th>\n",
       "      <td>-13900.0</td>\n",
       "      <td>NaN</td>\n",
       "      <td>NaN</td>\n",
       "      <td>NaN</td>\n",
       "      <td>NaN</td>\n",
       "      <td>NaN</td>\n",
       "      <td>NaN</td>\n",
       "      <td>NaN</td>\n",
       "      <td>NaN</td>\n",
       "      <td>NaN</td>\n",
       "      <td>-13900.0</td>\n",
       "    </tr>\n",
       "    <tr>\n",
       "      <th>Liquefication plants</th>\n",
       "      <td>NaN</td>\n",
       "      <td>NaN</td>\n",
       "      <td>NaN</td>\n",
       "      <td>NaN</td>\n",
       "      <td>NaN</td>\n",
       "      <td>NaN</td>\n",
       "      <td>NaN</td>\n",
       "      <td>NaN</td>\n",
       "      <td>NaN</td>\n",
       "      <td>NaN</td>\n",
       "      <td>NaN</td>\n",
       "    </tr>\n",
       "    <tr>\n",
       "      <th>Other transformation</th>\n",
       "      <td>NaN</td>\n",
       "      <td>NaN</td>\n",
       "      <td>NaN</td>\n",
       "      <td>NaN</td>\n",
       "      <td>NaN</td>\n",
       "      <td>NaN</td>\n",
       "      <td>NaN</td>\n",
       "      <td>-1407.0</td>\n",
       "      <td>NaN</td>\n",
       "      <td>NaN</td>\n",
       "      <td>-1407.0</td>\n",
       "    </tr>\n",
       "    <tr>\n",
       "      <th>Energy industry own use</th>\n",
       "      <td>-6447.0</td>\n",
       "      <td>NaN</td>\n",
       "      <td>-1765.0</td>\n",
       "      <td>NaN</td>\n",
       "      <td>NaN</td>\n",
       "      <td>NaN</td>\n",
       "      <td>NaN</td>\n",
       "      <td>0.0</td>\n",
       "      <td>-5155.0</td>\n",
       "      <td>-21.0</td>\n",
       "      <td>-13388.0</td>\n",
       "    </tr>\n",
       "    <tr>\n",
       "      <th>Losses</th>\n",
       "      <td>NaN</td>\n",
       "      <td>NaN</td>\n",
       "      <td>NaN</td>\n",
       "      <td>-26.0</td>\n",
       "      <td>NaN</td>\n",
       "      <td>NaN</td>\n",
       "      <td>NaN</td>\n",
       "      <td>0.0</td>\n",
       "      <td>-4525.0</td>\n",
       "      <td>-422.0</td>\n",
       "      <td>-4973.0</td>\n",
       "    </tr>\n",
       "    <tr>\n",
       "      <th>Total final consumption</th>\n",
       "      <td>13664.0</td>\n",
       "      <td>-1.0</td>\n",
       "      <td>69748.0</td>\n",
       "      <td>5862.0</td>\n",
       "      <td>0.0</td>\n",
       "      <td>0.0</td>\n",
       "      <td>0.0</td>\n",
       "      <td>49201.0</td>\n",
       "      <td>39575.0</td>\n",
       "      <td>5128.0</td>\n",
       "      <td>183177.0</td>\n",
       "    </tr>\n",
       "    <tr>\n",
       "      <th>Industry</th>\n",
       "      <td>8875.0</td>\n",
       "      <td>NaN</td>\n",
       "      <td>4768.0</td>\n",
       "      <td>3199.0</td>\n",
       "      <td>NaN</td>\n",
       "      <td>NaN</td>\n",
       "      <td>NaN</td>\n",
       "      <td>721.0</td>\n",
       "      <td>13284.0</td>\n",
       "      <td>25.0</td>\n",
       "      <td>30872.0</td>\n",
       "    </tr>\n",
       "    <tr>\n",
       "      <th>Transport</th>\n",
       "      <td>NaN</td>\n",
       "      <td>NaN</td>\n",
       "      <td>54970.0</td>\n",
       "      <td>96.0</td>\n",
       "      <td>NaN</td>\n",
       "      <td>NaN</td>\n",
       "      <td>NaN</td>\n",
       "      <td>NaN</td>\n",
       "      <td>212.0</td>\n",
       "      <td>NaN</td>\n",
       "      <td>55278.0</td>\n",
       "    </tr>\n",
       "    <tr>\n",
       "      <th>Residential</th>\n",
       "      <td>2399.0</td>\n",
       "      <td>NaN</td>\n",
       "      <td>578.0</td>\n",
       "      <td>1623.0</td>\n",
       "      <td>NaN</td>\n",
       "      <td>NaN</td>\n",
       "      <td>NaN</td>\n",
       "      <td>45096.0</td>\n",
       "      <td>17014.0</td>\n",
       "      <td>3901.0</td>\n",
       "      <td>70611.0</td>\n",
       "    </tr>\n",
       "    <tr>\n",
       "      <th>Commercial and public services</th>\n",
       "      <td>1753.0</td>\n",
       "      <td>NaN</td>\n",
       "      <td>906.0</td>\n",
       "      <td>942.0</td>\n",
       "      <td>NaN</td>\n",
       "      <td>NaN</td>\n",
       "      <td>NaN</td>\n",
       "      <td>3383.0</td>\n",
       "      <td>8852.0</td>\n",
       "      <td>1202.0</td>\n",
       "      <td>17038.0</td>\n",
       "    </tr>\n",
       "    <tr>\n",
       "      <th>Agriculture/forestry</th>\n",
       "      <td>7.0</td>\n",
       "      <td>NaN</td>\n",
       "      <td>1412.0</td>\n",
       "      <td>NaN</td>\n",
       "      <td>NaN</td>\n",
       "      <td>NaN</td>\n",
       "      <td>NaN</td>\n",
       "      <td>NaN</td>\n",
       "      <td>212.0</td>\n",
       "      <td>NaN</td>\n",
       "      <td>1631.0</td>\n",
       "    </tr>\n",
       "    <tr>\n",
       "      <th>Fishing</th>\n",
       "      <td>NaN</td>\n",
       "      <td>NaN</td>\n",
       "      <td>NaN</td>\n",
       "      <td>NaN</td>\n",
       "      <td>NaN</td>\n",
       "      <td>NaN</td>\n",
       "      <td>NaN</td>\n",
       "      <td>NaN</td>\n",
       "      <td>NaN</td>\n",
       "      <td>NaN</td>\n",
       "      <td>0.0</td>\n",
       "    </tr>\n",
       "    <tr>\n",
       "      <th>Non-specified</th>\n",
       "      <td>NaN</td>\n",
       "      <td>NaN</td>\n",
       "      <td>NaN</td>\n",
       "      <td>NaN</td>\n",
       "      <td>NaN</td>\n",
       "      <td>NaN</td>\n",
       "      <td>NaN</td>\n",
       "      <td>NaN</td>\n",
       "      <td>NaN</td>\n",
       "      <td>NaN</td>\n",
       "      <td>0.0</td>\n",
       "    </tr>\n",
       "    <tr>\n",
       "      <th>Non-energy use</th>\n",
       "      <td>630.0</td>\n",
       "      <td>NaN</td>\n",
       "      <td>NaN</td>\n",
       "      <td>3859.0</td>\n",
       "      <td>NaN</td>\n",
       "      <td>NaN</td>\n",
       "      <td>NaN</td>\n",
       "      <td>NaN</td>\n",
       "      <td>NaN</td>\n",
       "      <td>NaN</td>\n",
       "      <td>4489.0</td>\n",
       "    </tr>\n",
       "  </tbody>\n",
       "</table>\n",
       "</div>"
      ],
      "text/plain": [
       "                                    Coal  Crude oil  Oil products  \\\n",
       "TJ                                                                  \n",
       "Production                      142461.0        NaN           NaN   \n",
       "Imports                          47059.0        NaN       66130.0   \n",
       "Exports                         -14714.0        NaN        1717.0   \n",
       "International marine bunkers         NaN        NaN           NaN   \n",
       "International aviation bunkers       NaN        NaN        -388.0   \n",
       "Stock changes                   -11183.0     3259.0        1472.0   \n",
       "TES                             163623.0     3259.0       68931.0   \n",
       "Transfers                            NaN        NaN           NaN   \n",
       "Statistical differences             -4.0      280.0           NaN   \n",
       "Electricity plants             -123866.0        NaN        -504.0   \n",
       "CHP plants                       -3393.0        NaN           NaN   \n",
       "Heat plants                      -2349.0        NaN         -65.0   \n",
       "Gas works                            NaN        NaN           NaN   \n",
       "Oil refineries                       NaN    -3540.0        3151.0   \n",
       "Coal transformation             -13900.0        NaN           NaN   \n",
       "Liquefication plants                 NaN        NaN           NaN   \n",
       "Other transformation                 NaN        NaN           NaN   \n",
       "Energy industry own use          -6447.0        NaN       -1765.0   \n",
       "Losses                               NaN        NaN           NaN   \n",
       "Total final consumption          13664.0       -1.0       69748.0   \n",
       "Industry                          8875.0        NaN        4768.0   \n",
       "Transport                            NaN        NaN       54970.0   \n",
       "Residential                       2399.0        NaN         578.0   \n",
       "Commercial and public services    1753.0        NaN         906.0   \n",
       "Agriculture/forestry                 7.0        NaN        1412.0   \n",
       "Fishing                              NaN        NaN           NaN   \n",
       "Non-specified                        NaN        NaN           NaN   \n",
       "Non-energy use                     630.0        NaN           NaN   \n",
       "\n",
       "                                Natural gas  Nuclear    Hidro  \\\n",
       "TJ                                                              \n",
       "Production                              NaN      0.0  21964.0   \n",
       "Imports                              7871.0      NaN      NaN   \n",
       "Exports                                 NaN      NaN      NaN   \n",
       "International marine bunkers            NaN      NaN      NaN   \n",
       "International aviation bunkers          NaN      NaN      NaN   \n",
       "Stock changes                           NaN      NaN      NaN   \n",
       "TES                                  7871.0      0.0  21964.0   \n",
       "Transfers                               NaN      NaN      NaN   \n",
       "Statistical differences                 NaN      NaN      NaN   \n",
       "Electricity plants                   -242.0      0.0 -21964.0   \n",
       "CHP plants                              NaN      NaN      NaN   \n",
       "Heat plants                         -1741.0      NaN      NaN   \n",
       "Gas works                               NaN      NaN      NaN   \n",
       "Oil refineries                          NaN      NaN      NaN   \n",
       "Coal transformation                     NaN      NaN      NaN   \n",
       "Liquefication plants                    NaN      NaN      NaN   \n",
       "Other transformation                    NaN      NaN      NaN   \n",
       "Energy industry own use                 NaN      NaN      NaN   \n",
       "Losses                                -26.0      NaN      NaN   \n",
       "Total final consumption              5862.0      0.0      0.0   \n",
       "Industry                             3199.0      NaN      NaN   \n",
       "Transport                              96.0      NaN      NaN   \n",
       "Residential                          1623.0      NaN      NaN   \n",
       "Commercial and public services        942.0      NaN      NaN   \n",
       "Agriculture/forestry                    NaN      NaN      NaN   \n",
       "Fishing                                 NaN      NaN      NaN   \n",
       "Non-specified                           NaN      NaN      NaN   \n",
       "Non-energy use                       3859.0      NaN      NaN   \n",
       "\n",
       "                                Wind, solar,etc  Biofuels and waste  \\\n",
       "TJ                                                                    \n",
       "Production                               1022.0             60845.0   \n",
       "Imports                                     NaN                94.0   \n",
       "Exports                                     NaN             -8736.0   \n",
       "International marine bunkers                NaN                 NaN   \n",
       "International aviation bunkers              NaN                 NaN   \n",
       "Stock changes                               NaN                 NaN   \n",
       "TES                                      1022.0             52203.0   \n",
       "Transfers                                   NaN                 NaN   \n",
       "Statistical differences                     NaN                 NaN   \n",
       "Electricity plants                      -1022.0               -67.0   \n",
       "CHP plants                                  NaN              -179.0   \n",
       "Heat plants                                 NaN             -1349.0   \n",
       "Gas works                                   NaN                 NaN   \n",
       "Oil refineries                              NaN                 NaN   \n",
       "Coal transformation                         NaN                 NaN   \n",
       "Liquefication plants                        NaN                 NaN   \n",
       "Other transformation                        NaN             -1407.0   \n",
       "Energy industry own use                     NaN                 0.0   \n",
       "Losses                                      NaN                 0.0   \n",
       "Total final consumption                     0.0             49201.0   \n",
       "Industry                                    NaN               721.0   \n",
       "Transport                                   NaN                 NaN   \n",
       "Residential                                 NaN             45096.0   \n",
       "Commercial and public services              NaN              3383.0   \n",
       "Agriculture/forestry                        NaN                 NaN   \n",
       "Fishing                                     NaN                 NaN   \n",
       "Non-specified                               NaN                 NaN   \n",
       "Non-energy use                              NaN                 NaN   \n",
       "\n",
       "                                Electricity    Heat     Total  \n",
       "TJ                                                             \n",
       "Production                              NaN     NaN  226292.0  \n",
       "Imports                             10170.0     NaN  131324.0  \n",
       "Exports                            -23634.0     NaN  -45367.0  \n",
       "International marine bunkers            NaN     NaN       NaN  \n",
       "International aviation bunkers          NaN     NaN    -388.0  \n",
       "Stock changes                           NaN     NaN   -6452.0  \n",
       "TES                                -13464.0     0.0  305409.0  \n",
       "Transfers                               NaN     NaN       NaN  \n",
       "Statistical differences                 NaN     NaN     276.0  \n",
       "Electricity plants                  61963.0     NaN  -85702.0  \n",
       "CHP plants                            756.0  1688.0   -1128.0  \n",
       "Heat plants                             0.0  3883.0   -1621.0  \n",
       "Gas works                               NaN     NaN       NaN  \n",
       "Oil refineries                          NaN     NaN    -389.0  \n",
       "Coal transformation                     NaN     NaN  -13900.0  \n",
       "Liquefication plants                    NaN     NaN       NaN  \n",
       "Other transformation                    NaN     NaN   -1407.0  \n",
       "Energy industry own use             -5155.0   -21.0  -13388.0  \n",
       "Losses                              -4525.0  -422.0   -4973.0  \n",
       "Total final consumption             39575.0  5128.0  183177.0  \n",
       "Industry                            13284.0    25.0   30872.0  \n",
       "Transport                             212.0     NaN   55278.0  \n",
       "Residential                         17014.0  3901.0   70611.0  \n",
       "Commercial and public services       8852.0  1202.0   17038.0  \n",
       "Agriculture/forestry                  212.0     NaN    1631.0  \n",
       "Fishing                                 NaN     NaN       0.0  \n",
       "Non-specified                           NaN     NaN       0.0  \n",
       "Non-energy use                          NaN     NaN    4489.0  "
      ]
     },
     "execution_count": 153,
     "metadata": {},
     "output_type": "execute_result"
    }
   ],
   "source": [
    "file"
   ]
  },
  {
   "cell_type": "code",
   "execution_count": 154,
   "id": "beccc5e0",
   "metadata": {},
   "outputs": [
    {
     "data": {
      "text/plain": [
       "305409.0"
      ]
     },
     "execution_count": 154,
     "metadata": {},
     "output_type": "execute_result"
    }
   ],
   "source": [
    "file.loc[\"TES\",\"Total\"]"
   ]
  },
  {
   "cell_type": "markdown",
   "id": "c860d0d4",
   "metadata": {},
   "source": [
    "Bosna i Hercegovina je u 2019. koristila ukupno 305409 TJ energije."
   ]
  },
  {
   "attachments": {
    "image.png": {
     "image/png": "[encoded data removed]"
    }
   },
   "cell_type": "markdown",
   "id": "9985b100",
   "metadata": {},
   "source": [
    "![image.png](attachment:image.png)"
   ]
  },
  {
   "cell_type": "markdown",
   "id": "7e176b87",
   "metadata": {},
   "source": [
    "Što se tiče diverziteta izvora energije u TESu, najvažniji primarni izvori energije su ugalj sa 53%, naftni derivati sa 22,6%, te hidropotencijal sa 7,2%. Udio OIE je 24,6%.\n",
    "\n",
    "Kada je riječ o uvozu energetskih proizvoda, to su najvećim dijelom naftni derivati, ugalj, prirodni gas. Od sekundarnih izvora, može se primijetiti da BiH izvozi skoro dvostruko više električne energije nego što je uvozi. Male količine naftnih derivata se koriste u međunarodnom avionskom saobraćaju, dok energetske rezerve čine ugalj, sirova nafta, naftni derivati, dok ne postoje rezerve prirodnog gasa.\n",
    "Statistička razlika je prisutna u kategorijama uglja, a nešto veća je u koloni koja se odnosi na sirovu naftu, konverzije jedinica u prvom slučaju, dok veća statistička razlika u drugom slučaju može ukazivati na nepouzdanost prikupljanja podataka.\n"
   ]
  },
  {
   "cell_type": "code",
   "execution_count": 155,
   "id": "4682c510",
   "metadata": {},
   "outputs": [],
   "source": [
    "share_tes=(file.iloc[6,:8]/file.loc[\"TES\",\"Total\"])*100"
   ]
  },
  {
   "cell_type": "code",
   "execution_count": 156,
   "id": "ad247da7",
   "metadata": {},
   "outputs": [
    {
     "data": {
      "text/plain": [
       "Coal                  53.575042\n",
       "Crude oil              1.067094\n",
       "Oil products          22.570062\n",
       "Natural gas            2.577200\n",
       "Nuclear                0.000000\n",
       "Hidro                  7.191668\n",
       "Wind, solar,etc        0.334633\n",
       "Biofuels and waste    17.092817\n",
       "Name: TES, dtype: float64"
      ]
     },
     "execution_count": 156,
     "metadata": {},
     "output_type": "execute_result"
    }
   ],
   "source": [
    "share_tes"
   ]
  },
  {
   "cell_type": "code",
   "execution_count": 157,
   "id": "fc6753c7",
   "metadata": {},
   "outputs": [
    {
     "name": "stdout",
     "output_type": "stream",
     "text": [
      "Udio OIE u TES: 24.619117314813906 %\n"
     ]
    }
   ],
   "source": [
    "oie_share=share_tes[5:8].sum()\n",
    "print(\"Udio OIE u TES:\",oie_share,\"%\")"
   ]
  },
  {
   "cell_type": "markdown",
   "id": "bd2c5c78",
   "metadata": {},
   "source": [
    "Biomasa čini 116% ukupne primarne energije biomase, što znači da od ukupno proizvedene jedan dio ide na izvoz,dok je uvoz veoma mali. Proizvedena količina uglja pokriva 87% ukupne količine, s tim što se ugalj i uvozi i izvozi, dok se država u slučaju nafte i prirodnog gasa u potpunosti oslanja na uvoz.  "
   ]
  },
  {
   "cell_type": "code",
   "execution_count": 158,
   "id": "e32471eb",
   "metadata": {},
   "outputs": [],
   "source": [
    "production_tes_ratio=(file.iloc[0,:8]/file.iloc[6,:8])*100"
   ]
  },
  {
   "cell_type": "code",
   "execution_count": 159,
   "id": "7b6830de",
   "metadata": {},
   "outputs": [
    {
     "data": {
      "text/plain": [
       "Text(0.5, 0, 'Resurs')"
      ]
     },
     "execution_count": 159,
     "metadata": {},
     "output_type": "execute_result"
    },
    {
     "data": {
      "image/png": "[encoded data removed]",
      "text/plain": [
       "<Figure size 720x432 with 1 Axes>"
      ]
     },
     "metadata": {
      "needs_background": "light"
     },
     "output_type": "display_data"
    }
   ],
   "source": [
    "production = file.iloc[0,:8].values\n",
    "TES_RESOURCE = file.iloc[6,:8].values\n",
    "index = [file.columns[1:9]]\n",
    "df = pd.DataFrame({'Production': production,\n",
    "                   'TES_RESOURCE': TES_RESOURCE}, index=index)\n",
    "ax = df.plot.bar(rot=0, figsize=(10,6))\n",
    "ax.set_ylabel(\"TJ\")\n",
    "ax.set_xlabel(\"Resurs\")"
   ]
  },
  {
   "attachments": {
    "image.png": {
     "image/png": "[encoded data removed]"
    }
   },
   "cell_type": "markdown",
   "id": "eb52c0c8",
   "metadata": {},
   "source": [
    "![image.png](attachment:image.png)"
   ]
  },
  {
   "cell_type": "markdown",
   "id": "c715c5f7",
   "metadata": {},
   "source": [
    "Finalna potrošnja energije se  ogleda kroz četiri glavna sektora: industrija, saobraćaj, stambeni sektor i sektor uslužnih i javnih djelatnosti. Potrošnja resursa u neeenergetske svrhe čini 2,1% ukupne potrošnje. \n",
    "\n",
    "U svim sektorima izuzev saobraćaja, značajna je potrošnja električne energije.Sektor industrije se značajnim dijelom oslanja na ugalj, naftne derivate i prirodni gas, dok je u stambenom sektoru prisutan značajn udio biogoriva (39%) za proizvodnju toplote, s obzirom na nizak nivo domaćinstava koji se sanbdijevaju toplotom putem sistema daljinskog grijanja. Drugi značajn izvor energije za domaćinstva je električna energija (35%) , koja se osim za uobičajene dnevne potrebe koristi jednim dijelom i za snabdijevanje toplotom.\n"
   ]
  },
  {
   "cell_type": "code",
   "execution_count": 160,
   "id": "ed06f9fa",
   "metadata": {},
   "outputs": [
    {
     "data": {
      "text/plain": [
       "Coal                   87.066610\n",
       "Crude oil                    NaN\n",
       "Oil products                 NaN\n",
       "Natural gas                  NaN\n",
       "Nuclear                      NaN\n",
       "Hidro                 100.000000\n",
       "Wind, solar,etc       100.000000\n",
       "Biofuels and waste    116.554604\n",
       "dtype: float64"
      ]
     },
     "execution_count": 160,
     "metadata": {},
     "output_type": "execute_result"
    }
   ],
   "source": [
    "production_tes_ratio"
   ]
  },
  {
   "cell_type": "code",
   "execution_count": 161,
   "id": "97681485",
   "metadata": {},
   "outputs": [
    {
     "data": {
      "text/plain": [
       "33.03290023234429"
      ]
     },
     "execution_count": 161,
     "metadata": {},
     "output_type": "execute_result"
    }
   ],
   "source": [
    "# procenat uglja koji se uvozi u odnosu na proizvedenu\n",
    "(file.iloc[1,0]/file.iloc[0,0])*100"
   ]
  },
  {
   "cell_type": "markdown",
   "id": "6325564e",
   "metadata": {},
   "source": [
    "Što se tiče potrošnje energije, najveći potrošač finalne energije je stambeni sektor, pri čemu najveći udio u potrošnji imaju biogoriva,električna i toplotna energija. Nakon toga, najveću potrošnju bilježi sektor transporta koji se uglavnom oslanja na naftne derivate. Sektor industrije troši više resursa, ugalj, naftne derivate, prirodni gas i električnu energiju. Sektor uslužnih djelatnosti najviše troši električnu energiju."
   ]
  },
  {
   "cell_type": "code",
   "execution_count": 164,
   "id": "b274d740",
   "metadata": {},
   "outputs": [
    {
     "data": {
      "text/plain": [
       "<AxesSubplot:>"
      ]
     },
     "execution_count": 164,
     "metadata": {},
     "output_type": "execute_result"
    },
    {
     "data": {
      "image/png": "[encoded data removed]",
      "text/plain": [
       "<Figure size 864x432 with 1 Axes>"
      ]
     },
     "metadata": {
      "needs_background": "light"
     },
     "output_type": "display_data"
    },
    {
     "data": {
      "image/png": "[encoded data removed]",
      "text/plain": [
       "<Figure size 864x432 with 1 Axes>"
      ]
     },
     "metadata": {
      "needs_background": "light"
     },
     "output_type": "display_data"
    }
   ],
   "source": [
    "file[[\"Coal\",\"Crude oil\",\"Oil products\",\"Natural gas\",\"Biofuels and waste\",\"Electricity\",\"Heat\"]][20:25].plot(kind=\"barh\",stacked=True,figsize=(12,6))\n",
    "file_tr[['Industry', 'Transport', 'Residential',\n",
    "       'Commercial and public services', 'Agriculture/forestry']][:9].plot(kind=\"barh\",stacked=True,figsize=(12,6))\n"
   ]
  },
  {
   "cell_type": "markdown",
   "id": "2bb7952c",
   "metadata": {},
   "source": [
    "Što se tiče analize po resursima, najviše se troše naftni derivati, preko 60 000 TJ, te biogoriva i električna energija. U potrošnji električne energije najveći udio ima stambeni sektor, te sektor industrije. Procentualni udjeli će biti dodati naknadno."
   ]
  },
  {
   "cell_type": "markdown",
   "id": "df88f127",
   "metadata": {},
   "source": [
    "Prema zadnjem popisu stanovništva, BiH ima 3 531 159 stanovnika. Na osnovu ovoga se može izračunati indikator TPES/CAPITA. Ovaj indikator je uvjetovan smanjenjem populacije sa jedne strane, te velikim udjelom fosilnih goriva u ukupno dostupnoj primanojr energiji."
   ]
  },
  {
   "cell_type": "code",
   "execution_count": 143,
   "id": "1fd600f3",
   "metadata": {},
   "outputs": [
    {
     "name": "stdout",
     "output_type": "stream",
     "text": [
      "TPES/CAPITA: 0.08648973325755085 TJ/st.\n"
     ]
    }
   ],
   "source": [
    "TPES_CAPITA=file.loc[\"TES\",\"Total\"]/3531159\n",
    "print(\"TPES/CAPITA:\",TPES_CAPITA,\"TJ/st.\") #86GJ/st."
   ]
  },
  {
   "cell_type": "markdown",
   "id": "e5f32add",
   "metadata": {},
   "source": [
    "http://energyatlas.iea.org/#!/tellmap/-297203538/0"
   ]
  },
  {
   "cell_type": "code",
   "execution_count": 146,
   "id": "04f7091c",
   "metadata": {},
   "outputs": [
    {
     "name": "stdout",
     "output_type": "stream",
     "text": [
      "TPES/GDP: 0.014415816261628309 TJ/$\n"
     ]
    }
   ],
   "source": [
    "TPES_GDP=file.loc[\"TES\",\"Total\"]/(36527050*0.58) #$\n",
    "print(\"TPES/GDP:\",TPES_GDP,\"TJ/$\") #14,4GJ/GDP"
   ]
  },
  {
   "cell_type": "code",
   "execution_count": 149,
   "id": "1fbd5368",
   "metadata": {},
   "outputs": [
    {
     "name": "stdout",
     "output_type": "stream",
     "text": [
      "Electricity per capita: 0.011207368458911083 TJ/st.\n"
     ]
    }
   ],
   "source": [
    "ELECT_CONSUM_CAPITA=file.loc[\"Total final consumption\",\"Electricity\"]/3531159\n",
    "print(\"Electricity per capita:\",ELECT_CONSUM_CAPITA,\"TJ/st.\") #11,2GJ/st"
   ]
  },
  {
   "cell_type": "code",
   "execution_count": null,
   "id": "36269924",
   "metadata": {},
   "outputs": [],
   "source": [
    "#dodat će se komparacija s drugim državama i efikasnosti konverziej"
   ]
  }
 ],
 "metadata": {
  "kernelspec": {
   "display_name": "Python 3",
   "language": "python",
   "name": "python3"
  },
  "language_info": {
   "codemirror_mode": {
    "name": "ipython",
    "version": 3
   },
   "file_extension": ".py",
   "mimetype": "text/x-python",
   "name": "python",
   "nbconvert_exporter": "python",
   "pygments_lexer": "ipython3",
   "version": "3.8.8"
  }
 },
 "nbformat": 4,
 "nbformat_minor": 5
}
