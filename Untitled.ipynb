{
 "cells": [
  {
   "cell_type": "code",
   "execution_count": 3,
   "id": "ba1ce0de",
   "metadata": {},
   "outputs": [],
   "source": [
    "import os\n",
    "import pandas as pd\n",
    "import numpy as np\n",
    "from datetime import datetime\n",
    "import matplotlib.pyplot as plt\n",
    "import seaborn as sns\n",
    "import math\n",
    "import datetime as dt"
   ]
  },
  {
   "cell_type": "code",
   "execution_count": 4,
   "id": "805e125e",
   "metadata": {},
   "outputs": [],
   "source": [
    "### Preuzimanje podataka sa web stranice"
   ]
  },
  {
   "cell_type": "markdown",
   "id": "f091f1b4",
   "metadata": {},
   "source": [
    "Na web stranici NOS BiH postoje dnevne tabele sa satnim podacima, koje bi se trebale pojedinačno kopirati u Excel fajl. Za ovo je kreiran kod koji kombinira HTML kod web stranice kako bi se automatizovao proces izbora dana i kopiranja podataka. Dobivene fajlove je ipak potrebno na kraju modifikovati radi datuma s obzirom da poteškoće stvaraju dani za koje tabele nisu dostupne. Ovaj dio se može odraditi ručno u kratkom periodu nakon što se dobiju željeni podaci."
   ]
  },
  {
   "cell_type": "code",
   "execution_count": 5,
   "id": "dc53a28a",
   "metadata": {},
   "outputs": [],
   "source": [
    "#%pip install requests\n",
    "#%pip install bs4\n",
    "#%%pip install lxml\n",
    "import datetime as dt\n",
    "\n",
    "import requests\n",
    "from bs4 import BeautifulSoup\n",
    "\n",
    "import re\n",
    "\n",
    "import time\n",
    "from bs4 import BeautifulSoup\n",
    "\n",
    "# Import webdriver to initialise a browser\n",
    "from selenium import webdriver\n",
    "from selenium.webdriver import ActionChains\n",
    "\n",
    "from selenium.webdriver.support.ui import WebDriverWait\n",
    "from selenium.webdriver.support import expected_conditions\n",
    "from selenium.webdriver.common.by import By"
   ]
  },
  {
   "cell_type": "code",
   "execution_count": 6,
   "id": "9712dbdf",
   "metadata": {},
   "outputs": [],
   "source": [
    "date_list1=pd.date_range(\"2020-12-31\",\"2022-01-01\", freq=\"1D\").strftime(\"%d.%m.%Y.\")"
   ]
  },
  {
   "cell_type": "code",
   "execution_count": null,
   "id": "8012425f",
   "metadata": {},
   "outputs": [],
   "source": [
    "#ne pokretati - stavit će se u auxilliary\n",
    "# website\n",
    "url = \"https://www.nosbih.ba/bs/ees/graf-potrosnje/\"\n",
    "\n",
    "# Initialize webdriver \n",
    "driver = webdriver.Chrome(executable_path=r'C:\\\\Users\\\\Ehlimana\\\\Desktop\\\\chromedriver.exe')\n",
    "\n",
    "# Launch Chrome and pass the url\n",
    "driver.get(url)\n",
    "dfs=[None]*len(date_list1)\n",
    "#date selection\n",
    "for k, value in enumerate(date_list1):\n",
    "    \n",
    "    \n",
    "    # Made a list of all elements that have \"day\" on the id.\n",
    "    list_days = driver.find_elements_by_class_name(\"day\")\n",
    "    # Now I get the len of that list\n",
    "    count = len(list_days)\n",
    "    # Loop over each element of the list count\n",
    "    for i in range(count):\n",
    "        # And I get the link to the element \n",
    "        python_botton = driver.find_elements_by_class_name(\"day\")[i]\n",
    "         # I will click on the day button.\n",
    "        if python_botton.get_attribute('class') == \"day\":\n",
    "            ActionChains(driver).click(python_botton).perform()\n",
    "            # Wait for the page to update \n",
    "            time.sleep(10)\n",
    "            # Now parse the page \n",
    "            soup = BeautifulSoup(driver.page_source, 'lxml')\n",
    "\n",
    "   \n",
    "    \n",
    "    next3 = driver.find_element_by_name(\"date\").clear()\n",
    "    next3 = driver.find_element_by_name(\"date\").send_keys(value)#send date info to datebox\n",
    "    #next3.submit()\n",
    "    next1 = driver.find_element_by_id(\"selectDateRegionButton\") .click()\n",
    "   \n",
    "    ActionChains(driver).click(next1).perform() \n",
    "    \n",
    "    next2 = driver.find_element_by_id(\"nav-production-table-tab\").click()                                      \n",
    "    ActionChains(driver).click(next2).perform()\n",
    "    \n",
    "    \n",
    "    driver.implicitly_wait(8)\n",
    "    table1 = driver.find_element_by_id('productionTable')\n",
    "    \n",
    "    print(date_list1[k])\n",
    "    \t#table1\n",
    "    dfs[k]=pd.read_html(driver.find_element_by_xpath('//*[@id=\"productionTable\"]').get_attribute('outerHTML'))[0]\n",
    "    dfs[k]=dfs[k].assign(Date=create_datarange_2021[k])"
   ]
  },
  {
   "cell_type": "code",
   "execution_count": null,
   "id": "ad4d1ad7",
   "metadata": {},
   "outputs": [],
   "source": [
    "df_tot=pd.concat(dfs,axis=0)\n",
    "df_tot.to_excel(\"NOS_BiH_2021.xlsx\")"
   ]
  },
  {
   "cell_type": "code",
   "execution_count": 10,
   "id": "f8484971",
   "metadata": {},
   "outputs": [
    {
     "name": "stderr",
     "output_type": "stream",
     "text": [
      "<ipython-input-10-2d524ce38c09>:6: DeprecationWarning: executable_path has been deprecated, please pass in a Service object\n",
      "  driver = webdriver.Chrome(executable_path=r'C:\\\\Users\\\\Ehlimana\\\\Desktop\\\\chromedriver.exe')\n",
      "<ipython-input-10-2d524ce38c09>:32: DeprecationWarning: find_element_by_* commands are deprecated. Please use find_element() instead\n",
      "  next3 = driver.find_element_by_name(\"date\").clear()\n"
     ]
    },
    {
     "ename": "NoSuchElementException",
     "evalue": "Message: no such element: Unable to locate element: {\"method\":\"css selector\",\"selector\":\"[name=\"date\"]\"}\n  (Session info: chrome=99.0.4844.51)\nStacktrace:\nBacktrace:\n\tOrdinal0 [0x00899943+2595139]\n\tOrdinal0 [0x0082C9F1+2148849]\n\tOrdinal0 [0x00724528+1066280]\n\tOrdinal0 [0x00750FD4+1249236]\n\tOrdinal0 [0x007511CB+1249739]\n\tOrdinal0 [0x0077D812+1431570]\n\tOrdinal0 [0x0076BA34+1358388]\n\tOrdinal0 [0x0077BAF2+1424114]\n\tOrdinal0 [0x0076B806+1357830]\n\tOrdinal0 [0x00746086+1204358]\n\tOrdinal0 [0x00746F96+1208214]\n\tGetHandleVerifier [0x00A3B232+1658114]\n\tGetHandleVerifier [0x00AF312C+2411516]\n\tGetHandleVerifier [0x0092F261+560433]\n\tGetHandleVerifier [0x0092E366+556598]\n\tOrdinal0 [0x0083286B+2173035]\n\tOrdinal0 [0x008375F8+2192888]\n\tOrdinal0 [0x008376E5+2193125]\n\tOrdinal0 [0x008411FC+2232828]\n\tBaseThreadInitThunk [0x765F6739+25]\n\tRtlGetFullPathName_UEx [0x77998E7F+1215]\n\tRtlGetFullPathName_UEx [0x77998E4D+1165]\n",
     "output_type": "error",
     "traceback": [
      "\u001b[1;31m---------------------------------------------------------------------------\u001b[0m",
      "\u001b[1;31mNoSuchElementException\u001b[0m                    Traceback (most recent call last)",
      "\u001b[1;32m<ipython-input-10-2d524ce38c09>\u001b[0m in \u001b[0;36m<module>\u001b[1;34m\u001b[0m\n\u001b[0;32m     30\u001b[0m \u001b[1;33m\u001b[0m\u001b[0m\n\u001b[0;32m     31\u001b[0m \u001b[1;33m\u001b[0m\u001b[0m\n\u001b[1;32m---> 32\u001b[1;33m     \u001b[0mnext3\u001b[0m \u001b[1;33m=\u001b[0m \u001b[0mdriver\u001b[0m\u001b[1;33m.\u001b[0m\u001b[0mfind_element_by_name\u001b[0m\u001b[1;33m(\u001b[0m\u001b[1;34m\"date\"\u001b[0m\u001b[1;33m)\u001b[0m\u001b[1;33m.\u001b[0m\u001b[0mclear\u001b[0m\u001b[1;33m(\u001b[0m\u001b[1;33m)\u001b[0m\u001b[1;33m\u001b[0m\u001b[1;33m\u001b[0m\u001b[0m\n\u001b[0m\u001b[0;32m     33\u001b[0m     \u001b[0mnext3\u001b[0m \u001b[1;33m=\u001b[0m \u001b[0mdriver\u001b[0m\u001b[1;33m.\u001b[0m\u001b[0mfind_element_by_name\u001b[0m\u001b[1;33m(\u001b[0m\u001b[1;34m\"date\"\u001b[0m\u001b[1;33m)\u001b[0m\u001b[1;33m.\u001b[0m\u001b[0msend_keys\u001b[0m\u001b[1;33m(\u001b[0m\u001b[0mvalue\u001b[0m\u001b[1;33m)\u001b[0m\u001b[1;31m#send date info to datebox\u001b[0m\u001b[1;33m\u001b[0m\u001b[1;33m\u001b[0m\u001b[0m\n\u001b[0;32m     34\u001b[0m     \u001b[1;31m#next3.submit()\u001b[0m\u001b[1;33m\u001b[0m\u001b[1;33m\u001b[0m\u001b[1;33m\u001b[0m\u001b[0m\n",
      "\u001b[1;32m~\\anaconda3\\lib\\site-packages\\selenium\\webdriver\\remote\\webdriver.py\u001b[0m in \u001b[0;36mfind_element_by_name\u001b[1;34m(self, name)\u001b[0m\n\u001b[0;32m    662\u001b[0m             \u001b[0mstacklevel\u001b[0m\u001b[1;33m=\u001b[0m\u001b[1;36m2\u001b[0m\u001b[1;33m,\u001b[0m\u001b[1;33m\u001b[0m\u001b[1;33m\u001b[0m\u001b[0m\n\u001b[0;32m    663\u001b[0m         )\n\u001b[1;32m--> 664\u001b[1;33m         \u001b[1;32mreturn\u001b[0m \u001b[0mself\u001b[0m\u001b[1;33m.\u001b[0m\u001b[0mfind_element\u001b[0m\u001b[1;33m(\u001b[0m\u001b[0mby\u001b[0m\u001b[1;33m=\u001b[0m\u001b[0mBy\u001b[0m\u001b[1;33m.\u001b[0m\u001b[0mNAME\u001b[0m\u001b[1;33m,\u001b[0m \u001b[0mvalue\u001b[0m\u001b[1;33m=\u001b[0m\u001b[0mname\u001b[0m\u001b[1;33m)\u001b[0m\u001b[1;33m\u001b[0m\u001b[1;33m\u001b[0m\u001b[0m\n\u001b[0m\u001b[0;32m    665\u001b[0m \u001b[1;33m\u001b[0m\u001b[0m\n\u001b[0;32m    666\u001b[0m     \u001b[1;32mdef\u001b[0m \u001b[0mfind_elements_by_name\u001b[0m\u001b[1;33m(\u001b[0m\u001b[0mself\u001b[0m\u001b[1;33m,\u001b[0m \u001b[0mname\u001b[0m\u001b[1;33m)\u001b[0m \u001b[1;33m->\u001b[0m \u001b[0mWebElement\u001b[0m\u001b[1;33m:\u001b[0m\u001b[1;33m\u001b[0m\u001b[1;33m\u001b[0m\u001b[0m\n",
      "\u001b[1;32m~\\anaconda3\\lib\\site-packages\\selenium\\webdriver\\remote\\webdriver.py\u001b[0m in \u001b[0;36mfind_element\u001b[1;34m(self, by, value)\u001b[0m\n\u001b[0;32m   1242\u001b[0m             \u001b[0mvalue\u001b[0m \u001b[1;33m=\u001b[0m \u001b[1;34m'[name=\"%s\"]'\u001b[0m \u001b[1;33m%\u001b[0m \u001b[0mvalue\u001b[0m\u001b[1;33m\u001b[0m\u001b[1;33m\u001b[0m\u001b[0m\n\u001b[0;32m   1243\u001b[0m \u001b[1;33m\u001b[0m\u001b[0m\n\u001b[1;32m-> 1244\u001b[1;33m         return self.execute(Command.FIND_ELEMENT, {\n\u001b[0m\u001b[0;32m   1245\u001b[0m             \u001b[1;34m'using'\u001b[0m\u001b[1;33m:\u001b[0m \u001b[0mby\u001b[0m\u001b[1;33m,\u001b[0m\u001b[1;33m\u001b[0m\u001b[1;33m\u001b[0m\u001b[0m\n\u001b[0;32m   1246\u001b[0m             'value': value})['value']\n",
      "\u001b[1;32m~\\anaconda3\\lib\\site-packages\\selenium\\webdriver\\remote\\webdriver.py\u001b[0m in \u001b[0;36mexecute\u001b[1;34m(self, driver_command, params)\u001b[0m\n\u001b[0;32m    422\u001b[0m         \u001b[0mresponse\u001b[0m \u001b[1;33m=\u001b[0m \u001b[0mself\u001b[0m\u001b[1;33m.\u001b[0m\u001b[0mcommand_executor\u001b[0m\u001b[1;33m.\u001b[0m\u001b[0mexecute\u001b[0m\u001b[1;33m(\u001b[0m\u001b[0mdriver_command\u001b[0m\u001b[1;33m,\u001b[0m \u001b[0mparams\u001b[0m\u001b[1;33m)\u001b[0m\u001b[1;33m\u001b[0m\u001b[1;33m\u001b[0m\u001b[0m\n\u001b[0;32m    423\u001b[0m         \u001b[1;32mif\u001b[0m \u001b[0mresponse\u001b[0m\u001b[1;33m:\u001b[0m\u001b[1;33m\u001b[0m\u001b[1;33m\u001b[0m\u001b[0m\n\u001b[1;32m--> 424\u001b[1;33m             \u001b[0mself\u001b[0m\u001b[1;33m.\u001b[0m\u001b[0merror_handler\u001b[0m\u001b[1;33m.\u001b[0m\u001b[0mcheck_response\u001b[0m\u001b[1;33m(\u001b[0m\u001b[0mresponse\u001b[0m\u001b[1;33m)\u001b[0m\u001b[1;33m\u001b[0m\u001b[1;33m\u001b[0m\u001b[0m\n\u001b[0m\u001b[0;32m    425\u001b[0m             response['value'] = self._unwrap_value(\n\u001b[0;32m    426\u001b[0m                 response.get('value', None))\n",
      "\u001b[1;32m~\\anaconda3\\lib\\site-packages\\selenium\\webdriver\\remote\\errorhandler.py\u001b[0m in \u001b[0;36mcheck_response\u001b[1;34m(self, response)\u001b[0m\n\u001b[0;32m    245\u001b[0m                 \u001b[0malert_text\u001b[0m \u001b[1;33m=\u001b[0m \u001b[0mvalue\u001b[0m\u001b[1;33m[\u001b[0m\u001b[1;34m'alert'\u001b[0m\u001b[1;33m]\u001b[0m\u001b[1;33m.\u001b[0m\u001b[0mget\u001b[0m\u001b[1;33m(\u001b[0m\u001b[1;34m'text'\u001b[0m\u001b[1;33m)\u001b[0m\u001b[1;33m\u001b[0m\u001b[1;33m\u001b[0m\u001b[0m\n\u001b[0;32m    246\u001b[0m             \u001b[1;32mraise\u001b[0m \u001b[0mexception_class\u001b[0m\u001b[1;33m(\u001b[0m\u001b[0mmessage\u001b[0m\u001b[1;33m,\u001b[0m \u001b[0mscreen\u001b[0m\u001b[1;33m,\u001b[0m \u001b[0mstacktrace\u001b[0m\u001b[1;33m,\u001b[0m \u001b[0malert_text\u001b[0m\u001b[1;33m)\u001b[0m  \u001b[1;31m# type: ignore[call-arg]  # mypy is not smart enough here\u001b[0m\u001b[1;33m\u001b[0m\u001b[1;33m\u001b[0m\u001b[0m\n\u001b[1;32m--> 247\u001b[1;33m         \u001b[1;32mraise\u001b[0m \u001b[0mexception_class\u001b[0m\u001b[1;33m(\u001b[0m\u001b[0mmessage\u001b[0m\u001b[1;33m,\u001b[0m \u001b[0mscreen\u001b[0m\u001b[1;33m,\u001b[0m \u001b[0mstacktrace\u001b[0m\u001b[1;33m)\u001b[0m\u001b[1;33m\u001b[0m\u001b[1;33m\u001b[0m\u001b[0m\n\u001b[0m\u001b[0;32m    248\u001b[0m \u001b[1;33m\u001b[0m\u001b[0m\n\u001b[0;32m    249\u001b[0m     \u001b[1;32mdef\u001b[0m \u001b[0m_value_or_default\u001b[0m\u001b[1;33m(\u001b[0m\u001b[0mself\u001b[0m\u001b[1;33m,\u001b[0m \u001b[0mobj\u001b[0m\u001b[1;33m:\u001b[0m \u001b[0mMapping\u001b[0m\u001b[1;33m[\u001b[0m\u001b[0m_KT\u001b[0m\u001b[1;33m,\u001b[0m \u001b[0m_VT\u001b[0m\u001b[1;33m]\u001b[0m\u001b[1;33m,\u001b[0m \u001b[0mkey\u001b[0m\u001b[1;33m:\u001b[0m \u001b[0m_KT\u001b[0m\u001b[1;33m,\u001b[0m \u001b[0mdefault\u001b[0m\u001b[1;33m:\u001b[0m \u001b[0m_VT\u001b[0m\u001b[1;33m)\u001b[0m \u001b[1;33m->\u001b[0m \u001b[0m_VT\u001b[0m\u001b[1;33m:\u001b[0m\u001b[1;33m\u001b[0m\u001b[1;33m\u001b[0m\u001b[0m\n",
      "\u001b[1;31mNoSuchElementException\u001b[0m: Message: no such element: Unable to locate element: {\"method\":\"css selector\",\"selector\":\"[name=\"date\"]\"}\n  (Session info: chrome=99.0.4844.51)\nStacktrace:\nBacktrace:\n\tOrdinal0 [0x00899943+2595139]\n\tOrdinal0 [0x0082C9F1+2148849]\n\tOrdinal0 [0x00724528+1066280]\n\tOrdinal0 [0x00750FD4+1249236]\n\tOrdinal0 [0x007511CB+1249739]\n\tOrdinal0 [0x0077D812+1431570]\n\tOrdinal0 [0x0076BA34+1358388]\n\tOrdinal0 [0x0077BAF2+1424114]\n\tOrdinal0 [0x0076B806+1357830]\n\tOrdinal0 [0x00746086+1204358]\n\tOrdinal0 [0x00746F96+1208214]\n\tGetHandleVerifier [0x00A3B232+1658114]\n\tGetHandleVerifier [0x00AF312C+2411516]\n\tGetHandleVerifier [0x0092F261+560433]\n\tGetHandleVerifier [0x0092E366+556598]\n\tOrdinal0 [0x0083286B+2173035]\n\tOrdinal0 [0x008375F8+2192888]\n\tOrdinal0 [0x008376E5+2193125]\n\tOrdinal0 [0x008411FC+2232828]\n\tBaseThreadInitThunk [0x765F6739+25]\n\tRtlGetFullPathName_UEx [0x77998E7F+1215]\n\tRtlGetFullPathName_UEx [0x77998E4D+1165]\n"
     ]
    }
   ],
   "source": [
    "#ne pokretati - stavit će se u auxilliary\n",
    "# website\n",
    "url = \"https://www.nosbih.ba/bs/kapaciteti/ntc/\"\n",
    "\n",
    "# Initialize webdriver \n",
    "driver = webdriver.Chrome(executable_path=r'C:\\\\Users\\\\Ehlimana\\\\Desktop\\\\chromedriver.exe')\n",
    "\n",
    "# Launch Chrome and pass the url\n",
    "driver.get(url)\n",
    "dfs=[None]*len(date_list1)\n",
    "#date selection\n",
    "for k, value in enumerate(date_list1):\n",
    "    \n",
    "    \n",
    "    # Made a list of all elements that have \"day\" on the id.\n",
    "   # list_days = driver.find_elements_by_class_name(\"day\")\n",
    "    # Now I get the len of that list\n",
    " #   count = len(list_days)\n",
    "    # Loop over each element of the list count\n",
    "    #for i in range(count):\n",
    "        # And I get the link to the element \n",
    "     #   python_botton = driver.find_elements_by_class_name(\"day\")[i]\n",
    "     #    # I will click on the day button.\n",
    "     #   if python_botton.get_attribute('class') == \"day\":\n",
    "      #      ActionChains(driver).click(python_botton).perform()\n",
    "     #       # Wait for the page to update \n",
    "     #       time.sleep(10)\n",
    "            # Now parse the page \n",
    "     #       soup = BeautifulSoup(driver.page_source, 'lxml')\n",
    "\n",
    "   \n",
    "    next3 = driver.find_element_by_name(\"date\").clear()\n",
    "    next3 = driver.find_element_by_name(\"date\").send_keys(value)#send date info to datebox\n",
    "    #next3.submit()\n",
    "    next1 = driver.find_element_by_id(\"selectDateRegionButton\") .click()\n",
    "   \n",
    "    ActionChains(driver).click(next1).perform() \n",
    "    \n",
    "    next2 = driver.find_element_by_id(\"nav-production-table-tab\").click()                                      \n",
    "    ActionChains(driver).click(next2).perform()\n",
    "    \n",
    "    \n",
    "    driver.implicitly_wait(8)\n",
    "    table1 = driver.find_element_by_id('productionTable')\n",
    "    \n",
    "    print(date_list1[k])\n",
    "    \t#table1\n",
    "    dfs[k]=pd.read_html(driver.find_element_by_xpath('//*[@id=\"productionTable\"]').get_attribute('outerHTML'))[0]\n",
    "    dfs[k]=dfs[k].assign(Date=create_datarange_2021[k])"
   ]
  },
  {
   "cell_type": "code",
   "execution_count": null,
   "id": "96887caa",
   "metadata": {},
   "outputs": [],
   "source": []
  }
 ],
 "metadata": {
  "kernelspec": {
   "display_name": "Python 3",
   "language": "python",
   "name": "python3"
  },
  "language_info": {
   "codemirror_mode": {
    "name": "ipython",
    "version": 3
   },
   "file_extension": ".py",
   "mimetype": "text/x-python",
   "name": "python",
   "nbconvert_exporter": "python",
   "pygments_lexer": "ipython3",
   "version": "3.8.8"
  }
 },
 "nbformat": 4,
 "nbformat_minor": 5
}
