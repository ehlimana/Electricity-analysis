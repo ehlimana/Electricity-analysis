{
 "cells": [
  {
   "cell_type": "markdown",
   "id": "408de199",
   "metadata": {},
   "source": [
    "# Toplotne potrebe"
   ]
  },
  {
   "cell_type": "markdown",
   "id": "d5e50cdb",
   "metadata": {},
   "source": [
    "When2Heat set podataka se sastoji od sintetskih vremenskih nizova toplotnih potreba i koeficijenta učinka toplotnih pumpi za 16 evropskih država u periodu 2008 - 2018. na satnoj rezoluciji. Profili toplotnih potreba za grijanje prostora i PTV su izračunati na osnovu profila potrošnje gasa, temperature i brzine vjetra uz faktor populacije. U nastavku je analiza podataka koji su izdvojeni za Hrvatsku, i dostupni u periodu 2008 - 2013, s obzirom na slične parametre populacije i klimatskih uslova kao u BiH. Ovi podaci su se skupa sa ukupnim potrebama po različitim tipovima objekata iz literature iskoristili za procjenu toplotnih potreba u BiH na satnoj osnovi. Set podataka, skripte i ulazni parametri su dostupni na Open Power System Data platform.\n",
    "https://open-power-system-data.org/\n",
    "https://github.com/oruhnau/when2heat\n",
    "https://www.nature.com/articles/s41597-019-0199-y.pdf\n",
    "\n",
    "Metodologija po kojoj je napravljen uzorak za Hrvatsku i druge države će biti naknadno ubačena u ovaj fajl. Donekle je dešifrovana, međutim, problem predstavlja nemogućnost sagledavanja geografskih podataka što djelimično otežava potpuno razumijevanje algoritma."
   ]
  },
  {
   "cell_type": "code",
   "execution_count": 1,
   "id": "3a84519c",
   "metadata": {},
   "outputs": [],
   "source": [
    "import os\n",
    "import pandas as pd\n",
    "import numpy as np\n",
    "from datetime import datetime\n",
    "import matplotlib.pyplot as plt\n",
    "import seaborn as sns"
   ]
  },
  {
   "cell_type": "code",
   "execution_count": 2,
   "id": "236ca417",
   "metadata": {},
   "outputs": [],
   "source": [
    "file=pd.read_excel(r\"FILES\\HEAT\\when2heat.xlsx\",parse_dates=True,header=[0,1,2,3])"
   ]
  },
  {
   "cell_type": "markdown",
   "id": "8b542027",
   "metadata": {},
   "source": [
    "S obzirom da je dio podataka koji se odnosi na sezonski toplotni učinak toplotnih pumpi analiziran u drugom fajlu, u ovom fajlu su se zadržale one kolone koje se odnose na toplotne potrebe."
   ]
  },
  {
   "cell_type": "markdown",
   "id": "2924deb7",
   "metadata": {},
   "source": [
    "## Opcija 1: Struktura podataka"
   ]
  },
  {
   "cell_type": "code",
   "execution_count": 3,
   "id": "a2187d80",
   "metadata": {},
   "outputs": [],
   "source": [
    "file=file.drop(file.columns[2:11],axis=1)"
   ]
  },
  {
   "cell_type": "code",
   "execution_count": 4,
   "id": "38cbb9c0",
   "metadata": {},
   "outputs": [],
   "source": [
    "file=file.dropna(axis=0)"
   ]
  },
  {
   "cell_type": "code",
   "execution_count": 5,
   "id": "4c9066b0",
   "metadata": {},
   "outputs": [
    {
     "data": {
      "text/plain": [
       "MultiIndex([('country',     'variable', 'attribute',   'unit'),\n",
       "            ('country',     'variable', 'attribute', 'unit.1'),\n",
       "            (     'HR',  'heat_demand',     'space',     'MW'),\n",
       "            (     'HR',  'heat_demand', 'space_COM',     'MW'),\n",
       "            (     'HR',  'heat_demand', 'space_MFH',     'MW'),\n",
       "            (     'HR',  'heat_demand', 'space_SFH',     'MW'),\n",
       "            (     'HR',  'heat_demand',     'total',     'MW'),\n",
       "            (     'HR',  'heat_demand',     'water',     'MW'),\n",
       "            (     'HR',  'heat_demand', 'water_COM',     'MW'),\n",
       "            (     'HR',  'heat_demand', 'water_MFH',     'MW'),\n",
       "            (     'HR',  'heat_demand', 'water_SFH',     'MW'),\n",
       "            (     'HR', 'heat_profile', 'space_COM', 'MW/TWh'),\n",
       "            (     'HR', 'heat_profile', 'space_MFH', 'MW/TWh'),\n",
       "            (     'HR', 'heat_profile', 'space_SFH', 'MW/TWh'),\n",
       "            (     'HR', 'heat_profile', 'water_COM', 'MW/TWh'),\n",
       "            (     'HR', 'heat_profile', 'water_MFH', 'MW/TWh'),\n",
       "            (     'HR', 'heat_profile', 'water_SFH', 'MW/TWh')],\n",
       "           )"
      ]
     },
     "execution_count": 5,
     "metadata": {},
     "output_type": "execute_result"
    }
   ],
   "source": [
    "file.columns"
   ]
  },
  {
   "cell_type": "markdown",
   "id": "9269a922",
   "metadata": {},
   "source": [
    "<br>**HR_heat_demand_space** -toplotne potrebe za grijanjem prostora u MW\n",
    "<br>**HR_heat_demand_space_COM** - toplotne potrebe za grijanjem prostora u zgradama uslužnih djelatnosti/ komercijalnim zgradama) u MW \n",
    "<br>**HR_heat_demand_space_MFH** - toplotne potrebe za grijanjem prostora u objektima kolektivnog stanovanja u MW\t\n",
    "<br>**HR_heat_demand_space_SFH** - toplotne potrebe za grijanjem prostora u individualnim stambenim objektima u MW\n",
    "<br>**HR_heat_demand_total** - ukupne toplotne potrebe (grijanje prostora + PTV) u MW\n",
    "<br>**HR_heat_demand_water** - ukupne toplotne potrebe  PTV u MW\t\n",
    "\n",
    "<br>**HR_heat_demand_water_COM** - Toplotne potrebe za grijanjem vode u MW u zgradama uslužnih djelatnosti/ komercijalnim zgradama) u MW \n",
    "<br>**HR_heat_demand_water_MFH** - Toplotne potrebe za grijanjem vode u MW u objektima kolektivnog stanovanja\n",
    "<br>**HR_heat_demand_water_SFH** -  Toplotne potrebe za grijanjem vode u MW u individualnim stambenim objektima\n",
    "\n",
    "Ostale kolone se odnose na normalizirane vrijednosti (odnos trenutnih potreba u MW i ukupnih godišnjih potreba u TWh) za prethodno navedene stavke:\n",
    "<br>**HR_heat_profile_space_COM** - MW/TWh \n",
    "<br>**HR_heat_profile_space_MFH** - MW/TWh \n",
    "<br>**HR_heat_profile_space_SFH** - MW/TWh \n",
    "<br>**HR_heat_profile_water_COM** - MW/TWh \n",
    "<br>**HR_heat_profile_water_MFH** - MW/TWh \n",
    "<br>**HR_heat_profile_water_SFH** - MW/TWh \n",
    "\n",
    "Uvidom u normalizirane vrijednosti zapažena su mala odstupanja od ručno proračunatih vrijednosti, te će se kasnije ove normalizirane vrijednosti ponovo izračunati."
   ]
  },
  {
   "cell_type": "code",
   "execution_count": 6,
   "id": "1b62b15b",
   "metadata": {},
   "outputs": [
    {
     "data": {
      "text/html": [
       "<div>\n",
       "<style scoped>\n",
       "    .dataframe tbody tr th:only-of-type {\n",
       "        vertical-align: middle;\n",
       "    }\n",
       "\n",
       "    .dataframe tbody tr th {\n",
       "        vertical-align: top;\n",
       "    }\n",
       "\n",
       "    .dataframe thead tr th {\n",
       "        text-align: left;\n",
       "    }\n",
       "</style>\n",
       "<table border=\"1\" class=\"dataframe\">\n",
       "  <thead>\n",
       "    <tr>\n",
       "      <th></th>\n",
       "      <th colspan=\"2\" halign=\"left\">country</th>\n",
       "      <th colspan=\"15\" halign=\"left\">HR</th>\n",
       "    </tr>\n",
       "    <tr>\n",
       "      <th></th>\n",
       "      <th colspan=\"2\" halign=\"left\">variable</th>\n",
       "      <th colspan=\"9\" halign=\"left\">heat_demand</th>\n",
       "      <th colspan=\"6\" halign=\"left\">heat_profile</th>\n",
       "    </tr>\n",
       "    <tr>\n",
       "      <th></th>\n",
       "      <th colspan=\"2\" halign=\"left\">attribute</th>\n",
       "      <th>space</th>\n",
       "      <th>space_COM</th>\n",
       "      <th>space_MFH</th>\n",
       "      <th>space_SFH</th>\n",
       "      <th>total</th>\n",
       "      <th>water</th>\n",
       "      <th>water_COM</th>\n",
       "      <th>water_MFH</th>\n",
       "      <th>water_SFH</th>\n",
       "      <th>space_COM</th>\n",
       "      <th>space_MFH</th>\n",
       "      <th>space_SFH</th>\n",
       "      <th>water_COM</th>\n",
       "      <th>water_MFH</th>\n",
       "      <th>water_SFH</th>\n",
       "    </tr>\n",
       "    <tr>\n",
       "      <th></th>\n",
       "      <th>unit</th>\n",
       "      <th>unit.1</th>\n",
       "      <th>MW</th>\n",
       "      <th>MW</th>\n",
       "      <th>MW</th>\n",
       "      <th>MW</th>\n",
       "      <th>MW</th>\n",
       "      <th>MW</th>\n",
       "      <th>MW</th>\n",
       "      <th>MW</th>\n",
       "      <th>MW</th>\n",
       "      <th>MW/TWh</th>\n",
       "      <th>MW/TWh</th>\n",
       "      <th>MW/TWh</th>\n",
       "      <th>MW/TWh</th>\n",
       "      <th>MW/TWh</th>\n",
       "      <th>MW/TWh</th>\n",
       "    </tr>\n",
       "  </thead>\n",
       "  <tbody>\n",
       "    <tr>\n",
       "      <th>0</th>\n",
       "      <td>2007-12-31T22:00:00Z</td>\n",
       "      <td>2007-12-31T23:00:00</td>\n",
       "      <td>5128.0</td>\n",
       "      <td>790.0</td>\n",
       "      <td>1169.0</td>\n",
       "      <td>3169.0</td>\n",
       "      <td>5249.0</td>\n",
       "      <td>121.0</td>\n",
       "      <td>62.0</td>\n",
       "      <td>41.0</td>\n",
       "      <td>18.0</td>\n",
       "      <td>289</td>\n",
       "      <td>202</td>\n",
       "      <td>231</td>\n",
       "      <td>66</td>\n",
       "      <td>69</td>\n",
       "      <td>13</td>\n",
       "    </tr>\n",
       "    <tr>\n",
       "      <th>1</th>\n",
       "      <td>2007-12-31T23:00:00Z</td>\n",
       "      <td>2008-01-01T00:00:00</td>\n",
       "      <td>5128.0</td>\n",
       "      <td>790.0</td>\n",
       "      <td>1169.0</td>\n",
       "      <td>3169.0</td>\n",
       "      <td>5249.0</td>\n",
       "      <td>121.0</td>\n",
       "      <td>62.0</td>\n",
       "      <td>41.0</td>\n",
       "      <td>18.0</td>\n",
       "      <td>289</td>\n",
       "      <td>202</td>\n",
       "      <td>231</td>\n",
       "      <td>66</td>\n",
       "      <td>69</td>\n",
       "      <td>13</td>\n",
       "    </tr>\n",
       "    <tr>\n",
       "      <th>2</th>\n",
       "      <td>2008-01-01T00:00:00Z</td>\n",
       "      <td>2008-01-01T01:00:00</td>\n",
       "      <td>5235.0</td>\n",
       "      <td>808.0</td>\n",
       "      <td>1211.0</td>\n",
       "      <td>3217.0</td>\n",
       "      <td>5377.0</td>\n",
       "      <td>142.0</td>\n",
       "      <td>79.0</td>\n",
       "      <td>43.0</td>\n",
       "      <td>21.0</td>\n",
       "      <td>296</td>\n",
       "      <td>209</td>\n",
       "      <td>235</td>\n",
       "      <td>84</td>\n",
       "      <td>72</td>\n",
       "      <td>15</td>\n",
       "    </tr>\n",
       "  </tbody>\n",
       "</table>\n",
       "</div>"
      ],
      "text/plain": [
       "                country                               HR                      \\\n",
       "               variable                      heat_demand                       \n",
       "              attribute                            space space_COM space_MFH   \n",
       "                   unit               unit.1          MW        MW        MW   \n",
       "0  2007-12-31T22:00:00Z  2007-12-31T23:00:00      5128.0     790.0    1169.0   \n",
       "1  2007-12-31T23:00:00Z  2008-01-01T00:00:00      5128.0     790.0    1169.0   \n",
       "2  2008-01-01T00:00:00Z  2008-01-01T01:00:00      5235.0     808.0    1211.0   \n",
       "\n",
       "                                                                       \\\n",
       "                                                         heat_profile   \n",
       "  space_SFH   total  water water_COM water_MFH water_SFH    space_COM   \n",
       "         MW      MW     MW        MW        MW        MW       MW/TWh   \n",
       "0    3169.0  5249.0  121.0      62.0      41.0      18.0          289   \n",
       "1    3169.0  5249.0  121.0      62.0      41.0      18.0          289   \n",
       "2    3217.0  5377.0  142.0      79.0      43.0      21.0          296   \n",
       "\n",
       "                                                     \n",
       "                                                     \n",
       "  space_MFH space_SFH water_COM water_MFH water_SFH  \n",
       "     MW/TWh    MW/TWh    MW/TWh    MW/TWh    MW/TWh  \n",
       "0       202       231        66        69        13  \n",
       "1       202       231        66        69        13  \n",
       "2       209       235        84        72        15  "
      ]
     },
     "execution_count": 6,
     "metadata": {},
     "output_type": "execute_result"
    }
   ],
   "source": [
    "file.head(3)"
   ]
  },
  {
   "cell_type": "markdown",
   "id": "98344ad0",
   "metadata": {},
   "source": [
    "Format datuma se mora izmijeniti kako bi se na osnovu njega mogle dobiti posebne kolone koje će odgovarati satu, danu, mjesecu i godini."
   ]
  },
  {
   "cell_type": "code",
   "execution_count": 7,
   "id": "15460cc9",
   "metadata": {},
   "outputs": [],
   "source": [
    "d=[]\n",
    "e=[]\n",
    "from datetime import datetime\n",
    "for value1,value2 in zip(file.iloc[:,0],file.iloc[:,1]):\n",
    "    value1=value1.replace('Z', '')\n",
    "    value2=value2.replace('Z', '')\n",
    "    value1,value2=datetime.fromisoformat(value1),datetime.fromisoformat(value2)\n",
    "    value1.strftime('%Y-%m-%d %H:%M:%S')\n",
    "    value2.strftime('%Y-%m-%d %H:%M:%S')\n",
    "    d.append(value1),e.append(value2)"
   ]
  },
  {
   "cell_type": "code",
   "execution_count": 8,
   "id": "9354ce21",
   "metadata": {},
   "outputs": [],
   "source": [
    "file.iloc[:,0]=d\n",
    "file.iloc[:,1]=e"
   ]
  },
  {
   "cell_type": "code",
   "execution_count": 9,
   "id": "4ee63815",
   "metadata": {},
   "outputs": [],
   "source": [
    "file.iloc[:,0]=pd.to_datetime(file.iloc[:,0],utc=True)\n",
    "file.iloc[:,1]=pd.to_datetime(file.iloc[:,1],utc=True)"
   ]
  },
  {
   "cell_type": "code",
   "execution_count": 10,
   "id": "ac96f6a1",
   "metadata": {},
   "outputs": [
    {
     "data": {
      "text/html": [
       "<div>\n",
       "<style scoped>\n",
       "    .dataframe tbody tr th:only-of-type {\n",
       "        vertical-align: middle;\n",
       "    }\n",
       "\n",
       "    .dataframe tbody tr th {\n",
       "        vertical-align: top;\n",
       "    }\n",
       "\n",
       "    .dataframe thead tr th {\n",
       "        text-align: left;\n",
       "    }\n",
       "</style>\n",
       "<table border=\"1\" class=\"dataframe\">\n",
       "  <thead>\n",
       "    <tr>\n",
       "      <th></th>\n",
       "      <th colspan=\"2\" halign=\"left\">country</th>\n",
       "      <th colspan=\"15\" halign=\"left\">HR</th>\n",
       "    </tr>\n",
       "    <tr>\n",
       "      <th></th>\n",
       "      <th colspan=\"2\" halign=\"left\">variable</th>\n",
       "      <th colspan=\"9\" halign=\"left\">heat_demand</th>\n",
       "      <th colspan=\"6\" halign=\"left\">heat_profile</th>\n",
       "    </tr>\n",
       "    <tr>\n",
       "      <th></th>\n",
       "      <th colspan=\"2\" halign=\"left\">attribute</th>\n",
       "      <th>space</th>\n",
       "      <th>space_COM</th>\n",
       "      <th>space_MFH</th>\n",
       "      <th>space_SFH</th>\n",
       "      <th>total</th>\n",
       "      <th>water</th>\n",
       "      <th>water_COM</th>\n",
       "      <th>water_MFH</th>\n",
       "      <th>water_SFH</th>\n",
       "      <th>space_COM</th>\n",
       "      <th>space_MFH</th>\n",
       "      <th>space_SFH</th>\n",
       "      <th>water_COM</th>\n",
       "      <th>water_MFH</th>\n",
       "      <th>water_SFH</th>\n",
       "    </tr>\n",
       "    <tr>\n",
       "      <th></th>\n",
       "      <th>unit</th>\n",
       "      <th>unit.1</th>\n",
       "      <th>MW</th>\n",
       "      <th>MW</th>\n",
       "      <th>MW</th>\n",
       "      <th>MW</th>\n",
       "      <th>MW</th>\n",
       "      <th>MW</th>\n",
       "      <th>MW</th>\n",
       "      <th>MW</th>\n",
       "      <th>MW</th>\n",
       "      <th>MW/TWh</th>\n",
       "      <th>MW/TWh</th>\n",
       "      <th>MW/TWh</th>\n",
       "      <th>MW/TWh</th>\n",
       "      <th>MW/TWh</th>\n",
       "      <th>MW/TWh</th>\n",
       "    </tr>\n",
       "  </thead>\n",
       "  <tbody>\n",
       "    <tr>\n",
       "      <th>0</th>\n",
       "      <td>2007-12-31 22:00:00+00:00</td>\n",
       "      <td>2007-12-31 23:00:00+00:00</td>\n",
       "      <td>5128.0</td>\n",
       "      <td>790.0</td>\n",
       "      <td>1169.0</td>\n",
       "      <td>3169.0</td>\n",
       "      <td>5249.0</td>\n",
       "      <td>121.0</td>\n",
       "      <td>62.0</td>\n",
       "      <td>41.0</td>\n",
       "      <td>18.0</td>\n",
       "      <td>289</td>\n",
       "      <td>202</td>\n",
       "      <td>231</td>\n",
       "      <td>66</td>\n",
       "      <td>69</td>\n",
       "      <td>13</td>\n",
       "    </tr>\n",
       "    <tr>\n",
       "      <th>1</th>\n",
       "      <td>2007-12-31 23:00:00+00:00</td>\n",
       "      <td>2008-01-01 00:00:00+00:00</td>\n",
       "      <td>5128.0</td>\n",
       "      <td>790.0</td>\n",
       "      <td>1169.0</td>\n",
       "      <td>3169.0</td>\n",
       "      <td>5249.0</td>\n",
       "      <td>121.0</td>\n",
       "      <td>62.0</td>\n",
       "      <td>41.0</td>\n",
       "      <td>18.0</td>\n",
       "      <td>289</td>\n",
       "      <td>202</td>\n",
       "      <td>231</td>\n",
       "      <td>66</td>\n",
       "      <td>69</td>\n",
       "      <td>13</td>\n",
       "    </tr>\n",
       "    <tr>\n",
       "      <th>2</th>\n",
       "      <td>2008-01-01 00:00:00+00:00</td>\n",
       "      <td>2008-01-01 01:00:00+00:00</td>\n",
       "      <td>5235.0</td>\n",
       "      <td>808.0</td>\n",
       "      <td>1211.0</td>\n",
       "      <td>3217.0</td>\n",
       "      <td>5377.0</td>\n",
       "      <td>142.0</td>\n",
       "      <td>79.0</td>\n",
       "      <td>43.0</td>\n",
       "      <td>21.0</td>\n",
       "      <td>296</td>\n",
       "      <td>209</td>\n",
       "      <td>235</td>\n",
       "      <td>84</td>\n",
       "      <td>72</td>\n",
       "      <td>15</td>\n",
       "    </tr>\n",
       "  </tbody>\n",
       "</table>\n",
       "</div>"
      ],
      "text/plain": [
       "                    country                                    HR            \\\n",
       "                   variable                           heat_demand             \n",
       "                  attribute                                 space space_COM   \n",
       "                       unit                    unit.1          MW        MW   \n",
       "0 2007-12-31 22:00:00+00:00 2007-12-31 23:00:00+00:00      5128.0     790.0   \n",
       "1 2007-12-31 23:00:00+00:00 2008-01-01 00:00:00+00:00      5128.0     790.0   \n",
       "2 2008-01-01 00:00:00+00:00 2008-01-01 01:00:00+00:00      5235.0     808.0   \n",
       "\n",
       "                                                                    \\\n",
       "                                                                     \n",
       "  space_MFH space_SFH   total  water water_COM water_MFH water_SFH   \n",
       "         MW        MW      MW     MW        MW        MW        MW   \n",
       "0    1169.0    3169.0  5249.0  121.0      62.0      41.0      18.0   \n",
       "1    1169.0    3169.0  5249.0  121.0      62.0      41.0      18.0   \n",
       "2    1211.0    3217.0  5377.0  142.0      79.0      43.0      21.0   \n",
       "\n",
       "                                                                  \n",
       "  heat_profile                                                    \n",
       "     space_COM space_MFH space_SFH water_COM water_MFH water_SFH  \n",
       "        MW/TWh    MW/TWh    MW/TWh    MW/TWh    MW/TWh    MW/TWh  \n",
       "0          289       202       231        66        69        13  \n",
       "1          289       202       231        66        69        13  \n",
       "2          296       209       235        84        72        15  "
      ]
     },
     "execution_count": 10,
     "metadata": {},
     "output_type": "execute_result"
    }
   ],
   "source": [
    "file.head(3)"
   ]
  },
  {
   "cell_type": "code",
   "execution_count": 11,
   "id": "15e23a93",
   "metadata": {},
   "outputs": [],
   "source": [
    "file[\"Year\"]=file.iloc[:,0].dt.year\n",
    "file[\"Month\"]=file.iloc[:,0].dt.month\n",
    "file[\"Dayofyear\"]=file.iloc[:,0].dt.dayofyear\n",
    "file[\"Dayofmonth\"]=file.iloc[:,0].dt.day\n",
    "file[\"Hour\"]=file.iloc[:,0].dt.hour"
   ]
  },
  {
   "cell_type": "markdown",
   "id": "cc733bf9",
   "metadata": {},
   "source": [
    "##  Opcija 1: Toplotne potrebe - Hrvatska"
   ]
  },
  {
   "cell_type": "markdown",
   "id": "6ceb3156",
   "metadata": {},
   "source": [
    "Sa dijagrama se može primijetiti očekivana sezonalnost podataka koji se odnose na grijanje prostora, dok se toplotne potrebe za grijanje PTV ne mijenjaju mnogo u toku godine u zavisnosti od godišnjeg doba. Također je primjetno da u ukupnim toplotnim potrebama učestvuje više grijanje prostora u odnosu na grijanje PTV. U ovom slučaju nisu navedene potrebe za hlađenjem prostora, čije vršno opterećenje može biti veće od vršnog opterećenja za grijanje, iako su sumirane potrebe za grijanjem prostora na godišnjem nivou veće. Maksimalne zabilježene satne potrebe za PTV u periodu od 2008-2013 iznose 726 MW naspram 12869 MW koje su zabilježene za grijanje prostora. Zanimljivo je da minimalne vrijednosti grijanja prostora dostižu do 2 MW. Također, u kasnijoj analizi se mogu dodatno uključiti podaci Agencije za statistiku BiH koja se odnosi na potrošnju energije u domaćinstvima. "
   ]
  },
  {
   "cell_type": "code",
   "execution_count": 12,
   "id": "0495db7a",
   "metadata": {},
   "outputs": [
    {
     "data": {
      "text/html": [
       "<div>\n",
       "<style scoped>\n",
       "    .dataframe tbody tr th:only-of-type {\n",
       "        vertical-align: middle;\n",
       "    }\n",
       "\n",
       "    .dataframe tbody tr th {\n",
       "        vertical-align: top;\n",
       "    }\n",
       "\n",
       "    .dataframe thead tr th {\n",
       "        text-align: left;\n",
       "    }\n",
       "</style>\n",
       "<table border=\"1\" class=\"dataframe\">\n",
       "  <thead>\n",
       "    <tr>\n",
       "      <th></th>\n",
       "      <th colspan=\"15\" halign=\"left\">HR</th>\n",
       "      <th>Year</th>\n",
       "      <th>Month</th>\n",
       "      <th>Dayofyear</th>\n",
       "      <th>Dayofmonth</th>\n",
       "      <th>Hour</th>\n",
       "    </tr>\n",
       "    <tr>\n",
       "      <th></th>\n",
       "      <th colspan=\"9\" halign=\"left\">heat_demand</th>\n",
       "      <th colspan=\"6\" halign=\"left\">heat_profile</th>\n",
       "      <th></th>\n",
       "      <th></th>\n",
       "      <th></th>\n",
       "      <th></th>\n",
       "      <th></th>\n",
       "    </tr>\n",
       "    <tr>\n",
       "      <th></th>\n",
       "      <th>space</th>\n",
       "      <th>space_COM</th>\n",
       "      <th>space_MFH</th>\n",
       "      <th>space_SFH</th>\n",
       "      <th>total</th>\n",
       "      <th>water</th>\n",
       "      <th>water_COM</th>\n",
       "      <th>water_MFH</th>\n",
       "      <th>water_SFH</th>\n",
       "      <th>space_COM</th>\n",
       "      <th>space_MFH</th>\n",
       "      <th>space_SFH</th>\n",
       "      <th>water_COM</th>\n",
       "      <th>water_MFH</th>\n",
       "      <th>water_SFH</th>\n",
       "      <th></th>\n",
       "      <th></th>\n",
       "      <th></th>\n",
       "      <th></th>\n",
       "      <th></th>\n",
       "    </tr>\n",
       "    <tr>\n",
       "      <th></th>\n",
       "      <th>MW</th>\n",
       "      <th>MW</th>\n",
       "      <th>MW</th>\n",
       "      <th>MW</th>\n",
       "      <th>MW</th>\n",
       "      <th>MW</th>\n",
       "      <th>MW</th>\n",
       "      <th>MW</th>\n",
       "      <th>MW</th>\n",
       "      <th>MW/TWh</th>\n",
       "      <th>MW/TWh</th>\n",
       "      <th>MW/TWh</th>\n",
       "      <th>MW/TWh</th>\n",
       "      <th>MW/TWh</th>\n",
       "      <th>MW/TWh</th>\n",
       "      <th></th>\n",
       "      <th></th>\n",
       "      <th></th>\n",
       "      <th></th>\n",
       "      <th></th>\n",
       "    </tr>\n",
       "  </thead>\n",
       "  <tbody>\n",
       "    <tr>\n",
       "      <th>count</th>\n",
       "      <td>52610.000000</td>\n",
       "      <td>52610.000000</td>\n",
       "      <td>52610.000000</td>\n",
       "      <td>52610.000000</td>\n",
       "      <td>52610.000000</td>\n",
       "      <td>52610.000000</td>\n",
       "      <td>52610.000000</td>\n",
       "      <td>52610.000000</td>\n",
       "      <td>52610.000000</td>\n",
       "      <td>52610.000000</td>\n",
       "      <td>52610.000000</td>\n",
       "      <td>52610.000000</td>\n",
       "      <td>52610.000000</td>\n",
       "      <td>52610.000000</td>\n",
       "      <td>52610.000000</td>\n",
       "      <td>52610.000000</td>\n",
       "      <td>52610.000000</td>\n",
       "      <td>52610.000000</td>\n",
       "      <td>52610.000000</td>\n",
       "      <td>52610.000000</td>\n",
       "    </tr>\n",
       "    <tr>\n",
       "      <th>mean</th>\n",
       "      <td>2445.296617</td>\n",
       "      <td>300.514636</td>\n",
       "      <td>643.453184</td>\n",
       "      <td>1501.402205</td>\n",
       "      <td>2793.473028</td>\n",
       "      <td>348.169017</td>\n",
       "      <td>105.468713</td>\n",
       "      <td>72.832218</td>\n",
       "      <td>169.901673</td>\n",
       "      <td>118.350998</td>\n",
       "      <td>117.475670</td>\n",
       "      <td>117.983463</td>\n",
       "      <td>114.102870</td>\n",
       "      <td>114.093841</td>\n",
       "      <td>114.033454</td>\n",
       "      <td>2010.499411</td>\n",
       "      <td>6.522106</td>\n",
       "      <td>183.173883</td>\n",
       "      <td>15.733245</td>\n",
       "      <td>11.500418</td>\n",
       "    </tr>\n",
       "    <tr>\n",
       "      <th>std</th>\n",
       "      <td>2553.278201</td>\n",
       "      <td>328.304490</td>\n",
       "      <td>640.217544</td>\n",
       "      <td>1592.306452</td>\n",
       "      <td>2591.999730</td>\n",
       "      <td>139.541139</td>\n",
       "      <td>38.198464</td>\n",
       "      <td>16.524986</td>\n",
       "      <td>95.903751</td>\n",
       "      <td>129.173111</td>\n",
       "      <td>116.922698</td>\n",
       "      <td>125.229091</td>\n",
       "      <td>40.997161</td>\n",
       "      <td>25.098422</td>\n",
       "      <td>63.964055</td>\n",
       "      <td>1.708301</td>\n",
       "      <td>3.449119</td>\n",
       "      <td>105.467738</td>\n",
       "      <td>8.801790</td>\n",
       "      <td>6.922454</td>\n",
       "    </tr>\n",
       "    <tr>\n",
       "      <th>min</th>\n",
       "      <td>2.000000</td>\n",
       "      <td>1.000000</td>\n",
       "      <td>1.000000</td>\n",
       "      <td>1.000000</td>\n",
       "      <td>106.000000</td>\n",
       "      <td>104.000000</td>\n",
       "      <td>49.000000</td>\n",
       "      <td>34.000000</td>\n",
       "      <td>14.000000</td>\n",
       "      <td>1.000000</td>\n",
       "      <td>1.000000</td>\n",
       "      <td>1.000000</td>\n",
       "      <td>58.000000</td>\n",
       "      <td>55.000000</td>\n",
       "      <td>10.000000</td>\n",
       "      <td>2007.000000</td>\n",
       "      <td>1.000000</td>\n",
       "      <td>1.000000</td>\n",
       "      <td>1.000000</td>\n",
       "      <td>0.000000</td>\n",
       "    </tr>\n",
       "    <tr>\n",
       "      <th>25%</th>\n",
       "      <td>215.000000</td>\n",
       "      <td>20.000000</td>\n",
       "      <td>62.000000</td>\n",
       "      <td>132.000000</td>\n",
       "      <td>585.000000</td>\n",
       "      <td>264.000000</td>\n",
       "      <td>79.000000</td>\n",
       "      <td>65.000000</td>\n",
       "      <td>88.000000</td>\n",
       "      <td>8.000000</td>\n",
       "      <td>11.000000</td>\n",
       "      <td>10.000000</td>\n",
       "      <td>85.000000</td>\n",
       "      <td>105.000000</td>\n",
       "      <td>54.000000</td>\n",
       "      <td>2009.000000</td>\n",
       "      <td>4.000000</td>\n",
       "      <td>92.000000</td>\n",
       "      <td>8.000000</td>\n",
       "      <td>6.000000</td>\n",
       "    </tr>\n",
       "    <tr>\n",
       "      <th>50%</th>\n",
       "      <td>1484.000000</td>\n",
       "      <td>162.000000</td>\n",
       "      <td>436.000000</td>\n",
       "      <td>880.000000</td>\n",
       "      <td>1829.500000</td>\n",
       "      <td>349.000000</td>\n",
       "      <td>90.000000</td>\n",
       "      <td>76.000000</td>\n",
       "      <td>186.000000</td>\n",
       "      <td>64.000000</td>\n",
       "      <td>79.000000</td>\n",
       "      <td>69.000000</td>\n",
       "      <td>98.000000</td>\n",
       "      <td>121.000000</td>\n",
       "      <td>127.000000</td>\n",
       "      <td>2010.000000</td>\n",
       "      <td>7.000000</td>\n",
       "      <td>183.000000</td>\n",
       "      <td>16.000000</td>\n",
       "      <td>12.000000</td>\n",
       "    </tr>\n",
       "    <tr>\n",
       "      <th>75%</th>\n",
       "      <td>4199.750000</td>\n",
       "      <td>536.000000</td>\n",
       "      <td>1096.000000</td>\n",
       "      <td>2564.000000</td>\n",
       "      <td>4545.000000</td>\n",
       "      <td>427.000000</td>\n",
       "      <td>125.000000</td>\n",
       "      <td>84.000000</td>\n",
       "      <td>226.000000</td>\n",
       "      <td>211.000000</td>\n",
       "      <td>200.000000</td>\n",
       "      <td>201.000000</td>\n",
       "      <td>134.000000</td>\n",
       "      <td>131.000000</td>\n",
       "      <td>149.000000</td>\n",
       "      <td>2012.000000</td>\n",
       "      <td>10.000000</td>\n",
       "      <td>275.000000</td>\n",
       "      <td>23.000000</td>\n",
       "      <td>18.000000</td>\n",
       "    </tr>\n",
       "    <tr>\n",
       "      <th>max</th>\n",
       "      <td>12869.000000</td>\n",
       "      <td>1571.000000</td>\n",
       "      <td>3117.000000</td>\n",
       "      <td>8493.000000</td>\n",
       "      <td>13450.000000</td>\n",
       "      <td>726.000000</td>\n",
       "      <td>210.000000</td>\n",
       "      <td>108.000000</td>\n",
       "      <td>430.000000</td>\n",
       "      <td>651.000000</td>\n",
       "      <td>559.000000</td>\n",
       "      <td>653.000000</td>\n",
       "      <td>222.000000</td>\n",
       "      <td>157.000000</td>\n",
       "      <td>266.000000</td>\n",
       "      <td>2013.000000</td>\n",
       "      <td>12.000000</td>\n",
       "      <td>366.000000</td>\n",
       "      <td>31.000000</td>\n",
       "      <td>23.000000</td>\n",
       "    </tr>\n",
       "  </tbody>\n",
       "</table>\n",
       "</div>"
      ],
      "text/plain": [
       "                 HR                                                          \\\n",
       "        heat_demand                                                           \n",
       "              space     space_COM     space_MFH     space_SFH         total   \n",
       "                 MW            MW            MW            MW            MW   \n",
       "count  52610.000000  52610.000000  52610.000000  52610.000000  52610.000000   \n",
       "mean    2445.296617    300.514636    643.453184   1501.402205   2793.473028   \n",
       "std     2553.278201    328.304490    640.217544   1592.306452   2591.999730   \n",
       "min        2.000000      1.000000      1.000000      1.000000    106.000000   \n",
       "25%      215.000000     20.000000     62.000000    132.000000    585.000000   \n",
       "50%     1484.000000    162.000000    436.000000    880.000000   1829.500000   \n",
       "75%     4199.750000    536.000000   1096.000000   2564.000000   4545.000000   \n",
       "max    12869.000000   1571.000000   3117.000000   8493.000000  13450.000000   \n",
       "\n",
       "                                                                             \\\n",
       "                                                               heat_profile   \n",
       "              water     water_COM     water_MFH     water_SFH     space_COM   \n",
       "                 MW            MW            MW            MW        MW/TWh   \n",
       "count  52610.000000  52610.000000  52610.000000  52610.000000  52610.000000   \n",
       "mean     348.169017    105.468713     72.832218    169.901673    118.350998   \n",
       "std      139.541139     38.198464     16.524986     95.903751    129.173111   \n",
       "min      104.000000     49.000000     34.000000     14.000000      1.000000   \n",
       "25%      264.000000     79.000000     65.000000     88.000000      8.000000   \n",
       "50%      349.000000     90.000000     76.000000    186.000000     64.000000   \n",
       "75%      427.000000    125.000000     84.000000    226.000000    211.000000   \n",
       "max      726.000000    210.000000    108.000000    430.000000    651.000000   \n",
       "\n",
       "                                                                             \\\n",
       "                                                                              \n",
       "          space_MFH     space_SFH     water_COM     water_MFH     water_SFH   \n",
       "             MW/TWh        MW/TWh        MW/TWh        MW/TWh        MW/TWh   \n",
       "count  52610.000000  52610.000000  52610.000000  52610.000000  52610.000000   \n",
       "mean     117.475670    117.983463    114.102870    114.093841    114.033454   \n",
       "std      116.922698    125.229091     40.997161     25.098422     63.964055   \n",
       "min        1.000000      1.000000     58.000000     55.000000     10.000000   \n",
       "25%       11.000000     10.000000     85.000000    105.000000     54.000000   \n",
       "50%       79.000000     69.000000     98.000000    121.000000    127.000000   \n",
       "75%      200.000000    201.000000    134.000000    131.000000    149.000000   \n",
       "max      559.000000    653.000000    222.000000    157.000000    266.000000   \n",
       "\n",
       "               Year         Month     Dayofyear    Dayofmonth          Hour  \n",
       "                                                                             \n",
       "                                                                             \n",
       "                                                                             \n",
       "count  52610.000000  52610.000000  52610.000000  52610.000000  52610.000000  \n",
       "mean    2010.499411      6.522106    183.173883     15.733245     11.500418  \n",
       "std        1.708301      3.449119    105.467738      8.801790      6.922454  \n",
       "min     2007.000000      1.000000      1.000000      1.000000      0.000000  \n",
       "25%     2009.000000      4.000000     92.000000      8.000000      6.000000  \n",
       "50%     2010.000000      7.000000    183.000000     16.000000     12.000000  \n",
       "75%     2012.000000     10.000000    275.000000     23.000000     18.000000  \n",
       "max     2013.000000     12.000000    366.000000     31.000000     23.000000  "
      ]
     },
     "execution_count": 12,
     "metadata": {},
     "output_type": "execute_result"
    }
   ],
   "source": [
    "file.describe()"
   ]
  },
  {
   "cell_type": "code",
   "execution_count": 13,
   "id": "148f00dd",
   "metadata": {},
   "outputs": [
    {
     "data": {
      "image/png": "[encoded data removed]",
      "text/plain": [
       "<Figure size 864x360 with 2 Axes>"
      ]
     },
     "metadata": {
      "needs_background": "light"
     },
     "output_type": "display_data"
    }
   ],
   "source": [
    "fig,ax=plt.subplots(ncols=2)\n",
    "heat_demand=[('HR',  'heat_demand',         'total',          'MW'),(     'HR',  'heat_demand',         'space',          'MW')]\n",
    "file[file[\"Year\"]<2014].plot(x=('country',     'variable',     'attribute',        'unit'),y=heat_demand,figsize=(12,5),ax=ax[0])\n",
    "ax[0].set_xlabel(\"Sat u godini\")\n",
    "ax[0].set_ylabel(\"MW\")\n",
    "ax[0].set_title(\"Toplotne potrebe tokom godine - grijanje i ukupne potrebe\")\n",
    "\n",
    "\n",
    "water_demand=[(     'HR',  'heat_demand',         'water',          'MW')]\n",
    "file[file[\"Year\"]<2014].plot(x=('country',     'variable',     'attribute',        'unit'),y=water_demand,figsize=(12,5),ax=ax[1])\n",
    "ax[1].set_xlabel(\"Sat u godini\")\n",
    "ax[1].set_ylabel(\"MW\")\n",
    "ax[1].set_title(\"Toplotne potrebe tokom godine - PTV\")\n",
    "plt.show()"
   ]
  },
  {
   "cell_type": "code",
   "execution_count": 14,
   "id": "126c35f8",
   "metadata": {},
   "outputs": [],
   "source": [
    "\n",
    "\n",
    "file=file[(file[\"Year\"]>2007)&(file[\"Year\"]<2014)]\n",
    "\n",
    "yearly_demand=file.groupby(\"Year\")[[(     'HR',  'heat_demand',     'total',          'MW'),(     'HR',  'heat_demand',         'space',          'MW'),(     'HR',  'heat_demand',         'water',          'MW')]].sum()/1000000\n",
    "col_demand_heat=[(     'HR',  'heat_demand',     'space_COM',          'MW'),\n",
    "            (     'HR',  'heat_demand',     'space_MFH',          'MW'),\n",
    "            (     'HR',  'heat_demand',     'space_SFH',          'MW')]\n",
    "\n",
    "#yearly_demand=file.groupby(\"Year\")[('HR',  'heat_demand',         'total',          'MW'),(     'HR',  'heat_demand',         'space',          'MW'),(     'HR',  'heat_demand',         'water',          'MW')].sum()\n",
    "#col_demand_heat=[(     'HR',  'heat_demand',     'space_COM',          'MW'),\n",
    "            #(     'HR',  'heat_demand',     'space_MFH',          'MW'),\n",
    "           # (     'HR',  'heat_demand',     'space_SFH',          'MW')]\n",
    "heat_space=file.groupby(\"Year\")[col_demand_heat].sum()/1000000"
   ]
  },
  {
   "cell_type": "markdown",
   "id": "7d85c147",
   "metadata": {},
   "source": [
    "Najveći udio u godišnjim potrebama za grijanje čine individualni objekti. Napomena: legenda na dijagramima je u MW jer je to dio imena kolona koja će se naknadno promijeniti. Odgovrajuće vrijednosti su u TW, kako je naznačeno na y-osi. Najanje toplotne potrebe su za zgrade uslužnih djelatnosti."
   ]
  },
  {
   "cell_type": "code",
   "execution_count": 15,
   "id": "bff8067f",
   "metadata": {},
   "outputs": [
    {
     "data": {
      "text/plain": [
       "Text(0.5, 1.0, 'Godišnje toplotne potrebe u TW')"
      ]
     },
     "execution_count": 15,
     "metadata": {},
     "output_type": "execute_result"
    },
    {
     "data": {
      "image/png": "[encoded data removed]",
      "text/plain": [
       "<Figure size 1080x432 with 2 Axes>"
      ]
     },
     "metadata": {
      "needs_background": "light"
     },
     "output_type": "display_data"
    }
   ],
   "source": [
    "fig,ax=plt.subplots(ncols=2,figsize=(15,6))\n",
    "yearly_demand.plot.bar(ax=ax[0])\n",
    "ax[0].set_xlabel(\"Godina\")\n",
    "ax[0].set_ylabel(\"TW\")\n",
    "ax[0].set_title(\"Godišnje toplotne potrebe u TW\")\n",
    "\n",
    "heat_space.plot.bar(ax=ax[1])\n",
    "ax[1].set_xlabel(\"Godina\")\n",
    "ax[1].set_ylabel(\"TW\")\n",
    "ax[1].set_title(\"Godišnje toplotne potrebe u TW\")\n"
   ]
  },
  {
   "cell_type": "markdown",
   "id": "f8115866",
   "metadata": {},
   "source": [
    "Ukupno toplotno opterećnje veće od 6000 MW traje oko 1500 sati godišnje."
   ]
  },
  {
   "cell_type": "code",
   "execution_count": 16,
   "id": "cd1473aa",
   "metadata": {},
   "outputs": [
    {
     "data": {
      "image/png": "[encoded data removed]",
      "text/plain": [
       "<Figure size 432x288 with 1 Axes>"
      ]
     },
     "metadata": {
      "needs_background": "light"
     },
     "output_type": "display_data"
    },
    {
     "data": {
      "text/plain": [
       "<Figure size 1440x720 with 0 Axes>"
      ]
     },
     "metadata": {},
     "output_type": "display_data"
    }
   ],
   "source": [
    "years=[2008,2009,2010,2011,2012,2013]\n",
    "ax=plt.gca()\n",
    "fig=plt.figure(figsize=(20,10))\n",
    "for i,year in enumerate(years):\n",
    "    duration_curve=file[file[\"Year\"]==year]\n",
    "    duration_curve=duration_curve.sort_values(by=(     'HR',  'heat_demand',         'total',          'MW'), ascending=False)\n",
    "    ax.plot(np.arange(len(duration_curve)),duration_curve[(     'HR',  'heat_demand',         'total',          'MW')],label=year,)\n",
    "   \n",
    "    ax.legend()\n",
    "    ax.set_xlabel(\"Sat u godini\")\n",
    "    ax.set_ylabel(\"Opterećenje, MW\")\n",
    "    ax.margins(x=0)\n",
    "    ax.set_xticks(np.arange(0,9000,1000))\n",
    "plt.show() "
   ]
  },
  {
   "cell_type": "markdown",
   "id": "1388c117",
   "metadata": {},
   "source": [
    "Prosječni dnevni profil grijnih potreba je dat na sljedećem dijagramu za sve tipove objekata. Vršno opterećenje se dešava ujutru, kada startaju sistemi,te u poslijepodnevnim satima kada ljudi borave u stambenim objektima.Potrebe objekata uslužnih djelatnosti su znatno manje od potreba zagrijavanja stambenih objekata, te se u tom slučaju bilježi značajan pad za stambene objekte u periodu od 5 do 11h. Sličan trend se bilježi i kod potrošnje PTV. Srednje vršno opterećenje za grijanje iznosi 2000 MW, a u slučaju PTV nešto više od 600 MW."
   ]
  },
  {
   "cell_type": "code",
   "execution_count": 17,
   "id": "9243d5f3",
   "metadata": {},
   "outputs": [
    {
     "name": "stderr",
     "output_type": "stream",
     "text": [
      "C:\\Users\\Ehlimana\\anaconda3\\lib\\site-packages\\pandas\\core\\generic.py:4153: PerformanceWarning: dropping on a non-lexsorted multi-index without a level parameter may impact performance.\n",
      "  obj = obj._drop_axis(labels, axis, level=level, errors=errors)\n"
     ]
    },
    {
     "data": {
      "image/png": "[encoded data removed]",
      "text/plain": [
       "<Figure size 1080x360 with 2 Axes>"
      ]
     },
     "metadata": {
      "needs_background": "light"
     },
     "output_type": "display_data"
    }
   ],
   "source": [
    "fig,ax=plt.subplots(ncols=2,figsize=(15,5))\n",
    "\n",
    "file.groupby(\"Hour\")[col_demand_heat].mean().plot.line(ax=ax[0])\n",
    "ax[0].margins(x=0)\n",
    "ax[0].set_xticks(np.arange(0,23,1))\n",
    "ax[0].set_ylabel(\"MW\")\n",
    "ax[0].set_xlabel(\"Sat\")\n",
    "ax[0].set_title(\"Grijanje\")\n",
    "\n",
    "file.groupby(\"Hour\").mean()[(     'HR',  'heat_demand',         'water',          'MW')].plot.line(ax=ax[1])\n",
    "ax[1].margins(x=0)\n",
    "ax[1].set_xticks(np.arange(0,23,1))\n",
    "ax[1].set_ylabel(\"MW\")\n",
    "ax[1].set_xlabel(\"Sat\")\n",
    "ax[1].set_title(\"PTV\")\n",
    "plt.show()"
   ]
  },
  {
   "cell_type": "code",
   "execution_count": 18,
   "id": "08e63ccf",
   "metadata": {},
   "outputs": [],
   "source": [
    "#file.plot(x=('country',     'variable',     'attribute',        'unit'),y=[(                  'HR', 'heat_profile', 'space_COM', 'MW/TWh'),\n",
    "          #  (                  'HR', 'heat_profile', 'space_MFH', 'MW/TWh'),\n",
    "          #  (                  'HR', 'heat_profile', 'space_SFH', 'MW/TWh')],figsize=(15,8))"
   ]
  },
  {
   "cell_type": "markdown",
   "id": "60c39a1b",
   "metadata": {},
   "source": [
    "Iz iste baze podataka je moguće izvući temperaturu zraka, direktno i difuzno Sunčevo zračenje. Trenutna analiza će se odnositi samo na temperaturu zraka. Ovi podaci su dostupni u satnoj rezoluciji od 1980 - 2018."
   ]
  },
  {
   "cell_type": "code",
   "execution_count": 19,
   "id": "6e578d76",
   "metadata": {},
   "outputs": [],
   "source": [
    "file_weather=pd.read_csv(r\"FILES\\HEAT\\weather_data.csv\",parse_dates=True,header=0)"
   ]
  },
  {
   "cell_type": "code",
   "execution_count": 20,
   "id": "deab3044",
   "metadata": {},
   "outputs": [
    {
     "data": {
      "text/plain": [
       "Index(['HR_temperature', 'HR_radiation_direct_horizontal',\n",
       "       'HR_radiation_diffuse_horizontal'],\n",
       "      dtype='object')"
      ]
     },
     "execution_count": 20,
     "metadata": {},
     "output_type": "execute_result"
    }
   ],
   "source": [
    "file_weather.columns[(file_weather.columns.str.contains(\"HR\"))]"
   ]
  },
  {
   "cell_type": "code",
   "execution_count": 21,
   "id": "b26519e3",
   "metadata": {},
   "outputs": [],
   "source": [
    "col_HR=file_weather[file_weather.columns[(file_weather.columns.str.contains(\"HR\"))|(file_weather.columns.str.contains(\"utc_timestamp\"))]]"
   ]
  },
  {
   "cell_type": "code",
   "execution_count": 22,
   "id": "034555a7",
   "metadata": {},
   "outputs": [
    {
     "data": {
      "text/html": [
       "<div>\n",
       "<style scoped>\n",
       "    .dataframe tbody tr th:only-of-type {\n",
       "        vertical-align: middle;\n",
       "    }\n",
       "\n",
       "    .dataframe tbody tr th {\n",
       "        vertical-align: top;\n",
       "    }\n",
       "\n",
       "    .dataframe thead th {\n",
       "        text-align: right;\n",
       "    }\n",
       "</style>\n",
       "<table border=\"1\" class=\"dataframe\">\n",
       "  <thead>\n",
       "    <tr style=\"text-align: right;\">\n",
       "      <th></th>\n",
       "      <th>utc_timestamp</th>\n",
       "      <th>HR_temperature</th>\n",
       "      <th>HR_radiation_direct_horizontal</th>\n",
       "      <th>HR_radiation_diffuse_horizontal</th>\n",
       "    </tr>\n",
       "  </thead>\n",
       "  <tbody>\n",
       "    <tr>\n",
       "      <th>0</th>\n",
       "      <td>1980-01-01T00:00:00Z</td>\n",
       "      <td>-0.880</td>\n",
       "      <td>0.0</td>\n",
       "      <td>0.0</td>\n",
       "    </tr>\n",
       "    <tr>\n",
       "      <th>1</th>\n",
       "      <td>1980-01-01T01:00:00Z</td>\n",
       "      <td>-0.888</td>\n",
       "      <td>0.0</td>\n",
       "      <td>0.0</td>\n",
       "    </tr>\n",
       "    <tr>\n",
       "      <th>2</th>\n",
       "      <td>1980-01-01T02:00:00Z</td>\n",
       "      <td>-0.950</td>\n",
       "      <td>0.0</td>\n",
       "      <td>0.0</td>\n",
       "    </tr>\n",
       "  </tbody>\n",
       "</table>\n",
       "</div>"
      ],
      "text/plain": [
       "          utc_timestamp  HR_temperature  HR_radiation_direct_horizontal  \\\n",
       "0  1980-01-01T00:00:00Z          -0.880                             0.0   \n",
       "1  1980-01-01T01:00:00Z          -0.888                             0.0   \n",
       "2  1980-01-01T02:00:00Z          -0.950                             0.0   \n",
       "\n",
       "   HR_radiation_diffuse_horizontal  \n",
       "0                              0.0  \n",
       "1                              0.0  \n",
       "2                              0.0  "
      ]
     },
     "execution_count": 22,
     "metadata": {},
     "output_type": "execute_result"
    }
   ],
   "source": [
    "col_HR.head(3)"
   ]
  },
  {
   "cell_type": "markdown",
   "id": "c64b4705",
   "metadata": {},
   "source": [
    "Za ovaj fajl je potrebno prilagoditi format datuma kako bi se iz njega dobile korisne informacije."
   ]
  },
  {
   "cell_type": "code",
   "execution_count": 23,
   "id": "fb96f591",
   "metadata": {},
   "outputs": [],
   "source": [
    "pd.set_option('mode.chained_assignment', None)"
   ]
  },
  {
   "cell_type": "code",
   "execution_count": 24,
   "id": "3ce24c32",
   "metadata": {},
   "outputs": [],
   "source": [
    "d=[]\n",
    "\n",
    "from datetime import datetime\n",
    "for value1 in col_HR.iloc[:,0]:\n",
    "    value1=value1.replace('Z', '')\n",
    "    value1=datetime.fromisoformat(value1)\n",
    "    value1.strftime('%Y-%m-%d %H:%M:%S')\n",
    "    d.append(value1)"
   ]
  },
  {
   "cell_type": "code",
   "execution_count": 25,
   "id": "679e431d",
   "metadata": {},
   "outputs": [],
   "source": [
    "col_HR.iloc[:,0]=d"
   ]
  },
  {
   "cell_type": "code",
   "execution_count": 26,
   "id": "f6b24c5f",
   "metadata": {},
   "outputs": [],
   "source": [
    "col_HR.iloc[:,0]=pd.to_datetime(col_HR.iloc[:,0],utc=True)"
   ]
  },
  {
   "cell_type": "code",
   "execution_count": 27,
   "id": "bcd4358e",
   "metadata": {},
   "outputs": [
    {
     "data": {
      "text/html": [
       "<div>\n",
       "<style scoped>\n",
       "    .dataframe tbody tr th:only-of-type {\n",
       "        vertical-align: middle;\n",
       "    }\n",
       "\n",
       "    .dataframe tbody tr th {\n",
       "        vertical-align: top;\n",
       "    }\n",
       "\n",
       "    .dataframe thead th {\n",
       "        text-align: right;\n",
       "    }\n",
       "</style>\n",
       "<table border=\"1\" class=\"dataframe\">\n",
       "  <thead>\n",
       "    <tr style=\"text-align: right;\">\n",
       "      <th></th>\n",
       "      <th>utc_timestamp</th>\n",
       "      <th>HR_temperature</th>\n",
       "      <th>HR_radiation_direct_horizontal</th>\n",
       "      <th>HR_radiation_diffuse_horizontal</th>\n",
       "    </tr>\n",
       "  </thead>\n",
       "  <tbody>\n",
       "    <tr>\n",
       "      <th>0</th>\n",
       "      <td>1980-01-01 00:00:00+00:00</td>\n",
       "      <td>-0.880</td>\n",
       "      <td>0.0</td>\n",
       "      <td>0.0</td>\n",
       "    </tr>\n",
       "    <tr>\n",
       "      <th>1</th>\n",
       "      <td>1980-01-01 01:00:00+00:00</td>\n",
       "      <td>-0.888</td>\n",
       "      <td>0.0</td>\n",
       "      <td>0.0</td>\n",
       "    </tr>\n",
       "    <tr>\n",
       "      <th>2</th>\n",
       "      <td>1980-01-01 02:00:00+00:00</td>\n",
       "      <td>-0.950</td>\n",
       "      <td>0.0</td>\n",
       "      <td>0.0</td>\n",
       "    </tr>\n",
       "    <tr>\n",
       "      <th>3</th>\n",
       "      <td>1980-01-01 03:00:00+00:00</td>\n",
       "      <td>-1.157</td>\n",
       "      <td>0.0</td>\n",
       "      <td>0.0</td>\n",
       "    </tr>\n",
       "    <tr>\n",
       "      <th>4</th>\n",
       "      <td>1980-01-01 04:00:00+00:00</td>\n",
       "      <td>-1.468</td>\n",
       "      <td>0.0</td>\n",
       "      <td>0.0</td>\n",
       "    </tr>\n",
       "  </tbody>\n",
       "</table>\n",
       "</div>"
      ],
      "text/plain": [
       "              utc_timestamp  HR_temperature  HR_radiation_direct_horizontal  \\\n",
       "0 1980-01-01 00:00:00+00:00          -0.880                             0.0   \n",
       "1 1980-01-01 01:00:00+00:00          -0.888                             0.0   \n",
       "2 1980-01-01 02:00:00+00:00          -0.950                             0.0   \n",
       "3 1980-01-01 03:00:00+00:00          -1.157                             0.0   \n",
       "4 1980-01-01 04:00:00+00:00          -1.468                             0.0   \n",
       "\n",
       "   HR_radiation_diffuse_horizontal  \n",
       "0                              0.0  \n",
       "1                              0.0  \n",
       "2                              0.0  \n",
       "3                              0.0  \n",
       "4                              0.0  "
      ]
     },
     "execution_count": 27,
     "metadata": {},
     "output_type": "execute_result"
    }
   ],
   "source": [
    "col_HR.head()"
   ]
  },
  {
   "cell_type": "code",
   "execution_count": 28,
   "id": "462f105d",
   "metadata": {},
   "outputs": [],
   "source": [
    "pd.set_option('mode.chained_assignment', None)"
   ]
  },
  {
   "cell_type": "code",
   "execution_count": 29,
   "id": "0ead668e",
   "metadata": {},
   "outputs": [],
   "source": [
    "col_HR[\"Year\"]=col_HR.iloc[:,0].dt.year\n",
    "col_HR[\"Month\"]=col_HR.iloc[:,0].dt.month\n",
    "col_HR[\"Dayofyear\"]=col_HR.iloc[:,0].dt.dayofyear\n",
    "col_HR[\"Dayofmonth\"]=col_HR.iloc[:,0].dt.day\n",
    "col_HR[\"Hour\"]=col_HR.iloc[:,0].dt.hour"
   ]
  },
  {
   "cell_type": "code",
   "execution_count": 30,
   "id": "00924a2c",
   "metadata": {},
   "outputs": [
    {
     "data": {
      "text/html": [
       "<div>\n",
       "<style scoped>\n",
       "    .dataframe tbody tr th:only-of-type {\n",
       "        vertical-align: middle;\n",
       "    }\n",
       "\n",
       "    .dataframe tbody tr th {\n",
       "        vertical-align: top;\n",
       "    }\n",
       "\n",
       "    .dataframe thead th {\n",
       "        text-align: right;\n",
       "    }\n",
       "</style>\n",
       "<table border=\"1\" class=\"dataframe\">\n",
       "  <thead>\n",
       "    <tr style=\"text-align: right;\">\n",
       "      <th></th>\n",
       "      <th>utc_timestamp</th>\n",
       "      <th>HR_temperature</th>\n",
       "      <th>HR_radiation_direct_horizontal</th>\n",
       "      <th>HR_radiation_diffuse_horizontal</th>\n",
       "      <th>Year</th>\n",
       "      <th>Month</th>\n",
       "      <th>Dayofyear</th>\n",
       "      <th>Dayofmonth</th>\n",
       "      <th>Hour</th>\n",
       "    </tr>\n",
       "  </thead>\n",
       "  <tbody>\n",
       "    <tr>\n",
       "      <th>0</th>\n",
       "      <td>1980-01-01 00:00:00+00:00</td>\n",
       "      <td>-0.880</td>\n",
       "      <td>0.0</td>\n",
       "      <td>0.0</td>\n",
       "      <td>1980</td>\n",
       "      <td>1</td>\n",
       "      <td>1</td>\n",
       "      <td>1</td>\n",
       "      <td>0</td>\n",
       "    </tr>\n",
       "    <tr>\n",
       "      <th>1</th>\n",
       "      <td>1980-01-01 01:00:00+00:00</td>\n",
       "      <td>-0.888</td>\n",
       "      <td>0.0</td>\n",
       "      <td>0.0</td>\n",
       "      <td>1980</td>\n",
       "      <td>1</td>\n",
       "      <td>1</td>\n",
       "      <td>1</td>\n",
       "      <td>1</td>\n",
       "    </tr>\n",
       "    <tr>\n",
       "      <th>2</th>\n",
       "      <td>1980-01-01 02:00:00+00:00</td>\n",
       "      <td>-0.950</td>\n",
       "      <td>0.0</td>\n",
       "      <td>0.0</td>\n",
       "      <td>1980</td>\n",
       "      <td>1</td>\n",
       "      <td>1</td>\n",
       "      <td>1</td>\n",
       "      <td>2</td>\n",
       "    </tr>\n",
       "  </tbody>\n",
       "</table>\n",
       "</div>"
      ],
      "text/plain": [
       "              utc_timestamp  HR_temperature  HR_radiation_direct_horizontal  \\\n",
       "0 1980-01-01 00:00:00+00:00          -0.880                             0.0   \n",
       "1 1980-01-01 01:00:00+00:00          -0.888                             0.0   \n",
       "2 1980-01-01 02:00:00+00:00          -0.950                             0.0   \n",
       "\n",
       "   HR_radiation_diffuse_horizontal  Year  Month  Dayofyear  Dayofmonth  Hour  \n",
       "0                              0.0  1980      1          1           1     0  \n",
       "1                              0.0  1980      1          1           1     1  \n",
       "2                              0.0  1980      1          1           1     2  "
      ]
     },
     "execution_count": 30,
     "metadata": {},
     "output_type": "execute_result"
    }
   ],
   "source": [
    "col_HR.head(3)"
   ]
  },
  {
   "cell_type": "markdown",
   "id": "6fa467ed",
   "metadata": {},
   "source": [
    "Za temperaturu zraka će se odabrati podaci od 2008. do 2013. jer su u tom periodu dostupne toplotne potrebe."
   ]
  },
  {
   "cell_type": "code",
   "execution_count": 31,
   "id": "900d591f",
   "metadata": {},
   "outputs": [
    {
     "data": {
      "text/html": [
       "<div>\n",
       "<style scoped>\n",
       "    .dataframe tbody tr th:only-of-type {\n",
       "        vertical-align: middle;\n",
       "    }\n",
       "\n",
       "    .dataframe tbody tr th {\n",
       "        vertical-align: top;\n",
       "    }\n",
       "\n",
       "    .dataframe thead th {\n",
       "        text-align: right;\n",
       "    }\n",
       "</style>\n",
       "<table border=\"1\" class=\"dataframe\">\n",
       "  <thead>\n",
       "    <tr style=\"text-align: right;\">\n",
       "      <th></th>\n",
       "      <th>utc_timestamp</th>\n",
       "      <th>HR_temperature</th>\n",
       "      <th>HR_radiation_direct_horizontal</th>\n",
       "      <th>HR_radiation_diffuse_horizontal</th>\n",
       "      <th>Year</th>\n",
       "      <th>Month</th>\n",
       "      <th>Dayofyear</th>\n",
       "      <th>Dayofmonth</th>\n",
       "      <th>Hour</th>\n",
       "    </tr>\n",
       "  </thead>\n",
       "  <tbody>\n",
       "    <tr>\n",
       "      <th>245448</th>\n",
       "      <td>2008-01-01 00:00:00+00:00</td>\n",
       "      <td>-4.649</td>\n",
       "      <td>0.0</td>\n",
       "      <td>0.0</td>\n",
       "      <td>2008</td>\n",
       "      <td>1</td>\n",
       "      <td>1</td>\n",
       "      <td>1</td>\n",
       "      <td>0</td>\n",
       "    </tr>\n",
       "    <tr>\n",
       "      <th>245449</th>\n",
       "      <td>2008-01-01 01:00:00+00:00</td>\n",
       "      <td>-4.793</td>\n",
       "      <td>0.0</td>\n",
       "      <td>0.0</td>\n",
       "      <td>2008</td>\n",
       "      <td>1</td>\n",
       "      <td>1</td>\n",
       "      <td>1</td>\n",
       "      <td>1</td>\n",
       "    </tr>\n",
       "    <tr>\n",
       "      <th>245450</th>\n",
       "      <td>2008-01-01 02:00:00+00:00</td>\n",
       "      <td>-4.924</td>\n",
       "      <td>0.0</td>\n",
       "      <td>0.0</td>\n",
       "      <td>2008</td>\n",
       "      <td>1</td>\n",
       "      <td>1</td>\n",
       "      <td>1</td>\n",
       "      <td>2</td>\n",
       "    </tr>\n",
       "  </tbody>\n",
       "</table>\n",
       "</div>"
      ],
      "text/plain": [
       "                   utc_timestamp  HR_temperature  \\\n",
       "245448 2008-01-01 00:00:00+00:00          -4.649   \n",
       "245449 2008-01-01 01:00:00+00:00          -4.793   \n",
       "245450 2008-01-01 02:00:00+00:00          -4.924   \n",
       "\n",
       "        HR_radiation_direct_horizontal  HR_radiation_diffuse_horizontal  Year  \\\n",
       "245448                             0.0                              0.0  2008   \n",
       "245449                             0.0                              0.0  2008   \n",
       "245450                             0.0                              0.0  2008   \n",
       "\n",
       "        Month  Dayofyear  Dayofmonth  Hour  \n",
       "245448      1          1           1     0  \n",
       "245449      1          1           1     1  \n",
       "245450      1          1           1     2  "
      ]
     },
     "execution_count": 31,
     "metadata": {},
     "output_type": "execute_result"
    }
   ],
   "source": [
    "col_HR[(col_HR[\"Year\"]>=2008)&(col_HR[\"Year\"]<=2013)].head(3)"
   ]
  },
  {
   "cell_type": "markdown",
   "id": "133aef65",
   "metadata": {},
   "source": [
    "Sa narednog dijagrama se može vidjeti očekivani pad toplotnih potreba sa porastom temperature zraka i obrnuto, te će se kasnije prikazati i negativna korelacija."
   ]
  },
  {
   "cell_type": "code",
   "execution_count": 32,
   "id": "77917a52",
   "metadata": {},
   "outputs": [
    {
     "data": {
      "image/png": "[encoded data removed]",
      "text/plain": [
       "<Figure size 720x504 with 2 Axes>"
      ]
     },
     "metadata": {
      "needs_background": "light"
     },
     "output_type": "display_data"
    }
   ],
   "source": [
    "years=col_HR[(col_HR[\"Year\"]>=2008)&(col_HR[\"Year\"]<=2013)]\n",
    "ax=plt.gca()\n",
    "\n",
    "cols_total=[('HR',  'heat_demand',         'total',          'MW'),(     'HR',  'heat_demand',         'space',          'MW'),(     'HR',  'heat_demand',         'water',          'MW')]\n",
    "\n",
    "plot_file=file.groupby([\"Month\",\"Year\"])[cols_total].sum()\n",
    "\n",
    "(plot_file.groupby([\"Month\"])[cols_total].mean()/1000000).plot(kind=\"line\",ax=ax,figsize=(10,7))\n",
    "ax_1=ax.twinx()\n",
    "\n",
    "years[(years[\"Year\"]>=2008)&(years[\"Year\"]<=2013)].groupby(\"Month\")[\"HR_temperature\"].mean().plot(kind=\"line\",ax=ax_1,color=\"pink\")\n",
    "ax.set_xlabel(\"Sat\")\n",
    "ax.set_ylabel(\"TW\")\n",
    "ax.set_title(\"Prosječne mjesečne potrebe 2008 - 2013\")\n",
    "ax_1.set_ylabel(\"Temperatura zraka, °C\")\n",
    "ax_1.legend()\n",
    "plt.show()"
   ]
  },
  {
   "cell_type": "code",
   "execution_count": 33,
   "id": "98d5a9e7",
   "metadata": {},
   "outputs": [
    {
     "data": {
      "image/png": "[encoded data removed]",
      "text/plain": [
       "<Figure size 720x504 with 2 Axes>"
      ]
     },
     "metadata": {
      "needs_background": "light"
     },
     "output_type": "display_data"
    }
   ],
   "source": [
    "years=col_HR[(col_HR[\"Year\"]>=2008)&(col_HR[\"Year\"]<=2013)]\n",
    "ax=plt.gca()\n",
    "plot_file=file.groupby([\"Month\",\"Year\"])[col_demand_heat].sum()\n",
    "(plot_file.groupby(\"Month\").mean()/1000000).plot(kind=\"line\",ax=ax,figsize=(10,7))\n",
    "ax_1=ax.twinx()\n",
    "\n",
    "years[(years[\"Year\"]>=2008)&(years[\"Year\"]<=2013)].groupby(\"Month\")[\"HR_temperature\"].mean().plot(kind=\"line\",ax=ax_1,color=\"pink\")\n",
    "ax.set_xlabel(\"Sat\")\n",
    "ax.set_ylabel(\"TW\")\n",
    "ax.set_title(\"Prosječni mjesečni potrebe prema namjeni objekata\")\n",
    "ax_1.set_ylabel(\"Temperatura zraka, °C\")\n",
    "ax_1.legend()\n",
    "plt.show()"
   ]
  },
  {
   "cell_type": "code",
   "execution_count": 34,
   "id": "ddf069ac",
   "metadata": {},
   "outputs": [],
   "source": [
    "cols=cols_total+col_demand_heat\n",
    "\n",
    "heat_0818=file[cols].reset_index()\n",
    "col_HR_0818=col_HR[(col_HR[\"Year\"]>=2008)&(col_HR[\"Year\"]<=2018)][[\"utc_timestamp\",\"HR_temperature\",\"Year\",\"Month\"]].reset_index()\n",
    "years1=pd.concat([heat_0818,col_HR_0818],axis=1)\n",
    "years1=years1.dropna()"
   ]
  },
  {
   "cell_type": "code",
   "execution_count": 35,
   "id": "3ed8154b",
   "metadata": {},
   "outputs": [
    {
     "data": {
      "text/html": [
       "<div>\n",
       "<style scoped>\n",
       "    .dataframe tbody tr th:only-of-type {\n",
       "        vertical-align: middle;\n",
       "    }\n",
       "\n",
       "    .dataframe tbody tr th {\n",
       "        vertical-align: top;\n",
       "    }\n",
       "\n",
       "    .dataframe thead th {\n",
       "        text-align: right;\n",
       "    }\n",
       "</style>\n",
       "<table border=\"1\" class=\"dataframe\">\n",
       "  <thead>\n",
       "    <tr style=\"text-align: right;\">\n",
       "      <th></th>\n",
       "      <th>(index, , , )</th>\n",
       "      <th>(HR, heat_demand, total, MW)</th>\n",
       "      <th>(HR, heat_demand, space, MW)</th>\n",
       "      <th>(HR, heat_demand, water, MW)</th>\n",
       "      <th>(HR, heat_demand, space_COM, MW)</th>\n",
       "      <th>(HR, heat_demand, space_MFH, MW)</th>\n",
       "      <th>(HR, heat_demand, space_SFH, MW)</th>\n",
       "      <th>index</th>\n",
       "      <th>utc_timestamp</th>\n",
       "      <th>HR_temperature</th>\n",
       "      <th>Year</th>\n",
       "      <th>Month</th>\n",
       "    </tr>\n",
       "  </thead>\n",
       "  <tbody>\n",
       "    <tr>\n",
       "      <th>0</th>\n",
       "      <td>2.0</td>\n",
       "      <td>5377.0</td>\n",
       "      <td>5235.0</td>\n",
       "      <td>142.0</td>\n",
       "      <td>808.0</td>\n",
       "      <td>1211.0</td>\n",
       "      <td>3217.0</td>\n",
       "      <td>245448</td>\n",
       "      <td>2008-01-01 00:00:00+00:00</td>\n",
       "      <td>-4.649</td>\n",
       "      <td>2008</td>\n",
       "      <td>1</td>\n",
       "    </tr>\n",
       "    <tr>\n",
       "      <th>1</th>\n",
       "      <td>3.0</td>\n",
       "      <td>5516.0</td>\n",
       "      <td>5376.0</td>\n",
       "      <td>140.0</td>\n",
       "      <td>824.0</td>\n",
       "      <td>1231.0</td>\n",
       "      <td>3321.0</td>\n",
       "      <td>245449</td>\n",
       "      <td>2008-01-01 01:00:00+00:00</td>\n",
       "      <td>-4.793</td>\n",
       "      <td>2008</td>\n",
       "      <td>1</td>\n",
       "    </tr>\n",
       "  </tbody>\n",
       "</table>\n",
       "</div>"
      ],
      "text/plain": [
       "   (index, , , )  (HR, heat_demand, total, MW)  (HR, heat_demand, space, MW)  \\\n",
       "0            2.0                        5377.0                        5235.0   \n",
       "1            3.0                        5516.0                        5376.0   \n",
       "\n",
       "   (HR, heat_demand, water, MW)  (HR, heat_demand, space_COM, MW)  \\\n",
       "0                         142.0                             808.0   \n",
       "1                         140.0                             824.0   \n",
       "\n",
       "   (HR, heat_demand, space_MFH, MW)  (HR, heat_demand, space_SFH, MW)   index  \\\n",
       "0                            1211.0                            3217.0  245448   \n",
       "1                            1231.0                            3321.0  245449   \n",
       "\n",
       "              utc_timestamp  HR_temperature  Year  Month  \n",
       "0 2008-01-01 00:00:00+00:00          -4.649  2008      1  \n",
       "1 2008-01-01 01:00:00+00:00          -4.793  2008      1  "
      ]
     },
     "execution_count": 35,
     "metadata": {},
     "output_type": "execute_result"
    }
   ],
   "source": [
    "years1.head(2)"
   ]
  },
  {
   "cell_type": "markdown",
   "id": "a46d9245",
   "metadata": {},
   "source": [
    "Minimalne potrbebe za grijanjem prostora su zabilježene pri temperaturama od oko 23- 24°C, a  maksimalne pri temperaturama nižim od -10°C."
   ]
  },
  {
   "cell_type": "code",
   "execution_count": 36,
   "id": "16d6f1f9",
   "metadata": {},
   "outputs": [
    {
     "name": "stdout",
     "output_type": "stream",
     "text": [
      "                  utc_timestamp  (HR, heat_demand, total, MW)  HR_temperature\n",
      "49078 2013-08-06 22:00:00+00:00                         106.0          24.623\n",
      "49102 2013-08-07 22:00:00+00:00                         106.0          24.571\n",
      "                  utc_timestamp  (HR, heat_demand, space, MW)  HR_temperature\n",
      "49102 2013-08-07 22:00:00+00:00                           2.0          24.571\n",
      "49103 2013-08-07 23:00:00+00:00                           2.0          23.991\n",
      "49104 2013-08-08 00:00:00+00:00                           2.0          23.456\n",
      "                  utc_timestamp  (HR, heat_demand, water, MW)  HR_temperature\n",
      "49054 2013-08-05 22:00:00+00:00                         104.0          23.781\n",
      "49078 2013-08-06 22:00:00+00:00                         104.0          24.623\n",
      "49102 2013-08-07 22:00:00+00:00                         104.0          24.571\n",
      "                  utc_timestamp  (HR, heat_demand, space_COM, MW)  \\\n",
      "3243  2008-05-15 03:00:00+00:00                               1.0   \n",
      "3267  2008-05-16 03:00:00+00:00                               1.0   \n",
      "3286  2008-05-16 22:00:00+00:00                               1.0   \n",
      "3339  2008-05-19 03:00:00+00:00                               1.0   \n",
      "3531  2008-05-27 03:00:00+00:00                               1.0   \n",
      "...                         ...                               ...   \n",
      "50043 2013-09-16 03:00:00+00:00                               1.0   \n",
      "50283 2013-09-26 03:00:00+00:00                               1.0   \n",
      "50931 2013-10-23 03:00:00+00:00                               1.0   \n",
      "50955 2013-10-24 03:00:00+00:00                               1.0   \n",
      "51076 2013-10-29 04:00:00+00:00                               1.0   \n",
      "\n",
      "       HR_temperature  \n",
      "3243           11.338  \n",
      "3267           12.340  \n",
      "3286           14.052  \n",
      "3339           12.411  \n",
      "3531           15.121  \n",
      "...               ...  \n",
      "50043          14.781  \n",
      "50283          13.304  \n",
      "50931          12.782  \n",
      "50955          13.087  \n",
      "51076          12.445  \n",
      "\n",
      "[2162 rows x 3 columns]\n",
      "                  utc_timestamp  (HR, heat_demand, space_MFH, MW)  \\\n",
      "49102 2013-08-07 22:00:00+00:00                               1.0   \n",
      "49103 2013-08-07 23:00:00+00:00                               1.0   \n",
      "49104 2013-08-08 00:00:00+00:00                               1.0   \n",
      "49105 2013-08-08 01:00:00+00:00                               1.0   \n",
      "\n",
      "       HR_temperature  \n",
      "49102          24.571  \n",
      "49103          23.991  \n",
      "49104          23.456  \n",
      "49105          22.975  \n",
      "                  utc_timestamp  (HR, heat_demand, space_SFH, MW)  \\\n",
      "22222 2010-07-14 22:00:00+00:00                               1.0   \n",
      "22223 2010-07-14 23:00:00+00:00                               1.0   \n",
      "22224 2010-07-15 00:00:00+00:00                               1.0   \n",
      "22246 2010-07-15 22:00:00+00:00                               1.0   \n",
      "22247 2010-07-15 23:00:00+00:00                               1.0   \n",
      "...                         ...                               ...   \n",
      "49125 2013-08-08 21:00:00+00:00                               1.0   \n",
      "49126 2013-08-08 22:00:00+00:00                               1.0   \n",
      "49127 2013-08-08 23:00:00+00:00                               1.0   \n",
      "49128 2013-08-09 00:00:00+00:00                               1.0   \n",
      "49129 2013-08-09 01:00:00+00:00                               1.0   \n",
      "\n",
      "       HR_temperature  \n",
      "22222          23.021  \n",
      "22223          22.754  \n",
      "22224          22.471  \n",
      "22246          24.433  \n",
      "22247          23.854  \n",
      "...               ...  \n",
      "49125          25.400  \n",
      "49126          24.926  \n",
      "49127          24.421  \n",
      "49128          23.920  \n",
      "49129          23.338  \n",
      "\n",
      "[110 rows x 3 columns]\n"
     ]
    }
   ],
   "source": [
    "for k,col in enumerate(cols):\n",
    "    print(years1[years1[col]==years1[col].min()].iloc[:,[8,k+1,9]])"
   ]
  },
  {
   "cell_type": "code",
   "execution_count": 37,
   "id": "48f6c9c9",
   "metadata": {
    "scrolled": true
   },
   "outputs": [
    {
     "name": "stdout",
     "output_type": "stream",
     "text": [
      "                  utc_timestamp  (HR, heat_demand, total, MW)  HR_temperature\n",
      "17261 2009-12-20 05:00:00+00:00                       13450.0         -11.066\n",
      "                  utc_timestamp  (HR, heat_demand, space, MW)  HR_temperature\n",
      "17261 2009-12-20 05:00:00+00:00                       12869.0         -11.066\n",
      "                  utc_timestamp  (HR, heat_demand, water, MW)  HR_temperature\n",
      "26381 2011-01-04 05:00:00+00:00                         726.0          -5.767\n",
      "26429 2011-01-06 05:00:00+00:00                         726.0          -4.038\n",
      "26549 2011-01-11 05:00:00+00:00                         726.0           2.994\n",
      "26597 2011-01-13 05:00:00+00:00                         726.0           1.051\n",
      "26717 2011-01-18 05:00:00+00:00                         726.0           1.907\n",
      "26765 2011-01-20 05:00:00+00:00                         726.0           0.271\n",
      "26885 2011-01-25 05:00:00+00:00                         726.0          -6.771\n",
      "26933 2011-01-27 05:00:00+00:00                         726.0          -0.474\n",
      "27053 2011-02-01 05:00:00+00:00                         726.0          -6.374\n",
      "27101 2011-02-03 05:00:00+00:00                         726.0          -5.650\n",
      "27221 2011-02-08 05:00:00+00:00                         726.0           1.205\n",
      "27269 2011-02-10 05:00:00+00:00                         726.0          -0.212\n",
      "27389 2011-02-15 05:00:00+00:00                         726.0          -0.799\n",
      "27437 2011-02-17 05:00:00+00:00                         726.0           1.996\n",
      "27557 2011-02-22 05:00:00+00:00                         726.0          -3.234\n",
      "27605 2011-02-24 05:00:00+00:00                         726.0          -8.031\n",
      "27725 2011-03-01 05:00:00+00:00                         726.0          -3.073\n",
      "27773 2011-03-03 05:00:00+00:00                         726.0          -2.864\n",
      "27893 2011-03-08 05:00:00+00:00                         726.0          -6.057\n",
      "27941 2011-03-10 05:00:00+00:00                         726.0          -0.725\n",
      "28061 2011-03-15 05:00:00+00:00                         726.0           6.529\n",
      "28109 2011-03-17 05:00:00+00:00                         726.0           8.574\n",
      "28229 2011-03-22 05:00:00+00:00                         726.0           1.266\n",
      "28277 2011-03-24 05:00:00+00:00                         726.0           3.801\n",
      "28396 2011-03-29 04:00:00+00:00                         726.0           5.542\n",
      "28444 2011-03-31 04:00:00+00:00                         726.0           5.363\n",
      "28564 2011-04-05 04:00:00+00:00                         726.0           7.292\n",
      "28612 2011-04-07 04:00:00+00:00                         726.0           9.064\n",
      "28732 2011-04-12 04:00:00+00:00                         726.0           8.986\n",
      "28780 2011-04-14 04:00:00+00:00                         726.0           4.094\n",
      "28900 2011-04-19 04:00:00+00:00                         726.0           4.980\n",
      "28948 2011-04-21 04:00:00+00:00                         726.0           8.894\n",
      "29116 2011-04-28 04:00:00+00:00                         726.0           8.783\n",
      "29284 2011-05-05 04:00:00+00:00                         726.0           3.582\n",
      "33100 2011-10-11 04:00:00+00:00                         726.0           8.734\n",
      "33268 2011-10-18 04:00:00+00:00                         726.0           1.688\n",
      "33316 2011-10-20 04:00:00+00:00                         726.0          10.003\n",
      "33436 2011-10-25 04:00:00+00:00                         726.0           7.530\n",
      "33605 2011-11-01 05:00:00+00:00                         726.0           4.632\n",
      "33653 2011-11-03 05:00:00+00:00                         726.0           3.851\n",
      "33773 2011-11-08 05:00:00+00:00                         726.0           7.044\n",
      "33821 2011-11-10 05:00:00+00:00                         726.0           6.292\n",
      "33941 2011-11-15 05:00:00+00:00                         726.0          -0.695\n",
      "33989 2011-11-17 05:00:00+00:00                         726.0          -0.861\n",
      "34109 2011-11-22 05:00:00+00:00                         726.0           0.024\n",
      "34157 2011-11-24 05:00:00+00:00                         726.0          -0.334\n",
      "34277 2011-11-29 05:00:00+00:00                         726.0           1.110\n",
      "34325 2011-12-01 05:00:00+00:00                         726.0           0.717\n",
      "34445 2011-12-06 05:00:00+00:00                         726.0           2.723\n",
      "34493 2011-12-08 05:00:00+00:00                         726.0           3.213\n",
      "34613 2011-12-13 05:00:00+00:00                         726.0           4.396\n",
      "34661 2011-12-15 05:00:00+00:00                         726.0           8.710\n",
      "34781 2011-12-20 05:00:00+00:00                         726.0          -2.562\n",
      "34829 2011-12-22 05:00:00+00:00                         726.0          -1.166\n",
      "34949 2011-12-27 05:00:00+00:00                         726.0          -0.109\n",
      "34997 2011-12-29 05:00:00+00:00                         726.0           0.028\n",
      "                  utc_timestamp  (HR, heat_demand, space_COM, MW)  \\\n",
      "36007 2012-02-09 07:00:00+00:00                            1571.0   \n",
      "\n",
      "       HR_temperature  \n",
      "36007         -12.469  \n",
      "                  utc_timestamp  (HR, heat_demand, space_MFH, MW)  \\\n",
      "17260 2009-12-20 04:00:00+00:00                            3117.0   \n",
      "\n",
      "       HR_temperature  \n",
      "17260         -10.904  \n",
      "                  utc_timestamp  (HR, heat_demand, space_SFH, MW)  \\\n",
      "17261 2009-12-20 05:00:00+00:00                            8493.0   \n",
      "\n",
      "       HR_temperature  \n",
      "17261         -11.066  \n"
     ]
    }
   ],
   "source": [
    "for k,col in enumerate(cols):\n",
    "   \n",
    "    print(years1[years1[col]==years1[col].max()].iloc[:,[8,k+1,9]])"
   ]
  },
  {
   "cell_type": "markdown",
   "id": "f3b87154",
   "metadata": {},
   "source": [
    "Pearsonov koeficijent korelacije kao mjera linearne veze ukazuje na negativnu zavisnost. Nizak koeficijent korelacije je u slučaju potreba za PTV jer su one manje podložne sezonskim promjenama."
   ]
  },
  {
   "cell_type": "code",
   "execution_count": 38,
   "id": "61c15a54",
   "metadata": {},
   "outputs": [
    {
     "name": "stdout",
     "output_type": "stream",
     "text": [
      "('HR', 'heat_demand', 'total', 'MW') Temperature correlation:\n",
      "-0.8258342154752158\n",
      "('HR', 'heat_demand', 'space', 'MW') Temperature correlation:\n",
      "-0.8358638272423864\n",
      "('HR', 'heat_demand', 'water', 'MW') Temperature correlation:\n",
      "-0.04568713562505972\n",
      "('HR', 'heat_demand', 'space_COM', 'MW') Temperature correlation:\n",
      "-0.8430491780555925\n",
      "('HR', 'heat_demand', 'space_MFH', 'MW') Temperature correlation:\n",
      "-0.8408678783670563\n",
      "('HR', 'heat_demand', 'space_SFH', 'MW') Temperature correlation:\n",
      "-0.8283760272030392\n"
     ]
    }
   ],
   "source": [
    "for col in cols:\n",
    "    print(col,\"Temperature correlation:\")\n",
    "    print(years1[\"HR_temperature\"].corr(years1[col]))"
   ]
  },
  {
   "cell_type": "markdown",
   "id": "bad59aec",
   "metadata": {},
   "source": [
    "Normalizirane vrijednosti trenutnih naspram ukupnih godišnjih potreba za svaku godinu u periodu 2008 - 2013 će se ponovo izračunati i spasiti u obliku MW/TWh (scaled_columns)"
   ]
  },
  {
   "cell_type": "code",
   "execution_count": 39,
   "id": "7dbbc212",
   "metadata": {},
   "outputs": [],
   "source": [
    "#scaled_factors=pd.DataFrame()\n",
    "\n",
    "scaled_columns=[\"total_heat_demand_MW/TWh\",\"space_heat_demand_MW/TWh\",\"water_heat_demand_MW/TWh\",\"space_COM_demand_MW/TWh\",\n",
    "               \"space_MFH_demand_MW/TWh\",\"space_SFH_demand_MW/TWh\"]\n",
    "\n",
    "\n",
    "years1=years1.assign(**dict([(_,None) for _ in scaled_columns]))\n",
    "years_list=[2008,2009,2010,2011,2012,2013]\n",
    "for year in years_list:\n",
    "    sum_year=years1[years1[\"Year\"]==year][cols].sum(axis=0)\n",
    "    \n",
    "    years1.loc[years1[\"Year\"]==year,scaled_columns]=(years1[years1[\"Year\"]==year][cols].div(sum_year/1000000)).astype(float).values\n",
    "   \n",
    "    years1.loc[years1[\"Year\"]==year,\"Hourofyear\"]=np.arange(len(years1[years1[\"Year\"]==year]))\n",
    "    \n",
    "years1[scaled_columns]=years1[scaled_columns].astype(float)"
   ]
  },
  {
   "cell_type": "markdown",
   "id": "b3e1973a",
   "metadata": {},
   "source": [
    "## Opcija 1: Toplotne potrebe - BiH"
   ]
  },
  {
   "cell_type": "markdown",
   "id": "03a5c94b",
   "metadata": {},
   "source": [
    "Iz Tipologije stambenih zgrada i Tipologije javnih objekata (biće navedena referenca) pronađeni su podaci o procijenjenim godišnjim potrebama za grijanjem prostora u BiH, s tim da javne zgrade ne odgovaraju svim zgradama uslužnih djelatnosti, ali je jedini poznat podatak. Također, ovdje nisu uključene toplotne potrebe za PTV, već se one odnose samo na grijanje prostora. Nadalje, potrebno je dodatno sagledati energetski bilans BiH za 2019./2020. i 2021."
   ]
  },
  {
   "cell_type": "code",
   "execution_count": 40,
   "id": "d6b5e19f",
   "metadata": {},
   "outputs": [],
   "source": [
    "BH_demand=years1.groupby(\"Hourofyear\")[scaled_columns].mean()"
   ]
  },
  {
   "cell_type": "code",
   "execution_count": 41,
   "id": "ab9ed40d",
   "metadata": {},
   "outputs": [],
   "source": [
    "# Bosnia - residential buildings #annually - source: typology of residential buildings 19593880 mwh/god #arbitrary year\n",
    "\n",
    "SFH=(16698261+369706)/1000000, \n",
    "MFH=(960738+197893+1274382+92900)/1000000\n",
    "COM=1683423/1000000"
   ]
  },
  {
   "cell_type": "code",
   "execution_count": 42,
   "id": "f68efd14",
   "metadata": {},
   "outputs": [
    {
     "data": {
      "text/plain": [
       "Index(['total_heat_demand_MW/TWh', 'space_heat_demand_MW/TWh',\n",
       "       'water_heat_demand_MW/TWh', 'space_COM_demand_MW/TWh',\n",
       "       'space_MFH_demand_MW/TWh', 'space_SFH_demand_MW/TWh'],\n",
       "      dtype='object')"
      ]
     },
     "execution_count": 42,
     "metadata": {},
     "output_type": "execute_result"
    }
   ],
   "source": [
    "BH_demand.columns"
   ]
  },
  {
   "cell_type": "markdown",
   "id": "4fbd73c8",
   "metadata": {},
   "source": [
    "Sada će se iskoristiti normalizirani podaci Hrvatske i pomnožit će se sa ukupnim godišnjim potrebama za dati tip objekata u BiH kako bi se dobile trenutne potrebe za grijanjem.Ovo je obrnut proces u odnosu na način na koji su se dobile normalizirane vrijednosti."
   ]
  },
  {
   "cell_type": "code",
   "execution_count": 43,
   "id": "0676e908",
   "metadata": {},
   "outputs": [],
   "source": [
    "space_heat_scaled=['space_COM_demand_MW/TWh',\n",
    "       'space_MFH_demand_MW/TWh', 'space_SFH_demand_MW/TWh']\n",
    "\n",
    "BH_demand[\"heat_demand, space_COM, MW\"]=BH_demand['space_COM_demand_MW/TWh']*COM\n",
    "BH_demand[\"heat_demand, space_MFH, MW\"]=BH_demand['space_MFH_demand_MW/TWh']*MFH\n",
    "BH_demand[\"heat_demand, space_SFH, MW\"]=BH_demand['space_SFH_demand_MW/TWh']*SFH\n",
    "\n",
    "BH_demand['heat_demand', 'space', 'MW']=BH_demand[\"heat_demand, space_COM, MW\"]+BH_demand[\"heat_demand, space_MFH, MW\"]+BH_demand[\"heat_demand, space_SFH, MW\"]"
   ]
  },
  {
   "cell_type": "code",
   "execution_count": 44,
   "id": "55e30e81",
   "metadata": {},
   "outputs": [
    {
     "data": {
      "text/html": [
       "<div>\n",
       "<style scoped>\n",
       "    .dataframe tbody tr th:only-of-type {\n",
       "        vertical-align: middle;\n",
       "    }\n",
       "\n",
       "    .dataframe tbody tr th {\n",
       "        vertical-align: top;\n",
       "    }\n",
       "\n",
       "    .dataframe thead th {\n",
       "        text-align: right;\n",
       "    }\n",
       "</style>\n",
       "<table border=\"1\" class=\"dataframe\">\n",
       "  <thead>\n",
       "    <tr style=\"text-align: right;\">\n",
       "      <th></th>\n",
       "      <th>total_heat_demand_MW/TWh</th>\n",
       "      <th>space_heat_demand_MW/TWh</th>\n",
       "      <th>water_heat_demand_MW/TWh</th>\n",
       "      <th>space_COM_demand_MW/TWh</th>\n",
       "      <th>space_MFH_demand_MW/TWh</th>\n",
       "      <th>space_SFH_demand_MW/TWh</th>\n",
       "      <th>heat_demand, space_COM, MW</th>\n",
       "      <th>heat_demand, space_MFH, MW</th>\n",
       "      <th>heat_demand, space_SFH, MW</th>\n",
       "      <th>(heat_demand, space, MW)</th>\n",
       "    </tr>\n",
       "    <tr>\n",
       "      <th>Hourofyear</th>\n",
       "      <th></th>\n",
       "      <th></th>\n",
       "      <th></th>\n",
       "      <th></th>\n",
       "      <th></th>\n",
       "      <th></th>\n",
       "      <th></th>\n",
       "      <th></th>\n",
       "      <th></th>\n",
       "      <th></th>\n",
       "    </tr>\n",
       "  </thead>\n",
       "  <tbody>\n",
       "    <tr>\n",
       "      <th>0.0</th>\n",
       "      <td>177.587680</td>\n",
       "      <td>195.978876</td>\n",
       "      <td>48.784742</td>\n",
       "      <td>241.659163</td>\n",
       "      <td>177.748360</td>\n",
       "      <td>194.729872</td>\n",
       "      <td>406.814593</td>\n",
       "      <td>448.976892</td>\n",
       "      <td>3323.643033</td>\n",
       "      <td>4179.434518</td>\n",
       "    </tr>\n",
       "    <tr>\n",
       "      <th>1.0</th>\n",
       "      <td>181.742356</td>\n",
       "      <td>200.976037</td>\n",
       "      <td>47.157290</td>\n",
       "      <td>245.085555</td>\n",
       "      <td>179.657618</td>\n",
       "      <td>201.355110</td>\n",
       "      <td>412.582660</td>\n",
       "      <td>453.799514</td>\n",
       "      <td>3436.722381</td>\n",
       "      <td>4303.104555</td>\n",
       "    </tr>\n",
       "  </tbody>\n",
       "</table>\n",
       "</div>"
      ],
      "text/plain": [
       "            total_heat_demand_MW/TWh  space_heat_demand_MW/TWh  \\\n",
       "Hourofyear                                                       \n",
       "0.0                       177.587680                195.978876   \n",
       "1.0                       181.742356                200.976037   \n",
       "\n",
       "            water_heat_demand_MW/TWh  space_COM_demand_MW/TWh  \\\n",
       "Hourofyear                                                      \n",
       "0.0                        48.784742               241.659163   \n",
       "1.0                        47.157290               245.085555   \n",
       "\n",
       "            space_MFH_demand_MW/TWh  space_SFH_demand_MW/TWh  \\\n",
       "Hourofyear                                                     \n",
       "0.0                      177.748360               194.729872   \n",
       "1.0                      179.657618               201.355110   \n",
       "\n",
       "            heat_demand, space_COM, MW  heat_demand, space_MFH, MW  \\\n",
       "Hourofyear                                                           \n",
       "0.0                         406.814593                  448.976892   \n",
       "1.0                         412.582660                  453.799514   \n",
       "\n",
       "            heat_demand, space_SFH, MW  (heat_demand, space, MW)  \n",
       "Hourofyear                                                        \n",
       "0.0                        3323.643033               4179.434518  \n",
       "1.0                        3436.722381               4303.104555  "
      ]
     },
     "execution_count": 44,
     "metadata": {},
     "output_type": "execute_result"
    }
   ],
   "source": [
    "BH_demand.head(2)"
   ]
  },
  {
   "cell_type": "code",
   "execution_count": 45,
   "id": "e9cfc558",
   "metadata": {},
   "outputs": [
    {
     "data": {
      "text/plain": [
       "Text(0.5, 1.0, 'Godišnje potrebe BiH - javni i stambeni objekti ')"
      ]
     },
     "execution_count": 45,
     "metadata": {},
     "output_type": "execute_result"
    },
    {
     "data": {
      "image/png": "[encoded data removed]",
      "text/plain": [
       "<Figure size 432x288 with 1 Axes>"
      ]
     },
     "metadata": {
      "needs_background": "light"
     },
     "output_type": "display_data"
    }
   ],
   "source": [
    "BH_demand['heat_demand', 'space', 'MW'].plot()\n",
    "plt.xlabel(\"Sat u godini\")\n",
    "plt.ylabel(\"MW\")\n",
    "plt.title(\"Godišnje potrebe BiH - javni i stambeni objekti \")"
   ]
  },
  {
   "cell_type": "markdown",
   "id": "607b14e9",
   "metadata": {},
   "source": [
    "## Opcija 2: Demandlib biblioteka"
   ]
  },
  {
   "cell_type": "markdown",
   "id": "7be6859e",
   "metadata": {},
   "source": [
    "Istraživanjem seta podataka when2heat, od istih autora je pronađena Python biblioteka koja radi na sličnom principu kao i proračun koji je izvršen za 16 zemalja.  Osnova su podaci o distribuciji gasa u Njemačkoj, s tim da se kao ulaz koriste još i praznici, te da li je područje vjetrovito ili ne. Zasad će se istraživanje bazirati samo na unos praznika za 2019. i toplotnih potreba po objektima za BiH koje su prethodno navedene. U budućnosti se mogu klimatski podaci preuzeti i sa websitea NASA-e, te možda djelimično od FHMZ."
   ]
  },
  {
   "cell_type": "code",
   "execution_count": 46,
   "id": "c486f48d",
   "metadata": {},
   "outputs": [],
   "source": [
    "#%pip install demandlib"
   ]
  },
  {
   "cell_type": "code",
   "execution_count": 47,
   "id": "dc8b35fd",
   "metadata": {},
   "outputs": [
    {
     "data": {
      "image/png": "[encoded data removed]",
      "text/plain": [
       "<Figure size 432x288 with 1 Axes>"
      ]
     },
     "metadata": {
      "needs_background": "light"
     },
     "output_type": "display_data"
    },
    {
     "name": "stdout",
     "output_type": "stream",
     "text": [
      "Annual consumption: \n",
      "efh    1.948479e+06\n",
      "mfh    2.883422e+05\n",
      "ghd    1.921783e+05\n",
      "dtype: float64\n",
      "                            efh        mfh        ghd\n",
      "2019-01-01 00:00:00  262.401445  36.730435  36.664618\n",
      "2019-01-01 01:00:00  268.181212  39.055146  36.125432\n",
      "2019-01-01 02:00:00  277.428840  39.520088  41.085939\n",
      "2019-01-01 03:00:00  299.391957  42.464722  49.820745\n",
      "2019-01-01 04:00:00  366.437260  52.848431  59.202574\n",
      "...                         ...        ...        ...\n",
      "2019-12-31 19:00:00  644.582183  81.545199  52.145165\n",
      "2019-12-31 20:00:00  613.948574  79.718321  48.747234\n",
      "2019-12-31 21:00:00  542.470154  72.742968  42.735511\n",
      "2019-12-31 22:00:00  382.920109  63.442497  38.945511\n",
      "2019-12-31 23:00:00  306.336087  46.668434  39.206891\n",
      "\n",
      "[8760 rows x 3 columns]\n"
     ]
    }
   ],
   "source": [
    "#KOD SA BIBLIOTEKE\n",
    "\n",
    "# -*- coding: utf-8 -*-\n",
    "\"\"\"\n",
    "Creating heat demand profiles using the bdew method.\n",
    "Installation requirements\n",
    "-------------------------\n",
    "This example requires at least version v0.1.4 of the oemof demandlib. Install\n",
    "by:\n",
    "    pip install 'demandlib>=0.1.4,<0.2'\n",
    "Optional:\n",
    "    pip install matplotlib\n",
    "SPDX-FileCopyrightText: Birgit Schachler\n",
    "SPDX-FileCopyrightText: Uwe Krien <krien@uni-bremen.de>\n",
    "SPDX-FileCopyrightText: jnnr\n",
    "SPDX-FileCopyrightText: Stephen Bosch\n",
    "SPDX-License-Identifier: MIT\n",
    "\"\"\"\n",
    "import datetime\n",
    "import os\n",
    "\n",
    "import demandlib.bdew as bdew\n",
    "\n",
    "# read example temperature series\n",
    "filename = \"example_data.csv\"\n",
    "dirname = os.getcwd()\n",
    "datapath = os.path.join(dirname, filename)\n",
    "\n",
    "if not os.path.isfile(datapath):\n",
    "    msg = (\n",
    "        \"The file {0} could not be found in the current working directory.\\n \"\n",
    "        \"This could happen due to the following reasons:\\n\"\n",
    "        \"* you forgot to download the example data from the repository\\n\"\n",
    "        \"* the filename is wrong\\n\"\n",
    "        \"* the file is not located in {1}\\n\"\n",
    "        \"Download the file from the demandlib repository and copy it to the \"\n",
    "        \"right directory.\\nAlternatively you can adapt the name of the file \"\n",
    "        \"or the name of the directory in the example script.\"\n",
    "    )\n",
    "    print(msg.format(filename, dirname))\n",
    "    exit(0)\n",
    "\n",
    "temperature = pd.read_csv(datapath)[\"temperature\"]\n",
    "\n",
    "\n",
    "# The following dictionary is create by \"workalendar\"\n",
    "# pip3 install workalendar\n",
    "# >>> from workalendar.europe import Germany\n",
    "# >>> cal = Germany()\n",
    "# >>> holidays = dict(cal.holidays(2010))\n",
    "\n",
    "\n",
    "ann_demands_per_type = {\"efh\": (16698261+369706)*1000/8760, \"mfh\": (960738+197893+1274382+92900)*1000/8760, \"ghd\": 1683423*1000/8760}\n",
    "\n",
    "holidays = {\n",
    "   \n",
    "  \n",
    "    datetime.date(2019, 1, 1): \"New year\",\n",
    "    datetime.date(2019, 1, 2): \"New year\",\n",
    "    datetime.date(2019, 1, 7): \"Christmas Day\",\n",
    "    datetime.date(2019, 12, 25): \"Christmas Day\",\n",
    "    datetime.date(2019, 4, 21): \"Easter\",\n",
    "    datetime.date(2019, 4, 28): \"Easter\",\n",
    "\n",
    "    datetime.date(2019, 5, 1): \"Labour Day\",\n",
    "    datetime.date(2019, 5, 2): \"Labour Day\",\n",
    "    datetime.date(2019, 6, 4): \"Eid\",\n",
    "    datetime.date(2019, 8, 11): \"Eid\",\n",
    "    \n",
    "    datetime.date(2019, 11, 25): \"Statehood\",\n",
    "    datetime.date(2019, 3, 1): \"Independence\",\n",
    "    \n",
    "}\n",
    "\n",
    "\n",
    "# Create DataFrame for 2019\n",
    "demand = pd.DataFrame(\n",
    "    index=pd.date_range(\n",
    "        datetime.datetime(2019, 1, 1, 0), periods=8760, freq=\"H\"\n",
    "    )\n",
    ")\n",
    "\n",
    "# Single family house (efh: Einfamilienhaus)\n",
    "demand[\"efh\"] = bdew.HeatBuilding(\n",
    "    demand.index,\n",
    "    holidays=holidays,\n",
    "    temperature=temperature,\n",
    "    shlp_type=\"EFH\",\n",
    "    building_class=1,\n",
    "    wind_class=1,\n",
    "    annual_heat_demand=ann_demands_per_type[\"efh\"],\n",
    "    name=\"EFH\",\n",
    ").get_bdew_profile()\n",
    "\n",
    "# Multi family house (mfh: Mehrfamilienhaus)\n",
    "demand[\"mfh\"] = bdew.HeatBuilding(\n",
    "    demand.index,\n",
    "    holidays=holidays,\n",
    "    temperature=temperature,\n",
    "    shlp_type=\"MFH\",\n",
    "    building_class=2,\n",
    "    wind_class=0,\n",
    "    annual_heat_demand=ann_demands_per_type[\"mfh\"],\n",
    "    name=\"MFH\",\n",
    ").get_bdew_profile()\n",
    "\n",
    "# Industry, trade, service (ghd: Gewerbe, Handel, Dienstleistung)\n",
    "demand[\"ghd\"] = bdew.HeatBuilding(\n",
    "    demand.index,\n",
    "    holidays=holidays,\n",
    "    temperature=temperature,\n",
    "    shlp_type=\"ghd\",\n",
    "    wind_class=0,\n",
    "    annual_heat_demand=ann_demands_per_type[\"ghd\"],\n",
    "    name=\"ghd\",\n",
    ").get_bdew_profile()\n",
    "\n",
    "# Plot demand of building\n",
    "ax = demand.plot()\n",
    "ax.set_xlabel(\"Date\")\n",
    "ax.set_ylabel(\"Heat demand in kW\")\n",
    "plt.show()\n",
    "\n",
    "print(\"Annual consumption: \\n{}\".format(demand.sum()))\n",
    "\n",
    "print(demand)\n",
    "\n",
    "for key in ann_demands_per_type:\n",
    "    assert np.isclose(demand[key].sum(), ann_demands_per_type[key], rtol=1e-4)"
   ]
  },
  {
   "cell_type": "markdown",
   "id": "373bf6ca",
   "metadata": {},
   "source": [
    "## Opcija 3: Predviđanje na osnovu temperature"
   ]
  },
  {
   "cell_type": "markdown",
   "id": "d20fb47f",
   "metadata": {},
   "source": [
    "Opcija 3 se odnosi na korištenje podataka o temperaturi zraka kako bi se napravio model koji na osnovu temperature zraka predviđa potrebe za toplotom. Kada bi se podaci iz Hrvatske normalizirali i posmatrali u ovisnosti od temperature, stvorio bi se referentni model. Nakon toga bi se unosom temperature zraka iz 2019, 2020, ili 2021. vršilo predviđanje potreba, s tim da je upitno koliko bi taj model bio drugačiji od Opcije 1 jer su osim temperature zraka bitne i mjere energetske efikanosti koje su se provele u međuvremenu. Nakon toga bi se ponovio postupak za dobijanje toplotnih potreba BiH. Za sada ova opcija može biti samo u domeni potencijalnog istraživanja...."
   ]
  },
  {
   "cell_type": "code",
   "execution_count": 48,
   "id": "cf25bfc7",
   "metadata": {},
   "outputs": [],
   "source": [
    "coltemp=['HR_temperature']+scaled_columns"
   ]
  },
  {
   "cell_type": "code",
   "execution_count": 49,
   "id": "4facc52b",
   "metadata": {},
   "outputs": [
    {
     "name": "stdout",
     "output_type": "stream",
     "text": [
      "['HR_temperature', 'total_heat_demand_MW/TWh', 'space_heat_demand_MW/TWh', 'water_heat_demand_MW/TWh', 'space_COM_demand_MW/TWh', 'space_MFH_demand_MW/TWh', 'space_SFH_demand_MW/TWh']\n"
     ]
    }
   ],
   "source": [
    "print(coltemp)"
   ]
  },
  {
   "cell_type": "code",
   "execution_count": 50,
   "id": "6019f589",
   "metadata": {},
   "outputs": [
    {
     "name": "stdout",
     "output_type": "stream",
     "text": [
      "44716 7892\n"
     ]
    }
   ],
   "source": [
    "train_size = int(0.85 * len(years1))\n",
    "test_size = len(years1) - train_size\n",
    "coltemp=['HR_temperature']+scaled_columns\n",
    "univariate_df = years1[coltemp].copy()\n",
    "#univariate_df.columns = ['ds', 'y']\n",
    "\n",
    "train = univariate_df.iloc[:train_size, :]\n",
    "\n",
    "x_train, y_train = pd.DataFrame(univariate_df.iloc[:train_size, 0]), pd.DataFrame(univariate_df.iloc[:train_size, 1:])\n",
    "x_valid, y_valid = pd.DataFrame(univariate_df.iloc[train_size:, 0]), pd.DataFrame(univariate_df.iloc[train_size:, 1:])\n",
    "\n",
    "print(len(train), len(x_valid))"
   ]
  },
  {
   "cell_type": "code",
   "execution_count": 51,
   "id": "0b210f3c",
   "metadata": {},
   "outputs": [],
   "source": [
    "from sklearn.multioutput import MultiOutputRegressor\n",
    "from sklearn.ensemble import AdaBoostRegressor"
   ]
  },
  {
   "cell_type": "code",
   "execution_count": 52,
   "id": "1d01d3fa",
   "metadata": {},
   "outputs": [
    {
     "name": "stdout",
     "output_type": "stream",
     "text": [
      "0.6461143110564211\n"
     ]
    }
   ],
   "source": [
    "model=MultiOutputRegressor(AdaBoostRegressor(random_state=0, n_estimators=10000)).fit(x_train,y_train)\n",
    "print(model.score(x_train,y_train))"
   ]
  },
  {
   "cell_type": "code",
   "execution_count": 53,
   "id": "0745a591",
   "metadata": {},
   "outputs": [],
   "source": [
    "y_pred=model.predict(x_valid)"
   ]
  },
  {
   "cell_type": "code",
   "execution_count": 57,
   "id": "287fde7f",
   "metadata": {},
   "outputs": [],
   "source": [
    "from sklearn.metrics import mean_absolute_error, mean_squared_error\n",
    "import math\n",
    "#%pip install xgboost"
   ]
  },
  {
   "cell_type": "code",
   "execution_count": 58,
   "id": "ca8d2bfe",
   "metadata": {},
   "outputs": [
    {
     "name": "stdout",
     "output_type": "stream",
     "text": [
      "RMSE: 50.786789495569515\n"
     ]
    }
   ],
   "source": [
    "score_mae = mean_absolute_error(y_valid, y_pred)\n",
    "score_rmse = math.sqrt(mean_squared_error(y_valid, y_pred))\n",
    "\n",
    "print('RMSE: {}'.format(score_rmse))"
   ]
  },
  {
   "cell_type": "code",
   "execution_count": 60,
   "id": "df8511a0",
   "metadata": {},
   "outputs": [
    {
     "data": {
      "text/plain": [
       "array([193.24642119, 206.13712136, 120.02435454, 223.09258599,\n",
       "       203.36675483, 214.75540975])"
      ]
     },
     "execution_count": 60,
     "metadata": {},
     "output_type": "execute_result"
    }
   ],
   "source": [
    "y_pred[5]"
   ]
  },
  {
   "cell_type": "code",
   "execution_count": null,
   "id": "4def12ee",
   "metadata": {},
   "outputs": [],
   "source": []
  }
 ],
 "metadata": {
  "kernelspec": {
   "display_name": "Python 3",
   "language": "python",
   "name": "python3"
  },
  "language_info": {
   "codemirror_mode": {
    "name": "ipython",
    "version": 3
   },
   "file_extension": ".py",
   "mimetype": "text/x-python",
   "name": "python",
   "nbconvert_exporter": "python",
   "pygments_lexer": "ipython3",
   "version": "3.8.8"
  }
 },
 "nbformat": 4,
 "nbformat_minor": 5
}
