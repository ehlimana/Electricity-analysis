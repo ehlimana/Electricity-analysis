{
 "cells": [
  {
   "cell_type": "markdown",
   "id": "b33c4838",
   "metadata": {},
   "source": [
    "## Preuzimanje podataka sa portala Sunny portal"
   ]
  },
  {
   "cell_type": "code",
   "execution_count": 1,
   "id": "8aad52da",
   "metadata": {},
   "outputs": [],
   "source": [
    "#%pip install requests\n",
    "#%pip install bs4\n",
    "#%%pip install lxml"
   ]
  },
  {
   "cell_type": "code",
   "execution_count": 6,
   "id": "ea3c63b1",
   "metadata": {},
   "outputs": [],
   "source": [
    "import pandas as pd\n",
    "import datetime as dt\n",
    "import numpy as np\n",
    "import requests\n",
    "from bs4 import BeautifulSoup\n",
    "from selenium import webdriver\n",
    "from selenium.webdriver.support.ui import WebDriverWait\n",
    "from selenium.webdriver.common.by import By\n",
    "from selenium.webdriver import ActionChains\n",
    "from selenium.webdriver.support import expected_conditions as EC\n",
    "from selenium.webdriver.common.keys import Keys\n",
    "import time\n",
    "import re\n",
    "from selenium.webdriver import ActionChains\n",
    "\n"
   ]
  },
  {
   "cell_type": "markdown",
   "id": "b91cc7a4",
   "metadata": {},
   "source": [
    "Za preuzimanje podataka sa web stranice, prvo je potrebno odrediti godine za koje će se preuzeti, te formirati rang datuma od početka pa do kraja godine u formatu M/D/YYYY jer se takav format pojavljuje u linkovima na web-stranici. Za ovo služi funkcija **define_year**."
   ]
  },
  {
   "cell_type": "code",
   "execution_count": 3,
   "id": "102cc4f7",
   "metadata": {},
   "outputs": [],
   "source": [
    "def define_year(year,number_of_days1):\n",
    "    start_date = dt.date(year, 1 , 1)\n",
    "    number_of_days = number_of_days1\n",
    "    date_list = [((start_date + dt.timedelta(days = day)).strftime(\"%#m/%#d/%Y\")) for day in range(number_of_days)]\n",
    "    #date_list2=[((start_date + dt.timedelta(days = day)).strftime(\"%Y-%m-%d\")) for day in range(number_of_days)]\n",
    "    return date_list"
   ]
  },
  {
   "cell_type": "markdown",
   "id": "5de36080",
   "metadata": {},
   "source": [
    "Podaci će se ekstraktovati na način da se link web-stranice mijenja u zavisnosti od datuma koji je postavljen u date_list_1, te će se u HTML fajlu (page source) naći tabela sa podacima proizvodnje električne energije za taj datum. Za ovo je potrebno imati link koji odgovara svakoj solarnoj elektrani pojedinačno. Za jednu solarnu elektranu su svi dijelovi linka isti izuzev datuma koji se mijenja. Prema tome, kada se napravi petlja kojom se mijenja datum i ubacuje u ostatak linka, na HTML stranici se pronalazi odgovarajuća tabela sa podacima i spašava za dalje procesiranje. Ovaj dio se odrađuje putem funkcije **extract_data** koja kao ulazne podatke prima datume u jednoj godini, te dva dijela linka izmđeu kojih će se taj datum ubaciti."
   ]
  },
  {
   "cell_type": "code",
   "execution_count": 4,
   "id": "3e3e7705",
   "metadata": {},
   "outputs": [],
   "source": [
    "def extract_data(date_list_1,link1,link2):\n",
    "    list_csvs=[None]*len(date_list_1)\n",
    "\n",
    "    for k,value in enumerate(date_list_1):\n",
    "        #link=link1+value+link2\n",
    "        link=link1+value+link2\n",
    "        \n",
    "        res = requests.get(link)\n",
    "\n",
    "#print(res.text)\n",
    "#print(res.status_code)\n",
    "\n",
    "        page = requests.get(link)\n",
    "        soup = BeautifulSoup(page.content, 'html.parser')\n",
    "    #page_title = soup.title.text\n",
    "    #print(page_title)\n",
    "\n",
    "        table1 = soup.find('table', id='ctl00_ContentPlaceHolder1_UserControlChartValues1_Table1')\n",
    "    \t#table1\n",
    "\n",
    " \n",
    "        csvContent = ''\n",
    "        for j in table1.find_all('tr'):\n",
    "            row_data = j.find_all('td')\n",
    "\n",
    "            for cell in row_data:\n",
    "                csvContent = csvContent + cell.text + ','\n",
    "            csvContent= csvContent[:-1]\n",
    "            csvContent = csvContent + '\\n'\n",
    "    \n",
    "        #print(csvContent,k)\n",
    "        list_csvs[k]=csvContent\n",
    "    return list_csvs\n",
    "    "
   ]
  },
  {
   "cell_type": "markdown",
   "id": "843b1a3c",
   "metadata": {},
   "source": [
    "Prikupljeni podaci se nalaze u tekstualnom obliku, te ih je potrebno pretvoriti u tabelarni prikaz kako bi se mogli spasiti u .xls formatu. list_csvs je lista tekstualnih podataka za jednu čitavu godinu (ima 365, odnosno 366 elemenata za jednu godinu). Ti elementi se najprije pretvaraju u tabele putem funkcije **write_to_dataframe**, a zatim se te tabele spajaju u jednu putem funkcije **concat_and_save**."
   ]
  },
  {
   "cell_type": "code",
   "execution_count": 5,
   "id": "1e60902f",
   "metadata": {},
   "outputs": [],
   "source": [
    "def write_to_dataframe(list_csvs):\n",
    "    dfs=[None]*len(list_csvs)\n",
    "    for k,value in enumerate(list_csvs):\n",
    "        with open('output.csv','w',newline='') as f:\n",
    "            f.write(list_csvs[k])\n",
    "        dfs[k]=pd.read_csv(\"output.csv\")\n",
    "    return dfs"
   ]
  },
  {
   "cell_type": "code",
   "execution_count": 6,
   "id": "5c5ee408",
   "metadata": {},
   "outputs": [],
   "source": [
    "def concat_and_save(dfs,name):\n",
    "    df_tot=pd.concat(dfs,axis=0)\n",
    "    df_tot.to_excel(name)\n",
    "    return df_tot"
   ]
  },
  {
   "cell_type": "code",
   "execution_count": 8,
   "id": "4d35eb87",
   "metadata": {},
   "outputs": [],
   "source": [
    "#enelectronic\n",
    "link_ene1=\"https://www.sunnyportal.com/Templates/PublicChartValues.aspx?ID=6e2898bd-52c5-455a-81f8-1c5c492aa03f&endTime=\"\n",
    "link_ene2=\"%2011:59:59%20PM&splang=en-US&plantTimezoneBias=60&name=\"\n",
    "#krenica i hodovo se nalaze u istom fajlu\n",
    "link_kr_hod1=\"https://www.sunnyportal.com/Templates/PublicChartValues.aspx?ID=0ada0c8e-6bcd-483b-9798-1bc3ff24b6a7&endTime=\" \n",
    "link_kr_hod2=\"%2011:59:59%20PM&splang=en-US&plantTimezoneBias=60&name=\"\n",
    "\n",
    "#definiranje godine i opsega datuma od početka do kraja\n",
    "date_list_ene2019=define_year(2019,365)\n",
    "date_list_ene2020=define_year(2020,366)\n",
    "date_list_ene2021=define_year(2021,365)\n",
    "\n",
    "\n",
    "date_list_kr_hod2019=define_year(2019,365)\n",
    "date_list_kr_hod2020=define_year(2020,366)\n",
    "date_list_kr_hod2021=define_year(2021,365)\n",
    "\n",
    "#izvlačenje podataka  - Enelectronic 2019\n",
    "list_csvs_ene2019=extract_data(date_list_ene2019,link_ene1,link_ene2)\n"
   ]
  },
  {
   "cell_type": "markdown",
   "id": "f09b59d0",
   "metadata": {},
   "source": [
    "Način pohrane podataka za Enelectronic je takav da spašava podatke za 48 sati umjesto za 24, te će se radi izbjegavanja dupliciranja datuma preuzeti svaki drugi element liste list_csvs_ene i spasiti u **listu new_list_ene**. To znači da će podaci biti spašeni kao 1.1.2019, 2.1.2019.,3.1.2019 umjesto 1.1.2019,1.1.2019.,2.1.2019.,2.1.2019.  Za FNE Krenica1 i Hodovo1 podaci su spašeni u opsegu za 24 sata, te za njih ovaj korak nije potreban."
   ]
  },
  {
   "cell_type": "code",
   "execution_count": 11,
   "id": "631a18d3",
   "metadata": {},
   "outputs": [],
   "source": [
    "\n",
    "new_list_ene_2019=[]\n",
    "\n",
    "for value in range(0,len(list_csvs_ene2019),2):\n",
    "    new_list_ene_2019.append(list_csvs_ene2019[value])"
   ]
  },
  {
   "cell_type": "code",
   "execution_count": 12,
   "id": "59e150ed",
   "metadata": {},
   "outputs": [],
   "source": [
    "#kreiranje tabelarnog prikaza i spašavanje u .xlsx formatu\n",
    "\n",
    "df_ene_2019=write_to_dataframe(new_list_ene_2019)\n",
    "df_ene_2019_tot=concat_and_save(df_ene_2019,\"enelectronic_2019.xlsx\")"
   ]
  },
  {
   "cell_type": "code",
   "execution_count": 14,
   "id": "303e62d4",
   "metadata": {},
   "outputs": [],
   "source": [
    "#ponavljanje postupka za 2020. i 2021.godinu\n",
    "list_csvs_ene2020=extract_data(date_list_ene2020,link_ene1,link_ene2)\n",
    "list_csvs_ene2021=extract_data(date_list_ene2021,link_ene1,link_ene2)"
   ]
  },
  {
   "cell_type": "code",
   "execution_count": 21,
   "id": "490710fc",
   "metadata": {},
   "outputs": [],
   "source": [
    "#izvlačenje podataka  - krenica, hodovo za sve 3 godine\n",
    "list_csvs_kr_hod_2019=extract_data(date_list_kr_hod2019,link_kr_hod1,link_kr_hod2)"
   ]
  },
  {
   "cell_type": "code",
   "execution_count": 25,
   "id": "df033405",
   "metadata": {},
   "outputs": [],
   "source": [
    "list_csvs_kr_hod_2020=extract_data(date_list_kr_hod2020,link_kr_hod1,link_kr_hod2)"
   ]
  },
  {
   "cell_type": "code",
   "execution_count": 23,
   "id": "1ea994ab",
   "metadata": {},
   "outputs": [],
   "source": [
    "list_csvs_kr_hod_2021=extract_data(date_list_kr_hod2021,link_kr_hod1,link_kr_hod2)"
   ]
  },
  {
   "cell_type": "code",
   "execution_count": 19,
   "id": "af6d5ded",
   "metadata": {},
   "outputs": [],
   "source": [
    "#ponavljanje postupka za 2020.2021 godinu - Enelectronic - preuredit će se u funckiju\n",
    "\n",
    "new_list_ene_2020=[]\n",
    "new_list_ene_2021=[]\n",
    "for value in range(0,len(list_csvs_ene2020),2):\n",
    "    new_list_ene_2020.append(list_csvs_ene2020[value])\n",
    "    \n",
    "for value in range(0,len(list_csvs_ene2021),2):\n",
    "    new_list_ene_2021.append(list_csvs_ene2021[value])"
   ]
  },
  {
   "cell_type": "code",
   "execution_count": 20,
   "id": "50d8cea6",
   "metadata": {},
   "outputs": [],
   "source": [
    "df_ene_2020=write_to_dataframe(new_list_ene_2020)\n",
    "df_ene_2020_tot=concat_and_save(df_ene_2020,\"enelectronic_2020.xlsx\")\n",
    "\n",
    "df_ene_2021=write_to_dataframe(new_list_ene_2021)\n",
    "df_ene_2021_tot=concat_and_save(df_ene_2021,\"enelectronic_2021.xlsx\")\n",
    "\n"
   ]
  },
  {
   "cell_type": "code",
   "execution_count": 22,
   "id": "aad22448",
   "metadata": {},
   "outputs": [],
   "source": [
    "df_kr_hod_2019=write_to_dataframe(list_csvs_kr_hod_2019)\n",
    "df_kr_hod_2019_tot=concat_and_save(df_kr_hod_2019,\"kr_hod_2019.xlsx\")"
   ]
  },
  {
   "cell_type": "code",
   "execution_count": 26,
   "id": "66b9afe2",
   "metadata": {},
   "outputs": [],
   "source": [
    "df_kr_hod_2020=write_to_dataframe(list_csvs_kr_hod_2020)\n",
    "df_kr_hod_2020_tot=concat_and_save(df_kr_hod_2020,\"kr_hod_2020.xlsx\")"
   ]
  },
  {
   "cell_type": "code",
   "execution_count": 24,
   "id": "88ba7ad1",
   "metadata": {},
   "outputs": [],
   "source": [
    "df_kr_hod_2021=write_to_dataframe(list_csvs_kr_hod_2021)\n",
    "df_kr_hod_2021_tot=concat_and_save(df_kr_hod_2021,\"kr_hod_2021.xlsx\")"
   ]
  },
  {
   "cell_type": "markdown",
   "id": "0e754ee6",
   "metadata": {},
   "source": [
    "Format HTML stranice za SE Energy 1 i SE \"Čule -promet\" je nešto drugačiji u odnosu na prethodne, te je potrebno modifikovati kod za dobijanje podataka  i koristi se  paket Selenium i Chrome web driver  sa lokacijom pohrane koji se mora downloadovati i instalirati. Stranica u jednom trenutku može postati previše spora za učitavanje iako su postavljene opcije čekanja. U tom slučaju je potrebno pogledati zadnji spašeni podatak df[-1], te pokrenuti novu iteraciju od tog datuma."
   ]
  },
  {
   "cell_type": "code",
   "execution_count": 7,
   "id": "c1e2491a",
   "metadata": {},
   "outputs": [],
   "source": [
    "def define_year(year,number_of_days1):\n",
    "    start_date = dt.date(year, 11 , 2)\n",
    "    number_of_days = number_of_days1\n",
    "    date_list = [((start_date + dt.timedelta(days = day)).strftime(\"%#m/%#d/%Y\")) for day in range(number_of_days)]\n",
    "    #date_list2=[((start_date + dt.timedelta(days = day)).strftime(\"%Y-%m-%d\")) for day in range(number_of_days)]\n",
    "    return date_list"
   ]
  },
  {
   "cell_type": "code",
   "execution_count": 8,
   "id": "6f34e91a",
   "metadata": {},
   "outputs": [],
   "source": [
    "date_list1=define_year(2019,100)"
   ]
  },
  {
   "cell_type": "code",
   "execution_count": 9,
   "id": "6edeb653",
   "metadata": {},
   "outputs": [],
   "source": [
    "cule_promet=\"https://www.sunnyportal.com/Templates/PublicPageOverview.aspx?page=7b8e7dd9-4d7a-4539-9501-f2f36df09d61&plant=0b181aa3-03c7-446c-af6d-3ed6457a5394&splang=en-US\"\n",
    "\n",
    "se=\"https://www.sunnyportal.com/Templates/PublicPageOverview.aspx?page=84cbfaec-29e6-4ec4-adf9-73ae81533e47&plant=c5f9ed02-1f74-43e2-bf16-b8748c97cf10&splang=en-US\""
   ]
  },
  {
   "cell_type": "code",
   "execution_count": null,
   "id": "4c4d4b67",
   "metadata": {},
   "outputs": [],
   "source": [
    "#cule,se\n",
    "# Path do google chrom webdriver\n",
    "\n",
    "PATH = \"C:\\\\Users\\\\EhlimanaJugo\\\\Desktop\\\\chromedriver.exe\"\n",
    "driver = webdriver.Chrome(PATH)\n",
    "\n",
    "window_before = driver.window_handles[0]\n",
    "# url stranice koju hocemo scrape-ati\n",
    "URL_FOR_SCRAPING = se\n",
    "\n",
    "driver.get(URL_FOR_SCRAPING)\n",
    "#prihvatanje cookiesa\n",
    "time.sleep(4)\n",
    "cookies=driver.find_element_by_xpath('//*[@id=\"onetrust-accept-btn-handler\"]')\n",
    "if cookies:\n",
    "    cookies.click()\n",
    "#ako treba kliknuti na tab day:\n",
    "#WebDriverWait(driver,4).until(EC.element_to_be_clickable((By.ID,'ctl00_ContentPlaceHolder1_PublicPagePlaceholder_PageUserControl_ctl00_PublicPageLoadFixPage_UserControlShowEnergyAndPower1_LinkButton_TabFront3')))\n",
    "\n",
    "# nextq=driver.find_element_by_id('ctl00_ContentPlaceHolder1_PublicPagePlaceholder_PageUserControl_ctl00_PublicPageLoadFixPage_UserControlShowEnergyAndPower1_LinkButton_TabFront3').click()\n",
    "time.sleep(10)\n",
    "next1 = driver.find_element_by_class_name(\"basicdatepicker\")\n",
    "driver.execute_script('document.getElementsByClassName(\"inputText centered cursorPointer\")[0].removeAttribute(\"readonly\")')\n",
    "dfs=[None]*len(date_list1)\n",
    "list_csvs=[None]*len(date_list1)\n",
    "\n",
    "for k, value in enumerate(date_list1):\n",
    "    driver.implicitly_wait(4)\n",
    "    #lociranje kalendara i isključenje read only\n",
    "    _ = WebDriverWait(driver, 60).until(EC.presence_of_all_elements_located((By.XPATH, '//*[@id=\"ctl00_ContentPlaceHolder1_PublicPagePlaceholder_PageUserControl_ctl00_PublicPageLoadFixPage_UserControlShowEnergyAndPower1__datePicker_textBox\"]')))\n",
    "    driver.execute_script('document.getElementsByClassName(\"inputText centered cursorPointer\")[0].removeAttribute(\"readonly\")')\n",
    "    _ = WebDriverWait(driver, 60).until(EC.presence_of_all_elements_located((By.XPATH, '//*[@id=\"ctl00_ContentPlaceHolder1_PublicPagePlaceholder_PageUserControl_ctl00_PublicPageLoadFixPage_UserControlShowEnergyAndPower1__datePicker_textBox\"]')))\n",
    "    next4x=driver.find_element_by_xpath('//*[@id=\"ctl00_ContentPlaceHolder1_PublicPagePlaceholder_PageUserControl_ctl00_PublicPageLoadFixPage_UserControlShowEnergyAndPower1__datePicker_textBox\"]')\n",
    "    next4=driver.find_element_by_xpath('//*[@id=\"ctl00_ContentPlaceHolder1_PublicPagePlaceholder_PageUserControl_ctl00_PublicPageLoadFixPage_UserControlShowEnergyAndPower1__datePicker_textBox\"]').send_keys(Keys.SHIFT, Keys.ARROW_UP) \n",
    "    next4=driver.find_element_by_xpath('//*[@id=\"ctl00_ContentPlaceHolder1_PublicPagePlaceholder_PageUserControl_ctl00_PublicPageLoadFixPage_UserControlShowEnergyAndPower1__datePicker_textBox\"]').send_keys(Keys.DELETE)\n",
    "    ActionChains(driver).click(next4).perform() \n",
    "    #zadavanje vrijednosti kalendaru\n",
    "    vvx=WebDriverWait(driver,60).until(EC.presence_of_all_elements_located((By.XPATH,'//*[@id=\"ctl00_ContentPlaceHolder1_PublicPagePlaceholder_PageUserControl_ctl00_PublicPageLoadFixPage_UserControlShowEnergyAndPower1__datePicker_textBox\"]')))\n",
    "    vvx=WebDriverWait(driver,60).until(EC.element_to_be_clickable((By.XPATH,'//*[@id=\"ctl00_ContentPlaceHolder1_PublicPagePlaceholder_PageUserControl_ctl00_PublicPageLoadFixPage_UserControlShowEnergyAndPower1__datePicker_textBox\"]')))\n",
    "    next5=driver.find_element_by_xpath('//*[@id=\"ctl00_ContentPlaceHolder1_PublicPagePlaceholder_PageUserControl_ctl00_PublicPageLoadFixPage_UserControlShowEnergyAndPower1__datePicker_textBox\"]').send_keys(value)\n",
    "    time.sleep(5)\n",
    "    #lociranje buttona\n",
    "    WebDriverWait(driver,60).until(EC.presence_of_all_elements_located((By.XPATH,'//*[@id=\"ctl00_ContentPlaceHolder1_PublicPagePlaceholder_PageUserControl_ctl00_PublicPageLoadFixPage_UserControlShowEnergyAndPower1__datePicker_textBox\"]')))\n",
    "    time.sleep(5)\n",
    "    WebDriverWait(driver,60).until(EC.element_to_be_clickable((By.XPATH,'//*[@id=\"ctl00_ContentPlaceHolder1_PublicPagePlaceholder_PageUserControl_ctl00_PublicPageLoadFixPage_UserControlShowEnergyAndPower1__datePicker_textBox\"]')))\n",
    "    ActionChains(driver).click(next5).perform() \n",
    "    time.sleep(4)\n",
    "    vvn1 = WebDriverWait(driver, 60).until(EC.presence_of_all_elements_located((By.ID, \"ctl00_ContentPlaceHolder1_PublicPagePlaceholder_PageUserControl_ctl00_PublicPageLoadFixPage_UserControlShowEnergyAndPower1_OpenButtonsDivImg\")))\n",
    "    vvn1 = WebDriverWait(driver, 60).until(EC.element_to_be_clickable((By.ID, \"ctl00_ContentPlaceHolder1_PublicPagePlaceholder_PageUserControl_ctl00_PublicPageLoadFixPage_UserControlShowEnergyAndPower1_OpenButtonsDivImg\")))\n",
    "    element_to_hover_over = driver.find_element_by_id(\"ctl00_ContentPlaceHolder1_PublicPagePlaceholder_PageUserControl_ctl00_PublicPageLoadFixPage_UserControlShowEnergyAndPower1_OpenButtonsDivImg\")\n",
    "    hover = ActionChains(driver).move_to_element(element_to_hover_over)\n",
    "    hover.perform()\n",
    "    \n",
    "    vv = WebDriverWait(driver, 60).until(EC.presence_of_all_elements_located((By.ID, \"ctl00_ContentPlaceHolder1_PublicPagePlaceholder_PageUserControl_ctl00_PublicPageLoadFixPage_UserControlShowEnergyAndPower1_ImageButtonValues\")))\n",
    "    #klik na button \"details\"\n",
    "    vv=WebDriverWait(driver,60).until(EC.element_to_be_clickable((By.ID,\"ctl00_ContentPlaceHolder1_PublicPagePlaceholder_PageUserControl_ctl00_PublicPageLoadFixPage_UserControlShowEnergyAndPower1_ImageButtonValues\")))\n",
    "    element = driver.find_element_by_id(\"ctl00_ContentPlaceHolder1_PublicPagePlaceholder_PageUserControl_ctl00_PublicPageLoadFixPage_UserControlShowEnergyAndPower1_ImageButtonValues\")\n",
    "    driver.execute_script(\"arguments[0].click();\", element)\n",
    " \n",
    "    \n",
    "    #pređi na pop-up window\n",
    "    window_after = driver.window_handles[1]\n",
    "    driver.switch_to.window(window_after)\n",
    "    #lociranje tabele\n",
    "    WebDriverWait(driver,60).until(EC.presence_of_all_elements_located((By.ID,\"ctl00_ContentPlaceHolder1_UserControlChartValues1_Table1\")))\n",
    "    table1= driver.find_element(By.ID, \"ctl00_ContentPlaceHolder1_UserControlChartValues1_Table1\")\n",
    "    html = table1.get_attribute('innerHTML')\n",
    "    soup = BeautifulSoup(html)\n",
    "\n",
    "    \n",
    "    \n",
    "    dfs[k]=pd.read_html(driver.find_element(By.TAG_NAME, 'table').get_attribute('outerHTML'))[0]\n",
    "    dfs[k]=dfs[k].assign(Date=date_list1[k])\n",
    "\n",
    "  \n",
    "    time.sleep(3)\n",
    "    \n",
    "    driver.switch_to.window(driver.window_handles[0])"
   ]
  },
  {
   "cell_type": "code",
   "execution_count": null,
   "id": "c02909d3",
   "metadata": {},
   "outputs": [],
   "source": [
    "dfs[-1]"
   ]
  },
  {
   "cell_type": "code",
   "execution_count": null,
   "id": "0dce30c5",
   "metadata": {},
   "outputs": [],
   "source": [
    "df_tot=pd.concat(dfs,axis=0)\n",
    "df_tot.to_excel(\"SE_2019_0211_291_2020.xlsx\")"
   ]
  }
 ],
 "metadata": {
  "kernelspec": {
   "display_name": "Python 3 (ipykernel)",
   "language": "python",
   "name": "python3"
  },
  "language_info": {
   "codemirror_mode": {
    "name": "ipython",
    "version": 3
   },
   "file_extension": ".py",
   "mimetype": "text/x-python",
   "name": "python",
   "nbconvert_exporter": "python",
   "pygments_lexer": "ipython3",
   "version": "3.9.7"
  }
 },
 "nbformat": 4,
 "nbformat_minor": 5
}
