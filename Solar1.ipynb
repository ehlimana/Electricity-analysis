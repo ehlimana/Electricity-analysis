{
 "cells": [
  {
   "cell_type": "markdown",
   "id": "8e73da34",
   "metadata": {},
   "source": [
    "# Satna proizvodnja električne energije iz solarnih elektrana"
   ]
  },
  {
   "cell_type": "markdown",
   "id": "784567f2",
   "metadata": {},
   "source": [
    "Za analizu satne proizvodnje električne energije iz solarnih elektrana korišteni su podaci dostupni na linku https://www.sunnyportal.com/Templates/PublicPagesPlantList.aspx sa filterima za BiH i snagu od 150 kWp. Sa navedenog portala se moggu preuzeti satni podaci za sve elektrane koje su u bazi, ali je preuzimanje za neke elektrane izuzetno dugotrajan zadatak. Iz tog razloga su preuzeti satni podaci za 2019., 2020. i 2021. za FNE Krenica 1 (Grude) i FNE Hodovo 1 (Stolac) i za FNE Enelectronic (Čitluk). Ove FNE imaju opciju \"Plant overview\" kojim se olakšava preuzimanje fajlova na satnoj osnovi, te su one odabrane za cjelokupnu analizu. Ukupna godišnja proizvodnja će se skalirati prema zbiru proizvodnje ovih elektrana. Rezolucija podataka je svakih 15 minuta za Krenicu1 i Hodovo1, odnosno 1 sat za Enelectronic, te će se izvršiti uzorkovanje na satnu rezoluciju. Tehnički podaci o FNE su dati na slikama:\n"
   ]
  },
  {
   "cell_type": "code",
   "execution_count": null,
   "id": "a3ef631c",
   "metadata": {},
   "outputs": [],
   "source": [
    "import pandas as pd\n",
    "import numpy as np\n",
    "import datetime as dt"
   ]
  },
  {
   "cell_type": "markdown",
   "id": "20112c54",
   "metadata": {},
   "source": [
    "## Priprema fajlova"
   ]
  },
  {
   "cell_type": "code",
   "execution_count": null,
   "id": "fc06e3a3",
   "metadata": {},
   "outputs": [],
   "source": [
    "def open_the_file(filename,sheets):\n",
    "    filex=pd.read_excel(filename,sheets,header=0)\n",
    "    return filex #otvaranje"
   ]
  },
  {
   "cell_type": "code",
   "execution_count": null,
   "id": "9c5f151c",
   "metadata": {},
   "outputs": [],
   "source": [
    "def drop_empty_rows(filex):\n",
    "    filex.drop(filex[filex[0]=='Diagram values'].index,inplace=True)\n",
    "    filex.dropna(subset=[0],inplace=True)\n",
    "    return filex #brisanje praznih redova"
   ]
  },
  {
   "cell_type": "code",
   "execution_count": null,
   "id": "45d06bfc",
   "metadata": {},
   "outputs": [],
   "source": [
    "#dodavanje vremenskog otiska\n",
    "def assign_timestamp(filex,start,end,freq):\n",
    "    filex=filex.assign(Timestamp=pd.date_range(start,end, freq=freq).values)\n",
    "    return filex\n"
   ]
  },
  {
   "cell_type": "code",
   "execution_count": null,
   "id": "ea011042",
   "metadata": {},
   "outputs": [],
   "source": [
    "def set_index(filex):\n",
    "    filex=filex.set_index(filex['Timestamp'].astype('datetime64[ns]'))\n",
    "    return filex\n",
    "#index"
   ]
  },
  {
   "cell_type": "code",
   "execution_count": null,
   "id": "6244185f",
   "metadata": {},
   "outputs": [],
   "source": [
    "from datetime import datetime\n",
    "def assign_date(filex):\n",
    "    filex=filex.assign(Date=filex.index.to_pydatetime())\n",
    "    return filex\n",
    "\n",
    "#dodjela datuma"
   ]
  },
  {
   "cell_type": "code",
   "execution_count": null,
   "id": "1e9b366c",
   "metadata": {},
   "outputs": [],
   "source": [
    "file1,file3=open_the_file(\"enelectronic_2019.xlsx\",0),open_the_file(\"kr_hod_2019.xlsx\",0)\n",
    "file1_2020,file3_2020=open_the_file(\"enelectronic_2020.xlsx\",0),open_the_file(\"kr_hod_2020.xlsx\",0)\n",
    "file1_2021,file3_2021=open_the_file(\"enelectronic_2021.xlsx\",0),open_the_file(\"kr_hod_2021.xlsx\",0)"
   ]
  },
  {
   "cell_type": "code",
   "execution_count": null,
   "id": "11ca18ea",
   "metadata": {},
   "outputs": [],
   "source": [
    "file1 = file1.drop(index=range(23))\n",
    "file1=file1.assign(Timestamp=pd.date_range(\"2019-01-01 00:00:00\",\"2020-01-01\", freq=\"1H\").values)\n",
    "file3=file3.assign(Timestamp=pd.date_range(\"2019-01-01 00:15:00\",\"2020-01-01\",freq= \"15T\").values)\n",
    "\n",
    "file1_2020 = file1_2020.drop(index=range(23))\n",
    "file1_2020=file1_2020.assign(Timestamp=pd.date_range(\"2020-01-01 00:00:00\",\"2020-12-31\", freq=\"1H\").values)\n",
    "file3_2020=file3_2020.assign(Timestamp=pd.date_range(\"2020-01-01 00:15:00\",\"2021-01-01\",freq= \"15T\").values)\n",
    "\n",
    "\n",
    "file1_2021 = file1_2021.drop(index=range(23))\n",
    "file1_2021=file1_2021.assign(Timestamp=pd.date_range(\"2021-01-01 00:00:00\",\"2022-01-01\", freq=\"1H\").values)\n",
    "file3_2021=file3_2021.assign(Timestamp=pd.date_range(\"2021-01-01 00:15:00\",\"2022-01-01\",freq= \"15T\").values)"
   ]
  },
  {
   "cell_type": "code",
   "execution_count": null,
   "id": "a6de7921",
   "metadata": {},
   "outputs": [],
   "source": [
    "new_columns_kr=['Unnamed: 0','Krenica1PowerMean values  [kW]','Hodovo1PowerMean values  [kW]']\n",
    "new_columns_ene=['Unnamed: 0',\"Enelectronic - Power, kW\",\"Enelectronic - Total yield, kW\"]\n",
    "\n",
    "\n",
    "file1,file3=set_index(file1),set_index(file3)\n",
    "file2,file4=file1.resample('1H').sum(),file3.resample('1H').sum()\n",
    "\n",
    "\n",
    "\n",
    "file2.columns=new_columns_ene\n",
    "file4.columns=new_columns_kr\n",
    "file2,file4=assign_date(file2),assign_date(file4)\n",
    "#file4.columns=[\"Hour\",\"Enelectronic - Power, W\",\"Enelectronic - Total yield, W\",\"Timestamp\",\"Date\"]\n",
    "\n",
    "\n",
    "\n",
    "\n",
    "file1_2020,file3_2020=set_index(file1_2020),set_index(file3_2020)\n",
    "file2_2020,file4_2020=file1_2020.resample('1H').sum(),file3_2020.resample('1H').sum()\n",
    "\n",
    "file2_2020.columns=new_columns_ene\n",
    "file4_2020.columns=new_columns_kr\n",
    "file2_2020,file4_2020=assign_date(file2_2020),assign_date(file4_2020)\n",
    "#file4.columns=[\"Hour\",\"Enelectronic - Power, W\",\"Enelectronic - Total yield, W\",\"Timestamp\",\"Date\"]\n",
    "\n",
    "\n",
    "file1_2021,file3_2021=set_index(file1_2021),set_index(file3_2021)\n",
    "file2_2021,file4_2021=file1_2021.resample('1H').sum(),file3_2021.resample('1H').sum()\n",
    "\n",
    "file2_2021.columns=new_columns_ene\n",
    "file4_2021.columns=new_columns_kr\n",
    "file2_2021,file4_2021=assign_date(file2_2021),assign_date(file4_2021)\n",
    "#file4.columns=[\"Hour\",\"Enelectronic - Power, W\",\"Enelectronic - Total yield, W\",\"Timestamp\",\"Date\"]"
   ]
  },
  {
   "cell_type": "markdown",
   "id": "8031717e",
   "metadata": {},
   "source": [
    "Grafički prikaz će uključivati i analizu po mjesecima, te će se ta kolona uključiti u dataset."
   ]
  },
  {
   "cell_type": "code",
   "execution_count": null,
   "id": "4a82fcd8",
   "metadata": {},
   "outputs": [],
   "source": [
    "\n",
    "file2=file2.assign(Month=file2[\"Date\"].dt.month)\n",
    "file4=file4.assign(Month=file4[\"Date\"].dt.month)\n",
    "\n",
    "\n",
    "file2_2020=file2_2020.assign(Month=file2_2020[\"Date\"].dt.month)\n",
    "file4_2020=file4_2020.assign(Month=file4_2020[\"Date\"].dt.month)\n",
    "\n",
    "\n",
    "file2_2021=file2_2021.assign(Month=file2_2021[\"Date\"].dt.month)\n",
    "file4_2021=file4_2021.assign(Month=file4_2021[\"Date\"].dt.month)"
   ]
  },
  {
   "cell_type": "code",
   "execution_count": null,
   "id": "8ee4b9e3",
   "metadata": {},
   "outputs": [],
   "source": [
    "file2.head(2)"
   ]
  },
  {
   "cell_type": "code",
   "execution_count": null,
   "id": "3ae054f0",
   "metadata": {},
   "outputs": [],
   "source": [
    "file4.head(2)"
   ]
  },
  {
   "cell_type": "code",
   "execution_count": null,
   "id": "bf65f926",
   "metadata": {},
   "outputs": [],
   "source": [
    "file_total=pd.merge(file2,file4,how='inner', left_on=['Date',\"Month\"], right_on=['Date',\"Month\"])\n",
    "file_total_2020=pd.merge(file2_2020,file4_2020,how='inner', left_on=['Date',\"Month\"], right_on=['Date',\"Month\"])\n",
    "file_total_2021=pd.merge(file2_2021,file4_2021,how='inner', left_on=['Date',\"Month\"], right_on=['Date',\"Month\"])"
   ]
  },
  {
   "cell_type": "code",
   "execution_count": null,
   "id": "5011a0e2",
   "metadata": {},
   "outputs": [],
   "source": [
    "file_total.head(2)"
   ]
  },
  {
   "cell_type": "code",
   "execution_count": null,
   "id": "894477c1",
   "metadata": {},
   "outputs": [],
   "source": [
    "file_total.groupby(\"Month\")[['Krenica1PowerMean values  [kW]','Hodovo1PowerMean values  [kW]','Enelectronic - Power, kW']].sum().plot(kind=\"bar\")"
   ]
  },
  {
   "cell_type": "code",
   "execution_count": null,
   "id": "044eb307",
   "metadata": {},
   "outputs": [],
   "source": [
    "file_total_2020.groupby(\"Month\")[['Krenica1PowerMean values  [kW]','Hodovo1PowerMean values  [kW]','Enelectronic - Power, kW']].sum().plot(kind=\"bar\")"
   ]
  },
  {
   "cell_type": "code",
   "execution_count": null,
   "id": "949846e1",
   "metadata": {},
   "outputs": [],
   "source": [
    "file_total_2021.groupby(\"Month\")[['Krenica1PowerMean values  [kW]','Hodovo1PowerMean values  [kW]','Enelectronic - Power, kW']].sum().plot(kind=\"bar\")"
   ]
  },
  {
   "cell_type": "code",
   "execution_count": null,
   "id": "d88bd8d4",
   "metadata": {},
   "outputs": [],
   "source": [
    "(file_total[\"Krenica1PowerMean values  [kW]\"].sum(axis=0)+file_total[\"Hodovo1PowerMean values  [kW]\"].sum()+file_total[\"Enelectronic - Power, kW\"].sum())/1000000"
   ]
  },
  {
   "cell_type": "code",
   "execution_count": null,
   "id": "b9e5290d",
   "metadata": {},
   "outputs": [],
   "source": [
    "(file_total_2020[\"Krenica1PowerMean values  [kW]\"].sum(axis=0)+file_total_2020[\"Hodovo1PowerMean values  [kW]\"].sum()+file_total_2020[\"Enelectronic - Power, kW\"].sum())/1000000"
   ]
  },
  {
   "cell_type": "code",
   "execution_count": null,
   "id": "398587da",
   "metadata": {},
   "outputs": [],
   "source": [
    "(file_total_2021[\"Krenica1PowerMean values  [kW]\"].sum(axis=0)+file_total_2021[\"Hodovo1PowerMean values  [kW]\"].sum()+file_total_2021[\"Enelectronic - Power, kW\"].sum())/1000000"
   ]
  },
  {
   "cell_type": "code",
   "execution_count": null,
   "id": "28ed6293",
   "metadata": {},
   "outputs": [],
   "source": [
    "%pip install selenium"
   ]
  },
  {
   "cell_type": "code",
   "execution_count": null,
   "id": "6bfccefa",
   "metadata": {},
   "outputs": [],
   "source": [
    "# import re for reges\n",
    "import re\n",
    "\n",
    "import time\n",
    "from bs4 import BeautifulSoup\n",
    "\n",
    "# Import webdriver to initialise a browser\n",
    "from selenium import webdriver\n",
    "from selenium.webdriver import ActionChains"
   ]
  },
  {
   "cell_type": "code",
   "execution_count": null,
   "id": "42b08ff8",
   "metadata": {},
   "outputs": [],
   "source": [
    "# website that we want to scrap\n",
    "url = \"https://www.sunnyportal.com/Templates/PublicPageOverview.aspx?page=7b8e7dd9-4d7a-4539-9501-f2f36df09d61&plant=0b181aa3-03c7-446c-af6d-3ed6457a5394&splang=en-GB\"\n",
    "\n",
    "# Initialize webdriver and put the path where download the driver\n",
    "driver = webdriver.Chrome('path_to_folder/chromedriver')\n",
    "\n",
    "# Launch Chrome and pass the url\n",
    "driver.get(url)"
   ]
  },
  {
   "cell_type": "code",
   "execution_count": null,
   "id": "71c5c38f",
   "metadata": {},
   "outputs": [],
   "source": []
  }
 ],
 "metadata": {
  "kernelspec": {
   "display_name": "Python 3",
   "language": "python",
   "name": "python3"
  },
  "language_info": {
   "codemirror_mode": {
    "name": "ipython",
    "version": 3
   },
   "file_extension": ".py",
   "mimetype": "text/x-python",
   "name": "python",
   "nbconvert_exporter": "python",
   "pygments_lexer": "ipython3",
   "version": "3.8.8"
  }
 },
 "nbformat": 4,
 "nbformat_minor": 5
}
