{
 "cells": [
  {
   "cell_type": "code",
   "execution_count": 163,
   "id": "39949ff2",
   "metadata": {},
   "outputs": [],
   "source": [
    "import pandas as pd\n",
    "import numpy as np"
   ]
  },
  {
   "cell_type": "markdown",
   "id": "f4819a9f",
   "metadata": {},
   "source": [
    "# Electricity"
   ]
  },
  {
   "cell_type": "code",
   "execution_count": 191,
   "id": "6ab987f5",
   "metadata": {},
   "outputs": [],
   "source": [
    "d_e_nonscaled=pd.read_csv(r\"EnergyPLAN files\\Electricity\\Hourly\\el_demandBH_2020.txt\",header=None,delimiter='\\t',decimal=',')\n",
    "d_eh_nonscaled=pd.read_csv(r\"EnergyPLAN files\\Heat\\Hourly\\demand_2020.txt\",header=None,delimiter='\\t',decimal=',')\n",
    "d_ec_nonscaled=pd.read_csv(r\"EnergyPLAN files\\Heat\\Hourly\\CDD_BH_2020.txt\",header=None,delimiter='\\t',decimal=',')\n",
    "d_transport_nonscaled=pd.read_csv(r\"EnergyPLAN files\\Transport\\Hour_transport.txt\",header=None,delimiter='\\t',decimal=',')"
   ]
  },
  {
   "cell_type": "code",
   "execution_count": 192,
   "id": "28e7a8d7",
   "metadata": {},
   "outputs": [],
   "source": [
    "d_e=d_e_nonscaled/d_e_nonscaled.sum(axis=0)\n",
    "d_eh=d_eh_nonscaled/d_eh_nonscaled.sum(axis=0)\n",
    "d_ec=d_ec_nonscaled/d_ec_nonscaled.sum(axis=0)\n",
    "d_e_transport=d_transport_nonscaled/d_transport_nonscaled.sum(axis=0)"
   ]
  },
  {
   "cell_type": "code",
   "execution_count": 193,
   "id": "504867cb",
   "metadata": {},
   "outputs": [],
   "source": [
    "D_E=10.67#ann el demand TWh/ann\n",
    "D_add=0.43\n",
    "D_EH=2.9145+0.08/4.4 #HEAT PUMPS + EL HEATING\n",
    "D_EC=0.2202\n",
    "D_E_TRANSPORT=0.059"
   ]
  },
  {
   "cell_type": "code",
   "execution_count": 196,
   "id": "86c05705",
   "metadata": {},
   "outputs": [],
   "source": [
    "d_e_tot=D_E*d_e+D_add*d_e+D_E_TRANSPORT*d_e_transport-(D_EH*d_eh+D_EC*d_ec)\n",
    "d_e_tot[d_e_tot[d_e_tot.columns[0]]<0]=0"
   ]
  },
  {
   "cell_type": "code",
   "execution_count": 197,
   "id": "daf0ae75",
   "metadata": {},
   "outputs": [
    {
     "data": {
      "text/plain": [
       "0    8.006118\n",
       "dtype: float64"
      ]
     },
     "execution_count": 197,
     "metadata": {},
     "output_type": "execute_result"
    }
   ],
   "source": [
    "d_e_tot.sum()"
   ]
  },
  {
   "cell_type": "code",
   "execution_count": 199,
   "id": "4453cbe6",
   "metadata": {},
   "outputs": [],
   "source": [
    "d_e_tot=d_e_tot.assign(Timestamp=pd.date_range(\"2020-01-01 00:00:00\",\"2020-12-31 23:00:00\", freq=\"1H\"))\n",
    "d_e_tot[\"Month\"]=d_e_tot[\"Timestamp\"].dt.month\n"
   ]
  },
  {
   "cell_type": "code",
   "execution_count": 200,
   "id": "22c8bdb6",
   "metadata": {},
   "outputs": [
    {
     "data": {
      "text/plain": [
       "Month\n",
       "1      801.953595\n",
       "2      829.401012\n",
       "3      767.540468\n",
       "4      812.632608\n",
       "5      880.854279\n",
       "6      991.665553\n",
       "7     1011.064912\n",
       "8      960.521048\n",
       "9     1033.740844\n",
       "10     991.081214\n",
       "11     924.427906\n",
       "12     930.907740\n",
       "Name: 0, dtype: float64"
      ]
     },
     "execution_count": 200,
     "metadata": {},
     "output_type": "execute_result"
    }
   ],
   "source": [
    "(d_e_tot.groupby(\"Month\")[0].mean())*1000000"
   ]
  },
  {
   "cell_type": "markdown",
   "id": "d99e293e",
   "metadata": {},
   "source": [
    "# Heat_demand"
   ]
  },
  {
   "cell_type": "markdown",
   "id": "31ecd243",
   "metadata": {},
   "source": [
    "## Individual heating"
   ]
  },
  {
   "cell_type": "code",
   "execution_count": 207,
   "id": "5d73cd1f",
   "metadata": {},
   "outputs": [],
   "source": [
    "fuel_coal_domestic=1.15\n",
    "fuel_oil_domestic=0.412#twh/ann\n",
    "fuel_ngas_domestic=0.7125\n",
    "fuel_biomas_domestic=13.47\n",
    "\n",
    "\n",
    "q_coal_boiler=fuel_coal_domestic*0.8*d_eh\n",
    "q_oil_boiler=fuel_oil_domestic*0.85*d_eh\n",
    "\n",
    "q_ngas_boiler=fuel_ngas_domestic*0.9*d_eh\n",
    "q_biomass_boiler=fuel_biomas_domestic*0.9*d_eh #0.9 is efficiency"
   ]
  },
  {
   "cell_type": "code",
   "execution_count": 208,
   "id": "0f675e2e",
   "metadata": {},
   "outputs": [
    {
     "name": "stdout",
     "output_type": "stream",
     "text": [
      "Kotao na ugalj, domaćinstva 0    0.92\n",
      "dtype: float64 TWh/god\n",
      "Kotao na tečno gorivo, domaćinstva 0    0.3502\n",
      "dtype: float64 TWh/god\n",
      "Kotao na prirodni gas, domaćinstva 0    0.64125\n",
      "dtype: float64 TWh/god\n",
      "Kotao na biomasu, domaćinstva 0    12.123\n",
      "dtype: float64 TWh/god\n"
     ]
    }
   ],
   "source": [
    "print(\"Kotao na ugalj, domaćinstva\",q_coal_boiler.sum(),\"TWh/god\")\n",
    "print(\"Kotao na tečno gorivo, domaćinstva\",q_oil_boiler.sum(),\"TWh/god\")\n",
    "print(\"Kotao na prirodni gas, domaćinstva\",q_ngas_boiler.sum(),\"TWh/god\")\n",
    "print(\"Kotao na biomasu, domaćinstva\",q_biomass_boiler.sum(),\"TWh/god\")"
   ]
  },
  {
   "cell_type": "markdown",
   "id": "e170b16a",
   "metadata": {},
   "source": [
    "## District heating"
   ]
  },
  {
   "cell_type": "markdown",
   "id": "31bdd9ea",
   "metadata": {},
   "source": [
    "production_hourly=demand*ann production\n",
    "demand=production*losses"
   ]
  },
  {
   "cell_type": "code",
   "execution_count": 233,
   "id": "88811d03",
   "metadata": {},
   "outputs": [],
   "source": [
    "production_dh=1.12916666666667 #TWh/god\n",
    "loss_dh=0.3\n",
    "production_chp=0.495833333333333 #TWh/god\n",
    "loss_chp=0.3\n"
   ]
  },
  {
   "cell_type": "code",
   "execution_count": 234,
   "id": "aa55fe42",
   "metadata": {},
   "outputs": [],
   "source": [
    "production_dh_hourly=production_dh*d_eh\n",
    "production_chp_hourly=production_chp*d_eh"
   ]
  },
  {
   "cell_type": "code",
   "execution_count": 235,
   "id": "3da529ab",
   "metadata": {},
   "outputs": [],
   "source": [
    "demand_dh=production_dh*loss_dh*d_eh\n",
    "demand_chp=production_chp*loss_chp*d_eh\n"
   ]
  },
  {
   "cell_type": "code",
   "execution_count": 236,
   "id": "d9394740",
   "metadata": {},
   "outputs": [],
   "source": [
    "demand_dh,demand_chp=demand_dh.assign(Timestamp=pd.date_range(\"2020-01-01 00:00:00\",\"2020-12-31 23:00:00\", freq=\"1H\")),demand_chp.assign(Timestamp=pd.date_range(\"2020-01-01 00:00:00\",\"2020-12-31 23:00:00\", freq=\"1H\"))\n",
    "demand_dh[\"Month\"],demand_chp[\"Month\"]=demand_dh[\"Timestamp\"].dt.month,demand_chp[\"Timestamp\"].dt.month\n",
    "\n",
    "\n",
    "production_dh_hourly,production_chp_hourly=production_dh_hourly.assign(Timestamp=pd.date_range(\"2020-01-01 00:00:00\",\"2020-12-31 23:00:00\", freq=\"1H\")),production_chp_hourly.assign(Timestamp=pd.date_range(\"2020-01-01 00:00:00\",\"2020-12-31 23:00:00\", freq=\"1H\"))\n",
    "production_dh_hourly[\"Month\"],production_chp_hourly[\"Month\"]=production_dh_hourly[\"Timestamp\"].dt.month,production_chp_hourly[\"Timestamp\"].dt.month"
   ]
  },
  {
   "cell_type": "code",
   "execution_count": 237,
   "id": "e7c402e3",
   "metadata": {},
   "outputs": [
    {
     "data": {
      "text/plain": [
       "Month\n",
       "1     390.629616\n",
       "2     306.640727\n",
       "3     283.328209\n",
       "4     190.173915\n",
       "5     113.623502\n",
       "6      70.461656\n",
       "7      47.979097\n",
       "8      40.552911\n",
       "9      61.742908\n",
       "10    146.804056\n",
       "11    255.761816\n",
       "12    314.874332\n",
       "Name: 0, dtype: float64"
      ]
     },
     "execution_count": 237,
     "metadata": {},
     "output_type": "execute_result"
    }
   ],
   "source": [
    "(production_dh_hourly.groupby(\"Month\")[0].mean())*1000000+(production_chp_hourly.groupby(\"Month\")[0].mean())*1000000"
   ]
  },
  {
   "cell_type": "code",
   "execution_count": 238,
   "id": "53246dc1",
   "metadata": {},
   "outputs": [
    {
     "data": {
      "text/plain": [
       "Month\n",
       "1     271.437503\n",
       "2     213.075993\n",
       "3     196.876781\n",
       "4     132.146490\n",
       "5      78.953767\n",
       "6      48.961817\n",
       "7      33.339321\n",
       "8      28.179074\n",
       "9      42.903405\n",
       "10    102.009998\n",
       "11    177.721672\n",
       "12    218.797292\n",
       "Name: 0, dtype: float64"
      ]
     },
     "execution_count": 238,
     "metadata": {},
     "output_type": "execute_result"
    }
   ],
   "source": [
    "(production_dh_hourly.groupby(\"Month\")[0].mean())*1000000"
   ]
  },
  {
   "cell_type": "code",
   "execution_count": 239,
   "id": "ce5e5f4f",
   "metadata": {},
   "outputs": [
    {
     "data": {
      "text/plain": [
       "Month\n",
       "1     119.192114\n",
       "2      93.564735\n",
       "3      86.451428\n",
       "4      58.027425\n",
       "5      34.669735\n",
       "6      21.499839\n",
       "7      14.639776\n",
       "8      12.373837\n",
       "9      18.839503\n",
       "10     44.794058\n",
       "11     78.040144\n",
       "12     96.077040\n",
       "Name: 0, dtype: float64"
      ]
     },
     "execution_count": 239,
     "metadata": {},
     "output_type": "execute_result"
    }
   ],
   "source": [
    "(production_chp_hourly.groupby(\"Month\")[0].mean())*1000000"
   ]
  },
  {
   "cell_type": "code",
   "execution_count": 240,
   "id": "2bb053c8",
   "metadata": {},
   "outputs": [
    {
     "data": {
      "text/plain": [
       "0            0.33875\n",
       "Month    57216.00000\n",
       "dtype: float64"
      ]
     },
     "execution_count": 240,
     "metadata": {},
     "output_type": "execute_result"
    }
   ],
   "source": [
    "demand_dh.sum()"
   ]
  },
  {
   "cell_type": "code",
   "execution_count": 241,
   "id": "601f6807",
   "metadata": {},
   "outputs": [
    {
     "data": {
      "text/plain": [
       "0            0.14875\n",
       "Month    57216.00000\n",
       "dtype: float64"
      ]
     },
     "execution_count": 241,
     "metadata": {},
     "output_type": "execute_result"
    }
   ],
   "source": [
    "demand_chp.sum()"
   ]
  },
  {
   "cell_type": "code",
   "execution_count": null,
   "id": "f3f961e3",
   "metadata": {},
   "outputs": [],
   "source": []
  }
 ],
 "metadata": {
  "kernelspec": {
   "display_name": "Python 3",
   "language": "python",
   "name": "python3"
  },
  "language_info": {
   "codemirror_mode": {
    "name": "ipython",
    "version": 3
   },
   "file_extension": ".py",
   "mimetype": "text/x-python",
   "name": "python",
   "nbconvert_exporter": "python",
   "pygments_lexer": "ipython3",
   "version": "3.8.8"
  }
 },
 "nbformat": 4,
 "nbformat_minor": 5
}
