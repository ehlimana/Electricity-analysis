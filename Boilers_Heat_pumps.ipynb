{
 "cells": [
  {
   "cell_type": "markdown",
   "metadata": {},
   "source": [
    "# Kotlovi i toplotne pumpe u BiH"
   ]
  },
  {
   "cell_type": "markdown",
   "metadata": {},
   "source": [
    "Podaci o tehnologijama toplotnih pumpi i kotlova, proizvođačima, stepenu efikasnosti i kapacitetima preuzeti su sa portala https://ebrdgeff.com/ba/bs/ kao indikator opreme koja se koristi na tržištu. Ovi podaci su spašeni u dva .xlsx fajla: \"Heat_pumps_final\" i \"Boilers\". Sa web stranice je moguće unijeti i druge vrste opreme, ali se trenutno istraživanje svelo na ova dva tipa.  Toplotne pumpe se u ovom slučaju mogu razmatrati za niskotemperaturne režime grijanja u dobro-izoliranim objektima. Toplotne pumpe zrak-voda mogu preuzimati toplotu od zraka kada njegova temperatura ide i do temperatura ispod -20°C."
   ]
  },
  {
   "cell_type": "code",
   "execution_count": 1,
   "metadata": {},
   "outputs": [],
   "source": [
    "import pandas as pd\n",
    "import matplotlib.pyplot as plt\n",
    "import numpy as np\n",
    "import seaborn as sns"
   ]
  },
  {
   "cell_type": "code",
   "execution_count": 4,
   "metadata": {},
   "outputs": [],
   "source": [
    "cols=['Unnamed: 0','MANUFACTURER', 'Product Id','PRODUCT TYPE',\"Unnamed: 4\",\"Unnamed: 5\",'Coefficient of Performance','Heating capacity [kW]','Cooling capacity [kW]', 'Seasonal Coefficient of Performance']\n",
    "\n",
    "file=pd.read_excel(r\"FILES\\HEAT\\Heat_pumps_final.xlsx\",usecols=\"A:J\",names=cols)"
   ]
  },
  {
   "cell_type": "code",
   "execution_count": 5,
   "metadata": {},
   "outputs": [
    {
     "data": {
      "text/plain": [
       "'Unnamed: 0'"
      ]
     },
     "execution_count": 5,
     "metadata": {},
     "output_type": "execute_result"
    }
   ],
   "source": [
    "file.columns[0]"
   ]
  },
  {
   "cell_type": "markdown",
   "metadata": {},
   "source": [
    "Najprije će se učitati fajl koji se odnosi na toplotne pumpe. Kolona \"Unnamed: 4\" sadrži komentare. Ukupno je dostupno 1211 modela. Za sve modele je dat COP, a za 523/1211 dostupan i sezonski učinak - SCOP. Vrijednosti COP-a se kreću između 4.25 i 7.1 sa srednjom vrijedošću 4.79, dok SCOP za neke modele je označen sa 0, radi čega se to prikazuje kao minimalna vrijednost i na takav način umanjuju srednju vrijednost. Maksimalna vrijednost SCOP je 8. 75% podataka ima snagu grijanja do 142 kW, odnosno snagu hlađenja do 150 kW.\n",
    "\n",
    "Sumarna statistika za numeričke kolone je data u idućoj tabeli. Podaci za grijanje se moraju prebaciti iz tekstualnog u numerički format te se nakon toga prikaz sumarne statistike ponavlja."
   ]
  },
  {
   "cell_type": "code",
   "execution_count": 6,
   "metadata": {},
   "outputs": [
    {
     "data": {
      "text/html": [
       "<div>\n",
       "<style scoped>\n",
       "    .dataframe tbody tr th:only-of-type {\n",
       "        vertical-align: middle;\n",
       "    }\n",
       "\n",
       "    .dataframe tbody tr th {\n",
       "        vertical-align: top;\n",
       "    }\n",
       "\n",
       "    .dataframe thead th {\n",
       "        text-align: right;\n",
       "    }\n",
       "</style>\n",
       "<table border=\"1\" class=\"dataframe\">\n",
       "  <thead>\n",
       "    <tr style=\"text-align: right;\">\n",
       "      <th></th>\n",
       "      <th>Unnamed: 0</th>\n",
       "      <th>Product Id</th>\n",
       "      <th>Coefficient of Performance</th>\n",
       "      <th>Cooling capacity [kW]</th>\n",
       "      <th>Seasonal Coefficient of Performance</th>\n",
       "    </tr>\n",
       "  </thead>\n",
       "  <tbody>\n",
       "    <tr>\n",
       "      <th>count</th>\n",
       "      <td>1211.000000</td>\n",
       "      <td>1211.000000</td>\n",
       "      <td>1211.000000</td>\n",
       "      <td>981.000000</td>\n",
       "      <td>523.000000</td>\n",
       "    </tr>\n",
       "    <tr>\n",
       "      <th>mean</th>\n",
       "      <td>605.000000</td>\n",
       "      <td>12726.477291</td>\n",
       "      <td>4.788208</td>\n",
       "      <td>124.167965</td>\n",
       "      <td>4.143523</td>\n",
       "    </tr>\n",
       "    <tr>\n",
       "      <th>std</th>\n",
       "      <td>349.729896</td>\n",
       "      <td>11237.886776</td>\n",
       "      <td>0.540084</td>\n",
       "      <td>210.946325</td>\n",
       "      <td>1.222741</td>\n",
       "    </tr>\n",
       "    <tr>\n",
       "      <th>min</th>\n",
       "      <td>0.000000</td>\n",
       "      <td>613.000000</td>\n",
       "      <td>4.250000</td>\n",
       "      <td>0.000000</td>\n",
       "      <td>0.000000</td>\n",
       "    </tr>\n",
       "    <tr>\n",
       "      <th>25%</th>\n",
       "      <td>302.500000</td>\n",
       "      <td>3072.500000</td>\n",
       "      <td>4.400000</td>\n",
       "      <td>8.000000</td>\n",
       "      <td>3.950000</td>\n",
       "    </tr>\n",
       "    <tr>\n",
       "      <th>50%</th>\n",
       "      <td>605.000000</td>\n",
       "      <td>10358.000000</td>\n",
       "      <td>4.600000</td>\n",
       "      <td>15.000000</td>\n",
       "      <td>4.340000</td>\n",
       "    </tr>\n",
       "    <tr>\n",
       "      <th>75%</th>\n",
       "      <td>907.500000</td>\n",
       "      <td>26279.500000</td>\n",
       "      <td>5.000000</td>\n",
       "      <td>150.000000</td>\n",
       "      <td>4.745000</td>\n",
       "    </tr>\n",
       "    <tr>\n",
       "      <th>max</th>\n",
       "      <td>1210.000000</td>\n",
       "      <td>33069.000000</td>\n",
       "      <td>7.060000</td>\n",
       "      <td>982.000000</td>\n",
       "      <td>8.000000</td>\n",
       "    </tr>\n",
       "  </tbody>\n",
       "</table>\n",
       "</div>"
      ],
      "text/plain": [
       "        Unnamed: 0    Product Id  Coefficient of Performance  \\\n",
       "count  1211.000000   1211.000000                 1211.000000   \n",
       "mean    605.000000  12726.477291                    4.788208   \n",
       "std     349.729896  11237.886776                    0.540084   \n",
       "min       0.000000    613.000000                    4.250000   \n",
       "25%     302.500000   3072.500000                    4.400000   \n",
       "50%     605.000000  10358.000000                    4.600000   \n",
       "75%     907.500000  26279.500000                    5.000000   \n",
       "max    1210.000000  33069.000000                    7.060000   \n",
       "\n",
       "       Cooling capacity [kW]  Seasonal Coefficient of Performance  \n",
       "count             981.000000                           523.000000  \n",
       "mean              124.167965                             4.143523  \n",
       "std               210.946325                             1.222741  \n",
       "min                 0.000000                             0.000000  \n",
       "25%                 8.000000                             3.950000  \n",
       "50%                15.000000                             4.340000  \n",
       "75%               150.000000                             4.745000  \n",
       "max               982.000000                             8.000000  "
      ]
     },
     "execution_count": 6,
     "metadata": {},
     "output_type": "execute_result"
    }
   ],
   "source": [
    "file.describe()"
   ]
  },
  {
   "cell_type": "code",
   "execution_count": 7,
   "metadata": {},
   "outputs": [],
   "source": [
    "numcols=['Heating capacity [kW]']\n",
    "       #'Seasonal Coefficient of Performance']\n",
    "for col in numcols:\n",
    "    file[col]=file[col].str.replace(\",\",\"\")\n",
    "    file[col]=pd.to_numeric(file[col])"
   ]
  },
  {
   "cell_type": "code",
   "execution_count": 8,
   "metadata": {},
   "outputs": [
    {
     "data": {
      "text/html": [
       "<div>\n",
       "<style scoped>\n",
       "    .dataframe tbody tr th:only-of-type {\n",
       "        vertical-align: middle;\n",
       "    }\n",
       "\n",
       "    .dataframe tbody tr th {\n",
       "        vertical-align: top;\n",
       "    }\n",
       "\n",
       "    .dataframe thead th {\n",
       "        text-align: right;\n",
       "    }\n",
       "</style>\n",
       "<table border=\"1\" class=\"dataframe\">\n",
       "  <thead>\n",
       "    <tr style=\"text-align: right;\">\n",
       "      <th></th>\n",
       "      <th>Unnamed: 0</th>\n",
       "      <th>Product Id</th>\n",
       "      <th>Coefficient of Performance</th>\n",
       "      <th>Heating capacity [kW]</th>\n",
       "      <th>Cooling capacity [kW]</th>\n",
       "      <th>Seasonal Coefficient of Performance</th>\n",
       "    </tr>\n",
       "  </thead>\n",
       "  <tbody>\n",
       "    <tr>\n",
       "      <th>count</th>\n",
       "      <td>1211.000000</td>\n",
       "      <td>1211.000000</td>\n",
       "      <td>1211.000000</td>\n",
       "      <td>1211.000000</td>\n",
       "      <td>981.000000</td>\n",
       "      <td>523.000000</td>\n",
       "    </tr>\n",
       "    <tr>\n",
       "      <th>mean</th>\n",
       "      <td>605.000000</td>\n",
       "      <td>12726.477291</td>\n",
       "      <td>4.788208</td>\n",
       "      <td>155.649075</td>\n",
       "      <td>124.167965</td>\n",
       "      <td>4.143523</td>\n",
       "    </tr>\n",
       "    <tr>\n",
       "      <th>std</th>\n",
       "      <td>349.729896</td>\n",
       "      <td>11237.886776</td>\n",
       "      <td>0.540084</td>\n",
       "      <td>306.269078</td>\n",
       "      <td>210.946325</td>\n",
       "      <td>1.222741</td>\n",
       "    </tr>\n",
       "    <tr>\n",
       "      <th>min</th>\n",
       "      <td>0.000000</td>\n",
       "      <td>613.000000</td>\n",
       "      <td>4.250000</td>\n",
       "      <td>2.700000</td>\n",
       "      <td>0.000000</td>\n",
       "      <td>0.000000</td>\n",
       "    </tr>\n",
       "    <tr>\n",
       "      <th>25%</th>\n",
       "      <td>302.500000</td>\n",
       "      <td>3072.500000</td>\n",
       "      <td>4.400000</td>\n",
       "      <td>9.050000</td>\n",
       "      <td>8.000000</td>\n",
       "      <td>3.950000</td>\n",
       "    </tr>\n",
       "    <tr>\n",
       "      <th>50%</th>\n",
       "      <td>605.000000</td>\n",
       "      <td>10358.000000</td>\n",
       "      <td>4.600000</td>\n",
       "      <td>15.100000</td>\n",
       "      <td>15.000000</td>\n",
       "      <td>4.340000</td>\n",
       "    </tr>\n",
       "    <tr>\n",
       "      <th>75%</th>\n",
       "      <td>907.500000</td>\n",
       "      <td>26279.500000</td>\n",
       "      <td>5.000000</td>\n",
       "      <td>142.000000</td>\n",
       "      <td>150.000000</td>\n",
       "      <td>4.745000</td>\n",
       "    </tr>\n",
       "    <tr>\n",
       "      <th>max</th>\n",
       "      <td>1210.000000</td>\n",
       "      <td>33069.000000</td>\n",
       "      <td>7.060000</td>\n",
       "      <td>1866.000000</td>\n",
       "      <td>982.000000</td>\n",
       "      <td>8.000000</td>\n",
       "    </tr>\n",
       "  </tbody>\n",
       "</table>\n",
       "</div>"
      ],
      "text/plain": [
       "        Unnamed: 0    Product Id  Coefficient of Performance  \\\n",
       "count  1211.000000   1211.000000                 1211.000000   \n",
       "mean    605.000000  12726.477291                    4.788208   \n",
       "std     349.729896  11237.886776                    0.540084   \n",
       "min       0.000000    613.000000                    4.250000   \n",
       "25%     302.500000   3072.500000                    4.400000   \n",
       "50%     605.000000  10358.000000                    4.600000   \n",
       "75%     907.500000  26279.500000                    5.000000   \n",
       "max    1210.000000  33069.000000                    7.060000   \n",
       "\n",
       "       Heating capacity [kW]  Cooling capacity [kW]  \\\n",
       "count            1211.000000             981.000000   \n",
       "mean              155.649075             124.167965   \n",
       "std               306.269078             210.946325   \n",
       "min                 2.700000               0.000000   \n",
       "25%                 9.050000               8.000000   \n",
       "50%                15.100000              15.000000   \n",
       "75%               142.000000             150.000000   \n",
       "max              1866.000000             982.000000   \n",
       "\n",
       "       Seasonal Coefficient of Performance  \n",
       "count                           523.000000  \n",
       "mean                              4.143523  \n",
       "std                               1.222741  \n",
       "min                               0.000000  \n",
       "25%                               3.950000  \n",
       "50%                               4.340000  \n",
       "75%                               4.745000  \n",
       "max                               8.000000  "
      ]
     },
     "execution_count": 8,
     "metadata": {},
     "output_type": "execute_result"
    }
   ],
   "source": [
    "file.describe()"
   ]
  },
  {
   "cell_type": "markdown",
   "metadata": {},
   "source": [
    "Izgled prva četiri reda je dat u sljedećem prikazu.Kolona \"Unnamed:5\" će se izbaciti jer je ona višak."
   ]
  },
  {
   "cell_type": "code",
   "execution_count": 9,
   "metadata": {},
   "outputs": [],
   "source": [
    "file=file.drop([\"Unnamed: 5\",\"Unnamed: 0\"],axis=1)"
   ]
  },
  {
   "cell_type": "code",
   "execution_count": 10,
   "metadata": {},
   "outputs": [
    {
     "data": {
      "text/html": [
       "<div>\n",
       "<style scoped>\n",
       "    .dataframe tbody tr th:only-of-type {\n",
       "        vertical-align: middle;\n",
       "    }\n",
       "\n",
       "    .dataframe tbody tr th {\n",
       "        vertical-align: top;\n",
       "    }\n",
       "\n",
       "    .dataframe thead th {\n",
       "        text-align: right;\n",
       "    }\n",
       "</style>\n",
       "<table border=\"1\" class=\"dataframe\">\n",
       "  <thead>\n",
       "    <tr style=\"text-align: right;\">\n",
       "      <th></th>\n",
       "      <th>MANUFACTURER</th>\n",
       "      <th>Product Id</th>\n",
       "      <th>PRODUCT TYPE</th>\n",
       "      <th>Unnamed: 4</th>\n",
       "      <th>Coefficient of Performance</th>\n",
       "      <th>Heating capacity [kW]</th>\n",
       "      <th>Cooling capacity [kW]</th>\n",
       "      <th>Seasonal Coefficient of Performance</th>\n",
       "    </tr>\n",
       "  </thead>\n",
       "  <tbody>\n",
       "    <tr>\n",
       "      <th>0</th>\n",
       "      <td>CIAT</td>\n",
       "      <td>32570</td>\n",
       "      <td>CIAT EREBA HE 15H</td>\n",
       "      <td>reversible heat pump equipped with DC inverter...</td>\n",
       "      <td>4.25</td>\n",
       "      <td>15.1</td>\n",
       "      <td>13.0</td>\n",
       "      <td>4.41</td>\n",
       "    </tr>\n",
       "    <tr>\n",
       "      <th>1</th>\n",
       "      <td>HITACHI</td>\n",
       "      <td>28846</td>\n",
       "      <td>HITACHI YUTAKI S 10</td>\n",
       "      <td>Heat pump SPLIT TYPE air to water</td>\n",
       "      <td>4.29</td>\n",
       "      <td>32.0</td>\n",
       "      <td>21.0</td>\n",
       "      <td>3.60</td>\n",
       "    </tr>\n",
       "  </tbody>\n",
       "</table>\n",
       "</div>"
      ],
      "text/plain": [
       "  MANUFACTURER  Product Id          PRODUCT TYPE  \\\n",
       "0         CIAT       32570     CIAT EREBA HE 15H   \n",
       "1      HITACHI       28846   HITACHI YUTAKI S 10   \n",
       "\n",
       "                                          Unnamed: 4  \\\n",
       "0  reversible heat pump equipped with DC inverter...   \n",
       "1                  Heat pump SPLIT TYPE air to water   \n",
       "\n",
       "   Coefficient of Performance  Heating capacity [kW]  Cooling capacity [kW]  \\\n",
       "0                        4.25                   15.1                   13.0   \n",
       "1                        4.29                   32.0                   21.0   \n",
       "\n",
       "   Seasonal Coefficient of Performance  \n",
       "0                                 4.41  \n",
       "1                                 3.60  "
      ]
     },
     "execution_count": 10,
     "metadata": {},
     "output_type": "execute_result"
    }
   ],
   "source": [
    "file.head(2)"
   ]
  },
  {
   "cell_type": "markdown",
   "metadata": {},
   "source": [
    "Iz informacija pruženih u koloni \"Unnamed: 4\" može se vidjeti da se na tržištu nude toplotne pumpe MONOBLOCK i SPLIT načina konfiguracije. MONOBLOCK toplotne pumpe se nalaze izvan objekta (kompresor i izmjenjivač toplote i vodena strana), odakle se topla voda ili mješavina vode i antifriza, nakon zagrijavanja, šalje prema objektu koji se grije. Ovakav tip toplotnih pumpi je jeftiniji i lakši za instalaciju. Nedostatak je priprema tople vode van objekta, što znači da veći utrošeni rad pumpe tokom zime s obzirom da može doći do hlađenja vode prije nego što dospije u grijani objekat.\n",
    "\n",
    "Kod SPLIT jedinica toplota zraka se predaje gasnom mediju koji kao takav ulazi u objekat u unutrašnju jedinicu gdje predaje toplotu vodi koja se koristi za grijanje prostora i pripremu PTV. Kompresor i refrižerant se nalaze u vanjskoj jedinici, dok se IT, ekspanziona posuda i vodena strana ( i eventualno električni grijaći element) nalaze u unutrašnjoj. Kako se voda zagrijava u unutrašnjosti objekta, tako se smatra da se kod SPLIT sistema utroši manji rad. Također, vanjska jedinica može biti udaljena i do 50 m od objekta sa malim toplotnim gubicima.\n",
    "\n",
    "\n",
    "Među modelima se nalazi i toplotna pumpa sa inverterom, što ima veze sa efikasnošću rada toplotne pumpe i frekvencijom rada kompresora. Toplotnim pumpama sa inverterom se prednost daje u vidu veće sveukupne energetske efikasnosti na godišnjem nivou, dužeg životnog vijeka toplotne pumpe i komfora. Razlika između toplotne pumpe sa fiksnim izlazom i sa inverterskom tehnolgijom leži u načinu dobavljanja energije u skladu sa termalnim zahtjevima objekta. Toplotna pumpa sa fiksnim izlazom radi kontinuirano na 100% kapaciteta kako bi ispunila potrebe za toplotom objekta. Takav rad se nastavlja sve dok se ne postigne željena temperatura, nakon čega se smjenjuu ciklusi paljenja  i gašenja u procesu održavanja zahtijevane temperature. Toplotna pumpa sa inverterom koristi kompresor promjenjive snage koji modifikuje izlaznu energiju na način da odgovara potrebama za toplotom uzimajući u obzir promjenu temperature zraka. Kada su potrebe za toplotom male, toplotna pumpa smanjuje izlaznu energiju, ograničava potrošnju električne energije i broj start - stop ciklusa, te stabilnije snabdijevanje električnom energijom. Npr. ukoliko potrebe za grijanjem iznose 15 kW na projektnoj minimalnoj temperaturi od -3°C, toplotna pumpa sa fiksnim izlazom će na izlazu imati 15 kW neovisno o vanjskoj temperaturi. Ovo se smatra neefikasnim jer će potrebe na temperaturi od 2°C iznositi manje, npr. 10 KW. Jedinica sa inverterom pruža izlaz u opsegu od (30-100)% maksimalnog kapaciteta. To znači da ako potrebe iznose 15 kW, instalirat će se toplotna pumpa inverterskog tipa u opsegu (5-15)kW, što znači da će pri najmanjim potrebama za grijanjem toplotma pumpa raditi kapacitetom od 5 KW, a ne sa 15 KW kao što je u slučaju fiksnog izlaza. \n",
    "\n",
    "Toplotna pumpa sa inverterom radi na način da fluktuacije temperature drži na minimumu, dok toplotna pumpa sa fiksnim izlazom vrši cikluse između maksimalnog kapaciteta i nule, te se do željene temperature dolazi nakon većeg broja ovih ciklusa. Također, tu je i ušteda prostora, s obzirom da se kod toplotnim pumpi sa stalnim izlazom instalira i rezervoar koji ima svru i predgrijavanja vode za slučaj više prostroija koje se ne griju na istoj temperaturi. \n"
   ]
  },
  {
   "cell_type": "markdown",
   "metadata": {},
   "source": [
    "SCOP nije prikazan ili je dat kao nulta vrijednost za pojedine toplotne pumpe (ukupno 32)."
   ]
  },
  {
   "cell_type": "code",
   "execution_count": 11,
   "metadata": {},
   "outputs": [
    {
     "name": "stderr",
     "output_type": "stream",
     "text": [
      "<ipython-input-11-1390d13c0cdd>:4: FutureWarning: Passing a negative integer is deprecated in version 1.0 and will not be supported in future version. Instead, use None to not limit the column width.\n",
      "  pd.set_option('display.max_colwidth', -1)\n"
     ]
    }
   ],
   "source": [
    "pd.set_option('display.max_rows', None)\n",
    "pd.set_option('display.max_columns', None)\n",
    "pd.set_option('display.width', None)\n",
    "pd.set_option('display.max_colwidth', -1)\n"
   ]
  },
  {
   "cell_type": "code",
   "execution_count": 12,
   "metadata": {},
   "outputs": [
    {
     "data": {
      "text/plain": [
       "32"
      ]
     },
     "execution_count": 12,
     "metadata": {},
     "output_type": "execute_result"
    }
   ],
   "source": [
    "len(file[file[\"Seasonal Coefficient of Performance\"]==0])"
   ]
  },
  {
   "cell_type": "code",
   "execution_count": 13,
   "metadata": {},
   "outputs": [
    {
     "data": {
      "text/html": [
       "<div>\n",
       "<style scoped>\n",
       "    .dataframe tbody tr th:only-of-type {\n",
       "        vertical-align: middle;\n",
       "    }\n",
       "\n",
       "    .dataframe tbody tr th {\n",
       "        vertical-align: top;\n",
       "    }\n",
       "\n",
       "    .dataframe thead th {\n",
       "        text-align: right;\n",
       "    }\n",
       "</style>\n",
       "<table border=\"1\" class=\"dataframe\">\n",
       "  <thead>\n",
       "    <tr style=\"text-align: right;\">\n",
       "      <th></th>\n",
       "      <th>MANUFACTURER</th>\n",
       "      <th>Product Id</th>\n",
       "      <th>PRODUCT TYPE</th>\n",
       "      <th>Unnamed: 4</th>\n",
       "      <th>Coefficient of Performance</th>\n",
       "      <th>Heating capacity [kW]</th>\n",
       "      <th>Cooling capacity [kW]</th>\n",
       "      <th>Seasonal Coefficient of Performance</th>\n",
       "    </tr>\n",
       "  </thead>\n",
       "  <tbody>\n",
       "    <tr>\n",
       "      <th>16</th>\n",
       "      <td>SIRAC</td>\n",
       "      <td>10508</td>\n",
       "      <td>SIRAC LSQ25R</td>\n",
       "      <td>Sirac low-temperature integrated heat pump</td>\n",
       "      <td>4.30</td>\n",
       "      <td>75.0</td>\n",
       "      <td>0.0</td>\n",
       "      <td>0.0</td>\n",
       "    </tr>\n",
       "    <tr>\n",
       "      <th>17</th>\n",
       "      <td>SIRAC</td>\n",
       "      <td>10507</td>\n",
       "      <td>SIRAC LSQ20R</td>\n",
       "      <td>Sirac low-temperature integrated heat pump</td>\n",
       "      <td>4.30</td>\n",
       "      <td>65.0</td>\n",
       "      <td>0.0</td>\n",
       "      <td>0.0</td>\n",
       "    </tr>\n",
       "    <tr>\n",
       "      <th>18</th>\n",
       "      <td>SIRAC</td>\n",
       "      <td>10506</td>\n",
       "      <td>SIRAC LSQ15R</td>\n",
       "      <td>Sirac low-temperature integrated heat pump</td>\n",
       "      <td>4.30</td>\n",
       "      <td>39.0</td>\n",
       "      <td>0.0</td>\n",
       "      <td>0.0</td>\n",
       "    </tr>\n",
       "    <tr>\n",
       "      <th>19</th>\n",
       "      <td>SIRAC</td>\n",
       "      <td>10505</td>\n",
       "      <td>SIRAC LSQ10R</td>\n",
       "      <td>Sirac low-temperature integrated heat pump</td>\n",
       "      <td>4.30</td>\n",
       "      <td>32.0</td>\n",
       "      <td>0.0</td>\n",
       "      <td>0.0</td>\n",
       "    </tr>\n",
       "    <tr>\n",
       "      <th>20</th>\n",
       "      <td>SIRAC</td>\n",
       "      <td>10504</td>\n",
       "      <td>SIRAC LSQ06RC</td>\n",
       "      <td>Sirac low-temperature integrated heat pump</td>\n",
       "      <td>4.30</td>\n",
       "      <td>18.0</td>\n",
       "      <td>0.0</td>\n",
       "      <td>0.0</td>\n",
       "    </tr>\n",
       "    <tr>\n",
       "      <th>21</th>\n",
       "      <td>SIRAC</td>\n",
       "      <td>10503</td>\n",
       "      <td>SIRAC LSQ05RC</td>\n",
       "      <td>Sirac low-temperature integrated heat pump</td>\n",
       "      <td>4.30</td>\n",
       "      <td>16.5</td>\n",
       "      <td>0.0</td>\n",
       "      <td>0.0</td>\n",
       "    </tr>\n",
       "    <tr>\n",
       "      <th>22</th>\n",
       "      <td>SIRAC</td>\n",
       "      <td>10502</td>\n",
       "      <td>SIRAC LSQ04RC</td>\n",
       "      <td>Sirac low-temperature integrated heat pump</td>\n",
       "      <td>4.30</td>\n",
       "      <td>11.9</td>\n",
       "      <td>0.0</td>\n",
       "      <td>0.0</td>\n",
       "    </tr>\n",
       "    <tr>\n",
       "      <th>23</th>\n",
       "      <td>SIRAC</td>\n",
       "      <td>10501</td>\n",
       "      <td>SIRAC LSQ03RC</td>\n",
       "      <td>Sirac low-temperature integrated heat pump</td>\n",
       "      <td>4.30</td>\n",
       "      <td>10.3</td>\n",
       "      <td>0.0</td>\n",
       "      <td>0.0</td>\n",
       "    </tr>\n",
       "    <tr>\n",
       "      <th>33</th>\n",
       "      <td>RUIDONG</td>\n",
       "      <td>10486</td>\n",
       "      <td>RUIDONG RLSFW010R</td>\n",
       "      <td>Ruidong Mini type air cooled heat pump</td>\n",
       "      <td>4.30</td>\n",
       "      <td>10.3</td>\n",
       "      <td>10.0</td>\n",
       "      <td>0.0</td>\n",
       "    </tr>\n",
       "    <tr>\n",
       "      <th>39</th>\n",
       "      <td>KELING</td>\n",
       "      <td>10468</td>\n",
       "      <td>KELING FM-180R</td>\n",
       "      <td>Keling Screw compressor Air-water</td>\n",
       "      <td>4.30</td>\n",
       "      <td>188.0</td>\n",
       "      <td>170.0</td>\n",
       "      <td>0.0</td>\n",
       "    </tr>\n",
       "    <tr>\n",
       "      <th>40</th>\n",
       "      <td>KELING</td>\n",
       "      <td>10467</td>\n",
       "      <td>KELING FM-130RD</td>\n",
       "      <td>Keling low-temperature heat</td>\n",
       "      <td>4.30</td>\n",
       "      <td>142.0</td>\n",
       "      <td>130.0</td>\n",
       "      <td>0.0</td>\n",
       "    </tr>\n",
       "    <tr>\n",
       "      <th>41</th>\n",
       "      <td>KELING</td>\n",
       "      <td>10466</td>\n",
       "      <td>KELING FM-100RD</td>\n",
       "      <td>Keling low-temperature heat</td>\n",
       "      <td>4.30</td>\n",
       "      <td>107.0</td>\n",
       "      <td>95.0</td>\n",
       "      <td>0.0</td>\n",
       "    </tr>\n",
       "    <tr>\n",
       "      <th>42</th>\n",
       "      <td>KELING</td>\n",
       "      <td>10465</td>\n",
       "      <td>KELING FM-65RD</td>\n",
       "      <td>Keling low-temperature heat</td>\n",
       "      <td>4.30</td>\n",
       "      <td>72.0</td>\n",
       "      <td>65.0</td>\n",
       "      <td>0.0</td>\n",
       "    </tr>\n",
       "    <tr>\n",
       "      <th>43</th>\n",
       "      <td>KELING</td>\n",
       "      <td>10464</td>\n",
       "      <td>KELING FM-45RD</td>\n",
       "      <td>Keling low-temperature heat</td>\n",
       "      <td>4.30</td>\n",
       "      <td>49.0</td>\n",
       "      <td>45.0</td>\n",
       "      <td>0.0</td>\n",
       "    </tr>\n",
       "    <tr>\n",
       "      <th>44</th>\n",
       "      <td>KELING</td>\n",
       "      <td>10463</td>\n",
       "      <td>KELING FM-35RD</td>\n",
       "      <td>Keling low-temperature heat</td>\n",
       "      <td>4.30</td>\n",
       "      <td>36.0</td>\n",
       "      <td>33.0</td>\n",
       "      <td>0.0</td>\n",
       "    </tr>\n",
       "    <tr>\n",
       "      <th>45</th>\n",
       "      <td>KELING</td>\n",
       "      <td>10462</td>\n",
       "      <td>KELING FM-25RD</td>\n",
       "      <td>Keling low-temperature heat</td>\n",
       "      <td>4.30</td>\n",
       "      <td>27.0</td>\n",
       "      <td>23.0</td>\n",
       "      <td>0.0</td>\n",
       "    </tr>\n",
       "    <tr>\n",
       "      <th>46</th>\n",
       "      <td>KELING</td>\n",
       "      <td>10461</td>\n",
       "      <td>KELING FM-130R</td>\n",
       "      <td>Keling Air-water heat pump</td>\n",
       "      <td>4.30</td>\n",
       "      <td>140.0</td>\n",
       "      <td>130.0</td>\n",
       "      <td>0.0</td>\n",
       "    </tr>\n",
       "    <tr>\n",
       "      <th>47</th>\n",
       "      <td>KELING</td>\n",
       "      <td>10460</td>\n",
       "      <td>KELING FM-100R</td>\n",
       "      <td>Keling Air-water heat pump</td>\n",
       "      <td>4.30</td>\n",
       "      <td>105.0</td>\n",
       "      <td>95.0</td>\n",
       "      <td>0.0</td>\n",
       "    </tr>\n",
       "    <tr>\n",
       "      <th>48</th>\n",
       "      <td>KELING</td>\n",
       "      <td>10459</td>\n",
       "      <td>KELING FM-65R</td>\n",
       "      <td>Keling Air-water heat pump</td>\n",
       "      <td>4.30</td>\n",
       "      <td>70.0</td>\n",
       "      <td>65.0</td>\n",
       "      <td>0.0</td>\n",
       "    </tr>\n",
       "    <tr>\n",
       "      <th>49</th>\n",
       "      <td>KELING</td>\n",
       "      <td>10458</td>\n",
       "      <td>KELING FM-45R</td>\n",
       "      <td>Keling Air-water heat pump</td>\n",
       "      <td>4.30</td>\n",
       "      <td>48.0</td>\n",
       "      <td>45.0</td>\n",
       "      <td>0.0</td>\n",
       "    </tr>\n",
       "    <tr>\n",
       "      <th>50</th>\n",
       "      <td>KELING</td>\n",
       "      <td>10457</td>\n",
       "      <td>KELING FM-35R</td>\n",
       "      <td>Keling Air-water heat pump</td>\n",
       "      <td>4.30</td>\n",
       "      <td>35.0</td>\n",
       "      <td>33.0</td>\n",
       "      <td>0.0</td>\n",
       "    </tr>\n",
       "    <tr>\n",
       "      <th>51</th>\n",
       "      <td>KELING</td>\n",
       "      <td>10456</td>\n",
       "      <td>KELING FM-25R</td>\n",
       "      <td>Keling Air-water heat pump</td>\n",
       "      <td>4.30</td>\n",
       "      <td>26.0</td>\n",
       "      <td>23.0</td>\n",
       "      <td>0.0</td>\n",
       "    </tr>\n",
       "    <tr>\n",
       "      <th>261</th>\n",
       "      <td>RUIDONG</td>\n",
       "      <td>10484</td>\n",
       "      <td>RUIDONG RLSW240</td>\n",
       "      <td>Ruidong Water source heat pump</td>\n",
       "      <td>4.39</td>\n",
       "      <td>261.0</td>\n",
       "      <td>246.0</td>\n",
       "      <td>0.0</td>\n",
       "    </tr>\n",
       "    <tr>\n",
       "      <th>262</th>\n",
       "      <td>RUIDONG</td>\n",
       "      <td>10482</td>\n",
       "      <td>RUIDONG RLSW160</td>\n",
       "      <td>Ruidong Water source heat pump</td>\n",
       "      <td>4.39</td>\n",
       "      <td>174.0</td>\n",
       "      <td>164.0</td>\n",
       "      <td>0.0</td>\n",
       "    </tr>\n",
       "    <tr>\n",
       "      <th>292</th>\n",
       "      <td>RUIDONG</td>\n",
       "      <td>10483</td>\n",
       "      <td>RUIDONG RLSW200</td>\n",
       "      <td>Ruidong Water source heat pump</td>\n",
       "      <td>4.40</td>\n",
       "      <td>218.0</td>\n",
       "      <td>205.0</td>\n",
       "      <td>0.0</td>\n",
       "    </tr>\n",
       "    <tr>\n",
       "      <th>308</th>\n",
       "      <td>RUIDONG</td>\n",
       "      <td>10481</td>\n",
       "      <td>RUIDONG RLSW120</td>\n",
       "      <td>Ruidong Water source heat pump</td>\n",
       "      <td>4.41</td>\n",
       "      <td>131.0</td>\n",
       "      <td>123.0</td>\n",
       "      <td>0.0</td>\n",
       "    </tr>\n",
       "    <tr>\n",
       "      <th>659</th>\n",
       "      <td>RUIDONG</td>\n",
       "      <td>10485</td>\n",
       "      <td>RUIDONG RLSW280</td>\n",
       "      <td>Ruidong Water source heat pump</td>\n",
       "      <td>4.63</td>\n",
       "      <td>302.0</td>\n",
       "      <td>293.0</td>\n",
       "      <td>0.0</td>\n",
       "    </tr>\n",
       "    <tr>\n",
       "      <th>980</th>\n",
       "      <td>SIRAC</td>\n",
       "      <td>10496</td>\n",
       "      <td>SIRAC LSQ03RW</td>\n",
       "      <td>Sirac Water to water heat pump</td>\n",
       "      <td>5.15</td>\n",
       "      <td>10.0</td>\n",
       "      <td>NaN</td>\n",
       "      <td>0.0</td>\n",
       "    </tr>\n",
       "    <tr>\n",
       "      <th>983</th>\n",
       "      <td>SIRAC</td>\n",
       "      <td>10500</td>\n",
       "      <td>SIRAC LSQ20RW</td>\n",
       "      <td>Sirac Water to water heat pump</td>\n",
       "      <td>5.16</td>\n",
       "      <td>64.0</td>\n",
       "      <td>NaN</td>\n",
       "      <td>0.0</td>\n",
       "    </tr>\n",
       "    <tr>\n",
       "      <th>984</th>\n",
       "      <td>SIRAC</td>\n",
       "      <td>10499</td>\n",
       "      <td>SIRAC LSQ10RW</td>\n",
       "      <td>Sirac Water to water heat pump</td>\n",
       "      <td>5.16</td>\n",
       "      <td>32.0</td>\n",
       "      <td>NaN</td>\n",
       "      <td>0.0</td>\n",
       "    </tr>\n",
       "    <tr>\n",
       "      <th>985</th>\n",
       "      <td>SIRAC</td>\n",
       "      <td>10498</td>\n",
       "      <td>SIRAC LSQ05RW</td>\n",
       "      <td>Sirac Water to water heat pump</td>\n",
       "      <td>5.16</td>\n",
       "      <td>16.0</td>\n",
       "      <td>NaN</td>\n",
       "      <td>0.0</td>\n",
       "    </tr>\n",
       "    <tr>\n",
       "      <th>992</th>\n",
       "      <td>SIRAC</td>\n",
       "      <td>10497</td>\n",
       "      <td>SIRAC LSQ04RW</td>\n",
       "      <td>Sirac Water to water heat pump</td>\n",
       "      <td>5.17</td>\n",
       "      <td>12.0</td>\n",
       "      <td>NaN</td>\n",
       "      <td>0.0</td>\n",
       "    </tr>\n",
       "  </tbody>\n",
       "</table>\n",
       "</div>"
      ],
      "text/plain": [
       "    MANUFACTURER  Product Id        PRODUCT TYPE  \\\n",
       "16    SIRAC       10508        SIRAC LSQ25R        \n",
       "17    SIRAC       10507        SIRAC LSQ20R        \n",
       "18    SIRAC       10506        SIRAC LSQ15R        \n",
       "19    SIRAC       10505        SIRAC LSQ10R        \n",
       "20    SIRAC       10504        SIRAC LSQ06RC       \n",
       "21    SIRAC       10503        SIRAC LSQ05RC       \n",
       "22    SIRAC       10502        SIRAC LSQ04RC       \n",
       "23    SIRAC       10501        SIRAC LSQ03RC       \n",
       "33    RUIDONG     10486        RUIDONG RLSFW010R   \n",
       "39    KELING      10468        KELING FM-180R      \n",
       "40    KELING      10467        KELING FM-130RD     \n",
       "41    KELING      10466        KELING FM-100RD     \n",
       "42    KELING      10465        KELING FM-65RD      \n",
       "43    KELING      10464        KELING FM-45RD      \n",
       "44    KELING      10463        KELING FM-35RD      \n",
       "45    KELING      10462        KELING FM-25RD      \n",
       "46    KELING      10461        KELING FM-130R      \n",
       "47    KELING      10460        KELING FM-100R      \n",
       "48    KELING      10459        KELING FM-65R       \n",
       "49    KELING      10458        KELING FM-45R       \n",
       "50    KELING      10457        KELING FM-35R       \n",
       "51    KELING      10456        KELING FM-25R       \n",
       "261   RUIDONG     10484        RUIDONG RLSW240     \n",
       "262   RUIDONG     10482        RUIDONG RLSW160     \n",
       "292   RUIDONG     10483        RUIDONG RLSW200     \n",
       "308   RUIDONG     10481        RUIDONG RLSW120     \n",
       "659   RUIDONG     10485        RUIDONG RLSW280     \n",
       "980   SIRAC       10496        SIRAC LSQ03RW       \n",
       "983   SIRAC       10500        SIRAC LSQ20RW       \n",
       "984   SIRAC       10499        SIRAC LSQ10RW       \n",
       "985   SIRAC       10498        SIRAC LSQ05RW       \n",
       "992   SIRAC       10497        SIRAC LSQ04RW       \n",
       "\n",
       "                                     Unnamed: 4  Coefficient of Performance  \\\n",
       "16   Sirac low-temperature integrated heat pump  4.30                         \n",
       "17   Sirac low-temperature integrated heat pump  4.30                         \n",
       "18   Sirac low-temperature integrated heat pump  4.30                         \n",
       "19   Sirac low-temperature integrated heat pump  4.30                         \n",
       "20   Sirac low-temperature integrated heat pump  4.30                         \n",
       "21   Sirac low-temperature integrated heat pump  4.30                         \n",
       "22   Sirac low-temperature integrated heat pump  4.30                         \n",
       "23   Sirac low-temperature integrated heat pump  4.30                         \n",
       "33   Ruidong Mini type air cooled heat pump      4.30                         \n",
       "39   Keling Screw compressor Air-water           4.30                         \n",
       "40   Keling low-temperature heat                 4.30                         \n",
       "41   Keling low-temperature heat                 4.30                         \n",
       "42   Keling low-temperature heat                 4.30                         \n",
       "43   Keling low-temperature heat                 4.30                         \n",
       "44   Keling low-temperature heat                 4.30                         \n",
       "45   Keling low-temperature heat                 4.30                         \n",
       "46   Keling Air-water heat pump                  4.30                         \n",
       "47   Keling Air-water heat pump                  4.30                         \n",
       "48   Keling Air-water heat pump                  4.30                         \n",
       "49   Keling Air-water heat pump                  4.30                         \n",
       "50   Keling Air-water heat pump                  4.30                         \n",
       "51   Keling Air-water heat pump                  4.30                         \n",
       "261  Ruidong Water source heat pump              4.39                         \n",
       "262  Ruidong Water source heat pump              4.39                         \n",
       "292  Ruidong Water source heat pump              4.40                         \n",
       "308  Ruidong Water source heat pump              4.41                         \n",
       "659  Ruidong Water source heat pump              4.63                         \n",
       "980  Sirac Water to water heat pump              5.15                         \n",
       "983  Sirac Water to water heat pump              5.16                         \n",
       "984  Sirac Water to water heat pump              5.16                         \n",
       "985  Sirac Water to water heat pump              5.16                         \n",
       "992  Sirac Water to water heat pump              5.17                         \n",
       "\n",
       "     Heating capacity [kW]  Cooling capacity [kW]  \\\n",
       "16   75.0                   0.0                     \n",
       "17   65.0                   0.0                     \n",
       "18   39.0                   0.0                     \n",
       "19   32.0                   0.0                     \n",
       "20   18.0                   0.0                     \n",
       "21   16.5                   0.0                     \n",
       "22   11.9                   0.0                     \n",
       "23   10.3                   0.0                     \n",
       "33   10.3                   10.0                    \n",
       "39   188.0                  170.0                   \n",
       "40   142.0                  130.0                   \n",
       "41   107.0                  95.0                    \n",
       "42   72.0                   65.0                    \n",
       "43   49.0                   45.0                    \n",
       "44   36.0                   33.0                    \n",
       "45   27.0                   23.0                    \n",
       "46   140.0                  130.0                   \n",
       "47   105.0                  95.0                    \n",
       "48   70.0                   65.0                    \n",
       "49   48.0                   45.0                    \n",
       "50   35.0                   33.0                    \n",
       "51   26.0                   23.0                    \n",
       "261  261.0                  246.0                   \n",
       "262  174.0                  164.0                   \n",
       "292  218.0                  205.0                   \n",
       "308  131.0                  123.0                   \n",
       "659  302.0                  293.0                   \n",
       "980  10.0                  NaN                      \n",
       "983  64.0                  NaN                      \n",
       "984  32.0                  NaN                      \n",
       "985  16.0                  NaN                      \n",
       "992  12.0                  NaN                      \n",
       "\n",
       "     Seasonal Coefficient of Performance  \n",
       "16   0.0                                  \n",
       "17   0.0                                  \n",
       "18   0.0                                  \n",
       "19   0.0                                  \n",
       "20   0.0                                  \n",
       "21   0.0                                  \n",
       "22   0.0                                  \n",
       "23   0.0                                  \n",
       "33   0.0                                  \n",
       "39   0.0                                  \n",
       "40   0.0                                  \n",
       "41   0.0                                  \n",
       "42   0.0                                  \n",
       "43   0.0                                  \n",
       "44   0.0                                  \n",
       "45   0.0                                  \n",
       "46   0.0                                  \n",
       "47   0.0                                  \n",
       "48   0.0                                  \n",
       "49   0.0                                  \n",
       "50   0.0                                  \n",
       "51   0.0                                  \n",
       "261  0.0                                  \n",
       "262  0.0                                  \n",
       "292  0.0                                  \n",
       "308  0.0                                  \n",
       "659  0.0                                  \n",
       "980  0.0                                  \n",
       "983  0.0                                  \n",
       "984  0.0                                  \n",
       "985  0.0                                  \n",
       "992  0.0                                  "
      ]
     },
     "execution_count": 13,
     "metadata": {},
     "output_type": "execute_result"
    }
   ],
   "source": [
    "file[(file[\"Seasonal Coefficient of Performance\"]==0)|(file[\"Seasonal Coefficient of Performance\"]==np.NaN)] #"
   ]
  },
  {
   "cell_type": "markdown",
   "metadata": {},
   "source": [
    "Najveći broj toplotnih pumpi ima kapacitet grijanja do 200 kW, dim da kod pojedinih kapacitet grijanja ide do 1400 kW.Najveći broj posmatranih toplotnih pumpi ima kapacitet hlađenja do 100 kW,manji broj do 200 kW, uz velika postrojenja do 900 kW."
   ]
  },
  {
   "cell_type": "code",
   "execution_count": 14,
   "metadata": {},
   "outputs": [
    {
     "data": {
      "image/png": "[encoded data removed]",
      "text/plain": [
       "<Figure size 720x288 with 2 Axes>"
      ]
     },
     "metadata": {
      "needs_background": "light"
     },
     "output_type": "display_data"
    }
   ],
   "source": [
    "fig, ax=plt.subplots(ncols=2, figsize=(10,4))\n",
    "\n",
    "\n",
    "file[\"Heating capacity [kW]\"].hist(ax=ax[0])\n",
    "ax[0].set_xticks(np.arange(0,2000,200))\n",
    "ax[0].set_xlabel(\"Heating capacity, kW\")\n",
    "\n",
    "file[file[\"Cooling capacity [kW]\"]!=0][\"Cooling capacity [kW]\"].hist(ax=ax[1])\n",
    "ax[1].set_xticks(np.arange(0,1000,100))\n",
    "ax[1].set_xlabel(\"Cooling capacity, kW\")\n",
    "\n",
    "\n",
    "plt.show()"
   ]
  },
  {
   "cell_type": "markdown",
   "metadata": {},
   "source": [
    "Gledajući koeficijent učinka, on se za najveći broj modela kreće u vrijednostima od 4.2 do 4.8. Najveći broj toplotnih pumpi za koje su dostupni podaci imaju SCOP između 3.5 i 5.5. Ekstremne vrijednosti nastaju nakon (300-350) kW za oba moda. "
   ]
  },
  {
   "cell_type": "code",
   "execution_count": 15,
   "metadata": {},
   "outputs": [
    {
     "data": {
      "image/png": "[encoded data removed]",
      "text/plain": [
       "<Figure size 720x288 with 2 Axes>"
      ]
     },
     "metadata": {
      "needs_background": "light"
     },
     "output_type": "display_data"
    }
   ],
   "source": [
    "fig, ax=plt.subplots(ncols=2, figsize=(10,4))\n",
    "\n",
    "\n",
    "file[\"Coefficient of Performance\"].hist(ax=ax[0])\n",
    "ax[0].set_xticks(np.arange(4,8,0.2))\n",
    "ax[0].set_xlabel(\"COP\")\n",
    "\n",
    "\n",
    "file[file[\"Seasonal Coefficient of Performance\"]!=0][\"Seasonal Coefficient of Performance\"].hist(ax=ax[1])\n",
    "ax[1].set_xticks(np.arange(2,8,0.5))\n",
    "ax[1].set_xlabel(\"SCOP\")\n",
    "plt.show()\n"
   ]
  },
  {
   "cell_type": "code",
   "execution_count": 16,
   "metadata": {},
   "outputs": [
    {
     "data": {
      "text/plain": [
       "Text(0.5, 1.0, 'COP')"
      ]
     },
     "execution_count": 16,
     "metadata": {},
     "output_type": "execute_result"
    },
    {
     "data": {
      "image/png": "[encoded data removed]",
      "text/plain": [
       "<Figure size 1440x720 with 4 Axes>"
      ]
     },
     "metadata": {},
     "output_type": "display_data"
    }
   ],
   "source": [
    "sns.set_theme(style=\"whitegrid\")\n",
    "fig, ax=plt.subplots(nrows=2,ncols=2, figsize=(20,10))\n",
    "\n",
    "sns.boxplot(x=file[\"Heating capacity [kW]\"],ax=ax[0,0])\n",
    "ax[0,0].set_title(\"Kapacitet grijanja\")\n",
    "\n",
    "ax[0,1] = sns.boxplot(x=file[\"Cooling capacity [kW]\"],ax=ax[0,1],color=\"orange\")\n",
    "ax[0,1].set_title(\"Kapacitet hlađenja\")\n",
    "\n",
    "\n",
    "sns.boxplot(x=file[file[\"Seasonal Coefficient of Performance\"]!=0][\"Seasonal Coefficient of Performance\"],ax=ax[1,0])\n",
    "ax[1,0].set_title(\"Sezonski COP\")\n",
    "\n",
    "ax[1,1] = sns.boxplot(x=file[\"Coefficient of Performance\"],ax=ax[1,1],color=\"orange\")\n",
    "ax[1,1].set_title(\"COP\")\n"
   ]
  },
  {
   "cell_type": "markdown",
   "metadata": {},
   "source": [
    "Maksimalni SCOP u vrijednosti od 8  je zabilježen kod proizvođača HOVAL toplotnih pumpi za grijanje i hlađenje objekata kapaciteta grijanja (8.60 - 15.24)kW sa integrisanim rezervoarom i varijabilnim izlazom u toku godine."
   ]
  },
  {
   "cell_type": "code",
   "execution_count": 17,
   "metadata": {},
   "outputs": [
    {
     "data": {
      "text/html": [
       "<div>\n",
       "<style scoped>\n",
       "    .dataframe tbody tr th:only-of-type {\n",
       "        vertical-align: middle;\n",
       "    }\n",
       "\n",
       "    .dataframe tbody tr th {\n",
       "        vertical-align: top;\n",
       "    }\n",
       "\n",
       "    .dataframe thead th {\n",
       "        text-align: right;\n",
       "    }\n",
       "</style>\n",
       "<table border=\"1\" class=\"dataframe\">\n",
       "  <thead>\n",
       "    <tr style=\"text-align: right;\">\n",
       "      <th></th>\n",
       "      <th>MANUFACTURER</th>\n",
       "      <th>Product Id</th>\n",
       "      <th>PRODUCT TYPE</th>\n",
       "      <th>Unnamed: 4</th>\n",
       "      <th>Coefficient of Performance</th>\n",
       "      <th>Heating capacity [kW]</th>\n",
       "      <th>Cooling capacity [kW]</th>\n",
       "      <th>Seasonal Coefficient of Performance</th>\n",
       "    </tr>\n",
       "  </thead>\n",
       "  <tbody>\n",
       "    <tr>\n",
       "      <th>1176</th>\n",
       "      <td>HOVAL</td>\n",
       "      <td>29650</td>\n",
       "      <td>HOVAL ULTRASOURCE T COMPACT (13/200)</td>\n",
       "      <td>Modulating heat pump system for heating and cooling in the living area.</td>\n",
       "      <td>6.30</td>\n",
       "      <td>8.60</td>\n",
       "      <td>NaN</td>\n",
       "      <td>8.0</td>\n",
       "    </tr>\n",
       "    <tr>\n",
       "      <th>1177</th>\n",
       "      <td>HOVAL</td>\n",
       "      <td>29649</td>\n",
       "      <td>HOVAL ULTRASOURCE T COMFORT (13)</td>\n",
       "      <td>Modulating heat pump system for heating and cooling in the living area.</td>\n",
       "      <td>6.30</td>\n",
       "      <td>8.60</td>\n",
       "      <td>NaN</td>\n",
       "      <td>8.0</td>\n",
       "    </tr>\n",
       "    <tr>\n",
       "      <th>1181</th>\n",
       "      <td>HOVAL</td>\n",
       "      <td>29651</td>\n",
       "      <td>HOVAL ULTRASOURCE T COMFORT (17)</td>\n",
       "      <td>Modulating heat pump system for heating and cooling in the living area.</td>\n",
       "      <td>6.46</td>\n",
       "      <td>15.24</td>\n",
       "      <td>NaN</td>\n",
       "      <td>8.0</td>\n",
       "    </tr>\n",
       "  </tbody>\n",
       "</table>\n",
       "</div>"
      ],
      "text/plain": [
       "     MANUFACTURER  Product Id                           PRODUCT TYPE  \\\n",
       "1176   HOVAL       29650        HOVAL ULTRASOURCE T COMPACT (13/200)   \n",
       "1177   HOVAL       29649        HOVAL ULTRASOURCE T COMFORT (13)       \n",
       "1181   HOVAL       29651        HOVAL ULTRASOURCE T COMFORT (17)       \n",
       "\n",
       "                                                                   Unnamed: 4  \\\n",
       "1176  Modulating heat pump system for heating and cooling in the living area.   \n",
       "1177  Modulating heat pump system for heating and cooling in the living area.   \n",
       "1181  Modulating heat pump system for heating and cooling in the living area.   \n",
       "\n",
       "      Coefficient of Performance  Heating capacity [kW]  \\\n",
       "1176  6.30                        8.60                    \n",
       "1177  6.30                        8.60                    \n",
       "1181  6.46                        15.24                   \n",
       "\n",
       "      Cooling capacity [kW]  Seasonal Coefficient of Performance  \n",
       "1176 NaN                     8.0                                  \n",
       "1177 NaN                     8.0                                  \n",
       "1181 NaN                     8.0                                  "
      ]
     },
     "execution_count": 17,
     "metadata": {},
     "output_type": "execute_result"
    }
   ],
   "source": [
    "file[file[\"Seasonal Coefficient of Performance\"]==file[\"Seasonal Coefficient of Performance\"].max()]"
   ]
  },
  {
   "cell_type": "markdown",
   "metadata": {},
   "source": [
    "Minimalni SCOP je zabilježen kod proizvođača FUJITSU za split sistem sa toplotnim učinkom od 8 kW i iznosi 2.71. Pritom COP iznosi 4.5 što je značajno veće."
   ]
  },
  {
   "cell_type": "code",
   "execution_count": 18,
   "metadata": {},
   "outputs": [
    {
     "data": {
      "text/html": [
       "<div>\n",
       "<style scoped>\n",
       "    .dataframe tbody tr th:only-of-type {\n",
       "        vertical-align: middle;\n",
       "    }\n",
       "\n",
       "    .dataframe tbody tr th {\n",
       "        vertical-align: top;\n",
       "    }\n",
       "\n",
       "    .dataframe thead th {\n",
       "        text-align: right;\n",
       "    }\n",
       "</style>\n",
       "<table border=\"1\" class=\"dataframe\">\n",
       "  <thead>\n",
       "    <tr style=\"text-align: right;\">\n",
       "      <th></th>\n",
       "      <th>MANUFACTURER</th>\n",
       "      <th>Product Id</th>\n",
       "      <th>PRODUCT TYPE</th>\n",
       "      <th>Unnamed: 4</th>\n",
       "      <th>Coefficient of Performance</th>\n",
       "      <th>Heating capacity [kW]</th>\n",
       "      <th>Cooling capacity [kW]</th>\n",
       "      <th>Seasonal Coefficient of Performance</th>\n",
       "    </tr>\n",
       "  </thead>\n",
       "  <tbody>\n",
       "    <tr>\n",
       "      <th>422</th>\n",
       "      <td>FUJITSU</td>\n",
       "      <td>30820</td>\n",
       "      <td>WATERSTAGE HP DUO 14</td>\n",
       "      <td>Split Type High Power Series WGYG140DG6 / WOYG140LCTA WATERSTAGE AIR-TO-WATER system is an economical and clean water heating system that uses heat pump technology</td>\n",
       "      <td>4.5</td>\n",
       "      <td>8.0</td>\n",
       "      <td>NaN</td>\n",
       "      <td>2.71</td>\n",
       "    </tr>\n",
       "  </tbody>\n",
       "</table>\n",
       "</div>"
      ],
      "text/plain": [
       "    MANUFACTURER  Product Id           PRODUCT TYPE  \\\n",
       "422   FUJITSU     30820        WATERSTAGE HP DUO 14   \n",
       "\n",
       "                                                                                                                                                              Unnamed: 4  \\\n",
       "422  Split Type High Power Series WGYG140DG6 / WOYG140LCTA WATERSTAGE AIR-TO-WATER system is an economical and clean water heating system that uses heat pump technology   \n",
       "\n",
       "     Coefficient of Performance  Heating capacity [kW]  Cooling capacity [kW]  \\\n",
       "422  4.5                         8.0                   NaN                      \n",
       "\n",
       "     Seasonal Coefficient of Performance  \n",
       "422  2.71                                 "
      ]
     },
     "execution_count": 18,
     "metadata": {},
     "output_type": "execute_result"
    }
   ],
   "source": [
    "file[file[\"Seasonal Coefficient of Performance\"]==file[file[\"Seasonal Coefficient of Performance\"]!=0][\"Seasonal Coefficient of Performance\"].min()]"
   ]
  },
  {
   "cell_type": "markdown",
   "metadata": {},
   "source": [
    "Kada je riječ o radnim medijima, posmatrat  će se oni čiji je SCOP različit od nule. Za neke toplotne pumpe se mogu vidjeti radni mediji, te će se izvršiti selekcija na one koji rade kao zrak - voda (146) i tlo - voda (8), te djelimična selekcija na one zrak - zrak (20)."
   ]
  },
  {
   "cell_type": "code",
   "execution_count": 19,
   "metadata": {},
   "outputs": [],
   "source": [
    "file_scop=file[file[\"Seasonal Coefficient of Performance\"]>0]\n",
    "\n",
    "file_air=file_scop[file_scop[\"Unnamed: 4\"].str.contains(\"zrak|air\",case=False)]"
   ]
  },
  {
   "cell_type": "markdown",
   "metadata": {},
   "source": [
    "zrak - voda:"
   ]
  },
  {
   "cell_type": "code",
   "execution_count": 20,
   "metadata": {},
   "outputs": [],
   "source": [
    "file_air_water=file_air[file_air[\"Unnamed: 4\"].str.contains(\"water|voda|brine\",case=False)]\n"
   ]
  },
  {
   "cell_type": "code",
   "execution_count": 21,
   "metadata": {},
   "outputs": [
    {
     "name": "stdout",
     "output_type": "stream",
     "text": [
      "Zrak - voda,  broj: 146\n"
     ]
    },
    {
     "data": {
      "text/html": [
       "<div>\n",
       "<style scoped>\n",
       "    .dataframe tbody tr th:only-of-type {\n",
       "        vertical-align: middle;\n",
       "    }\n",
       "\n",
       "    .dataframe tbody tr th {\n",
       "        vertical-align: top;\n",
       "    }\n",
       "\n",
       "    .dataframe thead th {\n",
       "        text-align: right;\n",
       "    }\n",
       "</style>\n",
       "<table border=\"1\" class=\"dataframe\">\n",
       "  <thead>\n",
       "    <tr style=\"text-align: right;\">\n",
       "      <th></th>\n",
       "      <th>MANUFACTURER</th>\n",
       "      <th>Product Id</th>\n",
       "      <th>PRODUCT TYPE</th>\n",
       "      <th>Unnamed: 4</th>\n",
       "      <th>Coefficient of Performance</th>\n",
       "      <th>Heating capacity [kW]</th>\n",
       "      <th>Cooling capacity [kW]</th>\n",
       "      <th>Seasonal Coefficient of Performance</th>\n",
       "    </tr>\n",
       "  </thead>\n",
       "  <tbody>\n",
       "    <tr>\n",
       "      <th>1</th>\n",
       "      <td>HITACHI</td>\n",
       "      <td>28846</td>\n",
       "      <td>HITACHI YUTAKI S 10</td>\n",
       "      <td>Heat pump SPLIT TYPE air to water</td>\n",
       "      <td>4.29</td>\n",
       "      <td>32.0</td>\n",
       "      <td>21.0</td>\n",
       "      <td>3.60</td>\n",
       "    </tr>\n",
       "    <tr>\n",
       "      <th>3</th>\n",
       "      <td>FUJITSU</td>\n",
       "      <td>30818</td>\n",
       "      <td>WATERSTAGE HP 11T</td>\n",
       "      <td>Split Type High Power Series WSYK160DG9 / WOYK112LCTA WATERSTAGE AIR-TO-WATER system is an economical and clean water heating system that uses heat pump technology</td>\n",
       "      <td>4.30</td>\n",
       "      <td>11.0</td>\n",
       "      <td>NaN</td>\n",
       "      <td>3.17</td>\n",
       "    </tr>\n",
       "  </tbody>\n",
       "</table>\n",
       "</div>"
      ],
      "text/plain": [
       "  MANUFACTURER  Product Id          PRODUCT TYPE  \\\n",
       "1   HITACHI     28846        HITACHI YUTAKI S 10   \n",
       "3   FUJITSU     30818        WATERSTAGE HP 11T     \n",
       "\n",
       "                                                                                                                                                            Unnamed: 4  \\\n",
       "1  Heat pump SPLIT TYPE air to water                                                                                                                                     \n",
       "3  Split Type High Power Series WSYK160DG9 / WOYK112LCTA WATERSTAGE AIR-TO-WATER system is an economical and clean water heating system that uses heat pump technology   \n",
       "\n",
       "   Coefficient of Performance  Heating capacity [kW]  Cooling capacity [kW]  \\\n",
       "1  4.29                        32.0                   21.0                    \n",
       "3  4.30                        11.0                  NaN                      \n",
       "\n",
       "   Seasonal Coefficient of Performance  \n",
       "1  3.60                                 \n",
       "3  3.17                                 "
      ]
     },
     "execution_count": 21,
     "metadata": {},
     "output_type": "execute_result"
    }
   ],
   "source": [
    "print(\"Zrak - voda,  broj:\",len(file_air_water))\n",
    "file_air_water.head(2)\n"
   ]
  },
  {
   "cell_type": "markdown",
   "metadata": {},
   "source": [
    "zrak - zrak "
   ]
  },
  {
   "cell_type": "code",
   "execution_count": 22,
   "metadata": {},
   "outputs": [],
   "source": [
    "file_air_air=file_air[file_air[\"Product Id\"].isin(file_air_water[\"Product Id\"]) ==False]"
   ]
  },
  {
   "cell_type": "code",
   "execution_count": 23,
   "metadata": {},
   "outputs": [
    {
     "name": "stdout",
     "output_type": "stream",
     "text": [
      "Zrak-zrak broj: 20\n"
     ]
    }
   ],
   "source": [
    "print(\"Zrak-zrak broj:\",len(file_air_air))"
   ]
  },
  {
   "cell_type": "markdown",
   "metadata": {},
   "source": [
    "zemlja - voda"
   ]
  },
  {
   "cell_type": "code",
   "execution_count": 26,
   "metadata": {},
   "outputs": [],
   "source": [
    "file_ground_water=file_scop[file_scop[\"Unnamed: 4\"].str.contains(\"zemlja|earth\",case=False)]"
   ]
  },
  {
   "cell_type": "code",
   "execution_count": 28,
   "metadata": {
    "scrolled": true
   },
   "outputs": [
    {
     "name": "stdout",
     "output_type": "stream",
     "text": [
      "Tlo - voda broj: 8\n"
     ]
    },
    {
     "data": {
      "text/html": [
       "<div>\n",
       "<style scoped>\n",
       "    .dataframe tbody tr th:only-of-type {\n",
       "        vertical-align: middle;\n",
       "    }\n",
       "\n",
       "    .dataframe tbody tr th {\n",
       "        vertical-align: top;\n",
       "    }\n",
       "\n",
       "    .dataframe thead th {\n",
       "        text-align: right;\n",
       "    }\n",
       "</style>\n",
       "<table border=\"1\" class=\"dataframe\">\n",
       "  <thead>\n",
       "    <tr style=\"text-align: right;\">\n",
       "      <th></th>\n",
       "      <th>MANUFACTURER</th>\n",
       "      <th>Product Id</th>\n",
       "      <th>PRODUCT TYPE</th>\n",
       "      <th>Unnamed: 4</th>\n",
       "      <th>Coefficient of Performance</th>\n",
       "      <th>Heating capacity [kW]</th>\n",
       "      <th>Cooling capacity [kW]</th>\n",
       "      <th>Seasonal Coefficient of Performance</th>\n",
       "    </tr>\n",
       "  </thead>\n",
       "  <tbody>\n",
       "    <tr>\n",
       "      <th>552</th>\n",
       "      <td>CTC</td>\n",
       "      <td>32186</td>\n",
       "      <td>CTC ECOPART 425 PRO, 400 V 3N</td>\n",
       "      <td>CTC toplotna pumpa zemlja/voda ili voda/voda</td>\n",
       "      <td>4.58</td>\n",
       "      <td>24.0</td>\n",
       "      <td>NaN</td>\n",
       "      <td>4.80</td>\n",
       "    </tr>\n",
       "    <tr>\n",
       "      <th>553</th>\n",
       "      <td>CTC</td>\n",
       "      <td>32185</td>\n",
       "      <td>CTC ECOPART 425, 400 V 3N</td>\n",
       "      <td>CTC toplotna pumpa zemlja/voda ili voda/voda</td>\n",
       "      <td>4.58</td>\n",
       "      <td>24.0</td>\n",
       "      <td>NaN</td>\n",
       "      <td>4.80</td>\n",
       "    </tr>\n",
       "    <tr>\n",
       "      <th>891</th>\n",
       "      <td>CTC</td>\n",
       "      <td>32183</td>\n",
       "      <td>CTC ECOPART 414, 400 V 3N</td>\n",
       "      <td>CTC toplotna pumpa zemlja/voda ili voda/voda</td>\n",
       "      <td>4.95</td>\n",
       "      <td>14.0</td>\n",
       "      <td>NaN</td>\n",
       "      <td>4.95</td>\n",
       "    </tr>\n",
       "  </tbody>\n",
       "</table>\n",
       "</div>"
      ],
      "text/plain": [
       "    MANUFACTURER  Product Id                    PRODUCT TYPE  \\\n",
       "552   CTC         32186        CTC ECOPART 425 PRO, 400 V 3N   \n",
       "553   CTC         32185        CTC ECOPART 425, 400 V 3N       \n",
       "891   CTC         32183        CTC ECOPART 414, 400 V 3N       \n",
       "\n",
       "                                       Unnamed: 4  Coefficient of Performance  \\\n",
       "552  CTC toplotna pumpa zemlja/voda ili voda/voda  4.58                         \n",
       "553  CTC toplotna pumpa zemlja/voda ili voda/voda  4.58                         \n",
       "891  CTC toplotna pumpa zemlja/voda ili voda/voda  4.95                         \n",
       "\n",
       "     Heating capacity [kW]  Cooling capacity [kW]  \\\n",
       "552  24.0                  NaN                      \n",
       "553  24.0                  NaN                      \n",
       "891  14.0                  NaN                      \n",
       "\n",
       "     Seasonal Coefficient of Performance  \n",
       "552  4.80                                 \n",
       "553  4.80                                 \n",
       "891  4.95                                 "
      ]
     },
     "execution_count": 28,
     "metadata": {},
     "output_type": "execute_result"
    }
   ],
   "source": [
    "print(\"Tlo - voda broj:\",len(file_ground_water))\n",
    "file_ground_water.head(3)"
   ]
  },
  {
   "cell_type": "code",
   "execution_count": 29,
   "metadata": {},
   "outputs": [
    {
     "name": "stderr",
     "output_type": "stream",
     "text": [
      "C:\\Users\\Ehlimana\\anaconda3\\lib\\site-packages\\pandas\\core\\indexing.py:1597: SettingWithCopyWarning: \n",
      "A value is trying to be set on a copy of a slice from a DataFrame.\n",
      "Try using .loc[row_indexer,col_indexer] = value instead\n",
      "\n",
      "See the caveats in the documentation: https://pandas.pydata.org/pandas-docs/stable/user_guide/indexing.html#returning-a-view-versus-a-copy\n",
      "  self.obj[key] = value\n",
      "C:\\Users\\Ehlimana\\anaconda3\\lib\\site-packages\\pandas\\core\\indexing.py:1720: SettingWithCopyWarning: \n",
      "A value is trying to be set on a copy of a slice from a DataFrame.\n",
      "Try using .loc[row_indexer,col_indexer] = value instead\n",
      "\n",
      "See the caveats in the documentation: https://pandas.pydata.org/pandas-docs/stable/user_guide/indexing.html#returning-a-view-versus-a-copy\n",
      "  self._setitem_single_column(loc, value, pi)\n"
     ]
    }
   ],
   "source": [
    "file_air_water.loc[:,\"Medij\"]=\"Z-V\"\n",
    "file_ground_water.loc[:,\"Medij\"]=\"T-V\"\n",
    "file_air_air.loc[:,\"Medij\"]=\"Z-Z\""
   ]
  },
  {
   "cell_type": "markdown",
   "metadata": {},
   "source": [
    "Nakon što se izvršila klasifikacija po radnim medijima, pojedinačni setovi će se opet spojiti u jedan veliki."
   ]
  },
  {
   "cell_type": "code",
   "execution_count": 30,
   "metadata": {},
   "outputs": [],
   "source": [
    "file_tot=pd.concat([file_air_water,file_ground_water,file_air_air],axis=0)"
   ]
  },
  {
   "cell_type": "code",
   "execution_count": 31,
   "metadata": {},
   "outputs": [
    {
     "data": {
      "text/html": [
       "<div>\n",
       "<style scoped>\n",
       "    .dataframe tbody tr th:only-of-type {\n",
       "        vertical-align: middle;\n",
       "    }\n",
       "\n",
       "    .dataframe tbody tr th {\n",
       "        vertical-align: top;\n",
       "    }\n",
       "\n",
       "    .dataframe thead th {\n",
       "        text-align: right;\n",
       "    }\n",
       "</style>\n",
       "<table border=\"1\" class=\"dataframe\">\n",
       "  <thead>\n",
       "    <tr style=\"text-align: right;\">\n",
       "      <th></th>\n",
       "      <th>MANUFACTURER</th>\n",
       "      <th>Product Id</th>\n",
       "      <th>PRODUCT TYPE</th>\n",
       "      <th>Unnamed: 4</th>\n",
       "      <th>Coefficient of Performance</th>\n",
       "      <th>Heating capacity [kW]</th>\n",
       "      <th>Cooling capacity [kW]</th>\n",
       "      <th>Seasonal Coefficient of Performance</th>\n",
       "      <th>Medij</th>\n",
       "    </tr>\n",
       "  </thead>\n",
       "  <tbody>\n",
       "    <tr>\n",
       "      <th>1</th>\n",
       "      <td>HITACHI</td>\n",
       "      <td>28846</td>\n",
       "      <td>HITACHI YUTAKI S 10</td>\n",
       "      <td>Heat pump SPLIT TYPE air to water</td>\n",
       "      <td>4.29</td>\n",
       "      <td>32.0</td>\n",
       "      <td>21.0</td>\n",
       "      <td>3.60</td>\n",
       "      <td>Z-V</td>\n",
       "    </tr>\n",
       "    <tr>\n",
       "      <th>3</th>\n",
       "      <td>FUJITSU</td>\n",
       "      <td>30818</td>\n",
       "      <td>WATERSTAGE HP 11T</td>\n",
       "      <td>Split Type High Power Series WSYK160DG9 / WOYK112LCTA WATERSTAGE AIR-TO-WATER system is an economical and clean water heating system that uses heat pump technology</td>\n",
       "      <td>4.30</td>\n",
       "      <td>11.0</td>\n",
       "      <td>NaN</td>\n",
       "      <td>3.17</td>\n",
       "      <td>Z-V</td>\n",
       "    </tr>\n",
       "  </tbody>\n",
       "</table>\n",
       "</div>"
      ],
      "text/plain": [
       "  MANUFACTURER  Product Id          PRODUCT TYPE  \\\n",
       "1   HITACHI     28846        HITACHI YUTAKI S 10   \n",
       "3   FUJITSU     30818        WATERSTAGE HP 11T     \n",
       "\n",
       "                                                                                                                                                            Unnamed: 4  \\\n",
       "1  Heat pump SPLIT TYPE air to water                                                                                                                                     \n",
       "3  Split Type High Power Series WSYK160DG9 / WOYK112LCTA WATERSTAGE AIR-TO-WATER system is an economical and clean water heating system that uses heat pump technology   \n",
       "\n",
       "   Coefficient of Performance  Heating capacity [kW]  Cooling capacity [kW]  \\\n",
       "1  4.29                        32.0                   21.0                    \n",
       "3  4.30                        11.0                  NaN                      \n",
       "\n",
       "   Seasonal Coefficient of Performance Medij  \n",
       "1  3.60                                 Z-V   \n",
       "3  3.17                                 Z-V   "
      ]
     },
     "execution_count": 31,
     "metadata": {},
     "output_type": "execute_result"
    }
   ],
   "source": [
    "file_tot.head(2)"
   ]
  },
  {
   "cell_type": "markdown",
   "metadata": {},
   "source": [
    "Očekivani, najveći SCOP imaju toplotne pumpe tlo - voda radi stabilnije temperature tla tokom godine."
   ]
  },
  {
   "cell_type": "code",
   "execution_count": 32,
   "metadata": {},
   "outputs": [
    {
     "data": {
      "image/png": "[encoded data removed]",
      "text/plain": [
       "<Figure size 432x288 with 1 Axes>"
      ]
     },
     "metadata": {},
     "output_type": "display_data"
    }
   ],
   "source": [
    "x = sns.boxplot(x=\"Medij\", y=\"Seasonal Coefficient of Performance\",\n",
    "                 data=file_tot)"
   ]
  },
  {
   "cell_type": "markdown",
   "metadata": {},
   "source": [
    "Toplotne pumpe tlo - voda su uglavnom primjetne kod kapaciteta grijanja do 30 KW, dok veće kapacitete pokrivaju uglvnom pumpe zrak - voda. "
   ]
  },
  {
   "cell_type": "code",
   "execution_count": 33,
   "metadata": {},
   "outputs": [
    {
     "data": {
      "text/plain": [
       "<AxesSubplot:xlabel='Cooling capacity [kW]', ylabel='Seasonal Coefficient of Performance'>"
      ]
     },
     "execution_count": 33,
     "metadata": {},
     "output_type": "execute_result"
    },
    {
     "data": {
      "image/png": "[encoded data removed]",
      "text/plain": [
       "<Figure size 720x432 with 2 Axes>"
      ]
     },
     "metadata": {},
     "output_type": "display_data"
    }
   ],
   "source": [
    "fig, ax=plt.subplots(ncols=2, figsize=(10,6))\n",
    "\n",
    "sns.scatterplot(\n",
    "    data=file_tot,\n",
    "    x=\"Heating capacity [kW]\", y=\"Seasonal Coefficient of Performance\",\n",
    "    hue=\"Medij\",ax=ax[0])\n",
    "\n",
    "\n",
    "sns.scatterplot(\n",
    "    data=file_tot,\n",
    "    x=\"Cooling capacity [kW]\", y=\"Seasonal Coefficient of Performance\",\n",
    "    hue=\"Medij\",ax=ax[1])"
   ]
  },
  {
   "cell_type": "markdown",
   "metadata": {},
   "source": [
    "# Kotlovi - analiza"
   ]
  },
  {
   "cell_type": "markdown",
   "metadata": {},
   "source": [
    "Za analizu tržišta kotlova uzeta su 524 kotla iz baze od različitih proizvođača."
   ]
  },
  {
   "cell_type": "code",
   "execution_count": 34,
   "metadata": {},
   "outputs": [],
   "source": [
    "file_boiler=pd.read_excel(r\"FILES\\HEAT\\BoilerS.xlsx\",header=0)"
   ]
  },
  {
   "cell_type": "code",
   "execution_count": 35,
   "metadata": {},
   "outputs": [
    {
     "data": {
      "text/html": [
       "<div>\n",
       "<style scoped>\n",
       "    .dataframe tbody tr th:only-of-type {\n",
       "        vertical-align: middle;\n",
       "    }\n",
       "\n",
       "    .dataframe tbody tr th {\n",
       "        vertical-align: top;\n",
       "    }\n",
       "\n",
       "    .dataframe thead th {\n",
       "        text-align: right;\n",
       "    }\n",
       "</style>\n",
       "<table border=\"1\" class=\"dataframe\">\n",
       "  <thead>\n",
       "    <tr style=\"text-align: right;\">\n",
       "      <th></th>\n",
       "      <th>Unnamed: 0</th>\n",
       "      <th>MANUFACTURER</th>\n",
       "      <th>Product Id</th>\n",
       "      <th>PRODUCT TYPE</th>\n",
       "      <th>Type</th>\n",
       "      <th>Thermal Efficiency [%]</th>\n",
       "      <th>Combustion technology</th>\n",
       "      <th>Capacity [kW]</th>\n",
       "      <th>Output</th>\n",
       "      <th>Fuel</th>\n",
       "      <th>Efficiency label</th>\n",
       "      <th>Unnamed: 11</th>\n",
       "      <th>Boiler</th>\n",
       "    </tr>\n",
       "  </thead>\n",
       "  <tbody>\n",
       "    <tr>\n",
       "      <th>0</th>\n",
       "      <td>0</td>\n",
       "      <td>CENTROMETAL</td>\n",
       "      <td>1849</td>\n",
       "      <td>CENTROMETAL CENTROPELET Z 6</td>\n",
       "      <td>Centrometal wood pellet stove, 5.5kW, type Centrometal CentroPelet Z 6</td>\n",
       "      <td>90</td>\n",
       "      <td>STANDARD</td>\n",
       "      <td>5.50</td>\n",
       "      <td>Heat</td>\n",
       "      <td>BIOMASS</td>\n",
       "      <td>NaN</td>\n",
       "      <td>NaN</td>\n",
       "      <td>NaN</td>\n",
       "    </tr>\n",
       "    <tr>\n",
       "      <th>1</th>\n",
       "      <td>1</td>\n",
       "      <td>THERMOFLUX</td>\n",
       "      <td>31184</td>\n",
       "      <td>PELLET STOVE ADELE 6</td>\n",
       "      <td>Pellet stoves</td>\n",
       "      <td>90</td>\n",
       "      <td>ATMOSPHERIC</td>\n",
       "      <td>6.00</td>\n",
       "      <td>Heat</td>\n",
       "      <td>NaN</td>\n",
       "      <td>A++</td>\n",
       "      <td>NaN</td>\n",
       "      <td>NaN</td>\n",
       "    </tr>\n",
       "    <tr>\n",
       "      <th>2</th>\n",
       "      <td>2</td>\n",
       "      <td>ALFA-PLAM</td>\n",
       "      <td>32930</td>\n",
       "      <td>ALFA 90 PELET</td>\n",
       "      <td>Pellet stove</td>\n",
       "      <td>86</td>\n",
       "      <td>ATMOSPHERIC</td>\n",
       "      <td>8.00</td>\n",
       "      <td>Heat</td>\n",
       "      <td>NaN</td>\n",
       "      <td>A+</td>\n",
       "      <td>NaN</td>\n",
       "      <td>NaN</td>\n",
       "    </tr>\n",
       "  </tbody>\n",
       "</table>\n",
       "</div>"
      ],
      "text/plain": [
       "   Unnamed: 0  MANUFACTURER  Product Id                  PRODUCT TYPE  \\\n",
       "0  0            CENTROMETAL  1849         CENTROMETAL CENTROPELET Z 6   \n",
       "1  1            THERMOFLUX   31184        PELLET STOVE ADELE 6          \n",
       "2  2            ALFA-PLAM    32930        ALFA 90 PELET                 \n",
       "\n",
       "                                                                     Type  \\\n",
       "0  Centrometal wood pellet stove, 5.5kW, type Centrometal CentroPelet Z 6   \n",
       "1  Pellet stoves                                                            \n",
       "2  Pellet stove                                                             \n",
       "\n",
       "   Thermal Efficiency [%] Combustion technology Capacity [kW] Output     Fuel  \\\n",
       "0  90                      STANDARD              5.50          Heat   BIOMASS   \n",
       "1  90                      ATMOSPHERIC           6.00          Heat   NaN       \n",
       "2  86                      ATMOSPHERIC           8.00          Heat   NaN       \n",
       "\n",
       "  Efficiency label Unnamed: 11  Boiler  \n",
       "0  NaN              NaN        NaN      \n",
       "1  A++              NaN        NaN      \n",
       "2  A+               NaN        NaN      "
      ]
     },
     "execution_count": 35,
     "metadata": {},
     "output_type": "execute_result"
    }
   ],
   "source": [
    "file_boiler.shape\n",
    "file_boiler.head(3)"
   ]
  },
  {
   "cell_type": "markdown",
   "metadata": {},
   "source": [
    "Kotlovi iz baze koriste biomasu i gas. Za pojedine kotlove kolona koja označava gorivo je prazna, te, ukoliko se u opisu nalazi pelet, tom kotlu će se kao gorivo dodati oznaka biomas2. Inače, u nekim slučajevima se koristi i drvna sječka. Ove dvije vrste goriva će se spojiti u jednu koja će se odnositi na biomasu."
   ]
  },
  {
   "cell_type": "code",
   "execution_count": 36,
   "metadata": {},
   "outputs": [],
   "source": [
    "file_boiler.loc[file_boiler[\"Unnamed: 11\"].str.contains(\"pellet\",case=False,na=False),\"Fuel\"]=\"BIOMASS\"\n",
    "file_boiler.loc[file_boiler[\"Fuel\"]==\"BIOMASS (PELLETS)\",\"Fuel\"]=\"BIOMASS\"\n",
    "\n",
    "file_boiler.loc[file_boiler[\"Type\"].str.contains(\"pellet\",case=False,na=False),\"Fuel\"]=\"BIOMASS\"\n",
    "file_boiler.loc[file_boiler[\"PRODUCT TYPE\"].str.contains(\"pellet\",case=False,na=False),\"Fuel\"]=\"BIOMASS\"\n",
    "file_boiler.loc[file_boiler[\"Unnamed: 11\"].str.contains(\"combined|wood\",case=False,na=False),\"Fuel\"]=\"BIOMASS\""
   ]
  },
  {
   "cell_type": "code",
   "execution_count": 37,
   "metadata": {},
   "outputs": [
    {
     "data": {
      "text/html": [
       "<div>\n",
       "<style scoped>\n",
       "    .dataframe tbody tr th:only-of-type {\n",
       "        vertical-align: middle;\n",
       "    }\n",
       "\n",
       "    .dataframe tbody tr th {\n",
       "        vertical-align: top;\n",
       "    }\n",
       "\n",
       "    .dataframe thead th {\n",
       "        text-align: right;\n",
       "    }\n",
       "</style>\n",
       "<table border=\"1\" class=\"dataframe\">\n",
       "  <thead>\n",
       "    <tr style=\"text-align: right;\">\n",
       "      <th></th>\n",
       "      <th>Unnamed: 0</th>\n",
       "      <th>MANUFACTURER</th>\n",
       "      <th>Product Id</th>\n",
       "      <th>PRODUCT TYPE</th>\n",
       "      <th>Type</th>\n",
       "      <th>Thermal Efficiency [%]</th>\n",
       "      <th>Combustion technology</th>\n",
       "      <th>Capacity [kW]</th>\n",
       "      <th>Output</th>\n",
       "      <th>Fuel</th>\n",
       "      <th>Efficiency label</th>\n",
       "      <th>Unnamed: 11</th>\n",
       "      <th>Boiler</th>\n",
       "    </tr>\n",
       "  </thead>\n",
       "  <tbody>\n",
       "    <tr>\n",
       "      <th>392</th>\n",
       "      <td>392</td>\n",
       "      <td>CENTROMETAL</td>\n",
       "      <td>1856</td>\n",
       "      <td>CENTROMETAL EKO-CKS MULTI PLUS 170</td>\n",
       "      <td>NaN</td>\n",
       "      <td>91</td>\n",
       "      <td>STANDARD</td>\n",
       "      <td>170.00</td>\n",
       "      <td>Heat</td>\n",
       "      <td>BIOMASS</td>\n",
       "      <td>A+</td>\n",
       "      <td>Centrometal wood chip boiler, 170kW, type Centrometal EKO-CKS Multi Plus 170</td>\n",
       "      <td>NaN</td>\n",
       "    </tr>\n",
       "    <tr>\n",
       "      <th>405</th>\n",
       "      <td>405</td>\n",
       "      <td>CENTROMETAL</td>\n",
       "      <td>1857</td>\n",
       "      <td>CENTROMETAL EKO-CKS MULTI PLUS 250</td>\n",
       "      <td>NaN</td>\n",
       "      <td>91</td>\n",
       "      <td>STANDARD</td>\n",
       "      <td>250.00</td>\n",
       "      <td>Heat</td>\n",
       "      <td>BIOMASS</td>\n",
       "      <td>A+</td>\n",
       "      <td>Centrometal wood chip boiler, 250kW, type Centrometal EKO-CKS Multi Plus 250</td>\n",
       "      <td>NaN</td>\n",
       "    </tr>\n",
       "    <tr>\n",
       "      <th>415</th>\n",
       "      <td>415</td>\n",
       "      <td>CENTROMETAL</td>\n",
       "      <td>1858</td>\n",
       "      <td>CENTROMETAL EKO-CKS MULTI PLUS 340</td>\n",
       "      <td>NaN</td>\n",
       "      <td>92</td>\n",
       "      <td>STANDARD</td>\n",
       "      <td>340.00</td>\n",
       "      <td>Heat</td>\n",
       "      <td>BIOMASS</td>\n",
       "      <td>A+</td>\n",
       "      <td>Centrometal wood chip boiler, 340kW, type Centrometal EKO-CKS Multi Plus 340</td>\n",
       "      <td>NaN</td>\n",
       "    </tr>\n",
       "  </tbody>\n",
       "</table>\n",
       "</div>"
      ],
      "text/plain": [
       "     Unnamed: 0  MANUFACTURER  Product Id  \\\n",
       "392  392          CENTROMETAL  1856         \n",
       "405  405          CENTROMETAL  1857         \n",
       "415  415          CENTROMETAL  1858         \n",
       "\n",
       "                            PRODUCT TYPE Type  Thermal Efficiency [%]  \\\n",
       "392   CENTROMETAL EKO-CKS MULTI PLUS 170  NaN  91                       \n",
       "405   CENTROMETAL EKO-CKS MULTI PLUS 250  NaN  91                       \n",
       "415   CENTROMETAL EKO-CKS MULTI PLUS 340  NaN  92                       \n",
       "\n",
       "    Combustion technology Capacity [kW] Output     Fuel Efficiency label  \\\n",
       "392  STANDARD              170.00        Heat   BIOMASS  A+                \n",
       "405  STANDARD              250.00        Heat   BIOMASS  A+                \n",
       "415  STANDARD              340.00        Heat   BIOMASS  A+                \n",
       "\n",
       "                                                                      Unnamed: 11  \\\n",
       "392  Centrometal wood chip boiler, 170kW, type Centrometal EKO-CKS Multi Plus 170   \n",
       "405  Centrometal wood chip boiler, 250kW, type Centrometal EKO-CKS Multi Plus 250   \n",
       "415  Centrometal wood chip boiler, 340kW, type Centrometal EKO-CKS Multi Plus 340   \n",
       "\n",
       "     Boiler  \n",
       "392 NaN      \n",
       "405 NaN      \n",
       "415 NaN      "
      ]
     },
     "execution_count": 37,
     "metadata": {},
     "output_type": "execute_result"
    }
   ],
   "source": [
    "#drvna sječka #prva 3 reda\n",
    "file_boiler[file_boiler[\"Unnamed: 11\"].str.contains(\"wood chip\",case=False,na=False)].head(3)"
   ]
  },
  {
   "cell_type": "markdown",
   "metadata": {},
   "source": [
    "U navedenom setu 61% kotlova kao gorivo koristi biomasu, a 39% gas."
   ]
  },
  {
   "cell_type": "code",
   "execution_count": 38,
   "metadata": {},
   "outputs": [
    {
     "data": {
      "text/plain": [
       "<AxesSubplot:ylabel='Fuel'>"
      ]
     },
     "execution_count": 38,
     "metadata": {},
     "output_type": "execute_result"
    },
    {
     "data": {
      "image/png": "[encoded data removed]",
      "text/plain": [
       "<Figure size 432x288 with 1 Axes>"
      ]
     },
     "metadata": {},
     "output_type": "display_data"
    }
   ],
   "source": [
    "file_boiler.groupby([\"Fuel\"])[\"Fuel\"].count().plot(kind='pie', autopct='%1.0f%%',)"
   ]
  },
  {
   "cell_type": "code",
   "execution_count": 39,
   "metadata": {},
   "outputs": [],
   "source": [
    "file_boiler[\"Capacity [kW]\"]=file_boiler[\"Capacity [kW]\"].str.replace(\",\",\"\")"
   ]
  },
  {
   "cell_type": "code",
   "execution_count": 40,
   "metadata": {},
   "outputs": [],
   "source": [
    "file_boiler[\"Capacity [kW]\"]=pd.to_numeric(file_boiler[\"Capacity [kW]\"])"
   ]
  },
  {
   "cell_type": "markdown",
   "metadata": {},
   "source": [
    "Minimalna efikasnost kotla je 85%, a maksimalna 11% uz srednju vrijednost od 95% uz značajnu standardnu devijaciju. Minimalna snaga kotla je 5.5 kW,a maksimalna 12 000 kW. 75% kotlova je ispod 100 kW."
   ]
  },
  {
   "cell_type": "code",
   "execution_count": 41,
   "metadata": {},
   "outputs": [
    {
     "data": {
      "text/html": [
       "<div>\n",
       "<style scoped>\n",
       "    .dataframe tbody tr th:only-of-type {\n",
       "        vertical-align: middle;\n",
       "    }\n",
       "\n",
       "    .dataframe tbody tr th {\n",
       "        vertical-align: top;\n",
       "    }\n",
       "\n",
       "    .dataframe thead th {\n",
       "        text-align: right;\n",
       "    }\n",
       "</style>\n",
       "<table border=\"1\" class=\"dataframe\">\n",
       "  <thead>\n",
       "    <tr style=\"text-align: right;\">\n",
       "      <th></th>\n",
       "      <th>Unnamed: 0</th>\n",
       "      <th>Product Id</th>\n",
       "      <th>Thermal Efficiency [%]</th>\n",
       "      <th>Capacity [kW]</th>\n",
       "      <th>Boiler</th>\n",
       "    </tr>\n",
       "  </thead>\n",
       "  <tbody>\n",
       "    <tr>\n",
       "      <th>count</th>\n",
       "      <td>524.000000</td>\n",
       "      <td>524.000000</td>\n",
       "      <td>524.000000</td>\n",
       "      <td>524.000000</td>\n",
       "      <td>0.0</td>\n",
       "    </tr>\n",
       "    <tr>\n",
       "      <th>mean</th>\n",
       "      <td>261.500000</td>\n",
       "      <td>16884.585878</td>\n",
       "      <td>94.975191</td>\n",
       "      <td>382.425382</td>\n",
       "      <td>NaN</td>\n",
       "    </tr>\n",
       "    <tr>\n",
       "      <th>std</th>\n",
       "      <td>151.410039</td>\n",
       "      <td>11779.816617</td>\n",
       "      <td>7.110259</td>\n",
       "      <td>1285.995851</td>\n",
       "      <td>NaN</td>\n",
       "    </tr>\n",
       "    <tr>\n",
       "      <th>min</th>\n",
       "      <td>0.000000</td>\n",
       "      <td>357.000000</td>\n",
       "      <td>85.000000</td>\n",
       "      <td>5.500000</td>\n",
       "      <td>NaN</td>\n",
       "    </tr>\n",
       "    <tr>\n",
       "      <th>25%</th>\n",
       "      <td>130.750000</td>\n",
       "      <td>3020.750000</td>\n",
       "      <td>90.000000</td>\n",
       "      <td>21.425000</td>\n",
       "      <td>NaN</td>\n",
       "    </tr>\n",
       "    <tr>\n",
       "      <th>50%</th>\n",
       "      <td>261.500000</td>\n",
       "      <td>18390.500000</td>\n",
       "      <td>92.000000</td>\n",
       "      <td>30.000000</td>\n",
       "      <td>NaN</td>\n",
       "    </tr>\n",
       "    <tr>\n",
       "      <th>75%</th>\n",
       "      <td>392.250000</td>\n",
       "      <td>29152.250000</td>\n",
       "      <td>97.000000</td>\n",
       "      <td>100.000000</td>\n",
       "      <td>NaN</td>\n",
       "    </tr>\n",
       "    <tr>\n",
       "      <th>max</th>\n",
       "      <td>523.000000</td>\n",
       "      <td>33071.000000</td>\n",
       "      <td>111.000000</td>\n",
       "      <td>12000.000000</td>\n",
       "      <td>NaN</td>\n",
       "    </tr>\n",
       "  </tbody>\n",
       "</table>\n",
       "</div>"
      ],
      "text/plain": [
       "       Unnamed: 0    Product Id  Thermal Efficiency [%]  Capacity [kW]  Boiler\n",
       "count  524.000000  524.000000    524.000000              524.000000     0.0   \n",
       "mean   261.500000  16884.585878  94.975191               382.425382    NaN    \n",
       "std    151.410039  11779.816617  7.110259                1285.995851   NaN    \n",
       "min    0.000000    357.000000    85.000000               5.500000      NaN    \n",
       "25%    130.750000  3020.750000   90.000000               21.425000     NaN    \n",
       "50%    261.500000  18390.500000  92.000000               30.000000     NaN    \n",
       "75%    392.250000  29152.250000  97.000000               100.000000    NaN    \n",
       "max    523.000000  33071.000000  111.000000              12000.000000  NaN    "
      ]
     },
     "execution_count": 41,
     "metadata": {},
     "output_type": "execute_result"
    }
   ],
   "source": [
    "file_boiler.describe()"
   ]
  },
  {
   "cell_type": "markdown",
   "metadata": {},
   "source": [
    "Pojedini kotlovi se sastoje iz dva dijela - sistema za gasifikaciju drveta i dijela za sagorijevanje peleta,čime se omogućava veći izbor goriva za korištenje-kombinacija ili individualno, uz povećanje efikasnosti."
   ]
  },
  {
   "cell_type": "code",
   "execution_count": 42,
   "metadata": {},
   "outputs": [
    {
     "name": "stdout",
     "output_type": "stream",
     "text": [
      "Ukupno gasifikacija drveta + pelet: 524\n"
     ]
    },
    {
     "data": {
      "text/html": [
       "<div>\n",
       "<style scoped>\n",
       "    .dataframe tbody tr th:only-of-type {\n",
       "        vertical-align: middle;\n",
       "    }\n",
       "\n",
       "    .dataframe tbody tr th {\n",
       "        vertical-align: top;\n",
       "    }\n",
       "\n",
       "    .dataframe thead th {\n",
       "        text-align: right;\n",
       "    }\n",
       "</style>\n",
       "<table border=\"1\" class=\"dataframe\">\n",
       "  <thead>\n",
       "    <tr style=\"text-align: right;\">\n",
       "      <th></th>\n",
       "      <th>Unnamed: 0</th>\n",
       "      <th>MANUFACTURER</th>\n",
       "      <th>Product Id</th>\n",
       "      <th>PRODUCT TYPE</th>\n",
       "      <th>Type</th>\n",
       "      <th>Thermal Efficiency [%]</th>\n",
       "      <th>Combustion technology</th>\n",
       "      <th>Capacity [kW]</th>\n",
       "      <th>Output</th>\n",
       "      <th>Fuel</th>\n",
       "      <th>Efficiency label</th>\n",
       "      <th>Unnamed: 11</th>\n",
       "      <th>Boiler</th>\n",
       "    </tr>\n",
       "  </thead>\n",
       "  <tbody>\n",
       "    <tr>\n",
       "      <th>130</th>\n",
       "      <td>130</td>\n",
       "      <td>RIELLO/BERETTA S.P.A</td>\n",
       "      <td>31071</td>\n",
       "      <td>MYNUTE BERETTA 20 C.S.I.</td>\n",
       "      <td>NaN</td>\n",
       "      <td>91</td>\n",
       "      <td>ATMOSPHERIC</td>\n",
       "      <td>21.2</td>\n",
       "      <td>Heat</td>\n",
       "      <td>BIOMASS</td>\n",
       "      <td>A+</td>\n",
       "      <td>Combined flow wall boiler with closed chamber and forced discharge of combustion products facade - methaneIt consists of 4 versions</td>\n",
       "      <td>NaN</td>\n",
       "    </tr>\n",
       "    <tr>\n",
       "      <th>144</th>\n",
       "      <td>144</td>\n",
       "      <td>RIELLO/BERETTA S.P.A</td>\n",
       "      <td>31072</td>\n",
       "      <td>MYNUTE BERETTA 24 C.S.I.</td>\n",
       "      <td>NaN</td>\n",
       "      <td>91</td>\n",
       "      <td>ATMOSPHERIC</td>\n",
       "      <td>24.0</td>\n",
       "      <td>Heat</td>\n",
       "      <td>BIOMASS</td>\n",
       "      <td>A+</td>\n",
       "      <td>Combined flow wall boiler with closed chamber and forced discharge of combustion products facade - methaneIt consists of 4 versions</td>\n",
       "      <td>NaN</td>\n",
       "    </tr>\n",
       "  </tbody>\n",
       "</table>\n",
       "</div>"
      ],
      "text/plain": [
       "     Unnamed: 0           MANUFACTURER  Product Id               PRODUCT TYPE  \\\n",
       "130  130          RIELLO/BERETTA S.P.A  31071        MYNUTE BERETTA 20 C.S.I.   \n",
       "144  144          RIELLO/BERETTA S.P.A  31072        MYNUTE BERETTA 24 C.S.I.   \n",
       "\n",
       "    Type  Thermal Efficiency [%] Combustion technology  Capacity [kW] Output  \\\n",
       "130  NaN  91                      ATMOSPHERIC           21.2           Heat    \n",
       "144  NaN  91                      ATMOSPHERIC           24.0           Heat    \n",
       "\n",
       "        Fuel Efficiency label  \\\n",
       "130  BIOMASS  A+                \n",
       "144  BIOMASS  A+                \n",
       "\n",
       "                                                                                                                             Unnamed: 11  \\\n",
       "130  Combined flow wall boiler with closed chamber and forced discharge of combustion products facade - methaneIt consists of 4 versions   \n",
       "144  Combined flow wall boiler with closed chamber and forced discharge of combustion products facade - methaneIt consists of 4 versions   \n",
       "\n",
       "     Boiler  \n",
       "130 NaN      \n",
       "144 NaN      "
      ]
     },
     "execution_count": 42,
     "metadata": {},
     "output_type": "execute_result"
    }
   ],
   "source": [
    "print(\"Ukupno gasifikacija drveta + pelet:\",file_boiler.shape[0])\n",
    "file_boiler[file_boiler[\"Unnamed: 11\"].str.contains(\"combined\",case=False,na=False)].head(2)"
   ]
  },
  {
   "cell_type": "markdown",
   "metadata": {},
   "source": [
    "Gledajući vrstu goriva, kotlovi na gas (kondenzacijski kotlovi) očekivano imaju veći stepen efikasnosti radi hlađenja dimnih gasova do temperature na kojoj se dešava kondenzacija vodene pare.Međutim kotlovi na gas imaju i veću standardnu devijaciju, te će se obratiti pažnja koja vrsta kotlova je u pitanju."
   ]
  },
  {
   "cell_type": "code",
   "execution_count": 43,
   "metadata": {},
   "outputs": [
    {
     "name": "stdout",
     "output_type": "stream",
     "text": [
      "Srednja vrijednost\n",
      "Fuel\n",
      "BIOMASS    91.042904 \n",
      "GAS        101.836478\n",
      "Name: Thermal Efficiency [%], dtype: float64\n",
      "Standardna devijacija\n",
      "Fuel\n",
      "BIOMASS    2.410403\n",
      "GAS        7.169006\n",
      "Name: Thermal Efficiency [%], dtype: float64\n"
     ]
    }
   ],
   "source": [
    "print(\"Srednja vrijednost\")\n",
    "print(file_boiler.groupby(\"Fuel\")[\"Thermal Efficiency [%]\"].mean())\n",
    "print(\"Standardna devijacija\")\n",
    "print(file_boiler.groupby(\"Fuel\")[\"Thermal Efficiency [%]\"].std(ddof=0))"
   ]
  },
  {
   "cell_type": "code",
   "execution_count": 56,
   "metadata": {},
   "outputs": [
    {
     "data": {
      "text/plain": [
       "Text(0.5, 0, 'Thermal efficiency, %')"
      ]
     },
     "execution_count": 56,
     "metadata": {},
     "output_type": "execute_result"
    },
    {
     "data": {
      "image/png": "[encoded data removed]",
      "text/plain": [
       "<Figure size 720x432 with 2 Axes>"
      ]
     },
     "metadata": {},
     "output_type": "display_data"
    }
   ],
   "source": [
    "fig, ax=plt.subplots(ncols=2, figsize=(10,6))\n",
    "x = sns.boxplot(x=\"Fuel\", y=\"Thermal Efficiency [%]\",\n",
    "                 data=file_boiler,ax=ax[0])\n",
    "\n",
    "file_boiler.groupby(\"Fuel\")[\"Capacity [kW]\"].plot(kind=\"hist\",ax=ax[1])\n",
    "ax[1].legend()\n",
    "ax[1].set_xlabel(\"Thermal efficiency, %\")"
   ]
  },
  {
   "cell_type": "markdown",
   "metadata": {},
   "source": [
    "Efikasnost kotlova na biomasu bez obzira na snagu je u rangu između cca.a 85% i 95%, dok se za gas efikasnost grupiše oko vrijednosti od 95%, te u drugom dijeli između 105% i 110%."
   ]
  },
  {
   "cell_type": "code",
   "execution_count": 45,
   "metadata": {},
   "outputs": [
    {
     "data": {
      "image/png": "[encoded data removed]",
      "text/plain": [
       "<Figure size 432x288 with 1 Axes>"
      ]
     },
     "metadata": {},
     "output_type": "display_data"
    }
   ],
   "source": [
    "x = sns.scatterplot(x=\"Capacity [kW]\", y=\"Thermal Efficiency [%]\",hue=\"Fuel\",\n",
    "                 data=file_boiler)"
   ]
  },
  {
   "cell_type": "markdown",
   "metadata": {},
   "source": [
    "Većina kotlova na biomasu je snage do 1000 kW, a većina kotlova na gas je snage do 300 kW."
   ]
  },
  {
   "cell_type": "code",
   "execution_count": 46,
   "metadata": {},
   "outputs": [
    {
     "data": {
      "image/png": "[encoded data removed]",
      "text/plain": [
       "<Figure size 1080x288 with 1 Axes>"
      ]
     },
     "metadata": {},
     "output_type": "display_data"
    }
   ],
   "source": [
    "file_boiler[file_boiler[\"Fuel\"]==\"BIOMASS\"][\"Capacity [kW]\"].hist(figsize=(15,4))\n",
    "plt.xticks(np.arange(0,3500,500))\n",
    "plt.xlabel(\"Capacity, kW\")\n",
    "plt.show()\n"
   ]
  },
  {
   "cell_type": "code",
   "execution_count": 47,
   "metadata": {},
   "outputs": [
    {
     "data": {
      "image/png": "[encoded data removed]",
      "text/plain": [
       "<Figure size 1080x288 with 1 Axes>"
      ]
     },
     "metadata": {},
     "output_type": "display_data"
    }
   ],
   "source": [
    "file_boiler[file_boiler[\"Fuel\"]==\"GAS\"][\"Capacity [kW]\"].hist(figsize=(15,4))\n",
    "plt.xticks(np.arange(0,3500,150))\n",
    "plt.xlabel(\"Capacity, kW\")\n",
    "plt.show()"
   ]
  },
  {
   "cell_type": "code",
   "execution_count": 48,
   "metadata": {},
   "outputs": [
    {
     "data": {
      "text/html": [
       "<div>\n",
       "<style scoped>\n",
       "    .dataframe tbody tr th:only-of-type {\n",
       "        vertical-align: middle;\n",
       "    }\n",
       "\n",
       "    .dataframe tbody tr th {\n",
       "        vertical-align: top;\n",
       "    }\n",
       "\n",
       "    .dataframe thead th {\n",
       "        text-align: right;\n",
       "    }\n",
       "</style>\n",
       "<table border=\"1\" class=\"dataframe\">\n",
       "  <thead>\n",
       "    <tr style=\"text-align: right;\">\n",
       "      <th></th>\n",
       "      <th>Unnamed: 0</th>\n",
       "      <th>MANUFACTURER</th>\n",
       "      <th>Product Id</th>\n",
       "      <th>PRODUCT TYPE</th>\n",
       "      <th>Type</th>\n",
       "      <th>Thermal Efficiency [%]</th>\n",
       "      <th>Combustion technology</th>\n",
       "      <th>Capacity [kW]</th>\n",
       "      <th>Output</th>\n",
       "      <th>Fuel</th>\n",
       "      <th>Efficiency label</th>\n",
       "      <th>Unnamed: 11</th>\n",
       "      <th>Boiler</th>\n",
       "    </tr>\n",
       "  </thead>\n",
       "  <tbody>\n",
       "    <tr>\n",
       "      <th>497</th>\n",
       "      <td>497</td>\n",
       "      <td>TOPLING</td>\n",
       "      <td>14499</td>\n",
       "      <td>KPR 12000</td>\n",
       "      <td>NaN</td>\n",
       "      <td>90</td>\n",
       "      <td>ATMOSPHERIC</td>\n",
       "      <td>12000.0</td>\n",
       "      <td>Heat</td>\n",
       "      <td>BIOMASS</td>\n",
       "      <td>A</td>\n",
       "      <td>System for automatic combustion of the biomass</td>\n",
       "      <td>NaN</td>\n",
       "    </tr>\n",
       "    <tr>\n",
       "      <th>498</th>\n",
       "      <td>498</td>\n",
       "      <td>TOPLING</td>\n",
       "      <td>414</td>\n",
       "      <td>KPR 12000</td>\n",
       "      <td>NaN</td>\n",
       "      <td>90</td>\n",
       "      <td>NaN</td>\n",
       "      <td>12000.0</td>\n",
       "      <td>Heat</td>\n",
       "      <td>NaN</td>\n",
       "      <td>A+</td>\n",
       "      <td>System for automatic combustion of the biomass</td>\n",
       "      <td>NaN</td>\n",
       "    </tr>\n",
       "  </tbody>\n",
       "</table>\n",
       "</div>"
      ],
      "text/plain": [
       "     Unnamed: 0 MANUFACTURER  Product Id PRODUCT TYPE Type  \\\n",
       "497  497          TOPLING     14499        KPR 12000   NaN   \n",
       "498  498          TOPLING     414          KPR 12000   NaN   \n",
       "\n",
       "     Thermal Efficiency [%] Combustion technology  Capacity [kW] Output  \\\n",
       "497  90                      ATMOSPHERIC           12000.0        Heat    \n",
       "498  90                      NaN                   12000.0        Heat    \n",
       "\n",
       "        Fuel Efficiency label                                     Unnamed: 11  \\\n",
       "497  BIOMASS  A                System for automatic combustion of the biomass   \n",
       "498  NaN      A+               System for automatic combustion of the biomass   \n",
       "\n",
       "     Boiler  \n",
       "497 NaN      \n",
       "498 NaN      "
      ]
     },
     "execution_count": 48,
     "metadata": {},
     "output_type": "execute_result"
    }
   ],
   "source": [
    "file_boiler[file_boiler[\"Capacity [kW]\"]==file_boiler[\"Capacity [kW]\"].max()]"
   ]
  },
  {
   "cell_type": "code",
   "execution_count": 49,
   "metadata": {},
   "outputs": [
    {
     "data": {
      "text/html": [
       "<div>\n",
       "<style scoped>\n",
       "    .dataframe tbody tr th:only-of-type {\n",
       "        vertical-align: middle;\n",
       "    }\n",
       "\n",
       "    .dataframe tbody tr th {\n",
       "        vertical-align: top;\n",
       "    }\n",
       "\n",
       "    .dataframe thead th {\n",
       "        text-align: right;\n",
       "    }\n",
       "</style>\n",
       "<table border=\"1\" class=\"dataframe\">\n",
       "  <thead>\n",
       "    <tr style=\"text-align: right;\">\n",
       "      <th></th>\n",
       "      <th>Unnamed: 0</th>\n",
       "      <th>MANUFACTURER</th>\n",
       "      <th>Product Id</th>\n",
       "      <th>PRODUCT TYPE</th>\n",
       "      <th>Type</th>\n",
       "      <th>Thermal Efficiency [%]</th>\n",
       "      <th>Combustion technology</th>\n",
       "      <th>Capacity [kW]</th>\n",
       "      <th>Output</th>\n",
       "      <th>Fuel</th>\n",
       "      <th>Efficiency label</th>\n",
       "      <th>Unnamed: 11</th>\n",
       "      <th>Boiler</th>\n",
       "    </tr>\n",
       "  </thead>\n",
       "  <tbody>\n",
       "    <tr>\n",
       "      <th>0</th>\n",
       "      <td>0</td>\n",
       "      <td>CENTROMETAL</td>\n",
       "      <td>1849</td>\n",
       "      <td>CENTROMETAL CENTROPELET Z 6</td>\n",
       "      <td>Centrometal wood pellet stove, 5.5kW, type Centrometal CentroPelet Z 6</td>\n",
       "      <td>90</td>\n",
       "      <td>STANDARD</td>\n",
       "      <td>5.5</td>\n",
       "      <td>Heat</td>\n",
       "      <td>BIOMASS</td>\n",
       "      <td>NaN</td>\n",
       "      <td>NaN</td>\n",
       "      <td>NaN</td>\n",
       "    </tr>\n",
       "  </tbody>\n",
       "</table>\n",
       "</div>"
      ],
      "text/plain": [
       "   Unnamed: 0  MANUFACTURER  Product Id                  PRODUCT TYPE  \\\n",
       "0  0            CENTROMETAL  1849         CENTROMETAL CENTROPELET Z 6   \n",
       "\n",
       "                                                                     Type  \\\n",
       "0  Centrometal wood pellet stove, 5.5kW, type Centrometal CentroPelet Z 6   \n",
       "\n",
       "   Thermal Efficiency [%] Combustion technology  Capacity [kW] Output  \\\n",
       "0  90                      STANDARD              5.5            Heat    \n",
       "\n",
       "      Fuel Efficiency label Unnamed: 11  Boiler  \n",
       "0  BIOMASS  NaN              NaN        NaN      "
      ]
     },
     "execution_count": 49,
     "metadata": {},
     "output_type": "execute_result"
    }
   ],
   "source": [
    "file_boiler[file_boiler[\"Capacity [kW]\"]==file_boiler[\"Capacity [kW]\"].min()]"
   ]
  },
  {
   "cell_type": "markdown",
   "metadata": {},
   "source": [
    "Što se tiče tehnologije sagorijevanja, dato je nekoliko grupa:"
   ]
  },
  {
   "cell_type": "code",
   "execution_count": 50,
   "metadata": {},
   "outputs": [
    {
     "data": {
      "text/plain": [
       "array(['STANDARD', 'ATMOSPHERIC', 'CONDENSING', 'LOW TEMPERATURE', nan],\n",
       "      dtype=object)"
      ]
     },
     "execution_count": 50,
     "metadata": {},
     "output_type": "execute_result"
    }
   ],
   "source": [
    "file_boiler[\"Combustion technology\"].unique()"
   ]
  },
  {
   "cell_type": "code",
   "execution_count": 51,
   "metadata": {},
   "outputs": [
    {
     "data": {
      "text/plain": [
       "<AxesSubplot:ylabel='Combustion technology'>"
      ]
     },
     "execution_count": 51,
     "metadata": {},
     "output_type": "execute_result"
    },
    {
     "data": {
      "image/png": "[encoded data removed]",
      "text/plain": [
       "<Figure size 432x288 with 1 Axes>"
      ]
     },
     "metadata": {},
     "output_type": "display_data"
    }
   ],
   "source": [
    "file_boiler.groupby([\"Combustion technology\"])[\"Combustion technology\"].count().plot(kind='pie', autopct='%1.0f%%',)"
   ]
  },
  {
   "cell_type": "code",
   "execution_count": 52,
   "metadata": {},
   "outputs": [
    {
     "data": {
      "text/plain": [
       "Combustion technology\n",
       "ATMOSPHERIC        93.371930 \n",
       "CONDENSING         102.629032\n",
       "LOW TEMPERATURE    93.411765 \n",
       "STANDARD           91.060000 \n",
       "Name: Thermal Efficiency [%], dtype: float64"
      ]
     },
     "execution_count": 52,
     "metadata": {},
     "output_type": "execute_result"
    }
   ],
   "source": [
    "file_boiler.groupby(\"Combustion technology\")[\"Thermal Efficiency [%]\"].mean()"
   ]
  },
  {
   "cell_type": "markdown",
   "metadata": {},
   "source": [
    "Korelacija između kapaciteta i efikasnosti je negativna, ali i mala,što ne ukazuje na značajan linearni odnos između ove dvije varijable."
   ]
  },
  {
   "cell_type": "code",
   "execution_count": 53,
   "metadata": {},
   "outputs": [
    {
     "data": {
      "text/plain": [
       "-0.17478606909036334"
      ]
     },
     "execution_count": 53,
     "metadata": {},
     "output_type": "execute_result"
    }
   ],
   "source": [
    "file_boiler[\"Capacity [kW]\"].corr(file_boiler[\"Thermal Efficiency [%]\"])"
   ]
  },
  {
   "cell_type": "code",
   "execution_count": 54,
   "metadata": {},
   "outputs": [
    {
     "data": {
      "text/plain": [
       "<AxesSubplot:xlabel='Capacity [kW]', ylabel='Thermal Efficiency [%]'>"
      ]
     },
     "execution_count": 54,
     "metadata": {},
     "output_type": "execute_result"
    },
    {
     "data": {
      "image/png": "[encoded data removed]",
      "text/plain": [
       "<Figure size 432x288 with 1 Axes>"
      ]
     },
     "metadata": {},
     "output_type": "display_data"
    }
   ],
   "source": [
    "sns.scatterplot(\n",
    "    data=file_boiler,\n",
    "    x=\"Capacity [kW]\", y=\"Thermal Efficiency [%]\",\n",
    "    hue=\"Combustion technology\")"
   ]
  },
  {
   "cell_type": "code",
   "execution_count": null,
   "metadata": {},
   "outputs": [],
   "source": []
  }
 ],
 "metadata": {
  "kernelspec": {
   "display_name": "Python 3",
   "language": "python",
   "name": "python3"
  },
  "language_info": {
   "codemirror_mode": {
    "name": "ipython",
    "version": 3
   },
   "file_extension": ".py",
   "mimetype": "text/x-python",
   "name": "python",
   "nbconvert_exporter": "python",
   "pygments_lexer": "ipython3",
   "version": "3.8.8"
  }
 },
 "nbformat": 4,
 "nbformat_minor": 4
}
