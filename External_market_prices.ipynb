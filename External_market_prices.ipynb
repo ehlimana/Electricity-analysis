{
 "cells": [
  {
   "cell_type": "code",
   "execution_count": 40,
   "id": "d8941216",
   "metadata": {},
   "outputs": [],
   "source": [
    "import pandas as pd\n",
    "import numpy as np"
   ]
  },
  {
   "cell_type": "code",
   "execution_count": 41,
   "id": "e88e6ede",
   "metadata": {},
   "outputs": [],
   "source": [
    "skipr=list(range(0,4))\n",
    "\n",
    "\n",
    "HR_prices_2019=pd.read_excel(r\"FILES/ELEKT/Day-ahead Prices_HR2019.xlsx\",skiprows=skipr,usecols=\"A:B\")\n",
    "HR_prices_2020=pd.read_excel(r\"FILES/ELEKT/Day-ahead Prices_HR2020.xlsx\",skiprows=skipr,usecols=\"A:B\")\n",
    "HR_prices_2021=pd.read_excel(r\"FILES/ELEKT/Day-ahead Prices_HR2021.xlsx\",skiprows=skipr,usecols=\"A:B\")\n",
    "\n",
    "RS_prices_2019=pd.read_excel(r\"FILES/ELEKT/Day-ahead Prices_RS2019.xlsx\",skiprows=skipr,usecols=\"A:B\")\n",
    "RS_prices_2020=pd.read_excel(r\"FILES/ELEKT/Day-ahead Prices_RS2020.xlsx\",skiprows=skipr,usecols=\"A:B\")\n",
    "RS_prices_2021=pd.read_excel(r\"FILES/ELEKT/Day-ahead Prices_RS2021.xlsx\",skiprows=skipr,usecols=\"A:B\")"
   ]
  },
  {
   "cell_type": "code",
   "execution_count": 42,
   "id": "05b33055",
   "metadata": {},
   "outputs": [
    {
     "data": {
      "text/html": [
       "<div>\n",
       "<style scoped>\n",
       "    .dataframe tbody tr th:only-of-type {\n",
       "        vertical-align: middle;\n",
       "    }\n",
       "\n",
       "    .dataframe tbody tr th {\n",
       "        vertical-align: top;\n",
       "    }\n",
       "\n",
       "    .dataframe thead th {\n",
       "        text-align: right;\n",
       "    }\n",
       "</style>\n",
       "<table border=\"1\" class=\"dataframe\">\n",
       "  <thead>\n",
       "    <tr style=\"text-align: right;\">\n",
       "      <th></th>\n",
       "      <th>MTU</th>\n",
       "      <th>BZN|RS</th>\n",
       "    </tr>\n",
       "  </thead>\n",
       "  <tbody>\n",
       "    <tr>\n",
       "      <th>0</th>\n",
       "      <td>NaN</td>\n",
       "      <td>Day-ahead Price</td>\n",
       "    </tr>\n",
       "    <tr>\n",
       "      <th>1</th>\n",
       "      <td>NaN</td>\n",
       "      <td>[EUR/MWh]</td>\n",
       "    </tr>\n",
       "    <tr>\n",
       "      <th>2</th>\n",
       "      <td>00:00 - 01:00</td>\n",
       "      <td>69.51</td>\n",
       "    </tr>\n",
       "    <tr>\n",
       "      <th>3</th>\n",
       "      <td>01:00 - 02:00</td>\n",
       "      <td>51.08</td>\n",
       "    </tr>\n",
       "    <tr>\n",
       "      <th>4</th>\n",
       "      <td>02:00 - 03:00</td>\n",
       "      <td>34.03</td>\n",
       "    </tr>\n",
       "    <tr>\n",
       "      <th>...</th>\n",
       "      <td>...</td>\n",
       "      <td>...</td>\n",
       "    </tr>\n",
       "    <tr>\n",
       "      <th>9850</th>\n",
       "      <td>19:00 - 20:00</td>\n",
       "      <td>42.05</td>\n",
       "    </tr>\n",
       "    <tr>\n",
       "      <th>9851</th>\n",
       "      <td>20:00 - 21:00</td>\n",
       "      <td>39.08</td>\n",
       "    </tr>\n",
       "    <tr>\n",
       "      <th>9852</th>\n",
       "      <td>21:00 - 22:00</td>\n",
       "      <td>36.56</td>\n",
       "    </tr>\n",
       "    <tr>\n",
       "      <th>9853</th>\n",
       "      <td>22:00 - 23:00</td>\n",
       "      <td>36.12</td>\n",
       "    </tr>\n",
       "    <tr>\n",
       "      <th>9854</th>\n",
       "      <td>23:00 - 00:00</td>\n",
       "      <td>34.19</td>\n",
       "    </tr>\n",
       "  </tbody>\n",
       "</table>\n",
       "<p>9855 rows × 2 columns</p>\n",
       "</div>"
      ],
      "text/plain": [
       "                MTU           BZN|RS\n",
       "0               NaN  Day-ahead Price\n",
       "1               NaN        [EUR/MWh]\n",
       "2     00:00 - 01:00            69.51\n",
       "3     01:00 - 02:00            51.08\n",
       "4     02:00 - 03:00            34.03\n",
       "...             ...              ...\n",
       "9850  19:00 - 20:00            42.05\n",
       "9851  20:00 - 21:00            39.08\n",
       "9852  21:00 - 22:00            36.56\n",
       "9853  22:00 - 23:00            36.12\n",
       "9854  23:00 - 00:00            34.19\n",
       "\n",
       "[9855 rows x 2 columns]"
      ]
     },
     "execution_count": 42,
     "metadata": {},
     "output_type": "execute_result"
    }
   ],
   "source": [
    "RS_prices_2019"
   ]
  },
  {
   "cell_type": "code",
   "execution_count": 43,
   "id": "f0965a77",
   "metadata": {},
   "outputs": [],
   "source": [
    "HR_prices_2019=HR_prices_2019[(HR_prices_2019[\"BZN|HR\"].isna()==False)&(HR_prices_2019[\"MTU\"].isna()==False)]\n",
    "HR_prices_2020=HR_prices_2020[(HR_prices_2020[\"BZN|HR\"].isna()==False)&(HR_prices_2020[\"MTU\"].isna()==False)]\n",
    "HR_prices_2021=HR_prices_2021[(HR_prices_2021[\"BZN|HR\"].isna()==False)&(HR_prices_2021[\"MTU\"].isna()==False)]\n",
    "\n",
    "\n",
    "RS_prices_2019=RS_prices_2019[(RS_prices_2019[\"BZN|RS\"].isna()==False)&(RS_prices_2019[\"MTU\"].isna()==False)]\n",
    "RS_prices_2020=RS_prices_2020[(RS_prices_2020[\"BZN|RS\"].isna()==False)&(RS_prices_2020[\"MTU\"].isna()==False)]\n",
    "RS_prices_2021=RS_prices_2021[(RS_prices_2021[\"BZN|RS\"].isna()==False)&(RS_prices_2021[\"MTU\"].isna()==False)]"
   ]
  },
  {
   "cell_type": "code",
   "execution_count": 5,
   "id": "69c3500f",
   "metadata": {},
   "outputs": [],
   "source": [
    "ext_market_2019=pd.concat([HR_prices_2019,RS_prices_2019],axis=1)\n",
    "ext_market_2020=pd.concat([HR_prices_2020,RS_prices_2020],axis=1)\n",
    "ext_market_2021=pd.concat([HR_prices_2021,RS_prices_2021],axis=1)"
   ]
  },
  {
   "cell_type": "code",
   "execution_count": 7,
   "id": "af75a87b",
   "metadata": {},
   "outputs": [
    {
     "data": {
      "text/html": [
       "<div>\n",
       "<style scoped>\n",
       "    .dataframe tbody tr th:only-of-type {\n",
       "        vertical-align: middle;\n",
       "    }\n",
       "\n",
       "    .dataframe tbody tr th {\n",
       "        vertical-align: top;\n",
       "    }\n",
       "\n",
       "    .dataframe thead th {\n",
       "        text-align: right;\n",
       "    }\n",
       "</style>\n",
       "<table border=\"1\" class=\"dataframe\">\n",
       "  <thead>\n",
       "    <tr style=\"text-align: right;\">\n",
       "      <th></th>\n",
       "      <th>MTU</th>\n",
       "      <th>BZN|HR</th>\n",
       "    </tr>\n",
       "  </thead>\n",
       "  <tbody>\n",
       "    <tr>\n",
       "      <th>2</th>\n",
       "      <td>00:00 - 01:00</td>\n",
       "      <td>41.88</td>\n",
       "    </tr>\n",
       "    <tr>\n",
       "      <th>3</th>\n",
       "      <td>01:00 - 02:00</td>\n",
       "      <td>38.60</td>\n",
       "    </tr>\n",
       "    <tr>\n",
       "      <th>4</th>\n",
       "      <td>02:00 - 03:00</td>\n",
       "      <td>36.55</td>\n",
       "    </tr>\n",
       "    <tr>\n",
       "      <th>5</th>\n",
       "      <td>03:00 - 04:00</td>\n",
       "      <td>32.32</td>\n",
       "    </tr>\n",
       "    <tr>\n",
       "      <th>6</th>\n",
       "      <td>04:00 - 05:00</td>\n",
       "      <td>30.85</td>\n",
       "    </tr>\n",
       "    <tr>\n",
       "      <th>...</th>\n",
       "      <td>...</td>\n",
       "      <td>...</td>\n",
       "    </tr>\n",
       "    <tr>\n",
       "      <th>9877</th>\n",
       "      <td>19:00 - 20:00</td>\n",
       "      <td>59.78</td>\n",
       "    </tr>\n",
       "    <tr>\n",
       "      <th>9878</th>\n",
       "      <td>20:00 - 21:00</td>\n",
       "      <td>56.72</td>\n",
       "    </tr>\n",
       "    <tr>\n",
       "      <th>9879</th>\n",
       "      <td>21:00 - 22:00</td>\n",
       "      <td>52.44</td>\n",
       "    </tr>\n",
       "    <tr>\n",
       "      <th>9880</th>\n",
       "      <td>22:00 - 23:00</td>\n",
       "      <td>51.86</td>\n",
       "    </tr>\n",
       "    <tr>\n",
       "      <th>9881</th>\n",
       "      <td>23:00 - 00:00</td>\n",
       "      <td>52.26</td>\n",
       "    </tr>\n",
       "  </tbody>\n",
       "</table>\n",
       "<p>8784 rows × 2 columns</p>\n",
       "</div>"
      ],
      "text/plain": [
       "                MTU BZN|HR\n",
       "2     00:00 - 01:00  41.88\n",
       "3     01:00 - 02:00  38.60\n",
       "4     02:00 - 03:00  36.55\n",
       "5     03:00 - 04:00  32.32\n",
       "6     04:00 - 05:00  30.85\n",
       "...             ...    ...\n",
       "9877  19:00 - 20:00  59.78\n",
       "9878  20:00 - 21:00  56.72\n",
       "9879  21:00 - 22:00  52.44\n",
       "9880  22:00 - 23:00  51.86\n",
       "9881  23:00 - 00:00  52.26\n",
       "\n",
       "[8784 rows x 2 columns]"
      ]
     },
     "execution_count": 7,
     "metadata": {},
     "output_type": "execute_result"
    }
   ],
   "source": [
    "HR_prices_2020"
   ]
  },
  {
   "cell_type": "code",
   "execution_count": 7,
   "id": "9db68113",
   "metadata": {},
   "outputs": [],
   "source": [
    "ext_market_2019[\"Average market price, EUR/MWh\"]=ext_market_2019[[\"BZN|HR\",\"BZN|RS\"]].astype(float).mean(axis=1)\n",
    "ext_market_2020[\"Average market price, EUR/MWh\"]=ext_market_2020[[\"BZN|HR\",\"BZN|RS\"]].astype(float).mean(axis=1)\n",
    "ext_market_2021[\"Average market price, EUR/MWh\"]=ext_market_2021[[\"BZN|HR\",\"BZN|RS\"]].astype(float).mean(axis=1)"
   ]
  },
  {
   "cell_type": "code",
   "execution_count": 8,
   "id": "de9bd5bc",
   "metadata": {},
   "outputs": [
    {
     "name": "stderr",
     "output_type": "stream",
     "text": [
      "C:\\Users\\Ehlimana\\anaconda3\\lib\\site-packages\\pandas\\core\\series.py:4463: SettingWithCopyWarning: \n",
      "A value is trying to be set on a copy of a slice from a DataFrame\n",
      "\n",
      "See the caveats in the documentation: https://pandas.pydata.org/pandas-docs/stable/user_guide/indexing.html#returning-a-view-versus-a-copy\n",
      "  return super().fillna(\n"
     ]
    }
   ],
   "source": [
    "ext_market_2019[\"Average market price, EUR/MWh\"].fillna(method=\"bfill\",inplace=True)\n",
    "ext_market_2020[\"Average market price, EUR/MWh\"].fillna(method=\"bfill\",inplace=True)\n",
    "ext_market_2021[\"Average market price, EUR/MWh\"].fillna(method=\"bfill\",inplace=True)"
   ]
  },
  {
   "cell_type": "markdown",
   "id": "1898aeca",
   "metadata": {},
   "source": [
    "https://transparency.entsoe.eu/transmission-domain/r2/dayAheadPrices/show?name=&defaultValue=false&viewType=TABLE&areaType=BZN&atch=false&dateTime.dateTime=24.03.2022+00:00|CET|DAY&biddingZone.values=CTY|10YHR-HEP------M!BZN|10YHR-HEP------M&resolution.values=PT60M&dateTime.timezone=CET_CEST&dateTime.timezone_input=CET+(UTC+1)+/+CEST+(UTC+2)"
   ]
  },
  {
   "cell_type": "markdown",
   "id": "5e07d1b7",
   "metadata": {},
   "source": [
    "https://www.cropex.hr/hr/trgovanja/unutardnevno-trziste/rezultati-unutardnevnog-trzista.html"
   ]
  },
  {
   "cell_type": "code",
   "execution_count": 9,
   "id": "98a991e7",
   "metadata": {},
   "outputs": [
    {
     "name": "stdout",
     "output_type": "stream",
     "text": [
      "8784 vrijednosti, zadnjih 24 su nule\n"
     ]
    }
   ],
   "source": [
    "zeros = pd.DataFrame(0, index=np.arange(24),columns=ext_market_2019.columns)\n",
    "ext_market_2019= pd.concat([ext_market_2019, zeros])\n",
    "ext_market_2021= pd.concat([ext_market_2021, zeros])\n",
    "print(\"8784 vrijednosti, zadnjih 24 su nule\")"
   ]
  },
  {
   "cell_type": "code",
   "execution_count": 10,
   "id": "73f17336",
   "metadata": {},
   "outputs": [
    {
     "data": {
      "text/plain": [
       "(8784, 5)"
      ]
     },
     "execution_count": 10,
     "metadata": {},
     "output_type": "execute_result"
    }
   ],
   "source": [
    "ext_market_2019.shape"
   ]
  },
  {
   "cell_type": "code",
   "execution_count": 11,
   "id": "b8cdad5b",
   "metadata": {},
   "outputs": [],
   "source": [
    "pd.to_numeric(ext_market_2019[\"Average market price, EUR/MWh\"]).to_csv(r'EnergyPLAN files\\Electricity\\Hourly\\avex_market_price_2019.txt', index=False,header=0,decimal=\",\",sep=\" \")\n",
    "pd.to_numeric(ext_market_2020[\"Average market price, EUR/MWh\"]).to_csv(r'EnergyPLAN files\\Electricity\\Hourly\\avex_market_price_2020.txt', index=False,header=0,decimal=\",\",sep=\" \")\n",
    "pd.to_numeric(ext_market_2021[\"Average market price, EUR/MWh\"]).to_csv(r'EnergyPLAN files\\Electricity\\Hourly\\avex_market_price_2021.txt', index=False,header=0,decimal=\",\",sep=\" \")\n"
   ]
  },
  {
   "cell_type": "code",
   "execution_count": 12,
   "id": "5dec074c",
   "metadata": {},
   "outputs": [
    {
     "data": {
      "text/plain": [
       "-9.71"
      ]
     },
     "execution_count": 12,
     "metadata": {},
     "output_type": "execute_result"
    }
   ],
   "source": [
    "ext_market_2020[\"Average market price, EUR/MWh\"].min()"
   ]
  },
  {
   "cell_type": "code",
   "execution_count": 13,
   "id": "081f46ef",
   "metadata": {},
   "outputs": [
    {
     "data": {
      "text/plain": [
       "168.8"
      ]
     },
     "execution_count": 13,
     "metadata": {},
     "output_type": "execute_result"
    }
   ],
   "source": [
    "ext_market_2020[\"Average market price, EUR/MWh\"].max()"
   ]
  },
  {
   "cell_type": "code",
   "execution_count": 14,
   "id": "c531018b",
   "metadata": {},
   "outputs": [
    {
     "data": {
      "text/plain": [
       "38.519375569216805"
      ]
     },
     "execution_count": 14,
     "metadata": {},
     "output_type": "execute_result"
    }
   ],
   "source": [
    "ext_market_2020[\"Average market price, EUR/MWh\"].mean()"
   ]
  },
  {
   "cell_type": "code",
   "execution_count": 44,
   "id": "7f6c4ecc",
   "metadata": {},
   "outputs": [],
   "source": [
    "HR_imp_exp_1=pd.read_excel(r\"FILES/ELEKT/Cross-Border Physical Flow_2020HR1.xlsx\",skiprows=skipr,usecols=\"A:C\")\n",
    "HR_imp_exp_2=pd.read_excel(r\"FILES/ELEKT/Cross-Border Physical Flow_2020HR2.xlsx\",skiprows=skipr,usecols=\"A:C\")\n",
    "HR_imp_exp_3=pd.read_excel(r\"FILES/ELEKT/Cross-Border Physical Flow_2020HR3.xlsx\",skiprows=skipr,usecols=\"A:C\")\n",
    "HR_imp_exp_4=pd.read_excel(r\"FILES/ELEKT/Cross-Border Physical Flow_2020HR4.xlsx\",skiprows=skipr,usecols=\"A:C\")"
   ]
  },
  {
   "cell_type": "code",
   "execution_count": 45,
   "id": "7756536f",
   "metadata": {},
   "outputs": [],
   "source": [
    "HR_imp_exp_1=HR_imp_exp_1[(HR_imp_exp_1[HR_imp_exp_1.columns[1]].isna()==False)&(HR_imp_exp_1[HR_imp_exp_1.columns[2]].isna()==False)]\n",
    "HR_imp_exp_2=HR_imp_exp_2[(HR_imp_exp_2[HR_imp_exp_2.columns[1]].isna()==False)&(HR_imp_exp_2[HR_imp_exp_2.columns[2]].isna()==False)]\n",
    "HR_imp_exp_3=HR_imp_exp_3[(HR_imp_exp_3[HR_imp_exp_3.columns[1]].isna()==False)&(HR_imp_exp_3[HR_imp_exp_3.columns[2]].isna()==False)]\n",
    "HR_imp_exp_4=HR_imp_exp_4[(HR_imp_exp_4[HR_imp_exp_4.columns[1]].isna()==False)&(HR_imp_exp_4[HR_imp_exp_4.columns[2]].isna()==False)]"
   ]
  },
  {
   "cell_type": "code",
   "execution_count": 46,
   "id": "22a6664f",
   "metadata": {},
   "outputs": [],
   "source": [
    "HR_1=df = pd.concat([HR_imp_exp_1[HR_imp_exp_1.columns[1]],HR_imp_exp_2[HR_imp_exp_2.columns[1]], HR_imp_exp_3[HR_imp_exp_3.columns[1]],HR_imp_exp_4[HR_imp_exp_4.columns[1]]],axis=1)\n",
    "HR_2=df = pd.concat([HR_imp_exp_1[HR_imp_exp_1.columns[2]],HR_imp_exp_2[HR_imp_exp_2.columns[2]], HR_imp_exp_3[HR_imp_exp_3.columns[2]],HR_imp_exp_4[HR_imp_exp_4.columns[2]]],axis=1)"
   ]
  },
  {
   "cell_type": "code",
   "execution_count": 47,
   "id": "57724cb6",
   "metadata": {},
   "outputs": [],
   "source": [
    "HR_1=HR_1.drop(0,axis=0)\n",
    "HR_2=HR_2.drop(0,axis=0)"
   ]
  },
  {
   "cell_type": "code",
   "execution_count": 48,
   "id": "7f0710b9",
   "metadata": {},
   "outputs": [],
   "source": [
    "HR_1[\"Import\"]=HR_1[HR_1.columns[0:5]].astype(float).sum(axis=1)\n",
    "HR_2[\"Export\"]=HR_2[HR_2.columns[0:5]].astype(float).sum(axis=1)"
   ]
  },
  {
   "cell_type": "code",
   "execution_count": 49,
   "id": "70a8f2f3",
   "metadata": {},
   "outputs": [],
   "source": [
    "HR_2[\"net\"]=pd.to_numeric(HR_2[\"Export\"])-pd.to_numeric(HR_1[\"Import\"])"
   ]
  },
  {
   "cell_type": "code",
   "execution_count": 50,
   "id": "216b3608",
   "metadata": {},
   "outputs": [
    {
     "data": {
      "text/plain": [
       "1       1064.0\n",
       "2       1008.0\n",
       "3        924.0\n",
       "4        832.0\n",
       "5        933.0\n",
       "         ...  \n",
       "9876    1047.0\n",
       "9877    1045.0\n",
       "9878    1281.0\n",
       "9879    1118.0\n",
       "9880     803.0\n",
       "Name: Import, Length: 8784, dtype: float64"
      ]
     },
     "execution_count": 50,
     "metadata": {},
     "output_type": "execute_result"
    }
   ],
   "source": [
    "HR_1[\"Import\"]"
   ]
  },
  {
   "cell_type": "code",
   "execution_count": 32,
   "id": "baa62468",
   "metadata": {},
   "outputs": [
    {
     "data": {
      "text/html": [
       "<div>\n",
       "<style scoped>\n",
       "    .dataframe tbody tr th:only-of-type {\n",
       "        vertical-align: middle;\n",
       "    }\n",
       "\n",
       "    .dataframe tbody tr th {\n",
       "        vertical-align: top;\n",
       "    }\n",
       "\n",
       "    .dataframe thead th {\n",
       "        text-align: right;\n",
       "    }\n",
       "</style>\n",
       "<table border=\"1\" class=\"dataframe\">\n",
       "  <thead>\n",
       "    <tr style=\"text-align: right;\">\n",
       "      <th></th>\n",
       "      <th>BZN|HR &gt; BZN|BA</th>\n",
       "      <th>BZN|HR &gt; BZN|HU</th>\n",
       "      <th>BZN|HR &gt; BZN|RS</th>\n",
       "      <th>BZN|HR &gt; BZN|SI</th>\n",
       "      <th>Export</th>\n",
       "      <th>net</th>\n",
       "    </tr>\n",
       "  </thead>\n",
       "  <tbody>\n",
       "    <tr>\n",
       "      <th>1</th>\n",
       "      <td>602</td>\n",
       "      <td>0</td>\n",
       "      <td>152</td>\n",
       "      <td>0</td>\n",
       "      <td>754.0</td>\n",
       "      <td>-310.0</td>\n",
       "    </tr>\n",
       "    <tr>\n",
       "      <th>2</th>\n",
       "      <td>494</td>\n",
       "      <td>0</td>\n",
       "      <td>160</td>\n",
       "      <td>88</td>\n",
       "      <td>742.0</td>\n",
       "      <td>-266.0</td>\n",
       "    </tr>\n",
       "    <tr>\n",
       "      <th>3</th>\n",
       "      <td>363</td>\n",
       "      <td>0</td>\n",
       "      <td>120</td>\n",
       "      <td>217</td>\n",
       "      <td>700.0</td>\n",
       "      <td>-224.0</td>\n",
       "    </tr>\n",
       "    <tr>\n",
       "      <th>4</th>\n",
       "      <td>279</td>\n",
       "      <td>0</td>\n",
       "      <td>90</td>\n",
       "      <td>280</td>\n",
       "      <td>649.0</td>\n",
       "      <td>-183.0</td>\n",
       "    </tr>\n",
       "    <tr>\n",
       "      <th>5</th>\n",
       "      <td>491</td>\n",
       "      <td>0</td>\n",
       "      <td>165</td>\n",
       "      <td>141</td>\n",
       "      <td>797.0</td>\n",
       "      <td>-136.0</td>\n",
       "    </tr>\n",
       "    <tr>\n",
       "      <th>...</th>\n",
       "      <td>...</td>\n",
       "      <td>...</td>\n",
       "      <td>...</td>\n",
       "      <td>...</td>\n",
       "      <td>...</td>\n",
       "      <td>...</td>\n",
       "    </tr>\n",
       "    <tr>\n",
       "      <th>9876</th>\n",
       "      <td>0</td>\n",
       "      <td>116</td>\n",
       "      <td>0</td>\n",
       "      <td>719</td>\n",
       "      <td>835.0</td>\n",
       "      <td>-212.0</td>\n",
       "    </tr>\n",
       "    <tr>\n",
       "      <th>9877</th>\n",
       "      <td>0</td>\n",
       "      <td>150</td>\n",
       "      <td>0</td>\n",
       "      <td>797</td>\n",
       "      <td>947.0</td>\n",
       "      <td>-98.0</td>\n",
       "    </tr>\n",
       "    <tr>\n",
       "      <th>9878</th>\n",
       "      <td>0</td>\n",
       "      <td>359</td>\n",
       "      <td>0</td>\n",
       "      <td>897</td>\n",
       "      <td>1256.0</td>\n",
       "      <td>-25.0</td>\n",
       "    </tr>\n",
       "    <tr>\n",
       "      <th>9879</th>\n",
       "      <td>0</td>\n",
       "      <td>374</td>\n",
       "      <td>0</td>\n",
       "      <td>817</td>\n",
       "      <td>1191.0</td>\n",
       "      <td>73.0</td>\n",
       "    </tr>\n",
       "    <tr>\n",
       "      <th>9880</th>\n",
       "      <td>0</td>\n",
       "      <td>275</td>\n",
       "      <td>0</td>\n",
       "      <td>721</td>\n",
       "      <td>996.0</td>\n",
       "      <td>193.0</td>\n",
       "    </tr>\n",
       "  </tbody>\n",
       "</table>\n",
       "<p>8784 rows × 6 columns</p>\n",
       "</div>"
      ],
      "text/plain": [
       "     BZN|HR > BZN|BA BZN|HR > BZN|HU BZN|HR > BZN|RS BZN|HR > BZN|SI  Export  \\\n",
       "1                602               0             152               0   754.0   \n",
       "2                494               0             160              88   742.0   \n",
       "3                363               0             120             217   700.0   \n",
       "4                279               0              90             280   649.0   \n",
       "5                491               0             165             141   797.0   \n",
       "...              ...             ...             ...             ...     ...   \n",
       "9876               0             116               0             719   835.0   \n",
       "9877               0             150               0             797   947.0   \n",
       "9878               0             359               0             897  1256.0   \n",
       "9879               0             374               0             817  1191.0   \n",
       "9880               0             275               0             721   996.0   \n",
       "\n",
       "        net  \n",
       "1    -310.0  \n",
       "2    -266.0  \n",
       "3    -224.0  \n",
       "4    -183.0  \n",
       "5    -136.0  \n",
       "...     ...  \n",
       "9876 -212.0  \n",
       "9877  -98.0  \n",
       "9878  -25.0  \n",
       "9879   73.0  \n",
       "9880  193.0  \n",
       "\n",
       "[8784 rows x 6 columns]"
      ]
     },
     "execution_count": 32,
     "metadata": {},
     "output_type": "execute_result"
    }
   ],
   "source": [
    "HR_2"
   ]
  },
  {
   "cell_type": "code",
   "execution_count": 33,
   "id": "ca1ed7b2",
   "metadata": {},
   "outputs": [
    {
     "data": {
      "text/html": [
       "<div>\n",
       "<style scoped>\n",
       "    .dataframe tbody tr th:only-of-type {\n",
       "        vertical-align: middle;\n",
       "    }\n",
       "\n",
       "    .dataframe tbody tr th {\n",
       "        vertical-align: top;\n",
       "    }\n",
       "\n",
       "    .dataframe thead th {\n",
       "        text-align: right;\n",
       "    }\n",
       "</style>\n",
       "<table border=\"1\" class=\"dataframe\">\n",
       "  <thead>\n",
       "    <tr style=\"text-align: right;\">\n",
       "      <th></th>\n",
       "      <th>MTU</th>\n",
       "      <th>BZN|HR</th>\n",
       "    </tr>\n",
       "  </thead>\n",
       "  <tbody>\n",
       "    <tr>\n",
       "      <th>2</th>\n",
       "      <td>00:00 - 01:00</td>\n",
       "      <td>41.88</td>\n",
       "    </tr>\n",
       "    <tr>\n",
       "      <th>3</th>\n",
       "      <td>01:00 - 02:00</td>\n",
       "      <td>38.60</td>\n",
       "    </tr>\n",
       "    <tr>\n",
       "      <th>4</th>\n",
       "      <td>02:00 - 03:00</td>\n",
       "      <td>36.55</td>\n",
       "    </tr>\n",
       "    <tr>\n",
       "      <th>5</th>\n",
       "      <td>03:00 - 04:00</td>\n",
       "      <td>32.32</td>\n",
       "    </tr>\n",
       "    <tr>\n",
       "      <th>6</th>\n",
       "      <td>04:00 - 05:00</td>\n",
       "      <td>30.85</td>\n",
       "    </tr>\n",
       "    <tr>\n",
       "      <th>...</th>\n",
       "      <td>...</td>\n",
       "      <td>...</td>\n",
       "    </tr>\n",
       "    <tr>\n",
       "      <th>9877</th>\n",
       "      <td>19:00 - 20:00</td>\n",
       "      <td>59.78</td>\n",
       "    </tr>\n",
       "    <tr>\n",
       "      <th>9878</th>\n",
       "      <td>20:00 - 21:00</td>\n",
       "      <td>56.72</td>\n",
       "    </tr>\n",
       "    <tr>\n",
       "      <th>9879</th>\n",
       "      <td>21:00 - 22:00</td>\n",
       "      <td>52.44</td>\n",
       "    </tr>\n",
       "    <tr>\n",
       "      <th>9880</th>\n",
       "      <td>22:00 - 23:00</td>\n",
       "      <td>51.86</td>\n",
       "    </tr>\n",
       "    <tr>\n",
       "      <th>9881</th>\n",
       "      <td>23:00 - 00:00</td>\n",
       "      <td>52.26</td>\n",
       "    </tr>\n",
       "  </tbody>\n",
       "</table>\n",
       "<p>8784 rows × 2 columns</p>\n",
       "</div>"
      ],
      "text/plain": [
       "                MTU BZN|HR\n",
       "2     00:00 - 01:00  41.88\n",
       "3     01:00 - 02:00  38.60\n",
       "4     02:00 - 03:00  36.55\n",
       "5     03:00 - 04:00  32.32\n",
       "6     04:00 - 05:00  30.85\n",
       "...             ...    ...\n",
       "9877  19:00 - 20:00  59.78\n",
       "9878  20:00 - 21:00  56.72\n",
       "9879  21:00 - 22:00  52.44\n",
       "9880  22:00 - 23:00  51.86\n",
       "9881  23:00 - 00:00  52.26\n",
       "\n",
       "[8784 rows x 2 columns]"
      ]
     },
     "execution_count": 33,
     "metadata": {},
     "output_type": "execute_result"
    }
   ],
   "source": [
    " HR_prices_2020"
   ]
  },
  {
   "cell_type": "code",
   "execution_count": 52,
   "id": "1499febc",
   "metadata": {},
   "outputs": [],
   "source": [
    "price_el_2020_HR_net=pd.concat([HR_prices_2020[\"BZN|HR\"],HR_2[\"net\"]],axis=1)"
   ]
  },
  {
   "cell_type": "code",
   "execution_count": 56,
   "id": "17d92c45",
   "metadata": {},
   "outputs": [],
   "source": [
    "price_el_2020_HR_net=price_el_2020_HR_net[(price_el_2020_HR_net[price_el_2020_HR_net.columns[0]].isna()==False)&(price_el_2020_HR_net[price_el_2020_HR_net.columns[1]].isna()==False)]"
   ]
  },
  {
   "cell_type": "code",
   "execution_count": 57,
   "id": "b9f73fc6",
   "metadata": {},
   "outputs": [
    {
     "data": {
      "text/plain": [
       "{'name': [],\n",
       " 'price_elasticity': [0.041422433243900866],\n",
       " 'price_mean': [38.23443150766322],\n",
       " 'quantity_mean': [-576.9653083046215],\n",
       " 'intercept': [-553.0660013373266],\n",
       " 't_score': [-2.5625962872918033],\n",
       " 'slope': [-0.6250728996063352],\n",
       " 'coefficient_pvalue': [0.01040651944055873]}"
      ]
     },
     "execution_count": 57,
     "metadata": {},
     "output_type": "execute_result"
    }
   ],
   "source": [
    "#Linear Regression Model\n",
    "import statsmodels.api as sm\n",
    "results_values = {\n",
    "    \"name\": [],\n",
    "    \"price_elasticity\": [],\n",
    "    \"price_mean\": [],\n",
    "    \"quantity_mean\": [],\n",
    "    \"intercept\": [],\n",
    "    \"t_score\":[],\n",
    "    \"slope\": [],\n",
    "    \"coefficient_pvalue\" : [],\n",
    "}\n",
    "\n",
    "x_value = price_el_2020_HR_net['BZN|HR'].astype(float)\n",
    "y_value = price_el_2020_HR_net[\"net\"].astype(float)\n",
    "X = sm.add_constant(x_value)\n",
    "model = sm.OLS(y_value, X)\n",
    "result = model.fit()\n",
    "    \n",
    "    \n",
    "    #(Null Hypothesis test) Coefficient with a p value less than 0.05\n",
    "if result.f_pvalue < 0.05:\n",
    "        \n",
    "    rsquared = result.rsquared\n",
    "    coefficient_pvalue = result.f_pvalue\n",
    "    intercept, slope = result.params\n",
    "    mean_price = np.mean(x_value)\n",
    "    mean_quantity = np.mean(y_value)\n",
    "    tintercept, t_score = result.tvalues\n",
    "     \n",
    "    #Price elasticity Formula\n",
    "    price_elasticity = (slope)*(mean_price/mean_quantity)    \n",
    "            \n",
    "    #Append results into dictionary for dataframe\n",
    " \n",
    "    results_values[\"price_elasticity\"].append(price_elasticity)\n",
    "    results_values[\"price_mean\"].append(mean_price)\n",
    "    results_values[\"quantity_mean\"].append(mean_quantity)\n",
    "    results_values[\"intercept\"].append(intercept)\n",
    "    results_values['t_score'].append(t_score)\n",
    "    results_values[\"slope\"].append(slope)\n",
    "    results_values[\"coefficient_pvalue\"].append(coefficient_pvalue)\n",
    "results_values"
   ]
  },
  {
   "cell_type": "code",
   "execution_count": 59,
   "id": "b6032d5f",
   "metadata": {},
   "outputs": [],
   "source": [
    "RS_imp_exp_1=pd.read_excel(r\"FILES/ELEKT/Cross-Border Physical Flow_2020RS1.xlsx\",skiprows=skipr,usecols=\"A:C\")\n",
    "RS_imp_exp_2=pd.read_excel(r\"FILES/ELEKT/Cross-Border Physical Flow_2020RS2.xlsx\",skiprows=skipr,usecols=\"A:C\")\n",
    "RS_imp_exp_3=pd.read_excel(r\"FILES/ELEKT/Cross-Border Physical Flow_2020RS3.xlsx\",skiprows=skipr,usecols=\"A:C\")\n",
    "RS_imp_exp_4=pd.read_excel(r\"FILES/ELEKT/Cross-Border Physical Flow_2020RS4.xlsx\",skiprows=skipr,usecols=\"A:C\")\n",
    "RS_imp_exp_5=pd.read_excel(r\"FILES/ELEKT/Cross-Border Physical Flow_2020RS5.xlsx\",skiprows=skipr,usecols=\"A:C\")\n",
    "RS_imp_exp_6=pd.read_excel(r\"FILES/ELEKT/Cross-Border Physical Flow_2020RS6.xlsx\",skiprows=skipr,usecols=\"A:C\")\n",
    "RS_imp_exp_7=pd.read_excel(r\"FILES/ELEKT/Cross-Border Physical Flow_2020RS7.xlsx\",skiprows=skipr,usecols=\"A:C\")\n",
    "RS_imp_exp_8=pd.read_excel(r\"FILES/ELEKT/Cross-Border Physical Flow_2020RS8.xlsx\",skiprows=skipr,usecols=\"A:C\")\n",
    "RS_imp_exp_9=pd.read_excel(r\"FILES/ELEKT/Cross-Border Physical Flow_2020RS9.xlsx\",skiprows=skipr,usecols=\"A:C\")"
   ]
  },
  {
   "cell_type": "code",
   "execution_count": 60,
   "id": "b404d71f",
   "metadata": {},
   "outputs": [],
   "source": [
    "RS_imp_exp_1=RS_imp_exp_1[(RS_imp_exp_1[RS_imp_exp_1.columns[1]].isna()==False)&(RS_imp_exp_1[RS_imp_exp_1.columns[2]].isna()==False)]\n",
    "RS_imp_exp_2=RS_imp_exp_2[(RS_imp_exp_2[RS_imp_exp_2.columns[1]].isna()==False)&(RS_imp_exp_2[RS_imp_exp_2.columns[2]].isna()==False)]\n",
    "RS_imp_exp_3=RS_imp_exp_3[(RS_imp_exp_3[RS_imp_exp_3.columns[1]].isna()==False)&(RS_imp_exp_3[RS_imp_exp_3.columns[2]].isna()==False)]\n",
    "RS_imp_exp_4=RS_imp_exp_4[(RS_imp_exp_4[RS_imp_exp_4.columns[1]].isna()==False)&(RS_imp_exp_4[RS_imp_exp_4.columns[2]].isna()==False)]\n",
    "\n",
    "RS_imp_exp_5=RS_imp_exp_5[(RS_imp_exp_5[RS_imp_exp_5.columns[1]].isna()==False)&(RS_imp_exp_5[RS_imp_exp_5.columns[2]].isna()==False)]\n",
    "RS_imp_exp_5=RS_imp_exp_6[(RS_imp_exp_6[RS_imp_exp_6.columns[1]].isna()==False)&(RS_imp_exp_6[RS_imp_exp_6.columns[2]].isna()==False)]\n",
    "RS_imp_exp_7=RS_imp_exp_7[(RS_imp_exp_7[RS_imp_exp_7.columns[1]].isna()==False)&(RS_imp_exp_7[RS_imp_exp_7.columns[2]].isna()==False)]\n",
    "RS_imp_exp_8=RS_imp_exp_8[(RS_imp_exp_8[RS_imp_exp_8.columns[1]].isna()==False)&(RS_imp_exp_8[RS_imp_exp_8.columns[2]].isna()==False)]\n",
    "RS_imp_exp_9=RS_imp_exp_9[(RS_imp_exp_9[RS_imp_exp_9.columns[1]].isna()==False)&(RS_imp_exp_9[RS_imp_exp_9.columns[2]].isna()==False)]"
   ]
  },
  {
   "cell_type": "code",
   "execution_count": 62,
   "id": "4d06664b",
   "metadata": {},
   "outputs": [],
   "source": [
    "RS_1=df = pd.concat([RS_imp_exp_1[RS_imp_exp_1.columns[1]],RS_imp_exp_2[RS_imp_exp_2.columns[1]], RS_imp_exp_3[RS_imp_exp_3.columns[1]],RS_imp_exp_4[RS_imp_exp_4.columns[1]],RS_imp_exp_5[RS_imp_exp_5.columns[1]],RS_imp_exp_6[RS_imp_exp_6.columns[1]],RS_imp_exp_7[RS_imp_exp_7.columns[1]],RS_imp_exp_8[RS_imp_exp_8.columns[1]],RS_imp_exp_9[RS_imp_exp_9.columns[1]]],axis=1)\n",
    "RS_2=df = pd.concat([RS_imp_exp_1[RS_imp_exp_1.columns[2]],RS_imp_exp_2[RS_imp_exp_2.columns[2]], RS_imp_exp_3[RS_imp_exp_3.columns[2]],RS_imp_exp_4[RS_imp_exp_4.columns[2]],RS_imp_exp_5[RS_imp_exp_5.columns[2]],RS_imp_exp_6[RS_imp_exp_6.columns[2]],RS_imp_exp_7[RS_imp_exp_7.columns[2]],RS_imp_exp_8[RS_imp_exp_8.columns[2]],RS_imp_exp_9[RS_imp_exp_9.columns[2]]],axis=1)"
   ]
  },
  {
   "cell_type": "code",
   "execution_count": 63,
   "id": "9e4a2403",
   "metadata": {},
   "outputs": [],
   "source": [
    "RS_1=RS_1.drop(0,axis=0)\n",
    "RS_2=RS_2.drop(0,axis=0)"
   ]
  },
  {
   "cell_type": "code",
   "execution_count": 64,
   "id": "eab7f364",
   "metadata": {},
   "outputs": [],
   "source": [
    "RS_1[\"Import\"]=RS_1[RS_1.columns[0:5]].astype(float).sum(axis=1)\n",
    "RS_2[\"Export\"]=RS_2[RS_2.columns[0:5]].astype(float).sum(axis=1)"
   ]
  },
  {
   "cell_type": "code",
   "execution_count": 65,
   "id": "6e187bf6",
   "metadata": {},
   "outputs": [],
   "source": [
    "RS_2[\"net\"]=pd.to_numeric(RS_2[\"Export\"])-pd.to_numeric(RS_1[\"Import\"])"
   ]
  },
  {
   "cell_type": "code",
   "execution_count": 67,
   "id": "faef130b",
   "metadata": {},
   "outputs": [],
   "source": [
    "price_el_2020_RS_net=pd.concat([RS_prices_2020[\"BZN|RS\"],RS_2[\"net\"]],axis=1)"
   ]
  },
  {
   "cell_type": "code",
   "execution_count": 68,
   "id": "8e0d3b97",
   "metadata": {},
   "outputs": [],
   "source": [
    "price_el_2020_RS_net=price_el_2020_RS_net[(price_el_2020_RS_net[price_el_2020_RS_net.columns[0]].isna()==False)&(price_el_2020_RS_net[price_el_2020_RS_net.columns[1]].isna()==False)]"
   ]
  },
  {
   "cell_type": "code",
   "execution_count": 69,
   "id": "cb599463",
   "metadata": {},
   "outputs": [
    {
     "data": {
      "text/plain": [
       "{'name': [],\n",
       " 'price_elasticity': [2.083066799746208],\n",
       " 'price_mean': [39.00550836843901],\n",
       " 'quantity_mean': [-316.86212000455424],\n",
       " 'intercept': [343.1828422741314],\n",
       " 't_score': [-53.04750016659457],\n",
       " 'slope': [-16.92183975770857],\n",
       " 'coefficient_pvalue': [0.0]}"
      ]
     },
     "execution_count": 69,
     "metadata": {},
     "output_type": "execute_result"
    }
   ],
   "source": [
    "import statsmodels.api as sm\n",
    "results_values = {\n",
    "    \"name\": [],\n",
    "    \"price_elasticity\": [],\n",
    "    \"price_mean\": [],\n",
    "    \"quantity_mean\": [],\n",
    "    \"intercept\": [],\n",
    "    \"t_score\":[],\n",
    "    \"slope\": [],\n",
    "    \"coefficient_pvalue\" : [],\n",
    "}\n",
    "\n",
    "x_value = price_el_2020_RS_net['BZN|RS'].astype(float)\n",
    "y_value = price_el_2020_RS_net[\"net\"].astype(float)\n",
    "X = sm.add_constant(x_value)\n",
    "model = sm.OLS(y_value, X)\n",
    "result = model.fit()\n",
    "    \n",
    "    \n",
    "    #(Null Hypothesis test) Coefficient with a p value less than 0.05\n",
    "if result.f_pvalue < 0.05:\n",
    "        \n",
    "    rsquared = result.rsquared\n",
    "    coefficient_pvalue = result.f_pvalue\n",
    "    intercept, slope = result.params\n",
    "    mean_price = np.mean(x_value)\n",
    "    mean_quantity = np.mean(y_value)\n",
    "    tintercept, t_score = result.tvalues\n",
    "     \n",
    "    #Price elasticity Formula\n",
    "    price_elasticity = (slope)*(mean_price/mean_quantity)    \n",
    "            \n",
    "    #Append results into dictionary for dataframe\n",
    " \n",
    "    results_values[\"price_elasticity\"].append(price_elasticity)\n",
    "    results_values[\"price_mean\"].append(mean_price)\n",
    "    results_values[\"quantity_mean\"].append(mean_quantity)\n",
    "    results_values[\"intercept\"].append(intercept)\n",
    "    results_values['t_score'].append(t_score)\n",
    "    results_values[\"slope\"].append(slope)\n",
    "    results_values[\"coefficient_pvalue\"].append(coefficient_pvalue)\n",
    "results_values"
   ]
  },
  {
   "cell_type": "code",
   "execution_count": null,
   "id": "e61923fa",
   "metadata": {},
   "outputs": [],
   "source": []
  }
 ],
 "metadata": {
  "kernelspec": {
   "display_name": "Python 3",
   "language": "python",
   "name": "python3"
  },
  "language_info": {
   "codemirror_mode": {
    "name": "ipython",
    "version": 3
   },
   "file_extension": ".py",
   "mimetype": "text/x-python",
   "name": "python",
   "nbconvert_exporter": "python",
   "pygments_lexer": "ipython3",
   "version": "3.8.8"
  }
 },
 "nbformat": 4,
 "nbformat_minor": 5
}
