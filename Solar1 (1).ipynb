{
 "cells": [
  {
   "cell_type": "markdown",
   "id": "8e73da34",
   "metadata": {},
   "source": [
    "# Satna proizvodnja električne energije iz solarnih elektrana"
   ]
  },
  {
   "cell_type": "markdown",
   "id": "784567f2",
   "metadata": {},
   "source": [
    "Za analizu satne proizvodnje električne energije iz solarnih elektrana korišteni su podaci dostupni na linku https://www.sunnyportal.com/Templates/PublicPagesPlantList.aspx sa filterima za BiH i snagu od 150 kWp. Sa navedenog portala se mogu preuzeti satni podaci za sve elektrane koje su u bazi, ali je preuzimanje podataka za neke elektrane izuzetno dugotrajan zadatak jer su satni podaci dati po danima, te bi bilo potrebno kopirati podatke za svaki dan u godini i pohranjivati ih u Excel fajl. Zbog toga je preuzimanje podataka izvršeno automatizacijom HTML koda za pojedine elektrane, s tim da HTML stranica skoro svake od elektrana ima određene postavke koje se razlikuju od ostalih, te su se kodovi morali povremeno mijenjati. \n",
    "Podaci za 2019., 2020. i 2021. godinu su preuzeti za FNE:\n",
    "<br> FNE Krenica 1 - Grude - 215.08 kWp\n",
    "<br>  FNE Energetic Electronic - Čitluk - 195.50 kWp\n",
    "<br>  FNE Hodovo 1 - Stolac -149 kWp\n",
    "<br> FNE \"Čule promet\" - Mostar - 170.30 kWp\n",
    "<br>  FNE Energy 1 - Usora  - 204.00 kWp\n",
    "<br>  Ove elektrane su izabrane sa kapacitetom većim od 150 kWp, te iz razloga što se nalaze u područjima sa najvećim brojem instalisanih elektrana (npr. Hodovo kod Stoca). "
   ]
  },
  {
   "cell_type": "markdown",
   "id": "3c9d4987",
   "metadata": {},
   "source": [
    "# Analiza registra energetskih dozvola za navedene lokacije"
   ]
  },
  {
   "cell_type": "markdown",
   "id": "03be02c1",
   "metadata": {},
   "source": [
    "Registar energetskih dozvola je preuzet sa web-stranice https://fmeri.gov.ba/registri/registar-energetskih-dozvola/, te su izbačeni podaci koji se odnose na energiju vode i vjetra. U opticaju su ostale male i velike solarne elektrane (osjenčene zelenim u .xslx. fajlu registar-ed-novembar-2021.xlsx - list: \"Produzenje_solar\"), s tim da nije jasno zašto su neki redovi potpuno zeleni, dok su za pojedine investitore podaci neosjenčeni. U obzir će se uzimati sve one FNE kod kojih su kolone sa energetskim dozvolama označene zelenim. \n",
    "\n",
    "*Napomena: S obzirom da su u Sunny portal bazi samo veće FNE sa područja FBiH, nije razmatran registar koji se odnosi na dozovole iz RS-a. U bazi postoje podaci za FNE na području opštine Pale, te Banjaluke i Prnjavora, ali su kapaciteti mali. Eventualno ukupna proizvodnja iz FNE sa područja RS-a se može nadodati u vidu vrijednosti na proračunatu sa izabranih lokacija u cilju dobijanja potpune slike za BiH. Tu treba imati na umu FNE Stanari snage 405 kW, te postrojenja snage oko 25o kW u Banjaluci, Trebinju i sl.*"
   ]
  },
  {
   "cell_type": "code",
   "execution_count": 1,
   "id": "a3ef631c",
   "metadata": {},
   "outputs": [],
   "source": [
    "import pandas as pd\n",
    "import numpy as np\n",
    "import datetime as dt"
   ]
  },
  {
   "cell_type": "code",
   "execution_count": 2,
   "id": "8f352ede",
   "metadata": {},
   "outputs": [],
   "source": [
    "def open_the_file(filename,sheets,num):\n",
    "    filex=pd.read_excel(filename,sheets,header=num)\n",
    "    return filex #otvaranje"
   ]
  },
  {
   "cell_type": "code",
   "execution_count": 3,
   "id": "e39ee6d5",
   "metadata": {},
   "outputs": [],
   "source": [
    "registar=open_the_file(r\"FILES\\SOLAR\\registar-ed-novembar-2021.xlsx\",1,1)"
   ]
  },
  {
   "cell_type": "markdown",
   "id": "0e2740d3",
   "metadata": {},
   "source": [
    "U nastavku je prikazano prvih 10 FNE u fajlu registar kako bi se vidjela njegova forma."
   ]
  },
  {
   "cell_type": "code",
   "execution_count": 4,
   "id": "cf79ec5e",
   "metadata": {},
   "outputs": [
    {
     "data": {
      "text/html": [
       "<div>\n",
       "<style scoped>\n",
       "    .dataframe tbody tr th:only-of-type {\n",
       "        vertical-align: middle;\n",
       "    }\n",
       "\n",
       "    .dataframe tbody tr th {\n",
       "        vertical-align: top;\n",
       "    }\n",
       "\n",
       "    .dataframe thead th {\n",
       "        text-align: right;\n",
       "    }\n",
       "</style>\n",
       "<table border=\"1\" class=\"dataframe\">\n",
       "  <thead>\n",
       "    <tr style=\"text-align: right;\">\n",
       "      <th></th>\n",
       "      <th>R.B.</th>\n",
       "      <th>Naziv i sjedište podnosioca zahtijeva</th>\n",
       "      <th>Identifikacijski broj podnosioca zahtijeva</th>\n",
       "      <th>Djelovodni broj i datum  prijema zahtjeva</th>\n",
       "      <th>Datum upisa u registar</th>\n",
       "      <th>Datum kompletiranja zahtjeva</th>\n",
       "      <th>Broj Energetske dozvole</th>\n",
       "      <th>Broj Produžene Energetske dozvole</th>\n",
       "      <th>Datum isteka produžene Energetske dozvole</th>\n",
       "      <th>Naziv objekta</th>\n",
       "      <th>Lokacija</th>\n",
       "      <th>Snaga\\n(MW)</th>\n",
       "      <th>TEHNOLOGIJA</th>\n",
       "    </tr>\n",
       "  </thead>\n",
       "  <tbody>\n",
       "    <tr>\n",
       "      <th>0</th>\n",
       "      <td>1</td>\n",
       "      <td>ENERETIC-ELECTRONIC d.o.o Međugorje</td>\n",
       "      <td>227228910006</td>\n",
       "      <td>UP/I-05-17-129/15</td>\n",
       "      <td>2015-03-10 00:00:00</td>\n",
       "      <td>2015-03-10 00:00:00</td>\n",
       "      <td>ED-4/14</td>\n",
       "      <td>ED-4-1/15</td>\n",
       "      <td>2016-06-12 00:00:00</td>\n",
       "      <td>ENERETIC-ELECTRONIC</td>\n",
       "      <td>Gos. zona Blizanci</td>\n",
       "      <td>0.149</td>\n",
       "      <td>izgrađena 5.8.2015</td>\n",
       "    </tr>\n",
       "    <tr>\n",
       "      <th>1</th>\n",
       "      <td>2</td>\n",
       "      <td>IGI SOLAR d.o.o. Čitluk</td>\n",
       "      <td>227738100009</td>\n",
       "      <td>UP/I-05-17-130/15</td>\n",
       "      <td>2015-03-10 00:00:00</td>\n",
       "      <td>2015-04-29 00:00:00</td>\n",
       "      <td>ED-2/14</td>\n",
       "      <td>ED-2-1/15</td>\n",
       "      <td>2016-06-12 00:00:00</td>\n",
       "      <td>Blizanci 1</td>\n",
       "      <td>Gos. zona Blizanci</td>\n",
       "      <td>0.149</td>\n",
       "      <td>izgrađena 06.7.2015</td>\n",
       "    </tr>\n",
       "    <tr>\n",
       "      <th>2</th>\n",
       "      <td>3</td>\n",
       "      <td>ENERGOSOL d.o.o. Stolac, Aladinići bb</td>\n",
       "      <td>4227701100009</td>\n",
       "      <td>UP/I-05-17-131/15</td>\n",
       "      <td>2015-03-11 00:00:00</td>\n",
       "      <td>2015-03-11 00:00:00</td>\n",
       "      <td>ED-1/14</td>\n",
       "      <td>ED-1-1/15</td>\n",
       "      <td>12.06.2015.</td>\n",
       "      <td>Pješivac 1</td>\n",
       "      <td>HODOVO-STOLAC</td>\n",
       "      <td>0.149</td>\n",
       "      <td>izgrađena 08.6.2015</td>\n",
       "    </tr>\n",
       "    <tr>\n",
       "      <th>3</th>\n",
       "      <td>4</td>\n",
       "      <td>GP TOMING d.o.o. Grude, Drinovci bb</td>\n",
       "      <td>4272031830006</td>\n",
       "      <td>UP/I-05-17-157/15</td>\n",
       "      <td>2015-03-19 00:00:00</td>\n",
       "      <td>2015-03-19 00:00:00</td>\n",
       "      <td>ED-7/14</td>\n",
       "      <td>ED-7-1/15</td>\n",
       "      <td>2016-06-20 00:00:00</td>\n",
       "      <td>KRENICA 2</td>\n",
       "      <td>Drinvci-Grude</td>\n",
       "      <td>0.149</td>\n",
       "      <td>izgrađena 28.8.2015</td>\n",
       "    </tr>\n",
       "    <tr>\n",
       "      <th>4</th>\n",
       "      <td>5</td>\n",
       "      <td>GP TOMING d.o.o. Grude, Drinovci bb</td>\n",
       "      <td>4272031830006</td>\n",
       "      <td>UP/I-05-17-154/15</td>\n",
       "      <td>2015-03-19 00:00:00</td>\n",
       "      <td>2015-03-19 00:00:00</td>\n",
       "      <td>ED-8/14</td>\n",
       "      <td>ED-8-1/15</td>\n",
       "      <td>2016-06-20 00:00:00</td>\n",
       "      <td>KRENICA 3</td>\n",
       "      <td>Drinvci-Grude</td>\n",
       "      <td>0.149</td>\n",
       "      <td>izgrađena 28.8.2015</td>\n",
       "    </tr>\n",
       "    <tr>\n",
       "      <th>5</th>\n",
       "      <td>6</td>\n",
       "      <td>GP TOMING d.o.o. Grude, Drinovci bb</td>\n",
       "      <td>4272031830006</td>\n",
       "      <td>UP/I-05-17-141/15</td>\n",
       "      <td>2015-03-19 00:00:00</td>\n",
       "      <td>2015-03-19 00:00:00</td>\n",
       "      <td>ED-9/14</td>\n",
       "      <td>ED-9-1/15</td>\n",
       "      <td>2016-06-20 00:00:00</td>\n",
       "      <td>HODOVO 2</td>\n",
       "      <td>Pješivac-Stolac</td>\n",
       "      <td>0.149</td>\n",
       "      <td>izgrađena 21.9.2015</td>\n",
       "    </tr>\n",
       "    <tr>\n",
       "      <th>6</th>\n",
       "      <td>7</td>\n",
       "      <td>GP TOMING d.o.o. Grude, Drinovci bb</td>\n",
       "      <td>4272031830006</td>\n",
       "      <td>UP/I-05-17-142/15</td>\n",
       "      <td>2015-03-19 00:00:00</td>\n",
       "      <td>2015-03-19 00:00:00</td>\n",
       "      <td>ED-10/14</td>\n",
       "      <td>ED-10-1/15</td>\n",
       "      <td>2016-06-20 00:00:00</td>\n",
       "      <td>HODOVO 3</td>\n",
       "      <td>Pješivac-Stolac</td>\n",
       "      <td>0.149</td>\n",
       "      <td>izgrađena 21.9.2015</td>\n",
       "    </tr>\n",
       "    <tr>\n",
       "      <th>7</th>\n",
       "      <td>8</td>\n",
       "      <td>GP TOMING d.o.o. Grude, Drinovci bb</td>\n",
       "      <td>4272031830006</td>\n",
       "      <td>UP/I-05-17-143/15</td>\n",
       "      <td>2015-03-19 00:00:00</td>\n",
       "      <td>2015-03-19 00:00:00</td>\n",
       "      <td>ED-11/14</td>\n",
       "      <td>ED-11-1/15</td>\n",
       "      <td>2016-06-20 00:00:00</td>\n",
       "      <td>HODOVO 4</td>\n",
       "      <td>Pješivac-Stolac</td>\n",
       "      <td>0.149</td>\n",
       "      <td>izgrađena 21.9.2015</td>\n",
       "    </tr>\n",
       "    <tr>\n",
       "      <th>8</th>\n",
       "      <td>9</td>\n",
       "      <td>GP TOMING d.o.o. Grude, Drinovci bb</td>\n",
       "      <td>4272031830006</td>\n",
       "      <td>UP/I-05-17-144/15</td>\n",
       "      <td>2015-03-19 00:00:00</td>\n",
       "      <td>2015-03-19 00:00:00</td>\n",
       "      <td>ED-12/14</td>\n",
       "      <td>ED-12-1/15</td>\n",
       "      <td>2016-06-20 00:00:00</td>\n",
       "      <td>HODOVO 5</td>\n",
       "      <td>Pješivac-Stolac</td>\n",
       "      <td>0.149</td>\n",
       "      <td>izgrađena 21.9.2015</td>\n",
       "    </tr>\n",
       "    <tr>\n",
       "      <th>9</th>\n",
       "      <td>10</td>\n",
       "      <td>GP TOMING d.o.o. Grude, Drinovci bb</td>\n",
       "      <td>4272031830006</td>\n",
       "      <td>UP/I-05-17-145/15</td>\n",
       "      <td>2015-03-19 00:00:00</td>\n",
       "      <td>2015-03-19 00:00:00</td>\n",
       "      <td>ED-13/14</td>\n",
       "      <td>ED-13-1/15</td>\n",
       "      <td>2016-06-20 00:00:00</td>\n",
       "      <td>HODOVO 6</td>\n",
       "      <td>Pješivac-Stolac</td>\n",
       "      <td>0.149</td>\n",
       "      <td>izgrađena 21.9.2015</td>\n",
       "    </tr>\n",
       "  </tbody>\n",
       "</table>\n",
       "</div>"
      ],
      "text/plain": [
       "   R.B.  Naziv i sjedište podnosioca zahtijeva  \\\n",
       "0     1    ENERETIC-ELECTRONIC d.o.o Međugorje   \n",
       "1     2              IGI SOLAR d.o.o. Čitluk     \n",
       "2     3  ENERGOSOL d.o.o. Stolac, Aladinići bb   \n",
       "3     4    GP TOMING d.o.o. Grude, Drinovci bb   \n",
       "4     5    GP TOMING d.o.o. Grude, Drinovci bb   \n",
       "5     6    GP TOMING d.o.o. Grude, Drinovci bb   \n",
       "6     7    GP TOMING d.o.o. Grude, Drinovci bb   \n",
       "7     8    GP TOMING d.o.o. Grude, Drinovci bb   \n",
       "8     9    GP TOMING d.o.o. Grude, Drinovci bb   \n",
       "9    10    GP TOMING d.o.o. Grude, Drinovci bb   \n",
       "\n",
       "   Identifikacijski broj podnosioca zahtijeva  \\\n",
       "0                                227228910006   \n",
       "1                                227738100009   \n",
       "2                               4227701100009   \n",
       "3                               4272031830006   \n",
       "4                               4272031830006   \n",
       "5                               4272031830006   \n",
       "6                               4272031830006   \n",
       "7                               4272031830006   \n",
       "8                               4272031830006   \n",
       "9                               4272031830006   \n",
       "\n",
       "  Djelovodni broj i datum  prijema zahtjeva Datum upisa u registar  \\\n",
       "0                         UP/I-05-17-129/15    2015-03-10 00:00:00   \n",
       "1                         UP/I-05-17-130/15    2015-03-10 00:00:00   \n",
       "2                         UP/I-05-17-131/15    2015-03-11 00:00:00   \n",
       "3                         UP/I-05-17-157/15    2015-03-19 00:00:00   \n",
       "4                         UP/I-05-17-154/15    2015-03-19 00:00:00   \n",
       "5                         UP/I-05-17-141/15    2015-03-19 00:00:00   \n",
       "6                         UP/I-05-17-142/15    2015-03-19 00:00:00   \n",
       "7                         UP/I-05-17-143/15    2015-03-19 00:00:00   \n",
       "8                         UP/I-05-17-144/15    2015-03-19 00:00:00   \n",
       "9                         UP/I-05-17-145/15    2015-03-19 00:00:00   \n",
       "\n",
       "  Datum kompletiranja zahtjeva Broj Energetske dozvole  \\\n",
       "0          2015-03-10 00:00:00                 ED-4/14   \n",
       "1          2015-04-29 00:00:00                 ED-2/14   \n",
       "2          2015-03-11 00:00:00                 ED-1/14   \n",
       "3          2015-03-19 00:00:00                 ED-7/14   \n",
       "4          2015-03-19 00:00:00                 ED-8/14   \n",
       "5          2015-03-19 00:00:00                 ED-9/14   \n",
       "6          2015-03-19 00:00:00                ED-10/14   \n",
       "7          2015-03-19 00:00:00                ED-11/14   \n",
       "8          2015-03-19 00:00:00                ED-12/14   \n",
       "9          2015-03-19 00:00:00                ED-13/14   \n",
       "\n",
       "  Broj Produžene Energetske dozvole Datum isteka produžene Energetske dozvole  \\\n",
       "0                         ED-4-1/15                       2016-06-12 00:00:00   \n",
       "1                         ED-2-1/15                       2016-06-12 00:00:00   \n",
       "2                         ED-1-1/15                               12.06.2015.   \n",
       "3                         ED-7-1/15                       2016-06-20 00:00:00   \n",
       "4                         ED-8-1/15                       2016-06-20 00:00:00   \n",
       "5                         ED-9-1/15                       2016-06-20 00:00:00   \n",
       "6                        ED-10-1/15                       2016-06-20 00:00:00   \n",
       "7                        ED-11-1/15                       2016-06-20 00:00:00   \n",
       "8                        ED-12-1/15                       2016-06-20 00:00:00   \n",
       "9                        ED-13-1/15                       2016-06-20 00:00:00   \n",
       "\n",
       "          Naziv objekta            Lokacija  Snaga\\n(MW)          TEHNOLOGIJA  \n",
       "0  ENERETIC-ELECTRONIC   Gos. zona Blizanci        0.149   izgrađena 5.8.2015  \n",
       "1            Blizanci 1  Gos. zona Blizanci        0.149  izgrađena 06.7.2015  \n",
       "2            Pješivac 1       HODOVO-STOLAC        0.149  izgrađena 08.6.2015  \n",
       "3             KRENICA 2       Drinvci-Grude        0.149  izgrađena 28.8.2015  \n",
       "4             KRENICA 3       Drinvci-Grude        0.149  izgrađena 28.8.2015  \n",
       "5              HODOVO 2     Pješivac-Stolac        0.149  izgrađena 21.9.2015  \n",
       "6              HODOVO 3     Pješivac-Stolac        0.149  izgrađena 21.9.2015  \n",
       "7              HODOVO 4     Pješivac-Stolac        0.149  izgrađena 21.9.2015  \n",
       "8              HODOVO 5     Pješivac-Stolac        0.149  izgrađena 21.9.2015  \n",
       "9              HODOVO 6     Pješivac-Stolac        0.149  izgrađena 21.9.2015  "
      ]
     },
     "execution_count": 4,
     "metadata": {},
     "output_type": "execute_result"
    }
   ],
   "source": [
    "registar.head(10)"
   ]
  },
  {
   "cell_type": "code",
   "execution_count": 5,
   "id": "75b56884",
   "metadata": {},
   "outputs": [
    {
     "data": {
      "text/plain": [
       "array([139, 140], dtype=int64)"
      ]
     },
     "execution_count": 5,
     "metadata": {},
     "output_type": "execute_result"
    }
   ],
   "source": [
    "registar[registar[\"Lokacija\"].isnull()==True].index.values"
   ]
  },
  {
   "cell_type": "code",
   "execution_count": 6,
   "id": "d35a6085",
   "metadata": {},
   "outputs": [],
   "source": [
    "registar.loc[registar[registar[\"Lokacija\"].isnull()==True].index.values,\"Lokacija\"]=\"Stolac\" #za 2 FNE iz Stoca su ostavljena prazna\n",
    "#mjesta za lokaciju, te će se ona dodijeliti"
   ]
  },
  {
   "cell_type": "markdown",
   "id": "349f2f77",
   "metadata": {},
   "source": [
    "## Stolac"
   ]
  },
  {
   "cell_type": "markdown",
   "id": "710eb55b",
   "metadata": {},
   "source": [
    "Prva od analiziranih lokacije je Stolac - uglavnom lokacija Hodovo, Pješivac."
   ]
  },
  {
   "cell_type": "code",
   "execution_count": 7,
   "id": "22643ba8",
   "metadata": {},
   "outputs": [
    {
     "name": "stdout",
     "output_type": "stream",
     "text": [
      "Ukupno u Stocu: 64\n"
     ]
    }
   ],
   "source": [
    "registar_STOLAC=pd.DataFrame()\n",
    "registar_STOLAC=registar[(registar[\"Lokacija\"].str.contains(\"Stolac\",case=False))|\n",
    "                        (registar[\"Lokacija\"].str.contains(\"Hodovo\",case=False))|\n",
    "                         (registar[\"Lokacija\"].str.contains(\"PJEŠIVAC\",case=False))]\n",
    "print(\"Ukupno u Stocu:\", len(registar_STOLAC))"
   ]
  },
  {
   "cell_type": "code",
   "execution_count": 8,
   "id": "691f0098",
   "metadata": {},
   "outputs": [
    {
     "data": {
      "text/plain": [
       "array(['HODOVO-STOLAC', 'Pješivac-Stolac', 'PJEŠIVAC', 'HODOVO -STOLAC',\n",
       "       'HODOVO -STO.', 'TRIJEBANJ-STOLAC', 'STOLAC', 'Hodovo', 'Stolac'],\n",
       "      dtype=object)"
      ]
     },
     "execution_count": 8,
     "metadata": {},
     "output_type": "execute_result"
    }
   ],
   "source": [
    "registar_STOLAC[\"Lokacija\"].unique()"
   ]
  },
  {
   "cell_type": "markdown",
   "id": "5f779cd9",
   "metadata": {},
   "source": [
    "Karakteristike postrojenja na ovom području su date u narednom prikazu. Kao što se može primijetiti, na ovom području su većinski zastupljena postrojenja snage (140 - 150) kW, izgrađena u periodu (2015. - 2021.). Kolona \"Tehnologija\" nije punjena ujednačeno, tako da nije za sve FNE dato vrijeme izgradnje. Tako se može vidjeti da je za neke FNE data oznaka SE ili mSE, a za neke je u istoj koloni dato vrijeme izgradnje. Na ovom području se nalaze četiri postrojenja snage od skoro 1 MW, te je potrebno izvršiti provjeru ako je moguće da li su ta postrojenja već izgrađena ili u izgradnji "
   ]
  },
  {
   "cell_type": "code",
   "execution_count": 9,
   "id": "2b57648b",
   "metadata": {},
   "outputs": [
    {
     "data": {
      "text/plain": [
       "TEHNOLOGIJA           Snaga\\n(MW)\n",
       "SE                    0.1000          1\n",
       "                      0.1100          1\n",
       "                      0.1490          3\n",
       "                      0.1500          3\n",
       "                      0.9990          4\n",
       "izgrađena 01.02.2017  0.1490          1\n",
       "izgrađena 01.02.2018  0.1490          4\n",
       "                      0.1500          1\n",
       "izgrađena 02.07.2021  0.1500          2\n",
       "izgrađena 04.09.2019  0.1490          3\n",
       "izgrađena 05.02.2018  0.1490          1\n",
       "izgrađena 05.05.2016  0.1490          1\n",
       "izgrađena 07.03.2018  0.1500          1\n",
       "izgrađena 08.6.2015   0.1490          1\n",
       "izgrađena 17.01.2018  0.1490          2\n",
       "izgrađena 18.01.2018  0.1500          1\n",
       "izgrađena 20.02.2018  0.1000          1\n",
       "izgrađena 20.07.2020  0.0230          1\n",
       "                      0.1500          1\n",
       "izgrađena 20.10.2016  0.1490          1\n",
       "izgrađena 20.12.2017  0.1490          2\n",
       "izgrađena 21.9.2015   0.1490         13\n",
       "izgrađena 25.07.2019  0.1490          1\n",
       "izgrađena 28.05.2018  0.1490          1\n",
       "                      0.1500          1\n",
       "izgrađena 29.12.2017  0.1460          1\n",
       "izgrađena 30.04.2021  0.1480          6\n",
       "izgrađena 30.1.2020   0.1490          3\n",
       "mSE                   0.0225          1\n",
       "                      0.0300          1\n",
       "Name: Naziv objekta, dtype: int64"
      ]
     },
     "execution_count": 9,
     "metadata": {},
     "output_type": "execute_result"
    }
   ],
   "source": [
    "registar_STOLAC.groupby([\"TEHNOLOGIJA\",\"Snaga\\n(MW)\"])[\"Naziv objekta\"].count()"
   ]
  },
  {
   "cell_type": "markdown",
   "id": "795124cf",
   "metadata": {},
   "source": [
    "Za 2/4 FNE od oko 1 MW u 2021. su kompletirani zahtjevi za izdavanje energetske dozvole, dok za druge dvije je to izvršeno u 2020. godini."
   ]
  },
  {
   "cell_type": "code",
   "execution_count": 10,
   "id": "479f1277",
   "metadata": {},
   "outputs": [
    {
     "data": {
      "text/html": [
       "<div>\n",
       "<style scoped>\n",
       "    .dataframe tbody tr th:only-of-type {\n",
       "        vertical-align: middle;\n",
       "    }\n",
       "\n",
       "    .dataframe tbody tr th {\n",
       "        vertical-align: top;\n",
       "    }\n",
       "\n",
       "    .dataframe thead th {\n",
       "        text-align: right;\n",
       "    }\n",
       "</style>\n",
       "<table border=\"1\" class=\"dataframe\">\n",
       "  <thead>\n",
       "    <tr style=\"text-align: right;\">\n",
       "      <th></th>\n",
       "      <th>R.B.</th>\n",
       "      <th>Naziv i sjedište podnosioca zahtijeva</th>\n",
       "      <th>Identifikacijski broj podnosioca zahtijeva</th>\n",
       "      <th>Djelovodni broj i datum  prijema zahtjeva</th>\n",
       "      <th>Datum upisa u registar</th>\n",
       "      <th>Datum kompletiranja zahtjeva</th>\n",
       "      <th>Broj Energetske dozvole</th>\n",
       "      <th>Broj Produžene Energetske dozvole</th>\n",
       "      <th>Datum isteka produžene Energetske dozvole</th>\n",
       "      <th>Naziv objekta</th>\n",
       "      <th>Lokacija</th>\n",
       "      <th>Snaga\\n(MW)</th>\n",
       "      <th>TEHNOLOGIJA</th>\n",
       "    </tr>\n",
       "  </thead>\n",
       "  <tbody>\n",
       "    <tr>\n",
       "      <th>153</th>\n",
       "      <td>175</td>\n",
       "      <td>ECO-SWIS d.o.o. Mostar</td>\n",
       "      <td>4227802630009</td>\n",
       "      <td>UP/I-05-13-1-335/20</td>\n",
       "      <td>2020-07-03 00:00:00</td>\n",
       "      <td>2020-11-13 00:00:00</td>\n",
       "      <td>ED-426/19</td>\n",
       "      <td>ED-426-1/20</td>\n",
       "      <td>2023-05-15 00:00:00</td>\n",
       "      <td>SE \" ECO SWIS 1\"</td>\n",
       "      <td>HODOVO-STOLAC</td>\n",
       "      <td>0.999</td>\n",
       "      <td>SE</td>\n",
       "    </tr>\n",
       "    <tr>\n",
       "      <th>155</th>\n",
       "      <td>177</td>\n",
       "      <td>ECO-SWIS d.o.o. Mostar</td>\n",
       "      <td>4227802630009</td>\n",
       "      <td>UP/I-05-13-1-451/20</td>\n",
       "      <td>2020-08-20 00:00:00</td>\n",
       "      <td>2020-11-13 00:00:00</td>\n",
       "      <td>ED-425/19</td>\n",
       "      <td>ED-425-1/21</td>\n",
       "      <td>2023-05-15 00:00:00</td>\n",
       "      <td>SE \" ECO SWIS  2\"</td>\n",
       "      <td>HODOVO-STOLAC</td>\n",
       "      <td>0.999</td>\n",
       "      <td>SE</td>\n",
       "    </tr>\n",
       "    <tr>\n",
       "      <th>173</th>\n",
       "      <td>196</td>\n",
       "      <td>Energetica d.o.o. Sarajevo</td>\n",
       "      <td>4227802630009</td>\n",
       "      <td>UP/I-05-13-1-79/21</td>\n",
       "      <td>2021-02-12 00:00:00</td>\n",
       "      <td>2021-03-15 00:00:00</td>\n",
       "      <td>ED-426/19</td>\n",
       "      <td>ED-426-1/21</td>\n",
       "      <td>2021-05-15 00:00:00</td>\n",
       "      <td>SE \" ECO SWIS 1\"</td>\n",
       "      <td>HODOVO-STOLAC</td>\n",
       "      <td>0.999</td>\n",
       "      <td>SE</td>\n",
       "    </tr>\n",
       "    <tr>\n",
       "      <th>174</th>\n",
       "      <td>197</td>\n",
       "      <td>Energetica d.o.o. Sarajevo</td>\n",
       "      <td>4227802630009</td>\n",
       "      <td>UP/I-05-13-1-80/21</td>\n",
       "      <td>2021-02-12 00:00:00</td>\n",
       "      <td>2021-03-15 00:00:00</td>\n",
       "      <td>ED-425/19</td>\n",
       "      <td>ED-425-1/21</td>\n",
       "      <td>2021-05-15 00:00:00</td>\n",
       "      <td>SE \" ECO SWIS  2\"</td>\n",
       "      <td>HODOVO-STOLAC</td>\n",
       "      <td>0.999</td>\n",
       "      <td>SE</td>\n",
       "    </tr>\n",
       "  </tbody>\n",
       "</table>\n",
       "</div>"
      ],
      "text/plain": [
       "     R.B. Naziv i sjedište podnosioca zahtijeva  \\\n",
       "153   175                ECO-SWIS d.o.o. Mostar   \n",
       "155   177                ECO-SWIS d.o.o. Mostar   \n",
       "173   196            Energetica d.o.o. Sarajevo   \n",
       "174   197            Energetica d.o.o. Sarajevo   \n",
       "\n",
       "     Identifikacijski broj podnosioca zahtijeva  \\\n",
       "153                               4227802630009   \n",
       "155                               4227802630009   \n",
       "173                               4227802630009   \n",
       "174                               4227802630009   \n",
       "\n",
       "    Djelovodni broj i datum  prijema zahtjeva Datum upisa u registar  \\\n",
       "153                       UP/I-05-13-1-335/20    2020-07-03 00:00:00   \n",
       "155                       UP/I-05-13-1-451/20    2020-08-20 00:00:00   \n",
       "173                        UP/I-05-13-1-79/21    2021-02-12 00:00:00   \n",
       "174                        UP/I-05-13-1-80/21    2021-02-12 00:00:00   \n",
       "\n",
       "    Datum kompletiranja zahtjeva Broj Energetske dozvole  \\\n",
       "153          2020-11-13 00:00:00               ED-426/19   \n",
       "155          2020-11-13 00:00:00               ED-425/19   \n",
       "173          2021-03-15 00:00:00               ED-426/19   \n",
       "174          2021-03-15 00:00:00               ED-425/19   \n",
       "\n",
       "    Broj Produžene Energetske dozvole  \\\n",
       "153                       ED-426-1/20   \n",
       "155                       ED-425-1/21   \n",
       "173                       ED-426-1/21   \n",
       "174                       ED-425-1/21   \n",
       "\n",
       "    Datum isteka produžene Energetske dozvole      Naziv objekta  \\\n",
       "153                       2023-05-15 00:00:00   SE \" ECO SWIS 1\"   \n",
       "155                       2023-05-15 00:00:00  SE \" ECO SWIS  2\"   \n",
       "173                       2021-05-15 00:00:00   SE \" ECO SWIS 1\"   \n",
       "174                       2021-05-15 00:00:00  SE \" ECO SWIS  2\"   \n",
       "\n",
       "          Lokacija  Snaga\\n(MW) TEHNOLOGIJA  \n",
       "153  HODOVO-STOLAC        0.999          SE  \n",
       "155  HODOVO-STOLAC        0.999          SE  \n",
       "173  HODOVO-STOLAC        0.999          SE  \n",
       "174  HODOVO-STOLAC        0.999          SE  "
      ]
     },
     "execution_count": 10,
     "metadata": {},
     "output_type": "execute_result"
    }
   ],
   "source": [
    "registar_STOLAC[registar_STOLAC[\"Snaga\\n(MW)\"]==0.9990]"
   ]
  },
  {
   "cell_type": "code",
   "execution_count": 11,
   "id": "192a0c7c",
   "metadata": {},
   "outputs": [
    {
     "name": "stdout",
     "output_type": "stream",
     "text": [
      "    Datum kompletiranja zahtjeva Broj Energetske dozvole      Naziv objekta  \\\n",
      "95           2019-07-16 00:00:00               ED-375/19      SE  KAPITALIS   \n",
      "96           2019-07-16 00:00:00               ED-378/19      SE ROYAL HUBL   \n",
      "97           2019-07-16 00:00:00               ED-379/19           SE AN&AD   \n",
      "126          2020-10-29 00:00:00               ED-427/19         ECO SWIS 3   \n",
      "127          2020-10-29 00:00:00               ED-428/19         ECO SWIS 4   \n",
      "128          2020-10-29 00:00:00               ED-429/19         ECO SWIS 5   \n",
      "129          2020-10-29 00:00:00               ED-431/19         ECO SWIS 7   \n",
      "130          2020-10-29 00:00:00               ED-432/19         ECO SWIS 8   \n",
      "131          2020-10-29 00:00:00               ED-430/19         ECO SWIS 6   \n",
      "132          2020-08-10 00:00:00               ED-445/19          MARSSEL Y   \n",
      "133          2020-08-10 00:00:00               ED-444/19          MARSSEL X   \n",
      "139          2020-07-17 00:00:00               ED-446/19          Cicrina 2   \n",
      "140          2020-07-17 00:00:00               ED-447/19          Cicrina 1   \n",
      "153          2020-11-13 00:00:00               ED-426/19   SE \" ECO SWIS 1\"   \n",
      "155          2020-11-13 00:00:00               ED-425/19  SE \" ECO SWIS  2\"   \n",
      "173          2021-03-15 00:00:00               ED-426/19   SE \" ECO SWIS 1\"   \n",
      "174          2021-03-15 00:00:00               ED-425/19  SE \" ECO SWIS  2\"   \n",
      "\n",
      "          Lokacija  Snaga\\n(MW)  \n",
      "95   HODOVO-STOLAC        0.149  \n",
      "96   HODOVO-STOLAC        0.149  \n",
      "97   HODOVO-STOLAC        0.149  \n",
      "126  HODOVO-STOLAC        0.148  \n",
      "127  HODOVO-STOLAC        0.148  \n",
      "128  HODOVO-STOLAC        0.148  \n",
      "129  HODOVO-STOLAC        0.148  \n",
      "130  HODOVO-STOLAC        0.148  \n",
      "131  HODOVO-STOLAC        0.148  \n",
      "132         Hodovo        0.150  \n",
      "133         Hodovo        0.150  \n",
      "139         Stolac        0.023  \n",
      "140         Stolac        0.150  \n",
      "153  HODOVO-STOLAC        0.999  \n",
      "155  HODOVO-STOLAC        0.999  \n",
      "173  HODOVO-STOLAC        0.999  \n",
      "174  HODOVO-STOLAC        0.999  \n"
     ]
    }
   ],
   "source": [
    "print(registar_STOLAC[pd.to_datetime(registar_STOLAC[\"Datum kompletiranja zahtjeva\"]).dt.year>=2019][[\"Datum kompletiranja zahtjeva\",\"Broj Energetske dozvole\",\"Naziv objekta\",\"Lokacija\",\"Snaga\\n(MW)\"]])\n"
   ]
  },
  {
   "cell_type": "markdown",
   "id": "c3822d34",
   "metadata": {},
   "source": [
    "Na lokaciji okoline Stoca 4 FNE su izgrađene 2019., 3 u 2020.,te 8. u 2021. godini. Ovdje treba uključiti i četiri velike snage po 1 MW čiji period izgradnje nije dat, ali se po datumu kompletiranja zahtjeva za energetsku dozvolu može vidjeti da je to period 2019-2021. Također, može se primijetiti da te elektrane, snage od 1MW još uvijek nisu stavljene u listu kvalifikovanih proizvođača FERK-a, te se dalje neće razmatrati, kao ni one izgrađene u 2020. "
   ]
  },
  {
   "cell_type": "code",
   "execution_count": 12,
   "id": "e905a19a",
   "metadata": {},
   "outputs": [
    {
     "name": "stdout",
     "output_type": "stream",
     "text": [
      "\n",
      "Izgrađene u 2019.: 4\n",
      "   Naziv objekta       Lokacija  Snaga\\n(MW)           TEHNOLOGIJA  \\\n",
      "85   SE  BREGAVA  HODOVO-STOLAC        0.149  izgrađena 25.07.2019   \n",
      "86    Pješivac 3  HODOVO-STOLAC        0.149  izgrađena 04.09.2019   \n",
      "91    Pješivac 2  HODOVO-STOLAC        0.149  izgrađena 04.09.2019   \n",
      "92    Pješivac 4  HODOVO-STOLAC        0.149  izgrađena 04.09.2019   \n",
      "\n",
      "   Datum kompletiranja zahtjeva  \n",
      "85          2018-02-02 00:00:00  \n",
      "86          2017-12-06 00:00:00  \n",
      "91          2018-12-12 00:00:00  \n",
      "92          2018-12-12 00:00:00  \n",
      "\n",
      "Izgrađene u 2020.: 5\n",
      "     Naziv objekta       Lokacija  Snaga\\n(MW)           TEHNOLOGIJA  \\\n",
      "95   SE  KAPITALIS  HODOVO-STOLAC        0.149   izgrađena 30.1.2020   \n",
      "96   SE ROYAL HUBL  HODOVO-STOLAC        0.149   izgrađena 30.1.2020   \n",
      "97        SE AN&AD  HODOVO-STOLAC        0.149   izgrađena 30.1.2020   \n",
      "139      Cicrina 2         Stolac        0.023  izgrađena 20.07.2020   \n",
      "140      Cicrina 1         Stolac        0.150  izgrađena 20.07.2020   \n",
      "\n",
      "    Datum kompletiranja zahtjeva  \n",
      "95           2019-07-16 00:00:00  \n",
      "96           2019-07-16 00:00:00  \n",
      "97           2019-07-16 00:00:00  \n",
      "139          2020-07-17 00:00:00  \n",
      "140          2020-07-17 00:00:00  \n",
      "\n",
      "Izgrađene u 2021. 8\n",
      "    Naziv objekta       Lokacija  Snaga\\n(MW)           TEHNOLOGIJA  \\\n",
      "126    ECO SWIS 3  HODOVO-STOLAC        0.148  izgrađena 30.04.2021   \n",
      "127    ECO SWIS 4  HODOVO-STOLAC        0.148  izgrađena 30.04.2021   \n",
      "128    ECO SWIS 5  HODOVO-STOLAC        0.148  izgrađena 30.04.2021   \n",
      "129    ECO SWIS 7  HODOVO-STOLAC        0.148  izgrađena 30.04.2021   \n",
      "130    ECO SWIS 8  HODOVO-STOLAC        0.148  izgrađena 30.04.2021   \n",
      "131    ECO SWIS 6  HODOVO-STOLAC        0.148  izgrađena 30.04.2021   \n",
      "132     MARSSEL Y         Hodovo        0.150  izgrađena 02.07.2021   \n",
      "133     MARSSEL X         Hodovo        0.150  izgrađena 02.07.2021   \n",
      "\n",
      "    Datum kompletiranja zahtjeva  \n",
      "126          2020-10-29 00:00:00  \n",
      "127          2020-10-29 00:00:00  \n",
      "128          2020-10-29 00:00:00  \n",
      "129          2020-10-29 00:00:00  \n",
      "130          2020-10-29 00:00:00  \n",
      "131          2020-10-29 00:00:00  \n",
      "132          2020-08-10 00:00:00  \n",
      "133          2020-08-10 00:00:00  \n"
     ]
    }
   ],
   "source": [
    "print(\"\\nIzgrađene u 2019.:\",len(registar_STOLAC[registar_STOLAC[\"TEHNOLOGIJA\"].str.contains(\"2019\")]))\n",
    "print(registar_STOLAC[registar_STOLAC[\"TEHNOLOGIJA\"].str.contains(\"2019\")][[\"Naziv objekta\",\"Lokacija\", \"Snaga\\n(MW)\",\"TEHNOLOGIJA\",\"Datum kompletiranja zahtjeva\"]])\n",
    "\n",
    "print(\"\\nIzgrađene u 2020.:\",len(registar_STOLAC[registar_STOLAC[\"TEHNOLOGIJA\"].str.contains(\"2020\")]))\n",
    "print(registar_STOLAC[registar_STOLAC[\"TEHNOLOGIJA\"].str.contains(\"2020\")][[\"Naziv objekta\",\"Lokacija\", \"Snaga\\n(MW)\",\"TEHNOLOGIJA\",\"Datum kompletiranja zahtjeva\"]])\n",
    "\n",
    "print(\"\\nIzgrađene u 2021.\",len(registar_STOLAC[registar_STOLAC[\"TEHNOLOGIJA\"].str.contains(\"2021\")]))\n",
    "print(registar_STOLAC[registar_STOLAC[\"TEHNOLOGIJA\"].str.contains(\"2021\")][[\"Naziv objekta\",\"Lokacija\", \"Snaga\\n(MW)\",\"TEHNOLOGIJA\",\"Datum kompletiranja zahtjeva\"]])"
   ]
  },
  {
   "cell_type": "code",
   "execution_count": 13,
   "id": "29142a12",
   "metadata": {},
   "outputs": [
    {
     "name": "stdout",
     "output_type": "stream",
     "text": [
      "Ukupno u Stocu, 2019.: 45\n",
      "Ukupno u Stocu, 2020.: 45\n",
      "Ukupno u Stocu, 2021.: 45\n"
     ]
    }
   ],
   "source": [
    "print(\"Ukupno u Stocu, 2019.:\", len(registar_STOLAC)-15-4)\n",
    "print(\"Ukupno u Stocu, 2020.:\", len(registar_STOLAC)-15-4)\n",
    "print(\"Ukupno u Stocu, 2021.:\", len(registar_STOLAC)-15-4)"
   ]
  },
  {
   "cell_type": "code",
   "execution_count": 14,
   "id": "c7e000f2",
   "metadata": {},
   "outputs": [
    {
     "data": {
      "text/plain": [
       "Snaga\\n(MW)\n",
       "0.0225     1\n",
       "0.0300     1\n",
       "0.1000     2\n",
       "0.1100     1\n",
       "0.1460     1\n",
       "0.1480     6\n",
       "0.1490    30\n",
       "0.1500     9\n",
       "Name: Naziv objekta, dtype: int64"
      ]
     },
     "execution_count": 14,
     "metadata": {},
     "output_type": "execute_result"
    }
   ],
   "source": [
    "registar_STOLAC_summary=registar_STOLAC.drop(registar_STOLAC[(registar_STOLAC[\"TEHNOLOGIJA\"].str.contains(\"2019\"))|(registar_STOLAC[\"TEHNOLOGIJA\"].str.contains(\"2020\"))|(registar_STOLAC[\"Snaga\\n(MW)\"]==0.9990)].index)\n",
    "registar_STOLAC_summary.groupby(\"Snaga\\n(MW)\")[\"Naziv objekta\"].count()"
   ]
  },
  {
   "cell_type": "markdown",
   "id": "cf09fc6c",
   "metadata": {},
   "source": [
    "## Grude"
   ]
  },
  {
   "cell_type": "markdown",
   "id": "28495f74",
   "metadata": {},
   "source": [
    "Ukupna godišnja proizvodnja će se skalirati prema zbiru proizvodnje ovih elektrana. Rezolucija podataka je svakih 15 minuta za Krenicu1 i Hodovo1, odnosno 1 sat za Enelectronic, te će se izvršiti uzorkovanje na satnu rezoluciju. Tehnički podaci o FNE su dati na slikama:\n"
   ]
  },
  {
   "cell_type": "code",
   "execution_count": 15,
   "id": "eacc4890",
   "metadata": {
    "scrolled": true
   },
   "outputs": [
    {
     "name": "stdout",
     "output_type": "stream",
     "text": [
      "Ukupno u Grudama 21\n"
     ]
    }
   ],
   "source": [
    "registar_GRUDE=pd.DataFrame()\n",
    "registar_GRUDE=registar[(registar[\"Lokacija\"].str.contains(\"-Grude\",case=False))|\n",
    "                        (registar[\"Lokacija\"].str.contains(\"Krenica\",case=False))|\n",
    "                       (registar[\"Lokacija\"].str.contains(\"Grude\",case=False))]\n",
    "print(\"Ukupno u Grudama\", len(registar_GRUDE))"
   ]
  },
  {
   "cell_type": "code",
   "execution_count": 16,
   "id": "4213b5b4",
   "metadata": {},
   "outputs": [
    {
     "data": {
      "text/plain": [
       "array(['Drinvci-Grude', 'GRUDE', 'Donji Mamići, GRUDE'], dtype=object)"
      ]
     },
     "execution_count": 16,
     "metadata": {},
     "output_type": "execute_result"
    }
   ],
   "source": [
    "registar_GRUDE[\"Lokacija\"].unique()"
   ]
  },
  {
   "cell_type": "markdown",
   "id": "fa1dc4ed",
   "metadata": {},
   "source": [
    "Karakteristike postrojenja na ovom području su date u narednom prikazu. Kao što se može primijetiti, na ovom području su zastupljene mSE, te su 3 FNE snage u rangu (149 - 150) kWp, što je uporedivo sa onima na lokaciji Stoca."
   ]
  },
  {
   "cell_type": "code",
   "execution_count": 17,
   "id": "513eed82",
   "metadata": {},
   "outputs": [
    {
     "data": {
      "text/plain": [
       "TEHNOLOGIJA            Snaga\\n(MW)\n",
       "izgrađena 08.06.2021   0.0225          1\n",
       "                       0.1500          2\n",
       "izgrađena 26.03.2021   0.0225          2\n",
       "izgrađena 27.1.2020    0.1500          1\n",
       "izgrađena 28.8.2015    0.1490          2\n",
       "izgrađena 30.04.2020.  0.0225          2\n",
       "izgrađena 31.03.2021   0.0225          1\n",
       "mSE                    0.0225         10\n",
       "Name: Naziv objekta, dtype: int64"
      ]
     },
     "execution_count": 17,
     "metadata": {},
     "output_type": "execute_result"
    }
   ],
   "source": [
    "registar_GRUDE.groupby([\"TEHNOLOGIJA\",\"Snaga\\n(MW)\"])[\"Naziv objekta\"].count()"
   ]
  },
  {
   "cell_type": "code",
   "execution_count": 18,
   "id": "7f7ba396",
   "metadata": {},
   "outputs": [
    {
     "name": "stdout",
     "output_type": "stream",
     "text": [
      "\n",
      "Izgrađene u 2019.: 0\n",
      "Empty DataFrame\n",
      "Columns: [Naziv objekta, Lokacija, Snaga\n",
      "(MW), TEHNOLOGIJA, Datum isteka produžene Energetske dozvole]\n",
      "Index: []\n",
      "\n",
      "Izgrađene u 2020.: 3\n",
      "     Naziv objekta             Lokacija  Snaga\\n(MW)            TEHNOLOGIJA  \\\n",
      "103  FNE \"ELCOR 1\"                GRUDE       0.1500    izgrađena 27.1.2020   \n",
      "118    FNE \"A SUN\"  Donji Mamići, GRUDE       0.0225  izgrađena 30.04.2020.   \n",
      "124    FNE \"BIK 2\"  Donji Mamići, GRUDE       0.0225  izgrađena 30.04.2020.   \n",
      "\n",
      "    Datum isteka produžene Energetske dozvole  \n",
      "103                       2020-02-19 00:00:00  \n",
      "118                       2021-05-30 00:00:00  \n",
      "124                       2021-05-30 00:00:00  \n",
      "\n",
      "Izgrađene u 2021. 6\n",
      "     Naziv objekta             Lokacija  Snaga\\n(MW)           TEHNOLOGIJA  \\\n",
      "114  FNE \"ELCOR 2\"                GRUDE       0.0225  izgrađena 31.03.2021   \n",
      "123    FNE \"BIK 1\"                GRUDE       0.0225  izgrađena 26.03.2021   \n",
      "125    FNE \"BIK 3\"  Donji Mamići, GRUDE       0.0225  izgrađena 26.03.2021   \n",
      "143          MIV 3                GRUDE       0.0225  izgrađena 08.06.2021   \n",
      "144          MIV 2                GRUDE       0.1500  izgrađena 08.06.2021   \n",
      "145          MIV 1                GRUDE       0.1500  izgrađena 08.06.2021   \n",
      "\n",
      "    Datum isteka produžene Energetske dozvole  \n",
      "114                       2020-04-15 00:00:00  \n",
      "123                       2021-05-30 00:00:00  \n",
      "125                       2021-05-30 00:00:00  \n",
      "143                       2021-07-26 00:00:00  \n",
      "144                       2021-07-26 00:00:00  \n",
      "145                       2021-07-26 00:00:00  \n"
     ]
    }
   ],
   "source": [
    "print(\"\\nIzgrađene u 2019.:\",len(registar_GRUDE[registar_GRUDE[\"TEHNOLOGIJA\"].str.contains(\"2019\")]))\n",
    "print(registar_GRUDE[registar_GRUDE[\"TEHNOLOGIJA\"].str.contains(\"2019\")][[\"Naziv objekta\",\"Lokacija\", \"Snaga\\n(MW)\",\"TEHNOLOGIJA\",\"Datum isteka produžene Energetske dozvole\"]])\n",
    "\n",
    "print(\"\\nIzgrađene u 2020.:\",len(registar_GRUDE[registar_GRUDE[\"TEHNOLOGIJA\"].str.contains(\"2020\")]))\n",
    "print(registar_GRUDE[registar_GRUDE[\"TEHNOLOGIJA\"].str.contains(\"2020\")][[\"Naziv objekta\",\"Lokacija\", \"Snaga\\n(MW)\",\"TEHNOLOGIJA\",\"Datum isteka produžene Energetske dozvole\"]])\n",
    "\n",
    "print(\"\\nIzgrađene u 2021.\",len(registar_GRUDE[registar_GRUDE[\"TEHNOLOGIJA\"].str.contains(\"2021\")]))\n",
    "print(registar_GRUDE[registar_GRUDE[\"TEHNOLOGIJA\"].str.contains(\"2021\")][[\"Naziv objekta\",\"Lokacija\", \"Snaga\\n(MW)\",\"TEHNOLOGIJA\",\"Datum isteka produžene Energetske dozvole\"]])"
   ]
  },
  {
   "cell_type": "code",
   "execution_count": 19,
   "id": "b76431c3",
   "metadata": {},
   "outputs": [
    {
     "data": {
      "text/html": [
       "<div>\n",
       "<style scoped>\n",
       "    .dataframe tbody tr th:only-of-type {\n",
       "        vertical-align: middle;\n",
       "    }\n",
       "\n",
       "    .dataframe tbody tr th {\n",
       "        vertical-align: top;\n",
       "    }\n",
       "\n",
       "    .dataframe thead th {\n",
       "        text-align: right;\n",
       "    }\n",
       "</style>\n",
       "<table border=\"1\" class=\"dataframe\">\n",
       "  <thead>\n",
       "    <tr style=\"text-align: right;\">\n",
       "      <th></th>\n",
       "      <th>R.B.</th>\n",
       "      <th>Naziv i sjedište podnosioca zahtijeva</th>\n",
       "      <th>Identifikacijski broj podnosioca zahtijeva</th>\n",
       "      <th>Djelovodni broj i datum  prijema zahtjeva</th>\n",
       "      <th>Datum upisa u registar</th>\n",
       "      <th>Datum kompletiranja zahtjeva</th>\n",
       "      <th>Broj Energetske dozvole</th>\n",
       "      <th>Broj Produžene Energetske dozvole</th>\n",
       "      <th>Datum isteka produžene Energetske dozvole</th>\n",
       "      <th>Naziv objekta</th>\n",
       "      <th>Lokacija</th>\n",
       "      <th>Snaga\\n(MW)</th>\n",
       "      <th>TEHNOLOGIJA</th>\n",
       "    </tr>\n",
       "  </thead>\n",
       "  <tbody>\n",
       "    <tr>\n",
       "      <th>3</th>\n",
       "      <td>4</td>\n",
       "      <td>GP TOMING d.o.o. Grude, Drinovci bb</td>\n",
       "      <td>4272031830006</td>\n",
       "      <td>UP/I-05-17-157/15</td>\n",
       "      <td>2015-03-19 00:00:00</td>\n",
       "      <td>2015-03-19 00:00:00</td>\n",
       "      <td>ED-7/14</td>\n",
       "      <td>ED-7-1/15</td>\n",
       "      <td>2016-06-20 00:00:00</td>\n",
       "      <td>KRENICA 2</td>\n",
       "      <td>Drinvci-Grude</td>\n",
       "      <td>0.149</td>\n",
       "      <td>izgrađena 28.8.2015</td>\n",
       "    </tr>\n",
       "    <tr>\n",
       "      <th>4</th>\n",
       "      <td>5</td>\n",
       "      <td>GP TOMING d.o.o. Grude, Drinovci bb</td>\n",
       "      <td>4272031830006</td>\n",
       "      <td>UP/I-05-17-154/15</td>\n",
       "      <td>2015-03-19 00:00:00</td>\n",
       "      <td>2015-03-19 00:00:00</td>\n",
       "      <td>ED-8/14</td>\n",
       "      <td>ED-8-1/15</td>\n",
       "      <td>2016-06-20 00:00:00</td>\n",
       "      <td>KRENICA 3</td>\n",
       "      <td>Drinvci-Grude</td>\n",
       "      <td>0.149</td>\n",
       "      <td>izgrađena 28.8.2015</td>\n",
       "    </tr>\n",
       "    <tr>\n",
       "      <th>103</th>\n",
       "      <td>119</td>\n",
       "      <td>ELCOR d.o.o. Grude</td>\n",
       "      <td>4272169940007</td>\n",
       "      <td>UP/I-05-17-637/19</td>\n",
       "      <td>2019-11-15 00:00:00</td>\n",
       "      <td>2019-11-15 00:00:00</td>\n",
       "      <td>ED-380/19</td>\n",
       "      <td>ED-380-1/20</td>\n",
       "      <td>2020-02-19 00:00:00</td>\n",
       "      <td>FNE \"ELCOR 1\"</td>\n",
       "      <td>GRUDE</td>\n",
       "      <td>0.150</td>\n",
       "      <td>izgrađena 27.1.2020</td>\n",
       "    </tr>\n",
       "    <tr>\n",
       "      <th>144</th>\n",
       "      <td>165</td>\n",
       "      <td>MIV d.o.o. Gude</td>\n",
       "      <td>4272108480003</td>\n",
       "      <td>UP/I-05-13/1-222/20</td>\n",
       "      <td>2020-04-24 00:00:00</td>\n",
       "      <td>2020-04-30 00:00:00</td>\n",
       "      <td>ED-473/19</td>\n",
       "      <td>ED-473-1/20</td>\n",
       "      <td>2021-07-26 00:00:00</td>\n",
       "      <td>MIV 2</td>\n",
       "      <td>GRUDE</td>\n",
       "      <td>0.150</td>\n",
       "      <td>izgrađena 08.06.2021</td>\n",
       "    </tr>\n",
       "    <tr>\n",
       "      <th>145</th>\n",
       "      <td>166</td>\n",
       "      <td>MIV d.o.o. Gude</td>\n",
       "      <td>4272108480003</td>\n",
       "      <td>UP/I-05-13/1-220/20</td>\n",
       "      <td>2020-04-24 00:00:00</td>\n",
       "      <td>2020-04-30 00:00:00</td>\n",
       "      <td>ED-472/19</td>\n",
       "      <td>ED-472-1/20</td>\n",
       "      <td>2021-07-26 00:00:00</td>\n",
       "      <td>MIV 1</td>\n",
       "      <td>GRUDE</td>\n",
       "      <td>0.150</td>\n",
       "      <td>izgrađena 08.06.2021</td>\n",
       "    </tr>\n",
       "  </tbody>\n",
       "</table>\n",
       "</div>"
      ],
      "text/plain": [
       "     R.B. Naziv i sjedište podnosioca zahtijeva  \\\n",
       "3       4   GP TOMING d.o.o. Grude, Drinovci bb   \n",
       "4       5   GP TOMING d.o.o. Grude, Drinovci bb   \n",
       "103   119                    ELCOR d.o.o. Grude   \n",
       "144   165                       MIV d.o.o. Gude   \n",
       "145   166                       MIV d.o.o. Gude   \n",
       "\n",
       "     Identifikacijski broj podnosioca zahtijeva  \\\n",
       "3                                 4272031830006   \n",
       "4                                 4272031830006   \n",
       "103                               4272169940007   \n",
       "144                               4272108480003   \n",
       "145                               4272108480003   \n",
       "\n",
       "    Djelovodni broj i datum  prijema zahtjeva Datum upisa u registar  \\\n",
       "3                           UP/I-05-17-157/15    2015-03-19 00:00:00   \n",
       "4                           UP/I-05-17-154/15    2015-03-19 00:00:00   \n",
       "103                         UP/I-05-17-637/19    2019-11-15 00:00:00   \n",
       "144                       UP/I-05-13/1-222/20    2020-04-24 00:00:00   \n",
       "145                       UP/I-05-13/1-220/20    2020-04-24 00:00:00   \n",
       "\n",
       "    Datum kompletiranja zahtjeva Broj Energetske dozvole  \\\n",
       "3            2015-03-19 00:00:00                 ED-7/14   \n",
       "4            2015-03-19 00:00:00                 ED-8/14   \n",
       "103          2019-11-15 00:00:00               ED-380/19   \n",
       "144          2020-04-30 00:00:00               ED-473/19   \n",
       "145          2020-04-30 00:00:00               ED-472/19   \n",
       "\n",
       "    Broj Produžene Energetske dozvole  \\\n",
       "3                           ED-7-1/15   \n",
       "4                           ED-8-1/15   \n",
       "103                       ED-380-1/20   \n",
       "144                       ED-473-1/20   \n",
       "145                       ED-472-1/20   \n",
       "\n",
       "    Datum isteka produžene Energetske dozvole  Naziv objekta       Lokacija  \\\n",
       "3                         2016-06-20 00:00:00      KRENICA 2  Drinvci-Grude   \n",
       "4                         2016-06-20 00:00:00      KRENICA 3  Drinvci-Grude   \n",
       "103                       2020-02-19 00:00:00  FNE \"ELCOR 1\"          GRUDE   \n",
       "144                       2021-07-26 00:00:00          MIV 2          GRUDE   \n",
       "145                       2021-07-26 00:00:00          MIV 1          GRUDE   \n",
       "\n",
       "     Snaga\\n(MW)           TEHNOLOGIJA  \n",
       "3          0.149   izgrađena 28.8.2015  \n",
       "4          0.149   izgrađena 28.8.2015  \n",
       "103        0.150   izgrađena 27.1.2020  \n",
       "144        0.150  izgrađena 08.06.2021  \n",
       "145        0.150  izgrađena 08.06.2021  "
      ]
     },
     "execution_count": 19,
     "metadata": {},
     "output_type": "execute_result"
    }
   ],
   "source": [
    "registar_GRUDE[(registar_GRUDE[\"Snaga\\n(MW)\"]==0.1490)|(registar_GRUDE[\"Snaga\\n(MW)\"]==0.1500)]"
   ]
  },
  {
   "cell_type": "code",
   "execution_count": 20,
   "id": "6a2bad5e",
   "metadata": {},
   "outputs": [
    {
     "name": "stdout",
     "output_type": "stream",
     "text": [
      "Ukupno u Grudama do 2019.: 12\n",
      "Ukupno u Grudama do 2020.. 12\n",
      "Ukupno u Grudama do 2021.: 12\n"
     ]
    }
   ],
   "source": [
    "print(\"Ukupno u Grudama do 2019.:\", len(registar_GRUDE)-9)\n",
    "print(\"Ukupno u Grudama do 2020..\", len(registar_GRUDE)-9)\n",
    "print(\"Ukupno u Grudama do 2021.:\", len(registar_GRUDE)-9)"
   ]
  },
  {
   "cell_type": "markdown",
   "id": "6a9c128f",
   "metadata": {},
   "source": [
    "## Mostar"
   ]
  },
  {
   "cell_type": "code",
   "execution_count": 21,
   "id": "1944fb74",
   "metadata": {
    "scrolled": true
   },
   "outputs": [
    {
     "name": "stdout",
     "output_type": "stream",
     "text": [
      "Ukupno u Mostaru 10\n"
     ]
    }
   ],
   "source": [
    "registar_MOSTAR=pd.DataFrame()\n",
    "registar_MOSTAR=registar[registar[\"Lokacija\"].str.contains(\"Mostar\",case=False)]\n",
    "print(\"Ukupno u Mostaru\", len(registar_MOSTAR))"
   ]
  },
  {
   "cell_type": "code",
   "execution_count": 22,
   "id": "11429560",
   "metadata": {},
   "outputs": [
    {
     "data": {
      "text/html": [
       "<div>\n",
       "<style scoped>\n",
       "    .dataframe tbody tr th:only-of-type {\n",
       "        vertical-align: middle;\n",
       "    }\n",
       "\n",
       "    .dataframe tbody tr th {\n",
       "        vertical-align: top;\n",
       "    }\n",
       "\n",
       "    .dataframe thead th {\n",
       "        text-align: right;\n",
       "    }\n",
       "</style>\n",
       "<table border=\"1\" class=\"dataframe\">\n",
       "  <thead>\n",
       "    <tr style=\"text-align: right;\">\n",
       "      <th></th>\n",
       "      <th>R.B.</th>\n",
       "      <th>Naziv i sjedište podnosioca zahtijeva</th>\n",
       "      <th>Identifikacijski broj podnosioca zahtijeva</th>\n",
       "      <th>Djelovodni broj i datum  prijema zahtjeva</th>\n",
       "      <th>Datum upisa u registar</th>\n",
       "      <th>Datum kompletiranja zahtjeva</th>\n",
       "      <th>Broj Energetske dozvole</th>\n",
       "      <th>Broj Produžene Energetske dozvole</th>\n",
       "      <th>Datum isteka produžene Energetske dozvole</th>\n",
       "      <th>Naziv objekta</th>\n",
       "      <th>Lokacija</th>\n",
       "      <th>Snaga\\n(MW)</th>\n",
       "      <th>TEHNOLOGIJA</th>\n",
       "    </tr>\n",
       "  </thead>\n",
       "  <tbody>\n",
       "    <tr>\n",
       "      <th>20</th>\n",
       "      <td>21</td>\n",
       "      <td>ENERGONOVA d.o.o Sem.Semizovac bb</td>\n",
       "      <td>201397220001</td>\n",
       "      <td>UP/-05-17-213/15</td>\n",
       "      <td>2015-04-13 00:00:00</td>\n",
       "      <td>2015-06-26 00:00:00</td>\n",
       "      <td>ED-33/14</td>\n",
       "      <td>ED-33-1/15</td>\n",
       "      <td>2016-07-10 00:00:00</td>\n",
       "      <td>MERKUR-Vrapčići</td>\n",
       "      <td>Vrapčići-Mostar</td>\n",
       "      <td>0.115</td>\n",
       "      <td>izgrađena 20.6.2016</td>\n",
       "    </tr>\n",
       "    <tr>\n",
       "      <th>21</th>\n",
       "      <td>22</td>\n",
       "      <td>MIMSINŽINJERING d.o.o S.,Semizovac bb,</td>\n",
       "      <td>201248900008</td>\n",
       "      <td>UP/-05-17-214/15</td>\n",
       "      <td>2015-04-13 00:00:00</td>\n",
       "      <td>2015-06-26 00:00:00</td>\n",
       "      <td>ED-31/14</td>\n",
       "      <td>ED-31-1/15</td>\n",
       "      <td>2016-07-10 00:00:00</td>\n",
       "      <td>KLAS CENTAR-Mostar</td>\n",
       "      <td>Bišća Polje bb-Mostar</td>\n",
       "      <td>0.115</td>\n",
       "      <td>izgrađena 24.6.2016</td>\n",
       "    </tr>\n",
       "    <tr>\n",
       "      <th>22</th>\n",
       "      <td>23</td>\n",
       "      <td>SENDO d.o.o  Sarajevo,Trg Heroja 35,</td>\n",
       "      <td>245039920007</td>\n",
       "      <td>UP/-05-17-215/15</td>\n",
       "      <td>2015-04-13 00:00:00</td>\n",
       "      <td>2015-06-26 00:00:00</td>\n",
       "      <td>ED-32/14</td>\n",
       "      <td>ED-32-1/15</td>\n",
       "      <td>2016-06-30 00:00:00</td>\n",
       "      <td>ZLATKA VUKOVIĆ</td>\n",
       "      <td>Opine-Mostar</td>\n",
       "      <td>0.104</td>\n",
       "      <td>izgrađena 02.9.2016</td>\n",
       "    </tr>\n",
       "    <tr>\n",
       "      <th>35</th>\n",
       "      <td>36</td>\n",
       "      <td>ČULE PROMET do.o.  MOSTAR</td>\n",
       "      <td>227154450008</td>\n",
       "      <td>UP/I-05-17-492/15</td>\n",
       "      <td>2015-09-17 00:00:00</td>\n",
       "      <td>2015-09-17 00:00:00</td>\n",
       "      <td>ED-79/14</td>\n",
       "      <td>ED-79-1/16</td>\n",
       "      <td>2016-12-29 00:00:00</td>\n",
       "      <td>FNE\"ČULE PROMET\"</td>\n",
       "      <td>ORTJEŠ-MOSTAR</td>\n",
       "      <td>0.149</td>\n",
       "      <td>izgrađena 26.9.2016</td>\n",
       "    </tr>\n",
       "    <tr>\n",
       "      <th>38</th>\n",
       "      <td>39</td>\n",
       "      <td>MIP d.o.o.  MOSTAR</td>\n",
       "      <td>4227091940000</td>\n",
       "      <td>UP/I-05-17-507/15</td>\n",
       "      <td>2015-09-30 00:00:00</td>\n",
       "      <td>2015-12-15 00:00:00</td>\n",
       "      <td>ED-82/14</td>\n",
       "      <td>ED-82-1/16</td>\n",
       "      <td>2016-12-30 00:00:00</td>\n",
       "      <td>SE MIP</td>\n",
       "      <td>VRAPČIĆI  MOSTAR</td>\n",
       "      <td>0.017</td>\n",
       "      <td>mSE</td>\n",
       "    </tr>\n",
       "    <tr>\n",
       "      <th>73</th>\n",
       "      <td>76</td>\n",
       "      <td>AUTO START d.o.o. Mostar</td>\n",
       "      <td>4227307460008</td>\n",
       "      <td>UP/I-05-17-506/16</td>\n",
       "      <td>2016-09-09 00:00:00</td>\n",
       "      <td>2016-10-11 00:00:00</td>\n",
       "      <td>ED-227/15</td>\n",
       "      <td>ED-227-1/16</td>\n",
       "      <td>2017-12-10 00:00:00</td>\n",
       "      <td>SE AUTO START</td>\n",
       "      <td>MOSTAR</td>\n",
       "      <td>0.150</td>\n",
       "      <td>izgrađena 12.02.2020</td>\n",
       "    </tr>\n",
       "    <tr>\n",
       "      <th>82</th>\n",
       "      <td>87</td>\n",
       "      <td>ELEKTROSAN  d.o.o. Sarajevo</td>\n",
       "      <td>4263647440008</td>\n",
       "      <td>UP/I-05-17-426/17</td>\n",
       "      <td>2017-09-13 00:00:00</td>\n",
       "      <td>2017-11-07 00:00:00</td>\n",
       "      <td>ED-203/15</td>\n",
       "      <td>ED-203-1/18</td>\n",
       "      <td>2019-10-27 00:00:00</td>\n",
       "      <td>FNE  PODVELEŽJE  1</td>\n",
       "      <td>MOSTAR</td>\n",
       "      <td>0.999</td>\n",
       "      <td>SE</td>\n",
       "    </tr>\n",
       "    <tr>\n",
       "      <th>93</th>\n",
       "      <td>104</td>\n",
       "      <td>AVACOM d.o.o. Mostar</td>\n",
       "      <td>4227598680000</td>\n",
       "      <td>UP/-05-17-96/19</td>\n",
       "      <td>2019-02-11 00:00:00</td>\n",
       "      <td>NaN</td>\n",
       "      <td>ED-322/18</td>\n",
       "      <td>2018-03-29 00:00:00</td>\n",
       "      <td>2019-03-29 00:00:00</td>\n",
       "      <td>FNE Radobolja 1</td>\n",
       "      <td>MOSTAR</td>\n",
       "      <td>0.150</td>\n",
       "      <td>SE</td>\n",
       "    </tr>\n",
       "    <tr>\n",
       "      <th>94</th>\n",
       "      <td>105</td>\n",
       "      <td>AVACOM d.o.o. Mostar</td>\n",
       "      <td>4227598680000</td>\n",
       "      <td>UP/-05-17-228/19</td>\n",
       "      <td>2019-03-28 00:00:00</td>\n",
       "      <td>NaN</td>\n",
       "      <td>ED-321/18</td>\n",
       "      <td>2018-03-29 00:00:00</td>\n",
       "      <td>2019-03-29 00:00:00</td>\n",
       "      <td>FNE Avacom</td>\n",
       "      <td>MOSTAR</td>\n",
       "      <td>0.015</td>\n",
       "      <td>mSE</td>\n",
       "    </tr>\n",
       "    <tr>\n",
       "      <th>100</th>\n",
       "      <td>116</td>\n",
       "      <td>NSSN d.o.o. Mostar</td>\n",
       "      <td>4227097390001</td>\n",
       "      <td>UP/I-05-17-519/19</td>\n",
       "      <td>2019-09-04 00:00:00</td>\n",
       "      <td>2019-12-09 00:00:00</td>\n",
       "      <td>ED-319/18</td>\n",
       "      <td>2018-03-05 00:00:00</td>\n",
       "      <td>2020-03-05 00:00:00</td>\n",
       "      <td>FNE Slipčići 992 kW</td>\n",
       "      <td>Slipčići Mostar</td>\n",
       "      <td>0.992</td>\n",
       "      <td>SE</td>\n",
       "    </tr>\n",
       "  </tbody>\n",
       "</table>\n",
       "</div>"
      ],
      "text/plain": [
       "     R.B.   Naziv i sjedište podnosioca zahtijeva  \\\n",
       "20     21      ENERGONOVA d.o.o Sem.Semizovac bb    \n",
       "21     22  MIMSINŽINJERING d.o.o S.,Semizovac bb,   \n",
       "22     23    SENDO d.o.o  Sarajevo,Trg Heroja 35,   \n",
       "35     36               ČULE PROMET do.o.  MOSTAR   \n",
       "38     39                      MIP d.o.o.  MOSTAR   \n",
       "73     76                AUTO START d.o.o. Mostar   \n",
       "82     87             ELEKTROSAN  d.o.o. Sarajevo   \n",
       "93    104                    AVACOM d.o.o. Mostar   \n",
       "94    105                    AVACOM d.o.o. Mostar   \n",
       "100   116                      NSSN d.o.o. Mostar   \n",
       "\n",
       "     Identifikacijski broj podnosioca zahtijeva  \\\n",
       "20                                 201397220001   \n",
       "21                                 201248900008   \n",
       "22                                 245039920007   \n",
       "35                                 227154450008   \n",
       "38                                4227091940000   \n",
       "73                                4227307460008   \n",
       "82                                4263647440008   \n",
       "93                                4227598680000   \n",
       "94                                4227598680000   \n",
       "100                               4227097390001   \n",
       "\n",
       "    Djelovodni broj i datum  prijema zahtjeva Datum upisa u registar  \\\n",
       "20                           UP/-05-17-213/15    2015-04-13 00:00:00   \n",
       "21                           UP/-05-17-214/15    2015-04-13 00:00:00   \n",
       "22                           UP/-05-17-215/15    2015-04-13 00:00:00   \n",
       "35                          UP/I-05-17-492/15    2015-09-17 00:00:00   \n",
       "38                          UP/I-05-17-507/15    2015-09-30 00:00:00   \n",
       "73                          UP/I-05-17-506/16    2016-09-09 00:00:00   \n",
       "82                          UP/I-05-17-426/17    2017-09-13 00:00:00   \n",
       "93                            UP/-05-17-96/19    2019-02-11 00:00:00   \n",
       "94                           UP/-05-17-228/19    2019-03-28 00:00:00   \n",
       "100                         UP/I-05-17-519/19    2019-09-04 00:00:00   \n",
       "\n",
       "    Datum kompletiranja zahtjeva Broj Energetske dozvole  \\\n",
       "20           2015-06-26 00:00:00                ED-33/14   \n",
       "21           2015-06-26 00:00:00                ED-31/14   \n",
       "22           2015-06-26 00:00:00                ED-32/14   \n",
       "35           2015-09-17 00:00:00                ED-79/14   \n",
       "38           2015-12-15 00:00:00                ED-82/14   \n",
       "73           2016-10-11 00:00:00               ED-227/15   \n",
       "82           2017-11-07 00:00:00               ED-203/15   \n",
       "93                           NaN               ED-322/18   \n",
       "94                           NaN               ED-321/18   \n",
       "100          2019-12-09 00:00:00               ED-319/18   \n",
       "\n",
       "    Broj Produžene Energetske dozvole  \\\n",
       "20                         ED-33-1/15   \n",
       "21                         ED-31-1/15   \n",
       "22                         ED-32-1/15   \n",
       "35                         ED-79-1/16   \n",
       "38                         ED-82-1/16   \n",
       "73                        ED-227-1/16   \n",
       "82                        ED-203-1/18   \n",
       "93                2018-03-29 00:00:00   \n",
       "94                2018-03-29 00:00:00   \n",
       "100               2018-03-05 00:00:00   \n",
       "\n",
       "    Datum isteka produžene Energetske dozvole        Naziv objekta  \\\n",
       "20                        2016-07-10 00:00:00      MERKUR-Vrapčići   \n",
       "21                        2016-07-10 00:00:00   KLAS CENTAR-Mostar   \n",
       "22                        2016-06-30 00:00:00       ZLATKA VUKOVIĆ   \n",
       "35                        2016-12-29 00:00:00     FNE\"ČULE PROMET\"   \n",
       "38                        2016-12-30 00:00:00               SE MIP   \n",
       "73                        2017-12-10 00:00:00        SE AUTO START   \n",
       "82                        2019-10-27 00:00:00   FNE  PODVELEŽJE  1   \n",
       "93                        2019-03-29 00:00:00      FNE Radobolja 1   \n",
       "94                        2019-03-29 00:00:00           FNE Avacom   \n",
       "100                       2020-03-05 00:00:00  FNE Slipčići 992 kW   \n",
       "\n",
       "                  Lokacija  Snaga\\n(MW)           TEHNOLOGIJA  \n",
       "20         Vrapčići-Mostar        0.115   izgrađena 20.6.2016  \n",
       "21   Bišća Polje bb-Mostar        0.115   izgrađena 24.6.2016  \n",
       "22            Opine-Mostar        0.104   izgrađena 02.9.2016  \n",
       "35           ORTJEŠ-MOSTAR        0.149   izgrađena 26.9.2016  \n",
       "38        VRAPČIĆI  MOSTAR        0.017                   mSE  \n",
       "73                  MOSTAR        0.150  izgrađena 12.02.2020  \n",
       "82                  MOSTAR        0.999                    SE  \n",
       "93                  MOSTAR        0.150                    SE  \n",
       "94                  MOSTAR        0.015                   mSE  \n",
       "100        Slipčići Mostar        0.992                    SE  "
      ]
     },
     "execution_count": 22,
     "metadata": {},
     "output_type": "execute_result"
    }
   ],
   "source": [
    "registar_MOSTAR"
   ]
  },
  {
   "cell_type": "code",
   "execution_count": 23,
   "id": "02e5040e",
   "metadata": {},
   "outputs": [
    {
     "data": {
      "text/plain": [
       "array(['Vrapčići-Mostar', 'Bišća Polje bb-Mostar', 'Opine-Mostar',\n",
       "       'ORTJEŠ-MOSTAR', 'VRAPČIĆI  MOSTAR', 'MOSTAR', 'Slipčići Mostar'],\n",
       "      dtype=object)"
      ]
     },
     "execution_count": 23,
     "metadata": {},
     "output_type": "execute_result"
    }
   ],
   "source": [
    "registar_MOSTAR[\"Lokacija\"].unique()"
   ]
  },
  {
   "cell_type": "markdown",
   "id": "6a2a28eb",
   "metadata": {},
   "source": [
    "Karakteristike postrojenja na ovom području su date u narednom prikazu. Na lokaciji Mostara zastupljena su postrojenja snage od (100 - 150) kW, sa dvije velike FNE od po 1 MW, te će se provjeriti njihov period izgradnje."
   ]
  },
  {
   "cell_type": "code",
   "execution_count": 24,
   "id": "20236ef0",
   "metadata": {},
   "outputs": [
    {
     "data": {
      "text/plain": [
       "TEHNOLOGIJA           Snaga\\n(MW)\n",
       "SE                    0.150          1\n",
       "                      0.992          1\n",
       "                      0.999          1\n",
       "izgrađena 02.9.2016   0.104          1\n",
       "izgrađena 12.02.2020  0.150          1\n",
       "izgrađena 20.6.2016   0.115          1\n",
       "izgrađena 24.6.2016   0.115          1\n",
       "izgrađena 26.9.2016   0.149          1\n",
       "mSE                   0.015          1\n",
       "                      0.017          1\n",
       "Name: Naziv objekta, dtype: int64"
      ]
     },
     "execution_count": 24,
     "metadata": {},
     "output_type": "execute_result"
    }
   ],
   "source": [
    "registar_MOSTAR.groupby([\"TEHNOLOGIJA\",\"Snaga\\n(MW)\"])[\"Naziv objekta\"].count()"
   ]
  },
  {
   "cell_type": "markdown",
   "id": "60707d08",
   "metadata": {},
   "source": [
    "Nijedna od navedenih elektrana ispod se ne nalazi u FERK-ovom obrascu kvalifikovanih proizvođača."
   ]
  },
  {
   "cell_type": "code",
   "execution_count": 25,
   "id": "bb8b8a59",
   "metadata": {},
   "outputs": [
    {
     "data": {
      "text/html": [
       "<div>\n",
       "<style scoped>\n",
       "    .dataframe tbody tr th:only-of-type {\n",
       "        vertical-align: middle;\n",
       "    }\n",
       "\n",
       "    .dataframe tbody tr th {\n",
       "        vertical-align: top;\n",
       "    }\n",
       "\n",
       "    .dataframe thead th {\n",
       "        text-align: right;\n",
       "    }\n",
       "</style>\n",
       "<table border=\"1\" class=\"dataframe\">\n",
       "  <thead>\n",
       "    <tr style=\"text-align: right;\">\n",
       "      <th></th>\n",
       "      <th>R.B.</th>\n",
       "      <th>Naziv i sjedište podnosioca zahtijeva</th>\n",
       "      <th>Identifikacijski broj podnosioca zahtijeva</th>\n",
       "      <th>Djelovodni broj i datum  prijema zahtjeva</th>\n",
       "      <th>Datum upisa u registar</th>\n",
       "      <th>Datum kompletiranja zahtjeva</th>\n",
       "      <th>Broj Energetske dozvole</th>\n",
       "      <th>Broj Produžene Energetske dozvole</th>\n",
       "      <th>Datum isteka produžene Energetske dozvole</th>\n",
       "      <th>Naziv objekta</th>\n",
       "      <th>Lokacija</th>\n",
       "      <th>Snaga\\n(MW)</th>\n",
       "      <th>TEHNOLOGIJA</th>\n",
       "    </tr>\n",
       "  </thead>\n",
       "  <tbody>\n",
       "    <tr>\n",
       "      <th>82</th>\n",
       "      <td>87</td>\n",
       "      <td>ELEKTROSAN  d.o.o. Sarajevo</td>\n",
       "      <td>4263647440008</td>\n",
       "      <td>UP/I-05-17-426/17</td>\n",
       "      <td>2017-09-13 00:00:00</td>\n",
       "      <td>2017-11-07 00:00:00</td>\n",
       "      <td>ED-203/15</td>\n",
       "      <td>ED-203-1/18</td>\n",
       "      <td>2019-10-27 00:00:00</td>\n",
       "      <td>FNE  PODVELEŽJE  1</td>\n",
       "      <td>MOSTAR</td>\n",
       "      <td>0.999</td>\n",
       "      <td>SE</td>\n",
       "    </tr>\n",
       "    <tr>\n",
       "      <th>100</th>\n",
       "      <td>116</td>\n",
       "      <td>NSSN d.o.o. Mostar</td>\n",
       "      <td>4227097390001</td>\n",
       "      <td>UP/I-05-17-519/19</td>\n",
       "      <td>2019-09-04 00:00:00</td>\n",
       "      <td>2019-12-09 00:00:00</td>\n",
       "      <td>ED-319/18</td>\n",
       "      <td>2018-03-05 00:00:00</td>\n",
       "      <td>2020-03-05 00:00:00</td>\n",
       "      <td>FNE Slipčići 992 kW</td>\n",
       "      <td>Slipčići Mostar</td>\n",
       "      <td>0.992</td>\n",
       "      <td>SE</td>\n",
       "    </tr>\n",
       "  </tbody>\n",
       "</table>\n",
       "</div>"
      ],
      "text/plain": [
       "     R.B. Naziv i sjedište podnosioca zahtijeva  \\\n",
       "82     87           ELEKTROSAN  d.o.o. Sarajevo   \n",
       "100   116                    NSSN d.o.o. Mostar   \n",
       "\n",
       "     Identifikacijski broj podnosioca zahtijeva  \\\n",
       "82                                4263647440008   \n",
       "100                               4227097390001   \n",
       "\n",
       "    Djelovodni broj i datum  prijema zahtjeva Datum upisa u registar  \\\n",
       "82                          UP/I-05-17-426/17    2017-09-13 00:00:00   \n",
       "100                         UP/I-05-17-519/19    2019-09-04 00:00:00   \n",
       "\n",
       "    Datum kompletiranja zahtjeva Broj Energetske dozvole  \\\n",
       "82           2017-11-07 00:00:00               ED-203/15   \n",
       "100          2019-12-09 00:00:00               ED-319/18   \n",
       "\n",
       "    Broj Produžene Energetske dozvole  \\\n",
       "82                        ED-203-1/18   \n",
       "100               2018-03-05 00:00:00   \n",
       "\n",
       "    Datum isteka produžene Energetske dozvole        Naziv objekta  \\\n",
       "82                        2019-10-27 00:00:00   FNE  PODVELEŽJE  1   \n",
       "100                       2020-03-05 00:00:00  FNE Slipčići 992 kW   \n",
       "\n",
       "            Lokacija  Snaga\\n(MW) TEHNOLOGIJA  \n",
       "82            MOSTAR        0.999          SE  \n",
       "100  Slipčići Mostar        0.992          SE  "
      ]
     },
     "execution_count": 25,
     "metadata": {},
     "output_type": "execute_result"
    }
   ],
   "source": [
    "registar_MOSTAR[(registar_MOSTAR[\"Snaga\\n(MW)\"]==0.992)|(registar_MOSTAR[\"Snaga\\n(MW)\"]==0.999)]"
   ]
  },
  {
   "cell_type": "code",
   "execution_count": 26,
   "id": "09abc7f7",
   "metadata": {},
   "outputs": [
    {
     "name": "stdout",
     "output_type": "stream",
     "text": [
      "\n",
      "Izgrađene u 2019.: 0\n",
      "Empty DataFrame\n",
      "Columns: [Naziv objekta, Lokacija, Snaga\n",
      "(MW), TEHNOLOGIJA, Datum isteka produžene Energetske dozvole]\n",
      "Index: []\n",
      "\n",
      "Izgrađene u 2020.: 1\n",
      "    Naziv objekta Lokacija  Snaga\\n(MW)           TEHNOLOGIJA  \\\n",
      "73  SE AUTO START   MOSTAR         0.15  izgrađena 12.02.2020   \n",
      "\n",
      "   Datum isteka produžene Energetske dozvole  \n",
      "73                       2017-12-10 00:00:00  \n",
      "\n",
      "Izgrađene u 2021. 0\n",
      "Empty DataFrame\n",
      "Columns: [Naziv objekta, Lokacija, Snaga\n",
      "(MW), TEHNOLOGIJA, Datum isteka produžene Energetske dozvole]\n",
      "Index: []\n"
     ]
    }
   ],
   "source": [
    "print(\"\\nIzgrađene u 2019.:\",len(registar_MOSTAR[registar_MOSTAR[\"TEHNOLOGIJA\"].str.contains(\"2019\")]))\n",
    "print(registar_MOSTAR[registar_MOSTAR[\"TEHNOLOGIJA\"].str.contains(\"2019\")][[\"Naziv objekta\",\"Lokacija\", \"Snaga\\n(MW)\",\"TEHNOLOGIJA\",\"Datum isteka produžene Energetske dozvole\"]])\n",
    "\n",
    "print(\"\\nIzgrađene u 2020.:\",len(registar_MOSTAR[registar_MOSTAR[\"TEHNOLOGIJA\"].str.contains(\"2020\")]))\n",
    "print(registar_MOSTAR[registar_MOSTAR[\"TEHNOLOGIJA\"].str.contains(\"2020\")][[\"Naziv objekta\",\"Lokacija\", \"Snaga\\n(MW)\",\"TEHNOLOGIJA\",\"Datum isteka produžene Energetske dozvole\"]])\n",
    "\n",
    "print(\"\\nIzgrađene u 2021.\",len(registar_MOSTAR[registar_MOSTAR[\"TEHNOLOGIJA\"].str.contains(\"2021\")]))\n",
    "print(registar_MOSTAR[registar_MOSTAR[\"TEHNOLOGIJA\"].str.contains(\"2021\")][[\"Naziv objekta\",\"Lokacija\", \"Snaga\\n(MW)\",\"TEHNOLOGIJA\",\"Datum isteka produžene Energetske dozvole\"]])"
   ]
  },
  {
   "cell_type": "code",
   "execution_count": 27,
   "id": "d0663acd",
   "metadata": {},
   "outputs": [
    {
     "name": "stdout",
     "output_type": "stream",
     "text": [
      "Ukupno u Mostar do 2019.: 7\n",
      "Ukupno u Mostar do 2020.. 7\n",
      "Ukupno u Mostar do 2021.: 8\n"
     ]
    }
   ],
   "source": [
    "print(\"Ukupno u Mostar do 2019.:\", len(registar_MOSTAR)-3)\n",
    "print(\"Ukupno u Mostar do 2020..\", len(registar_MOSTAR)-3)\n",
    "print(\"Ukupno u Mostar do 2021.:\", len(registar_MOSTAR)-2)"
   ]
  },
  {
   "cell_type": "markdown",
   "id": "d58b86e2",
   "metadata": {},
   "source": [
    "## Čitluk"
   ]
  },
  {
   "cell_type": "code",
   "execution_count": 28,
   "id": "04988a54",
   "metadata": {},
   "outputs": [
    {
     "data": {
      "text/html": [
       "<div>\n",
       "<style scoped>\n",
       "    .dataframe tbody tr th:only-of-type {\n",
       "        vertical-align: middle;\n",
       "    }\n",
       "\n",
       "    .dataframe tbody tr th {\n",
       "        vertical-align: top;\n",
       "    }\n",
       "\n",
       "    .dataframe thead th {\n",
       "        text-align: right;\n",
       "    }\n",
       "</style>\n",
       "<table border=\"1\" class=\"dataframe\">\n",
       "  <thead>\n",
       "    <tr style=\"text-align: right;\">\n",
       "      <th></th>\n",
       "      <th>R.B.</th>\n",
       "      <th>Naziv i sjedište podnosioca zahtijeva</th>\n",
       "      <th>Identifikacijski broj podnosioca zahtijeva</th>\n",
       "      <th>Djelovodni broj i datum  prijema zahtjeva</th>\n",
       "      <th>Datum upisa u registar</th>\n",
       "      <th>Datum kompletiranja zahtjeva</th>\n",
       "      <th>Broj Energetske dozvole</th>\n",
       "      <th>Broj Produžene Energetske dozvole</th>\n",
       "      <th>Datum isteka produžene Energetske dozvole</th>\n",
       "      <th>Naziv objekta</th>\n",
       "      <th>Lokacija</th>\n",
       "      <th>Snaga\\n(MW)</th>\n",
       "      <th>TEHNOLOGIJA</th>\n",
       "    </tr>\n",
       "  </thead>\n",
       "  <tbody>\n",
       "    <tr>\n",
       "      <th>0</th>\n",
       "      <td>1</td>\n",
       "      <td>ENERETIC-ELECTRONIC d.o.o Međugorje</td>\n",
       "      <td>227228910006</td>\n",
       "      <td>UP/I-05-17-129/15</td>\n",
       "      <td>2015-03-10 00:00:00</td>\n",
       "      <td>2015-03-10 00:00:00</td>\n",
       "      <td>ED-4/14</td>\n",
       "      <td>ED-4-1/15</td>\n",
       "      <td>2016-06-12 00:00:00</td>\n",
       "      <td>ENERETIC-ELECTRONIC</td>\n",
       "      <td>Gos. zona Blizanci</td>\n",
       "      <td>0.149</td>\n",
       "      <td>izgrađena 5.8.2015</td>\n",
       "    </tr>\n",
       "  </tbody>\n",
       "</table>\n",
       "</div>"
      ],
      "text/plain": [
       "   R.B. Naziv i sjedište podnosioca zahtijeva  \\\n",
       "0     1   ENERETIC-ELECTRONIC d.o.o Međugorje   \n",
       "\n",
       "   Identifikacijski broj podnosioca zahtijeva  \\\n",
       "0                                227228910006   \n",
       "\n",
       "  Djelovodni broj i datum  prijema zahtjeva Datum upisa u registar  \\\n",
       "0                         UP/I-05-17-129/15    2015-03-10 00:00:00   \n",
       "\n",
       "  Datum kompletiranja zahtjeva Broj Energetske dozvole  \\\n",
       "0          2015-03-10 00:00:00                 ED-4/14   \n",
       "\n",
       "  Broj Produžene Energetske dozvole Datum isteka produžene Energetske dozvole  \\\n",
       "0                         ED-4-1/15                       2016-06-12 00:00:00   \n",
       "\n",
       "          Naziv objekta            Lokacija  Snaga\\n(MW)         TEHNOLOGIJA  \n",
       "0  ENERETIC-ELECTRONIC   Gos. zona Blizanci        0.149  izgrađena 5.8.2015  "
      ]
     },
     "execution_count": 28,
     "metadata": {},
     "output_type": "execute_result"
    }
   ],
   "source": [
    "registar[registar[\"Naziv i sjedište podnosioca zahtijeva\"].str.contains(\"ELECTRONIC\")]"
   ]
  },
  {
   "cell_type": "code",
   "execution_count": 29,
   "id": "9d1b34d6",
   "metadata": {
    "scrolled": true
   },
   "outputs": [
    {
     "name": "stdout",
     "output_type": "stream",
     "text": [
      "Ukupno u Čitluku 7\n"
     ]
    }
   ],
   "source": [
    "registar_CITLUK=pd.DataFrame()\n",
    "registar_CITLUK=registar[(registar[\"Lokacija\"].str.contains(\"Čitluk\",case=False))\n",
    "                        |(registar[\"Lokacija\"].str.contains(\"Blizanci\",case=False))]\n",
    "print(\"Ukupno u Čitluku\", len(registar_CITLUK))"
   ]
  },
  {
   "cell_type": "code",
   "execution_count": 30,
   "id": "64bea7e4",
   "metadata": {},
   "outputs": [
    {
     "data": {
      "text/plain": [
       "array(['Gos. zona Blizanci', 'ČITLUK', 'Čitluk'], dtype=object)"
      ]
     },
     "execution_count": 30,
     "metadata": {},
     "output_type": "execute_result"
    }
   ],
   "source": [
    "registar_CITLUK[\"Lokacija\"].unique()"
   ]
  },
  {
   "cell_type": "markdown",
   "id": "00866b43",
   "metadata": {},
   "source": [
    "Karakteristike postrojenja na ovom području su date u narednom prikazu. Kao što se može primijetiti, na ovom području su zastupljene 3 FNE  snage 149 kwP, te nekoliko malih mSE."
   ]
  },
  {
   "cell_type": "code",
   "execution_count": 31,
   "id": "2698112e",
   "metadata": {},
   "outputs": [
    {
     "data": {
      "text/plain": [
       "TEHNOLOGIJA          Snaga\\n(MW)\n",
       "SE                   0.149          1\n",
       "izgrađena 06.7.2015  0.149          1\n",
       "izgrađena 5.8.2015   0.149          1\n",
       "mSE                  0.023          4\n",
       "Name: Naziv objekta, dtype: int64"
      ]
     },
     "execution_count": 31,
     "metadata": {},
     "output_type": "execute_result"
    }
   ],
   "source": [
    "registar_CITLUK.groupby([\"TEHNOLOGIJA\",\"Snaga\\n(MW)\"])[\"Naziv objekta\"].count()"
   ]
  },
  {
   "cell_type": "code",
   "execution_count": 32,
   "id": "50813f70",
   "metadata": {},
   "outputs": [
    {
     "name": "stdout",
     "output_type": "stream",
     "text": [
      "\n",
      "Izgrađene u 2019.: 0\n",
      "Empty DataFrame\n",
      "Columns: [Naziv objekta, Lokacija, Snaga\n",
      "(MW), TEHNOLOGIJA, Datum isteka produžene Energetske dozvole]\n",
      "Index: []\n",
      "\n",
      "Izgrađene u 2020.: 0\n",
      "Empty DataFrame\n",
      "Columns: [Naziv objekta, Lokacija, Snaga\n",
      "(MW), TEHNOLOGIJA, Datum isteka produžene Energetske dozvole]\n",
      "Index: []\n",
      "\n",
      "Izgrađene u 2021. 0\n",
      "Empty DataFrame\n",
      "Columns: [Naziv objekta, Lokacija, Snaga\n",
      "(MW), TEHNOLOGIJA, Datum isteka produžene Energetske dozvole]\n",
      "Index: []\n"
     ]
    }
   ],
   "source": [
    "print(\"\\nIzgrađene u 2019.:\",len(registar_CITLUK[registar_CITLUK[\"TEHNOLOGIJA\"].str.contains(\"2019\")]))\n",
    "print(registar_CITLUK[registar_CITLUK[\"TEHNOLOGIJA\"].str.contains(\"2019\")][[\"Naziv objekta\",\"Lokacija\", \"Snaga\\n(MW)\",\"TEHNOLOGIJA\",\"Datum isteka produžene Energetske dozvole\"]])\n",
    "\n",
    "print(\"\\nIzgrađene u 2020.:\",len(registar_CITLUK[registar_CITLUK[\"TEHNOLOGIJA\"].str.contains(\"2020\")]))\n",
    "print(registar_CITLUK[registar_CITLUK[\"TEHNOLOGIJA\"].str.contains(\"2020\")][[\"Naziv objekta\",\"Lokacija\", \"Snaga\\n(MW)\",\"TEHNOLOGIJA\",\"Datum isteka produžene Energetske dozvole\"]])\n",
    "\n",
    "print(\"\\nIzgrađene u 2021.\",len(registar_CITLUK[registar_CITLUK[\"TEHNOLOGIJA\"].str.contains(\"2021\")]))\n",
    "print(registar_CITLUK[registar_CITLUK[\"TEHNOLOGIJA\"].str.contains(\"2021\")][[\"Naziv objekta\",\"Lokacija\", \"Snaga\\n(MW)\",\"TEHNOLOGIJA\",\"Datum isteka produžene Energetske dozvole\"]])"
   ]
  },
  {
   "cell_type": "code",
   "execution_count": 33,
   "id": "ed28f934",
   "metadata": {},
   "outputs": [
    {
     "data": {
      "text/html": [
       "<div>\n",
       "<style scoped>\n",
       "    .dataframe tbody tr th:only-of-type {\n",
       "        vertical-align: middle;\n",
       "    }\n",
       "\n",
       "    .dataframe tbody tr th {\n",
       "        vertical-align: top;\n",
       "    }\n",
       "\n",
       "    .dataframe thead th {\n",
       "        text-align: right;\n",
       "    }\n",
       "</style>\n",
       "<table border=\"1\" class=\"dataframe\">\n",
       "  <thead>\n",
       "    <tr style=\"text-align: right;\">\n",
       "      <th></th>\n",
       "      <th>R.B.</th>\n",
       "      <th>Naziv i sjedište podnosioca zahtijeva</th>\n",
       "      <th>Identifikacijski broj podnosioca zahtijeva</th>\n",
       "      <th>Djelovodni broj i datum  prijema zahtjeva</th>\n",
       "      <th>Datum upisa u registar</th>\n",
       "      <th>Datum kompletiranja zahtjeva</th>\n",
       "      <th>Broj Energetske dozvole</th>\n",
       "      <th>Broj Produžene Energetske dozvole</th>\n",
       "      <th>Datum isteka produžene Energetske dozvole</th>\n",
       "      <th>Naziv objekta</th>\n",
       "      <th>Lokacija</th>\n",
       "      <th>Snaga\\n(MW)</th>\n",
       "      <th>TEHNOLOGIJA</th>\n",
       "    </tr>\n",
       "  </thead>\n",
       "  <tbody>\n",
       "    <tr>\n",
       "      <th>0</th>\n",
       "      <td>1</td>\n",
       "      <td>ENERETIC-ELECTRONIC d.o.o Međugorje</td>\n",
       "      <td>227228910006</td>\n",
       "      <td>UP/I-05-17-129/15</td>\n",
       "      <td>2015-03-10 00:00:00</td>\n",
       "      <td>2015-03-10 00:00:00</td>\n",
       "      <td>ED-4/14</td>\n",
       "      <td>ED-4-1/15</td>\n",
       "      <td>2016-06-12 00:00:00</td>\n",
       "      <td>ENERETIC-ELECTRONIC</td>\n",
       "      <td>Gos. zona Blizanci</td>\n",
       "      <td>0.149</td>\n",
       "      <td>izgrađena 5.8.2015</td>\n",
       "    </tr>\n",
       "    <tr>\n",
       "      <th>1</th>\n",
       "      <td>2</td>\n",
       "      <td>IGI SOLAR d.o.o. Čitluk</td>\n",
       "      <td>227738100009</td>\n",
       "      <td>UP/I-05-17-130/15</td>\n",
       "      <td>2015-03-10 00:00:00</td>\n",
       "      <td>2015-04-29 00:00:00</td>\n",
       "      <td>ED-2/14</td>\n",
       "      <td>ED-2-1/15</td>\n",
       "      <td>2016-06-12 00:00:00</td>\n",
       "      <td>Blizanci 1</td>\n",
       "      <td>Gos. zona Blizanci</td>\n",
       "      <td>0.149</td>\n",
       "      <td>izgrađena 06.7.2015</td>\n",
       "    </tr>\n",
       "    <tr>\n",
       "      <th>72</th>\n",
       "      <td>75</td>\n",
       "      <td>SFE \"AS\"vl. Ante Sivrić, Međugorje</td>\n",
       "      <td>4328331360007</td>\n",
       "      <td>UP/I-05-17-494/16</td>\n",
       "      <td>2016-08-31 00:00:00</td>\n",
       "      <td>2016-10-04 00:00:00</td>\n",
       "      <td>ED-225/15</td>\n",
       "      <td>ED-225-1/16</td>\n",
       "      <td>2017-11-16 00:00:00</td>\n",
       "      <td>FNE  \"AS\"</td>\n",
       "      <td>ČITLUK</td>\n",
       "      <td>0.149</td>\n",
       "      <td>SE</td>\n",
       "    </tr>\n",
       "  </tbody>\n",
       "</table>\n",
       "</div>"
      ],
      "text/plain": [
       "    R.B. Naziv i sjedište podnosioca zahtijeva  \\\n",
       "0      1   ENERETIC-ELECTRONIC d.o.o Međugorje   \n",
       "1      2             IGI SOLAR d.o.o. Čitluk     \n",
       "72    75    SFE \"AS\"vl. Ante Sivrić, Međugorje   \n",
       "\n",
       "    Identifikacijski broj podnosioca zahtijeva  \\\n",
       "0                                 227228910006   \n",
       "1                                 227738100009   \n",
       "72                               4328331360007   \n",
       "\n",
       "   Djelovodni broj i datum  prijema zahtjeva Datum upisa u registar  \\\n",
       "0                          UP/I-05-17-129/15    2015-03-10 00:00:00   \n",
       "1                          UP/I-05-17-130/15    2015-03-10 00:00:00   \n",
       "72                         UP/I-05-17-494/16    2016-08-31 00:00:00   \n",
       "\n",
       "   Datum kompletiranja zahtjeva Broj Energetske dozvole  \\\n",
       "0           2015-03-10 00:00:00                 ED-4/14   \n",
       "1           2015-04-29 00:00:00                 ED-2/14   \n",
       "72          2016-10-04 00:00:00               ED-225/15   \n",
       "\n",
       "   Broj Produžene Energetske dozvole  \\\n",
       "0                          ED-4-1/15   \n",
       "1                          ED-2-1/15   \n",
       "72                       ED-225-1/16   \n",
       "\n",
       "   Datum isteka produžene Energetske dozvole         Naziv objekta  \\\n",
       "0                        2016-06-12 00:00:00  ENERETIC-ELECTRONIC    \n",
       "1                        2016-06-12 00:00:00            Blizanci 1   \n",
       "72                       2017-11-16 00:00:00             FNE  \"AS\"   \n",
       "\n",
       "              Lokacija  Snaga\\n(MW)          TEHNOLOGIJA  \n",
       "0   Gos. zona Blizanci        0.149   izgrađena 5.8.2015  \n",
       "1   Gos. zona Blizanci        0.149  izgrađena 06.7.2015  \n",
       "72              ČITLUK        0.149                   SE  "
      ]
     },
     "execution_count": 33,
     "metadata": {},
     "output_type": "execute_result"
    }
   ],
   "source": [
    "registar_CITLUK[registar_CITLUK[\"Snaga\\n(MW)\"]==0.1490]"
   ]
  },
  {
   "cell_type": "code",
   "execution_count": 34,
   "id": "6db58640",
   "metadata": {},
   "outputs": [
    {
     "name": "stdout",
     "output_type": "stream",
     "text": [
      "Ukupno u Čitluku do 2019.: 7\n",
      "Ukupno u Čitluku do 2020.. 7\n",
      "Ukupno u Čitluku do 2021.: 7\n"
     ]
    }
   ],
   "source": [
    "print(\"Ukupno u Čitluku do 2019.:\", len(registar_CITLUK))\n",
    "print(\"Ukupno u Čitluku do 2020..\", len(registar_CITLUK))\n",
    "print(\"Ukupno u Čitluku do 2021.:\", len(registar_CITLUK))"
   ]
  },
  {
   "cell_type": "markdown",
   "id": "b32bbb80",
   "metadata": {},
   "source": [
    "## Usora"
   ]
  },
  {
   "cell_type": "code",
   "execution_count": 35,
   "id": "f724af42",
   "metadata": {},
   "outputs": [
    {
     "data": {
      "text/html": [
       "<div>\n",
       "<style scoped>\n",
       "    .dataframe tbody tr th:only-of-type {\n",
       "        vertical-align: middle;\n",
       "    }\n",
       "\n",
       "    .dataframe tbody tr th {\n",
       "        vertical-align: top;\n",
       "    }\n",
       "\n",
       "    .dataframe thead th {\n",
       "        text-align: right;\n",
       "    }\n",
       "</style>\n",
       "<table border=\"1\" class=\"dataframe\">\n",
       "  <thead>\n",
       "    <tr style=\"text-align: right;\">\n",
       "      <th></th>\n",
       "      <th>R.B.</th>\n",
       "      <th>Naziv i sjedište podnosioca zahtijeva</th>\n",
       "      <th>Identifikacijski broj podnosioca zahtijeva</th>\n",
       "      <th>Djelovodni broj i datum  prijema zahtjeva</th>\n",
       "      <th>Datum upisa u registar</th>\n",
       "      <th>Datum kompletiranja zahtjeva</th>\n",
       "      <th>Broj Energetske dozvole</th>\n",
       "      <th>Broj Produžene Energetske dozvole</th>\n",
       "      <th>Datum isteka produžene Energetske dozvole</th>\n",
       "      <th>Naziv objekta</th>\n",
       "      <th>Lokacija</th>\n",
       "      <th>Snaga\\n(MW)</th>\n",
       "      <th>TEHNOLOGIJA</th>\n",
       "    </tr>\n",
       "  </thead>\n",
       "  <tbody>\n",
       "  </tbody>\n",
       "</table>\n",
       "</div>"
      ],
      "text/plain": [
       "Empty DataFrame\n",
       "Columns: [R.B., Naziv i sjedište podnosioca zahtijeva, Identifikacijski broj podnosioca zahtijeva, Djelovodni broj i datum  prijema zahtjeva, Datum upisa u registar, Datum kompletiranja zahtjeva, Broj Energetske dozvole, Broj Produžene Energetske dozvole, Datum isteka produžene Energetske dozvole, Naziv objekta, Lokacija, Snaga\n",
       "(MW), TEHNOLOGIJA]\n",
       "Index: []"
      ]
     },
     "execution_count": 35,
     "metadata": {},
     "output_type": "execute_result"
    }
   ],
   "source": [
    "registar[(registar[\"Naziv i sjedište podnosioca zahtijeva\"].str.contains(\"Energy Trade\"))]"
   ]
  },
  {
   "cell_type": "code",
   "execution_count": 36,
   "id": "f5393a5a",
   "metadata": {
    "scrolled": true
   },
   "outputs": [
    {
     "name": "stdout",
     "output_type": "stream",
     "text": [
      "Ukupno u Usori: 1\n"
     ]
    }
   ],
   "source": [
    "registar_USORA=pd.DataFrame()\n",
    "registar_USORA=registar[(registar[\"Lokacija\"].str.contains(\"Usora\",case=False))]\n",
    "print(\"Ukupno u Usori:\", len(registar_USORA))"
   ]
  },
  {
   "cell_type": "code",
   "execution_count": 37,
   "id": "689853c4",
   "metadata": {},
   "outputs": [
    {
     "data": {
      "text/plain": [
       "array(['ŽABLJAK- USORA'], dtype=object)"
      ]
     },
     "execution_count": 37,
     "metadata": {},
     "output_type": "execute_result"
    }
   ],
   "source": [
    "registar_USORA[\"Lokacija\"].unique()"
   ]
  },
  {
   "cell_type": "markdown",
   "id": "c82d8f48",
   "metadata": {},
   "source": [
    "Karakteristike postrojenja na ovom području su date u narednom prikazu. Kao što se može primijetiti, na ovom području su zastupljene mSE - 4, te 1 FNE snage 150 kWp."
   ]
  },
  {
   "cell_type": "code",
   "execution_count": 38,
   "id": "c4d959fc",
   "metadata": {},
   "outputs": [
    {
     "data": {
      "text/plain": [
       "TEHNOLOGIJA         Snaga\\n(MW)\n",
       "izgrađena 7.3.2017  0.127          1\n",
       "Name: Naziv objekta, dtype: int64"
      ]
     },
     "execution_count": 38,
     "metadata": {},
     "output_type": "execute_result"
    }
   ],
   "source": [
    "registar_USORA.groupby([\"TEHNOLOGIJA\",\"Snaga\\n(MW)\"])[\"Naziv objekta\"].count()"
   ]
  },
  {
   "cell_type": "markdown",
   "id": "808599f0",
   "metadata": {},
   "source": [
    "# Analiza registara privilegovanih proizvođača - 2021. na navedenim lokacijama"
   ]
  },
  {
   "cell_type": "markdown",
   "id": "a9aa95d5",
   "metadata": {},
   "source": [
    "Lista privilegovanih proizvođača je preuzeta sa stranice Operatora za OIEiEK http://operatoroieiek.ba/proizvodaci-el-energije-iz-oieiek/privilegovani-proizvodaci/."
   ]
  },
  {
   "cell_type": "markdown",
   "id": "868923ad",
   "metadata": {},
   "source": [
    "Privilegovani proizvođač električne energije, u smislu Zakona o korištenju obnovljivih izvora energije i efikasne kogeneracije (”Službene novine Federacije BiH”, br. 70/13 i 5/14) (Zakon), je kvalifikovani proizvođač koji ima pravo da se od njega po garantovanim cijenama otkupe ukupne količine proizvedene električne energije tokom unaprijed utvrđenog perioda.\n",
    "\n",
    "Status privilegovanog proizvođača može dobiti imalac Dozvole za rad – licence za obavljanje djelatnosti proizvodnje električne energije, kojem je, u skladu sa članom 20. stav (2) Zakona, utvrđen status kvalifikovanog proizvođača.\n",
    "\n",
    "Zahtjev za dobijanje statusa privilegovanog proizvođača, kvalifikovani proizvođač podnosi Operatoru za OIEiEK uz odgovarajuće dokaze u skladu sa pozitivnim zakonskim propisima koji regulišu datu oblast.\n",
    "\n",
    "Kvalifikovani proizvođač koji je, rješenjem Operatora za OIEiEK, stekao status privilegovanog proizvođača, ima pravo da sa Operatorom za OIEiEK zaključi ugovor o otkupu ukupnog iznosa ili dijela proizvedene električne energije u postrojenjima koja koriste obnovljive izvore energije i efikasnu kogeneraciju."
   ]
  },
  {
   "cell_type": "code",
   "execution_count": 39,
   "id": "bc01a7ab",
   "metadata": {},
   "outputs": [],
   "source": [
    "registar_priv=open_the_file(r\"FILES\\SOLAR\\Registar_privil_proizv_30.9.2021.xlsx\",1,0)"
   ]
  },
  {
   "cell_type": "code",
   "execution_count": 40,
   "id": "ea9b9ba6",
   "metadata": {},
   "outputs": [
    {
     "data": {
      "text/html": [
       "<div>\n",
       "<style scoped>\n",
       "    .dataframe tbody tr th:only-of-type {\n",
       "        vertical-align: middle;\n",
       "    }\n",
       "\n",
       "    .dataframe tbody tr th {\n",
       "        vertical-align: top;\n",
       "    }\n",
       "\n",
       "    .dataframe thead th {\n",
       "        text-align: right;\n",
       "    }\n",
       "</style>\n",
       "<table border=\"1\" class=\"dataframe\">\n",
       "  <thead>\n",
       "    <tr style=\"text-align: right;\">\n",
       "      <th></th>\n",
       "      <th>R.br.</th>\n",
       "      <th>Naziv podnosioca zahtjeva</th>\n",
       "      <th>Naziv postrojenja</th>\n",
       "      <th>Datum podnošenja\\nzahtjeva</th>\n",
       "      <th>Instalisana\\nsnaga (kW)</th>\n",
       "    </tr>\n",
       "  </thead>\n",
       "  <tbody>\n",
       "    <tr>\n",
       "      <th>0</th>\n",
       "      <td>1</td>\n",
       "      <td>HE \"ENERGY\" d.o.o. Stolac</td>\n",
       "      <td>SE \"HE Energy 1\"</td>\n",
       "      <td>26.06.2014.</td>\n",
       "      <td>149,0</td>\n",
       "    </tr>\n",
       "    <tr>\n",
       "      <th>1</th>\n",
       "      <td>2</td>\n",
       "      <td>\"BRATSTVO\" d.d. Gornji Vakuf</td>\n",
       "      <td>SE \"Tele - Com 1\"</td>\n",
       "      <td>27.06.2014.</td>\n",
       "      <td>138,0</td>\n",
       "    </tr>\n",
       "  </tbody>\n",
       "</table>\n",
       "</div>"
      ],
      "text/plain": [
       "   R.br.     Naziv podnosioca zahtjeva  Naziv postrojenja  \\\n",
       "0      1     HE \"ENERGY\" d.o.o. Stolac   SE \"HE Energy 1\"   \n",
       "1      2  \"BRATSTVO\" d.d. Gornji Vakuf  SE \"Tele - Com 1\"   \n",
       "\n",
       "  Datum podnošenja\\nzahtjeva Instalisana\\nsnaga (kW)  \n",
       "0                26.06.2014.                   149,0  \n",
       "1                27.06.2014.                   138,0  "
      ]
     },
     "execution_count": 40,
     "metadata": {},
     "output_type": "execute_result"
    }
   ],
   "source": [
    "registar_priv.head(2) #prva 2 reda "
   ]
  },
  {
   "cell_type": "code",
   "execution_count": 41,
   "id": "700d0774",
   "metadata": {},
   "outputs": [],
   "source": [
    "registar_priv_STOLAC=registar_priv[(registar_priv[\"Naziv podnosioca zahtjeva\"].str.contains(\"Stolac\",case=False))|(registar_priv[\"Naziv postrojenja\"].str.contains(\"Hodovo|Pješivac|Stolac\",case=False))]"
   ]
  },
  {
   "cell_type": "code",
   "execution_count": 42,
   "id": "9ce429c5",
   "metadata": {},
   "outputs": [],
   "source": [
    "registar_priv_GRUDE=registar_priv[(registar_priv[\"Naziv postrojenja\"].str.contains(\"Grude\",case=False))|(registar_priv[\"Naziv postrojenja\"].str.contains(\"Grude|Krenica\",case=False))]"
   ]
  },
  {
   "cell_type": "code",
   "execution_count": 43,
   "id": "d85bcd3e",
   "metadata": {},
   "outputs": [],
   "source": [
    "registar_priv_MOSTAR=registar_priv[((registar_priv[\"Naziv podnosioca zahtjeva\"].str.contains(\"Mostar\",case=False)|(registar_priv[\"Naziv postrojenja\"].str.contains(\"Mostar\",case=False))))&(registar_priv[\"Naziv postrojenja\"].isin(registar_priv_STOLAC[\"Naziv postrojenja\"])==False)]"
   ]
  },
  {
   "cell_type": "code",
   "execution_count": 44,
   "id": "6731cfaa",
   "metadata": {},
   "outputs": [],
   "source": [
    "registar_priv_CITLUK=registar_priv[(registar_priv[\"Naziv podnosioca zahtjeva\"].str.contains(\"Čitluk|Blizanci\",case=False)|(registar_priv[\"Naziv postrojenja\"].str.contains(\"Čitluk|Blizanci\",case=False)))]"
   ]
  },
  {
   "cell_type": "code",
   "execution_count": 45,
   "id": "098879f8",
   "metadata": {},
   "outputs": [],
   "source": [
    "registar_priv_USORA=registar_priv[registar_priv[\"Naziv podnosioca zahtjeva\"].str.contains(\"Usora\",case=False)]"
   ]
  },
  {
   "cell_type": "markdown",
   "id": "20112c54",
   "metadata": {},
   "source": [
    "## Priprema fajlova"
   ]
  },
  {
   "cell_type": "code",
   "execution_count": 4,
   "id": "9c5f151c",
   "metadata": {},
   "outputs": [],
   "source": [
    "def drop_empty_rows(filex):\n",
    "    filex.drop(filex[filex[0]=='Diagram values'].index,inplace=True)\n",
    "    filex.dropna(subset=[0],inplace=True)\n",
    "    return filex #brisanje praznih redova"
   ]
  },
  {
   "cell_type": "code",
   "execution_count": 5,
   "id": "45d06bfc",
   "metadata": {},
   "outputs": [],
   "source": [
    "#dodavanje vremenskog otiska\n",
    "def assign_timestamp(filex,start,end,freq):\n",
    "    filex=filex.assign(Timestamp=pd.date_range(start,end, freq=freq).values)\n",
    "    return filex\n"
   ]
  },
  {
   "cell_type": "code",
   "execution_count": 6,
   "id": "ea011042",
   "metadata": {},
   "outputs": [],
   "source": [
    "def set_index(filex):\n",
    "    filex=filex.set_index(filex['Timestamp'].astype('datetime64[ns]'))\n",
    "    return filex\n",
    "#index"
   ]
  },
  {
   "cell_type": "code",
   "execution_count": 7,
   "id": "6244185f",
   "metadata": {},
   "outputs": [],
   "source": [
    "from datetime import datetime\n",
    "def assign_date(filex):\n",
    "    filex=filex.assign(Date=filex.index.to_pydatetime())\n",
    "    return filex\n",
    "\n",
    "#dodjela datuma"
   ]
  },
  {
   "cell_type": "code",
   "execution_count": 8,
   "id": "1e9b366c",
   "metadata": {},
   "outputs": [],
   "source": [
    "\n",
    "\n",
    "fileEN_2019,file_KR_HOD_2019=open_the_file(r\"FILES\\SOLAR\\enelectronic.xlsx\",0,0),open_the_file(r\"FILES\\SOLAR\\kr_hod.xlsx\",0,0)\n",
    "fileEN_2020,file_KR_HOD_2020=open_the_file(r\"FILES\\SOLAR\\enelectronic.xlsx\",1,0),open_the_file(r\"FILES\\SOLAR\\kr_hod.xlsx\",1,0)\n",
    "fileEN_2021,file_KR_HOD_2021=open_the_file(r\"FILES\\SOLAR\\enelectronic.xlsx\",2,0),open_the_file(r\"FILES\\SOLAR\\kr_hod.xlsx\",2,0)\n",
    "\n",
    "fileSE_2019=open_the_file(r\"FILES\\SOLAR\\SE.xlsx\",0,0)\n",
    "fileSE_2020=open_the_file(r\"FILES\\SOLAR\\SE.xlsx\",1,0)\n",
    "fileSE_2021=open_the_file(r\"FILES\\SOLAR\\SE.xlsx\",2,0)\n",
    "\n",
    "fileCP_2019=open_the_file(r\"FILES\\SOLAR\\cule_promet.xlsx\",0,0)\n",
    "fileCP_2020=open_the_file(r\"FILES\\SOLAR\\cule_promet.xlsx\",1,0)\n",
    "fileCP_2021=open_the_file(r\"FILES\\SOLAR\\cule_promet.xlsx\",2,0)"
   ]
  },
  {
   "cell_type": "code",
   "execution_count": 9,
   "id": "069991a2",
   "metadata": {},
   "outputs": [],
   "source": [
    "fileSE_2019.drop(fileSE_2019[fileSE_2019[1]=='SE Energy 1PowerMean values [kW]'].index,inplace=True)\n",
    "fileSE_2020.drop(fileSE_2020[fileSE_2020[1]=='SE Energy 1PowerMean values [kW]'].index,inplace=True)\n",
    "fileSE_2021.drop(fileSE_2021[fileSE_2021[1]=='SE Energy 1PowerMean values [kW]'].index,inplace=True)\n",
    "\n",
    "fileCP_2019.drop(fileCP_2019[fileCP_2019[1]=='culeprometPowerMean values [kW]'].index,inplace=True)\n",
    "fileCP_2020.drop(fileCP_2020[fileCP_2020[1]=='culeprometPowerMean values [kW]'].index,inplace=True)\n",
    "fileCP_2021.drop(fileCP_2021[fileCP_2021[1]=='culeprometPowerMean values [kW]'].index,inplace=True)\n"
   ]
  },
  {
   "cell_type": "code",
   "execution_count": 10,
   "id": "0e915ea8",
   "metadata": {},
   "outputs": [],
   "source": [
    "file_KR_HOD_2019=file_KR_HOD_2019[file_KR_HOD_2019[\"Unnamed: 0.1\"].str.contains(\":00\")]\n",
    "file_KR_HOD_2020=file_KR_HOD_2020[file_KR_HOD_2020[\"Unnamed: 0.1\"].str.contains(\":00\")]\n",
    "file_KR_HOD_2021=file_KR_HOD_2021[file_KR_HOD_2021[\"Unnamed: 0.1\"].str.contains(\":00\")]\n",
    "\n",
    "fileSE_2020=fileSE_2020[fileSE_2020[0].str.contains(\":00\",na=False)]\n",
    "fileSE_2021=fileSE_2021[fileSE_2021[0].str.contains(\":00\",na=False)]\n",
    "\n",
    "\n",
    "fileCP_2020=fileCP_2020[fileCP_2020[0].str.contains(\":00\")]\n",
    "fileCP_2021=fileCP_2021[fileCP_2021[0].str.contains(\":00\")]\n"
   ]
  },
  {
   "cell_type": "code",
   "execution_count": null,
   "id": "93f8ee99",
   "metadata": {
    "scrolled": true
   },
   "outputs": [],
   "source": [
    "fileSE_2020=fileSE_2020.drop([\"Unnamed: 4\"],axis=1)\n"
   ]
  },
  {
   "cell_type": "code",
   "execution_count": 14,
   "id": "53c0c98a",
   "metadata": {},
   "outputs": [
    {
     "ename": "KeyError",
     "evalue": "\"[('Unnamed: 4', 'Unnamed: 5', 'Unnamed: 6', 'Unnamed: 7', 'Unnamed: 8')] not found in axis\"",
     "output_type": "error",
     "traceback": [
      "\u001b[1;31m---------------------------------------------------------------------------\u001b[0m",
      "\u001b[1;31mKeyError\u001b[0m                                  Traceback (most recent call last)",
      "\u001b[1;32m<ipython-input-14-a6bd99406225>\u001b[0m in \u001b[0;36m<module>\u001b[1;34m\u001b[0m\n\u001b[1;32m----> 1\u001b[1;33m fileSE_2021=fileSE_2020.drop([['Unnamed: 4',\n\u001b[0m\u001b[0;32m      2\u001b[0m        'Unnamed: 5', 'Unnamed: 6', 'Unnamed: 7', 'Unnamed: 8']],axis=1)\n",
      "\u001b[1;32m~\\anaconda3\\lib\\site-packages\\pandas\\core\\frame.py\u001b[0m in \u001b[0;36mdrop\u001b[1;34m(self, labels, axis, index, columns, level, inplace, errors)\u001b[0m\n\u001b[0;32m   4306\u001b[0m                 \u001b[0mweight\u001b[0m  \u001b[1;36m1.0\u001b[0m     \u001b[1;36m0.8\u001b[0m\u001b[1;33m\u001b[0m\u001b[1;33m\u001b[0m\u001b[0m\n\u001b[0;32m   4307\u001b[0m         \"\"\"\n\u001b[1;32m-> 4308\u001b[1;33m         return super().drop(\n\u001b[0m\u001b[0;32m   4309\u001b[0m             \u001b[0mlabels\u001b[0m\u001b[1;33m=\u001b[0m\u001b[0mlabels\u001b[0m\u001b[1;33m,\u001b[0m\u001b[1;33m\u001b[0m\u001b[1;33m\u001b[0m\u001b[0m\n\u001b[0;32m   4310\u001b[0m             \u001b[0maxis\u001b[0m\u001b[1;33m=\u001b[0m\u001b[0maxis\u001b[0m\u001b[1;33m,\u001b[0m\u001b[1;33m\u001b[0m\u001b[1;33m\u001b[0m\u001b[0m\n",
      "\u001b[1;32m~\\anaconda3\\lib\\site-packages\\pandas\\core\\generic.py\u001b[0m in \u001b[0;36mdrop\u001b[1;34m(self, labels, axis, index, columns, level, inplace, errors)\u001b[0m\n\u001b[0;32m   4151\u001b[0m         \u001b[1;32mfor\u001b[0m \u001b[0maxis\u001b[0m\u001b[1;33m,\u001b[0m \u001b[0mlabels\u001b[0m \u001b[1;32min\u001b[0m \u001b[0maxes\u001b[0m\u001b[1;33m.\u001b[0m\u001b[0mitems\u001b[0m\u001b[1;33m(\u001b[0m\u001b[1;33m)\u001b[0m\u001b[1;33m:\u001b[0m\u001b[1;33m\u001b[0m\u001b[1;33m\u001b[0m\u001b[0m\n\u001b[0;32m   4152\u001b[0m             \u001b[1;32mif\u001b[0m \u001b[0mlabels\u001b[0m \u001b[1;32mis\u001b[0m \u001b[1;32mnot\u001b[0m \u001b[1;32mNone\u001b[0m\u001b[1;33m:\u001b[0m\u001b[1;33m\u001b[0m\u001b[1;33m\u001b[0m\u001b[0m\n\u001b[1;32m-> 4153\u001b[1;33m                 \u001b[0mobj\u001b[0m \u001b[1;33m=\u001b[0m \u001b[0mobj\u001b[0m\u001b[1;33m.\u001b[0m\u001b[0m_drop_axis\u001b[0m\u001b[1;33m(\u001b[0m\u001b[0mlabels\u001b[0m\u001b[1;33m,\u001b[0m \u001b[0maxis\u001b[0m\u001b[1;33m,\u001b[0m \u001b[0mlevel\u001b[0m\u001b[1;33m=\u001b[0m\u001b[0mlevel\u001b[0m\u001b[1;33m,\u001b[0m \u001b[0merrors\u001b[0m\u001b[1;33m=\u001b[0m\u001b[0merrors\u001b[0m\u001b[1;33m)\u001b[0m\u001b[1;33m\u001b[0m\u001b[1;33m\u001b[0m\u001b[0m\n\u001b[0m\u001b[0;32m   4154\u001b[0m \u001b[1;33m\u001b[0m\u001b[0m\n\u001b[0;32m   4155\u001b[0m         \u001b[1;32mif\u001b[0m \u001b[0minplace\u001b[0m\u001b[1;33m:\u001b[0m\u001b[1;33m\u001b[0m\u001b[1;33m\u001b[0m\u001b[0m\n",
      "\u001b[1;32m~\\anaconda3\\lib\\site-packages\\pandas\\core\\generic.py\u001b[0m in \u001b[0;36m_drop_axis\u001b[1;34m(self, labels, axis, level, errors)\u001b[0m\n\u001b[0;32m   4186\u001b[0m                 \u001b[0mnew_axis\u001b[0m \u001b[1;33m=\u001b[0m \u001b[0maxis\u001b[0m\u001b[1;33m.\u001b[0m\u001b[0mdrop\u001b[0m\u001b[1;33m(\u001b[0m\u001b[0mlabels\u001b[0m\u001b[1;33m,\u001b[0m \u001b[0mlevel\u001b[0m\u001b[1;33m=\u001b[0m\u001b[0mlevel\u001b[0m\u001b[1;33m,\u001b[0m \u001b[0merrors\u001b[0m\u001b[1;33m=\u001b[0m\u001b[0merrors\u001b[0m\u001b[1;33m)\u001b[0m\u001b[1;33m\u001b[0m\u001b[1;33m\u001b[0m\u001b[0m\n\u001b[0;32m   4187\u001b[0m             \u001b[1;32melse\u001b[0m\u001b[1;33m:\u001b[0m\u001b[1;33m\u001b[0m\u001b[1;33m\u001b[0m\u001b[0m\n\u001b[1;32m-> 4188\u001b[1;33m                 \u001b[0mnew_axis\u001b[0m \u001b[1;33m=\u001b[0m \u001b[0maxis\u001b[0m\u001b[1;33m.\u001b[0m\u001b[0mdrop\u001b[0m\u001b[1;33m(\u001b[0m\u001b[0mlabels\u001b[0m\u001b[1;33m,\u001b[0m \u001b[0merrors\u001b[0m\u001b[1;33m=\u001b[0m\u001b[0merrors\u001b[0m\u001b[1;33m)\u001b[0m\u001b[1;33m\u001b[0m\u001b[1;33m\u001b[0m\u001b[0m\n\u001b[0m\u001b[0;32m   4189\u001b[0m             \u001b[0mresult\u001b[0m \u001b[1;33m=\u001b[0m \u001b[0mself\u001b[0m\u001b[1;33m.\u001b[0m\u001b[0mreindex\u001b[0m\u001b[1;33m(\u001b[0m\u001b[1;33m**\u001b[0m\u001b[1;33m{\u001b[0m\u001b[0maxis_name\u001b[0m\u001b[1;33m:\u001b[0m \u001b[0mnew_axis\u001b[0m\u001b[1;33m}\u001b[0m\u001b[1;33m)\u001b[0m\u001b[1;33m\u001b[0m\u001b[1;33m\u001b[0m\u001b[0m\n\u001b[0;32m   4190\u001b[0m \u001b[1;33m\u001b[0m\u001b[0m\n",
      "\u001b[1;32m~\\anaconda3\\lib\\site-packages\\pandas\\core\\indexes\\base.py\u001b[0m in \u001b[0;36mdrop\u001b[1;34m(self, labels, errors)\u001b[0m\n\u001b[0;32m   5589\u001b[0m         \u001b[1;32mif\u001b[0m \u001b[0mmask\u001b[0m\u001b[1;33m.\u001b[0m\u001b[0many\u001b[0m\u001b[1;33m(\u001b[0m\u001b[1;33m)\u001b[0m\u001b[1;33m:\u001b[0m\u001b[1;33m\u001b[0m\u001b[1;33m\u001b[0m\u001b[0m\n\u001b[0;32m   5590\u001b[0m             \u001b[1;32mif\u001b[0m \u001b[0merrors\u001b[0m \u001b[1;33m!=\u001b[0m \u001b[1;34m\"ignore\"\u001b[0m\u001b[1;33m:\u001b[0m\u001b[1;33m\u001b[0m\u001b[1;33m\u001b[0m\u001b[0m\n\u001b[1;32m-> 5591\u001b[1;33m                 \u001b[1;32mraise\u001b[0m \u001b[0mKeyError\u001b[0m\u001b[1;33m(\u001b[0m\u001b[1;34mf\"{labels[mask]} not found in axis\"\u001b[0m\u001b[1;33m)\u001b[0m\u001b[1;33m\u001b[0m\u001b[1;33m\u001b[0m\u001b[0m\n\u001b[0m\u001b[0;32m   5592\u001b[0m             \u001b[0mindexer\u001b[0m \u001b[1;33m=\u001b[0m \u001b[0mindexer\u001b[0m\u001b[1;33m[\u001b[0m\u001b[1;33m~\u001b[0m\u001b[0mmask\u001b[0m\u001b[1;33m]\u001b[0m\u001b[1;33m\u001b[0m\u001b[1;33m\u001b[0m\u001b[0m\n\u001b[0;32m   5593\u001b[0m         \u001b[1;32mreturn\u001b[0m \u001b[0mself\u001b[0m\u001b[1;33m.\u001b[0m\u001b[0mdelete\u001b[0m\u001b[1;33m(\u001b[0m\u001b[0mindexer\u001b[0m\u001b[1;33m)\u001b[0m\u001b[1;33m\u001b[0m\u001b[1;33m\u001b[0m\u001b[0m\n",
      "\u001b[1;31mKeyError\u001b[0m: \"[('Unnamed: 4', 'Unnamed: 5', 'Unnamed: 6', 'Unnamed: 7', 'Unnamed: 8')] not found in axis\""
     ]
    }
   ],
   "source": [
    "fileSE_2021=fileSE_2020.drop([['Unnamed: 4',\n",
    "       'Unnamed: 5', 'Unnamed: 6', 'Unnamed: 7', 'Unnamed: 8']],axis=1)"
   ]
  },
  {
   "cell_type": "code",
   "execution_count": 15,
   "id": "11ca18ea",
   "metadata": {},
   "outputs": [],
   "source": [
    "fileEN_2019 = fileEN_2019.drop(index=range(24))\n",
    "fileEN_2019=fileEN_2019.assign(Timestamp=pd.date_range(\"2019-01-01 01:00:00\",\"2020-01-01\", freq=\"1H\").values)\n",
    "file_KR_HOD_2019=file_KR_HOD_2019.assign(Timestamp=pd.date_range(\"2019-01-01 01:00:00\",\"2020-01-01\", freq=\"1H\").values)\n",
    "fileSE_2019=fileSE_2019.assign(Timestamp=pd.date_range(\"2019-01-01 01:00:00\",\"2020-01-01\", freq=\"1H\").values)\n",
    "fileCP_2019=fileCP_2019.assign(Timestamp=pd.date_range(\"2019-01-01 01:00:00\",\"2020-01-01\", freq=\"1H\").values)\n",
    "\n",
    "#file_KR_HOD_2019=file_KR_HOD_2019.assign(Timestamp=pd.date_range(\"2019-01-01 00:15:00\",\"2020-01-01\",freq= \"15T\").values)\n",
    "\n",
    "\n",
    "\n",
    "fileEN_2020=fileEN_2020.assign(Timestamp=pd.date_range(\"2020-01-01 01:00:00\",\"2021-01-01\", freq=\"1H\").values)\n",
    "file_KR_HOD_2020=file_KR_HOD_2020.assign(Timestamp=pd.date_range(\"2020-01-01 01:00:00\",\"2021-01-01\", freq=\"1H\").values)\n",
    "fileCP_2020=fileCP_2020.assign(Timestamp=pd.date_range(\"2020-01-01 01:00:00\",\"2021-01-01\", freq=\"1H\").values)\n",
    "fileSE_2020=fileSE_2020.assign(Timestamp=pd.date_range(\"2020-01-01 01:00:00\",\"2021-01-01\", freq=\"1H\").values)\n",
    "\n",
    "\n",
    "fileEN_2021 = fileEN_2021.drop(index=range(24))\n",
    "fileEN_2021=fileEN_2021.assign(Timestamp=pd.date_range(\"2021-01-01 01:00:00\",\"2022-01-01\", freq=\"1H\").values)\n",
    "file_KR_HOD_2021=file_KR_HOD_2021.assign(Timestamp=pd.date_range(\"2021-01-01 01:00:00\",\"2022-01-01\",freq= \"1H\").values)\n",
    "fileSE_2021=fileSE_2021.assign(Timestamp=pd.date_range(\"2021-01-01 01:00:00\",\"2022-01-01\", freq=\"1H\").values)\n",
    "fileCP_2021=fileCP_2021.assign(Timestamp=pd.date_range(\"2021-01-01 01:00:00\",\"2022-01-01\", freq=\"1H\").values)\n",
    "\n",
    "\n",
    "\n"
   ]
  },
  {
   "cell_type": "code",
   "execution_count": 16,
   "id": "a21c8812",
   "metadata": {},
   "outputs": [
    {
     "data": {
      "text/plain": [
       "Index(['Unnamed: 0', 0, 1, 'Date', 'Timestamp'], dtype='object')"
      ]
     },
     "execution_count": 16,
     "metadata": {},
     "output_type": "execute_result"
    }
   ],
   "source": [
    "fileCP_2019.columns"
   ]
  },
  {
   "cell_type": "code",
   "execution_count": 17,
   "id": "fd580cc0",
   "metadata": {
    "scrolled": true
   },
   "outputs": [],
   "source": [
    "fileSE_2021=fileSE_2021.drop(['Unnamed: 4',\n",
    "       'Unnamed: 5', 'Unnamed: 6', 'Unnamed: 7', 'Unnamed: 8',  ],axis=1)"
   ]
  },
  {
   "cell_type": "code",
   "execution_count": 18,
   "id": "a6de7921",
   "metadata": {},
   "outputs": [],
   "source": [
    "new_columns_kr=['Unnamed: 0','Krenica1PowerMean values  [kW]','Hodovo1PowerMean values  [kW]']\n",
    "new_columns_ene=['Unnamed: 0',\"Enelectronic - Power, kW\",\"Enelectronic - Total yield, kW\"]\n",
    "new_columns_se=['Unnamed: 0',\"Hour\",\"SE Energy - Power, kW\",\"Date\",\"Timestamp\"]\n",
    "new_columns_CP=['Unnamed: 0',\"Hour\",\"CP Energy - Power, kW\",\"Date\",\"Timestamp\"]\n",
    "\n",
    "fileEN_2019,file_KR_HOD_2019=set_index(fileEN_2019),set_index(file_KR_HOD_2019)\n",
    "fileEN2_2019,file_KR2_HOD_2019=fileEN_2019.resample('1H').sum(),file_KR_HOD_2019.resample('1H').sum()\n",
    "fileSE_2019=set_index(fileSE_2019)\n",
    "fileSE2_2019=fileSE_2019\n",
    "\n",
    "fileCP_2019=set_index(fileCP_2019)\n",
    "fileCP2_2019=fileCP_2019\n",
    "\n",
    "\n",
    "fileEN2_2019.columns=new_columns_ene\n",
    "file_KR2_HOD_2019.columns=new_columns_kr\n",
    "fileSE2_2019.columns=new_columns_se\n",
    "fileCP2_2019.columns=new_columns_CP\n",
    "fileEN2_2019=assign_date(fileEN2_2019)\n",
    "file_KR2_HOD_2019=assign_date(file_KR2_HOD_2019)#assign_date(file4)\n",
    "fileSE2_2019=assign_date(fileSE2_2019)\n",
    "fileCP2_2019=assign_date(fileCP2_2019)\n",
    "\n",
    "\n",
    "\n",
    "\n",
    "fileEN_2020,file_KR_HOD_2020=set_index(fileEN_2020),set_index(file_KR_HOD_2020)\n",
    "fileEN2_2020,file_KR2_HOD_2020=fileEN_2020 .resample('1H').sum(),file_KR_HOD_2020.resample('1H').sum()\n",
    "fileSE_2020=set_index(fileSE_2020)\n",
    "fileSE2_2020=fileSE_2020\n",
    "fileCP_2020=set_index(fileCP_2020)\n",
    "fileCP2_2020=fileCP_2020\n",
    "\n",
    "fileEN2_2020.columns=new_columns_ene\n",
    "file_KR2_HOD_2020.columns=new_columns_kr\n",
    "fileCP2_2020.columns=new_columns_CP\n",
    "fileSE2_2020.columns=new_columns_se\n",
    "fileEN2_2020=assign_date(fileEN2_2020)\n",
    "file_KR2_HOD_2020=assign_date(file_KR2_HOD_2020)#assign_date(file4)\n",
    "fileSE2_2020=assign_date(fileSE2_2020)\n",
    "\n",
    "fileCP2_2020=assign_date(fileCP2_2020)\n",
    "\n",
    "\n",
    "\n",
    "\n",
    "fileEN_2021,file_KR_HOD_2021=set_index(fileEN_2021),set_index(file_KR_HOD_2021)\n",
    "fileEN2_2021,file_KR2_HOD_2021=fileEN_2021 .resample('1H').sum(),file_KR_HOD_2021.resample('1H').sum()\n",
    "fileSE_2021=set_index(fileSE_2021)\n",
    "fileSE2_2021=fileSE_2021\n",
    "fileCP_2021=set_index(fileCP_2021)\n",
    "fileCP2_2021=fileCP_2021\n",
    "\n",
    "fileEN2_2021.columns=new_columns_ene\n",
    "file_KR2_HOD_2021.columns=new_columns_kr\n",
    "fileCP2_2021.columns=new_columns_CP\n",
    "fileSE2_2021.columns=new_columns_se\n",
    "fileEN2_2021=assign_date(fileEN2_2021)\n",
    "file_KR2_HOD_2021=assign_date(file_KR2_HOD_2021)\n",
    "fileCP2_2021=assign_date(fileCP2_2021)#assign_date(file4)\n",
    "fileSE2_2021=assign_date(fileSE2_2021)\n"
   ]
  },
  {
   "cell_type": "markdown",
   "id": "8031717e",
   "metadata": {},
   "source": [
    "Grafički prikaz će uključivati i analizu po mjesecima, te će se ta kolona uključiti u dataset."
   ]
  },
  {
   "cell_type": "code",
   "execution_count": 19,
   "id": "9c9021cb",
   "metadata": {},
   "outputs": [
    {
     "data": {
      "text/html": [
       "<div>\n",
       "<style scoped>\n",
       "    .dataframe tbody tr th:only-of-type {\n",
       "        vertical-align: middle;\n",
       "    }\n",
       "\n",
       "    .dataframe tbody tr th {\n",
       "        vertical-align: top;\n",
       "    }\n",
       "\n",
       "    .dataframe thead th {\n",
       "        text-align: right;\n",
       "    }\n",
       "</style>\n",
       "<table border=\"1\" class=\"dataframe\">\n",
       "  <thead>\n",
       "    <tr style=\"text-align: right;\">\n",
       "      <th></th>\n",
       "      <th>Unnamed: 0</th>\n",
       "      <th>Enelectronic - Power, kW</th>\n",
       "      <th>Enelectronic - Total yield, kW</th>\n",
       "      <th>Date</th>\n",
       "    </tr>\n",
       "    <tr>\n",
       "      <th>Timestamp</th>\n",
       "      <th></th>\n",
       "      <th></th>\n",
       "      <th></th>\n",
       "      <th></th>\n",
       "    </tr>\n",
       "  </thead>\n",
       "  <tbody>\n",
       "    <tr>\n",
       "      <th>2019-01-01 01:00:00</th>\n",
       "      <td>24</td>\n",
       "      <td>0.0</td>\n",
       "      <td>0.0</td>\n",
       "      <td>2019-01-01 01:00:00</td>\n",
       "    </tr>\n",
       "    <tr>\n",
       "      <th>2019-01-01 02:00:00</th>\n",
       "      <td>25</td>\n",
       "      <td>0.0</td>\n",
       "      <td>0.0</td>\n",
       "      <td>2019-01-01 02:00:00</td>\n",
       "    </tr>\n",
       "    <tr>\n",
       "      <th>2019-01-01 03:00:00</th>\n",
       "      <td>26</td>\n",
       "      <td>0.0</td>\n",
       "      <td>0.0</td>\n",
       "      <td>2019-01-01 03:00:00</td>\n",
       "    </tr>\n",
       "  </tbody>\n",
       "</table>\n",
       "</div>"
      ],
      "text/plain": [
       "                     Unnamed: 0  Enelectronic - Power, kW  \\\n",
       "Timestamp                                                   \n",
       "2019-01-01 01:00:00          24                       0.0   \n",
       "2019-01-01 02:00:00          25                       0.0   \n",
       "2019-01-01 03:00:00          26                       0.0   \n",
       "\n",
       "                     Enelectronic - Total yield, kW                Date  \n",
       "Timestamp                                                                \n",
       "2019-01-01 01:00:00                             0.0 2019-01-01 01:00:00  \n",
       "2019-01-01 02:00:00                             0.0 2019-01-01 02:00:00  \n",
       "2019-01-01 03:00:00                             0.0 2019-01-01 03:00:00  "
      ]
     },
     "execution_count": 19,
     "metadata": {},
     "output_type": "execute_result"
    }
   ],
   "source": [
    "fileEN2_2019.head(3)\n"
   ]
  },
  {
   "cell_type": "code",
   "execution_count": 20,
   "id": "4a82fcd8",
   "metadata": {},
   "outputs": [],
   "source": [
    "fileEN2_2019=fileEN2_2019.assign(Month=fileEN2_2019[\"Date\"].dt.month)\n",
    "file_KR2_HOD_2019=file_KR2_HOD_2019.assign(Month=file_KR2_HOD_2019[\"Date\"].dt.month)\n",
    "fileSE2_2019=fileSE2_2019.assign(Month=pd.to_datetime(fileSE2_2019[\"Date\"]).dt.month)\n",
    "fileCP2_2019=fileCP2_2019.assign(Month=pd.to_datetime(fileCP2_2019[\"Date\"]).dt.month)\n",
    "\n",
    "\n",
    "fileEN2_2020=fileEN2_2020.assign(Month=fileEN2_2020[\"Date\"].dt.month)\n",
    "file_KR2_HOD_2020=file_KR2_HOD_2020.assign(Month=file_KR2_HOD_2020[\"Date\"].dt.month)\n",
    "fileCP2_2020=fileCP2_2020.assign(Month=pd.to_datetime(fileCP2_2020[\"Date\"]).dt.month)\n",
    "fileSE2_2020=fileSE2_2020.assign(Month=pd.to_datetime(fileSE2_2020[\"Date\"]).dt.month)\n",
    "\n",
    "fileEN2_2021=fileEN2_2021.assign(Month=fileEN2_2021[\"Date\"].dt.month)\n",
    "file_KR2_HOD_2021=file_KR2_HOD_2021.assign(Month=file_KR2_HOD_2021[\"Date\"].dt.month)\n",
    "fileCP2_2021=fileCP2_2021.assign(Month=pd.to_datetime(fileCP2_2021[\"Date\"]).dt.month)\n",
    "fileSE2_2021=fileSE2_2021.assign(Month=pd.to_datetime(fileSE2_2021[\"Date\"]).dt.month)"
   ]
  },
  {
   "cell_type": "code",
   "execution_count": 21,
   "id": "8ee4b9e3",
   "metadata": {},
   "outputs": [
    {
     "data": {
      "text/html": [
       "<div>\n",
       "<style scoped>\n",
       "    .dataframe tbody tr th:only-of-type {\n",
       "        vertical-align: middle;\n",
       "    }\n",
       "\n",
       "    .dataframe tbody tr th {\n",
       "        vertical-align: top;\n",
       "    }\n",
       "\n",
       "    .dataframe thead th {\n",
       "        text-align: right;\n",
       "    }\n",
       "</style>\n",
       "<table border=\"1\" class=\"dataframe\">\n",
       "  <thead>\n",
       "    <tr style=\"text-align: right;\">\n",
       "      <th></th>\n",
       "      <th>Unnamed: 0</th>\n",
       "      <th>Enelectronic - Power, kW</th>\n",
       "      <th>Enelectronic - Total yield, kW</th>\n",
       "      <th>Date</th>\n",
       "      <th>Month</th>\n",
       "    </tr>\n",
       "    <tr>\n",
       "      <th>Timestamp</th>\n",
       "      <th></th>\n",
       "      <th></th>\n",
       "      <th></th>\n",
       "      <th></th>\n",
       "      <th></th>\n",
       "    </tr>\n",
       "  </thead>\n",
       "  <tbody>\n",
       "    <tr>\n",
       "      <th>2019-01-01 01:00:00</th>\n",
       "      <td>24</td>\n",
       "      <td>0.0</td>\n",
       "      <td>0.0</td>\n",
       "      <td>2019-01-01 01:00:00</td>\n",
       "      <td>1</td>\n",
       "    </tr>\n",
       "    <tr>\n",
       "      <th>2019-01-01 02:00:00</th>\n",
       "      <td>25</td>\n",
       "      <td>0.0</td>\n",
       "      <td>0.0</td>\n",
       "      <td>2019-01-01 02:00:00</td>\n",
       "      <td>1</td>\n",
       "    </tr>\n",
       "  </tbody>\n",
       "</table>\n",
       "</div>"
      ],
      "text/plain": [
       "                     Unnamed: 0  Enelectronic - Power, kW  \\\n",
       "Timestamp                                                   \n",
       "2019-01-01 01:00:00          24                       0.0   \n",
       "2019-01-01 02:00:00          25                       0.0   \n",
       "\n",
       "                     Enelectronic - Total yield, kW                Date  Month  \n",
       "Timestamp                                                                       \n",
       "2019-01-01 01:00:00                             0.0 2019-01-01 01:00:00      1  \n",
       "2019-01-01 02:00:00                             0.0 2019-01-01 02:00:00      1  "
      ]
     },
     "execution_count": 21,
     "metadata": {},
     "output_type": "execute_result"
    }
   ],
   "source": [
    "fileEN2_2019.head(2)"
   ]
  },
  {
   "cell_type": "code",
   "execution_count": 22,
   "id": "3ae054f0",
   "metadata": {},
   "outputs": [
    {
     "data": {
      "text/html": [
       "<div>\n",
       "<style scoped>\n",
       "    .dataframe tbody tr th:only-of-type {\n",
       "        vertical-align: middle;\n",
       "    }\n",
       "\n",
       "    .dataframe tbody tr th {\n",
       "        vertical-align: top;\n",
       "    }\n",
       "\n",
       "    .dataframe thead th {\n",
       "        text-align: right;\n",
       "    }\n",
       "</style>\n",
       "<table border=\"1\" class=\"dataframe\">\n",
       "  <thead>\n",
       "    <tr style=\"text-align: right;\">\n",
       "      <th></th>\n",
       "      <th>Unnamed: 0</th>\n",
       "      <th>Krenica1PowerMean values  [kW]</th>\n",
       "      <th>Hodovo1PowerMean values  [kW]</th>\n",
       "      <th>Date</th>\n",
       "      <th>Month</th>\n",
       "    </tr>\n",
       "    <tr>\n",
       "      <th>Timestamp</th>\n",
       "      <th></th>\n",
       "      <th></th>\n",
       "      <th></th>\n",
       "      <th></th>\n",
       "      <th></th>\n",
       "    </tr>\n",
       "  </thead>\n",
       "  <tbody>\n",
       "    <tr>\n",
       "      <th>2019-01-01 01:00:00</th>\n",
       "      <td>3</td>\n",
       "      <td>0.0</td>\n",
       "      <td>0.0</td>\n",
       "      <td>2019-01-01 01:00:00</td>\n",
       "      <td>1</td>\n",
       "    </tr>\n",
       "    <tr>\n",
       "      <th>2019-01-01 02:00:00</th>\n",
       "      <td>7</td>\n",
       "      <td>0.0</td>\n",
       "      <td>0.0</td>\n",
       "      <td>2019-01-01 02:00:00</td>\n",
       "      <td>1</td>\n",
       "    </tr>\n",
       "  </tbody>\n",
       "</table>\n",
       "</div>"
      ],
      "text/plain": [
       "                     Unnamed: 0  Krenica1PowerMean values  [kW]  \\\n",
       "Timestamp                                                         \n",
       "2019-01-01 01:00:00           3                             0.0   \n",
       "2019-01-01 02:00:00           7                             0.0   \n",
       "\n",
       "                     Hodovo1PowerMean values  [kW]                Date  Month  \n",
       "Timestamp                                                                      \n",
       "2019-01-01 01:00:00                            0.0 2019-01-01 01:00:00      1  \n",
       "2019-01-01 02:00:00                            0.0 2019-01-01 02:00:00      1  "
      ]
     },
     "execution_count": 22,
     "metadata": {},
     "output_type": "execute_result"
    }
   ],
   "source": [
    "file_KR2_HOD_2019.head(2)"
   ]
  },
  {
   "cell_type": "code",
   "execution_count": 23,
   "id": "2f73a0c4",
   "metadata": {},
   "outputs": [
    {
     "data": {
      "text/html": [
       "<div>\n",
       "<style scoped>\n",
       "    .dataframe tbody tr th:only-of-type {\n",
       "        vertical-align: middle;\n",
       "    }\n",
       "\n",
       "    .dataframe tbody tr th {\n",
       "        vertical-align: top;\n",
       "    }\n",
       "\n",
       "    .dataframe thead th {\n",
       "        text-align: right;\n",
       "    }\n",
       "</style>\n",
       "<table border=\"1\" class=\"dataframe\">\n",
       "  <thead>\n",
       "    <tr style=\"text-align: right;\">\n",
       "      <th></th>\n",
       "      <th>Unnamed: 0</th>\n",
       "      <th>Hour</th>\n",
       "      <th>SE Energy - Power, kW</th>\n",
       "      <th>Date</th>\n",
       "      <th>Timestamp</th>\n",
       "      <th>Month</th>\n",
       "    </tr>\n",
       "    <tr>\n",
       "      <th>Timestamp</th>\n",
       "      <th></th>\n",
       "      <th></th>\n",
       "      <th></th>\n",
       "      <th></th>\n",
       "      <th></th>\n",
       "      <th></th>\n",
       "    </tr>\n",
       "  </thead>\n",
       "  <tbody>\n",
       "    <tr>\n",
       "      <th>2019-01-01 01:00:00</th>\n",
       "      <td>1</td>\n",
       "      <td>1:00 AM</td>\n",
       "      <td>NaN</td>\n",
       "      <td>2019-01-01 01:00:00</td>\n",
       "      <td>2019-01-01 01:00:00</td>\n",
       "      <td>1</td>\n",
       "    </tr>\n",
       "    <tr>\n",
       "      <th>2019-01-01 02:00:00</th>\n",
       "      <td>2</td>\n",
       "      <td>2:00 AM</td>\n",
       "      <td>NaN</td>\n",
       "      <td>2019-01-01 02:00:00</td>\n",
       "      <td>2019-01-01 02:00:00</td>\n",
       "      <td>1</td>\n",
       "    </tr>\n",
       "  </tbody>\n",
       "</table>\n",
       "</div>"
      ],
      "text/plain": [
       "                     Unnamed: 0     Hour SE Energy - Power, kW  \\\n",
       "Timestamp                                                        \n",
       "2019-01-01 01:00:00           1  1:00 AM                   NaN   \n",
       "2019-01-01 02:00:00           2  2:00 AM                   NaN   \n",
       "\n",
       "                                   Date           Timestamp  Month  \n",
       "Timestamp                                                           \n",
       "2019-01-01 01:00:00 2019-01-01 01:00:00 2019-01-01 01:00:00      1  \n",
       "2019-01-01 02:00:00 2019-01-01 02:00:00 2019-01-01 02:00:00      1  "
      ]
     },
     "execution_count": 23,
     "metadata": {},
     "output_type": "execute_result"
    }
   ],
   "source": [
    "fileSE2_2019.head(2)"
   ]
  },
  {
   "cell_type": "code",
   "execution_count": 24,
   "id": "cb7de28a",
   "metadata": {},
   "outputs": [
    {
     "data": {
      "text/html": [
       "<div>\n",
       "<style scoped>\n",
       "    .dataframe tbody tr th:only-of-type {\n",
       "        vertical-align: middle;\n",
       "    }\n",
       "\n",
       "    .dataframe tbody tr th {\n",
       "        vertical-align: top;\n",
       "    }\n",
       "\n",
       "    .dataframe thead th {\n",
       "        text-align: right;\n",
       "    }\n",
       "</style>\n",
       "<table border=\"1\" class=\"dataframe\">\n",
       "  <thead>\n",
       "    <tr style=\"text-align: right;\">\n",
       "      <th></th>\n",
       "      <th>Unnamed: 0</th>\n",
       "      <th>Hour</th>\n",
       "      <th>CP Energy - Power, kW</th>\n",
       "      <th>Date</th>\n",
       "      <th>Timestamp</th>\n",
       "      <th>Month</th>\n",
       "    </tr>\n",
       "    <tr>\n",
       "      <th>Timestamp</th>\n",
       "      <th></th>\n",
       "      <th></th>\n",
       "      <th></th>\n",
       "      <th></th>\n",
       "      <th></th>\n",
       "      <th></th>\n",
       "    </tr>\n",
       "  </thead>\n",
       "  <tbody>\n",
       "    <tr>\n",
       "      <th>2019-01-01 01:00:00</th>\n",
       "      <td>1</td>\n",
       "      <td>1:00 AM</td>\n",
       "      <td>NaN</td>\n",
       "      <td>2019-01-01 01:00:00</td>\n",
       "      <td>2019-01-01 01:00:00</td>\n",
       "      <td>1</td>\n",
       "    </tr>\n",
       "    <tr>\n",
       "      <th>2019-01-01 02:00:00</th>\n",
       "      <td>2</td>\n",
       "      <td>2:00 AM</td>\n",
       "      <td>NaN</td>\n",
       "      <td>2019-01-01 02:00:00</td>\n",
       "      <td>2019-01-01 02:00:00</td>\n",
       "      <td>1</td>\n",
       "    </tr>\n",
       "  </tbody>\n",
       "</table>\n",
       "</div>"
      ],
      "text/plain": [
       "                     Unnamed: 0     Hour CP Energy - Power, kW  \\\n",
       "Timestamp                                                        \n",
       "2019-01-01 01:00:00           1  1:00 AM                   NaN   \n",
       "2019-01-01 02:00:00           2  2:00 AM                   NaN   \n",
       "\n",
       "                                   Date           Timestamp  Month  \n",
       "Timestamp                                                           \n",
       "2019-01-01 01:00:00 2019-01-01 01:00:00 2019-01-01 01:00:00      1  \n",
       "2019-01-01 02:00:00 2019-01-01 02:00:00 2019-01-01 02:00:00      1  "
      ]
     },
     "execution_count": 24,
     "metadata": {},
     "output_type": "execute_result"
    }
   ],
   "source": [
    "fileCP2_2019.head(2)"
   ]
  },
  {
   "cell_type": "code",
   "execution_count": 25,
   "id": "bf65f926",
   "metadata": {},
   "outputs": [],
   "source": [
    "\n",
    "file_total_2019=pd.concat([fileEN2_2019[[\"Date\",\"Month\",\"Enelectronic - Power, kW\",\"Enelectronic - Total yield, kW\"]], file_KR2_HOD_2019[[\"Krenica1PowerMean values  [kW]\",'Hodovo1PowerMean values  [kW]']],fileSE2_2019[\"SE Energy - Power, kW\"],fileCP2_2019[\"CP Energy - Power, kW\"]],axis=1)\n",
    "file_total_2020=pd.concat([fileEN2_2020[[\"Date\",\"Month\",\"Enelectronic - Power, kW\",\"Enelectronic - Total yield, kW\"]], file_KR2_HOD_2020[[\"Krenica1PowerMean values  [kW]\",'Hodovo1PowerMean values  [kW]']],fileSE2_2020[\"SE Energy - Power, kW\"],fileCP2_2020[\"CP Energy - Power, kW\"]],axis=1)\n",
    "file_total_2021=pd.concat([fileEN2_2021[[\"Date\",\"Month\",\"Enelectronic - Power, kW\",\"Enelectronic - Total yield, kW\"]], file_KR2_HOD_2021[[\"Krenica1PowerMean values  [kW]\",'Hodovo1PowerMean values  [kW]']],fileSE2_2021[\"SE Energy - Power, kW\"],fileCP2_2021[\"CP Energy - Power, kW\"]],axis=1)"
   ]
  },
  {
   "cell_type": "code",
   "execution_count": 26,
   "id": "60ac5f03",
   "metadata": {},
   "outputs": [],
   "source": [
    "file_total_2019[\"SE Energy - Power, kW\"]=file_total_2019[\"SE Energy - Power, kW\"].astype(float)\n",
    "file_total_2020[\"SE Energy - Power, kW\"]=file_total_2020[\"SE Energy - Power, kW\"].astype(float)\n",
    "file_total_2021[\"SE Energy - Power, kW\"]=file_total_2021[\"SE Energy - Power, kW\"].astype(float)\n",
    "\n",
    "file_total_2019[\"CP Energy - Power, kW\"]=file_total_2019[\"CP Energy - Power, kW\"].astype(float)\n",
    "file_total_2020[\"CP Energy - Power, kW\"]=file_total_2020[\"CP Energy - Power, kW\"].astype(float)\n",
    "file_total_2021[\"CP Energy - Power, kW\"]=file_total_2021[\"CP Energy - Power, kW\"].astype(float)"
   ]
  },
  {
   "cell_type": "code",
   "execution_count": 27,
   "id": "1c4c96a0",
   "metadata": {},
   "outputs": [
    {
     "data": {
      "text/plain": [
       "<AxesSubplot:xlabel='Timestamp'>"
      ]
     },
     "execution_count": 27,
     "metadata": {},
     "output_type": "execute_result"
    },
    {
     "data": {
      "image/png": "[encoded data removed]",
      "text/plain": [
       "<Figure size 432x288 with 1 Axes>"
      ]
     },
     "metadata": {
      "needs_background": "light"
     },
     "output_type": "display_data"
    }
   ],
   "source": [
    "file_total_2019[['Krenica1PowerMean values  [kW]','Hodovo1PowerMean values  [kW]','Enelectronic - Power, kW',\"SE Energy - Power, kW\",\"CP Energy - Power, kW\"]].plot()"
   ]
  },
  {
   "cell_type": "code",
   "execution_count": 28,
   "id": "894477c1",
   "metadata": {},
   "outputs": [
    {
     "data": {
      "text/plain": [
       "<AxesSubplot:xlabel='Month'>"
      ]
     },
     "execution_count": 28,
     "metadata": {},
     "output_type": "execute_result"
    },
    {
     "data": {
      "image/png": "[encoded data removed]",
      "text/plain": [
       "<Figure size 432x288 with 1 Axes>"
      ]
     },
     "metadata": {
      "needs_background": "light"
     },
     "output_type": "display_data"
    }
   ],
   "source": [
    "file_total_2019.groupby(\"Month\")[['Krenica1PowerMean values  [kW]','Hodovo1PowerMean values  [kW]','Enelectronic - Power, kW',\"SE Energy - Power, kW\",\"CP Energy - Power, kW\"]].sum().plot(kind=\"bar\")"
   ]
  },
  {
   "cell_type": "code",
   "execution_count": 29,
   "id": "044eb307",
   "metadata": {},
   "outputs": [
    {
     "data": {
      "text/plain": [
       "<AxesSubplot:xlabel='Month'>"
      ]
     },
     "execution_count": 29,
     "metadata": {},
     "output_type": "execute_result"
    },
    {
     "data": {
      "image/png": "[encoded data removed]",
      "text/plain": [
       "<Figure size 432x288 with 1 Axes>"
      ]
     },
     "metadata": {
      "needs_background": "light"
     },
     "output_type": "display_data"
    }
   ],
   "source": [
    "file_total_2020.groupby(\"Month\")[['Krenica1PowerMean values  [kW]','Hodovo1PowerMean values  [kW]','Enelectronic - Power, kW',\"SE Energy - Power, kW\",\"CP Energy - Power, kW\"]].sum().plot(kind=\"bar\")"
   ]
  },
  {
   "cell_type": "code",
   "execution_count": 30,
   "id": "949846e1",
   "metadata": {},
   "outputs": [
    {
     "data": {
      "text/plain": [
       "<AxesSubplot:xlabel='Month'>"
      ]
     },
     "execution_count": 30,
     "metadata": {},
     "output_type": "execute_result"
    },
    {
     "data": {
      "image/png": "[encoded data removed]",
      "text/plain": [
       "<Figure size 432x288 with 1 Axes>"
      ]
     },
     "metadata": {
      "needs_background": "light"
     },
     "output_type": "display_data"
    }
   ],
   "source": [
    "file_total_2021.groupby(\"Month\")[['Krenica1PowerMean values  [kW]','Hodovo1PowerMean values  [kW]','Enelectronic - Power, kW',\"SE Energy - Power, kW\",\"CP Energy - Power, kW\"]].sum().plot(kind=\"bar\")"
   ]
  },
  {
   "cell_type": "code",
   "execution_count": 31,
   "id": "d88bd8d4",
   "metadata": {},
   "outputs": [
    {
     "data": {
      "text/plain": [
       "8.483528886"
      ]
     },
     "execution_count": 31,
     "metadata": {},
     "output_type": "execute_result"
    }
   ],
   "source": [
    "(file_total_2019[\"Krenica1PowerMean values  [kW]\"].sum(axis=0)*2+file_total_2019[\"Hodovo1PowerMean values  [kW]\"].sum(axis=0)*18+file_total_2019[\"Enelectronic - Power, kW\"].sum(axis=0)*3+file_total_2019[\"SE Energy - Power, kW\"].sum(axis=0)*2+file_total_2019[\"CP Energy - Power, kW\"].sum(axis=0)*5)/1000000"
   ]
  },
  {
   "cell_type": "code",
   "execution_count": 32,
   "id": "b9e5290d",
   "metadata": {},
   "outputs": [
    {
     "data": {
      "text/plain": [
       "11.944264095000001"
      ]
     },
     "execution_count": 32,
     "metadata": {},
     "output_type": "execute_result"
    }
   ],
   "source": [
    "(file_total_2020[\"Krenica1PowerMean values  [kW]\"].sum(axis=0)*10+file_total_2020[\"Hodovo1PowerMean values  [kW]\"].sum(axis=0)*22+file_total_2020[\"Enelectronic - Power, kW\"].sum(axis=0)+file_total_2019[\"SE Energy - Power, kW\"].sum(axis=0)+file_total_2019[\"CP Energy - Power, kW\"].sum(axis=0))/1000000"
   ]
  },
  {
   "cell_type": "code",
   "execution_count": 33,
   "id": "398587da",
   "metadata": {},
   "outputs": [
    {
     "data": {
      "text/plain": [
       "1.3477665730000001"
      ]
     },
     "execution_count": 33,
     "metadata": {},
     "output_type": "execute_result"
    }
   ],
   "source": [
    "(file_total_2021[\"Krenica1PowerMean values  [kW]\"].sum(axis=0)+file_total_2021[\"Hodovo1PowerMean values  [kW]\"].sum()+file_total_2021[\"Enelectronic - Power, kW\"].sum()+file_total_2019[\"SE Energy - Power, kW\"].sum(axis=0)+file_total_2019[\"CP Energy - Power, kW\"].sum(axis=0))/1000000"
   ]
  },
  {
   "cell_type": "code",
   "execution_count": 34,
   "id": "71c5c38f",
   "metadata": {},
   "outputs": [
    {
     "data": {
      "text/plain": [
       "334240.464"
      ]
     },
     "execution_count": 34,
     "metadata": {},
     "output_type": "execute_result"
    }
   ],
   "source": [
    "file_total_2019[\"Krenica1PowerMean values  [kW]\"].sum(axis=0)"
   ]
  },
  {
   "cell_type": "code",
   "execution_count": 35,
   "id": "1192e399",
   "metadata": {},
   "outputs": [
    {
     "data": {
      "text/plain": [
       "324230.30199999997"
      ]
     },
     "execution_count": 35,
     "metadata": {},
     "output_type": "execute_result"
    }
   ],
   "source": [
    "file_total_2019[\"Hodovo1PowerMean values  [kW]\"].sum(axis=0)"
   ]
  },
  {
   "cell_type": "code",
   "execution_count": null,
   "id": "28a5c07d",
   "metadata": {},
   "outputs": [],
   "source": []
  }
 ],
 "metadata": {
  "kernelspec": {
   "display_name": "Python 3",
   "language": "python",
   "name": "python3"
  },
  "language_info": {
   "codemirror_mode": {
    "name": "ipython",
    "version": 3
   },
   "file_extension": ".py",
   "mimetype": "text/x-python",
   "name": "python",
   "nbconvert_exporter": "python",
   "pygments_lexer": "ipython3",
   "version": "3.8.8"
  }
 },
 "nbformat": 4,
 "nbformat_minor": 5
}
